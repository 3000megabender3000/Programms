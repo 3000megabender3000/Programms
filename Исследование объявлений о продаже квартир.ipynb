{
 "cells": [
  {
   "cell_type": "markdown",
   "metadata": {},
   "source": [
    "# Исследование объявлений о продаже квартир\n",
    "\n",
    "В вашем распоряжении данные сервиса Яндекс.Недвижимость — архив объявлений о продаже квартир в Санкт-Петербурге и соседних населённых пунктах за несколько лет. Нужно научиться определять рыночную стоимость объектов недвижимости. Ваша задача — установить параметры. Это позволит построить автоматизированную систему: она отследит аномалии и мошенническую деятельность. \n",
    "\n",
    "По каждой квартире на продажу доступны два вида данных. Первые вписаны пользователем, вторые получены автоматически на основе картографических данных. Например, расстояние до центра, аэропорта, ближайшего парка и водоёма. \n",
    "\n",
    "Описание данных\n",
    "<ul>    \n",
    "<li>airports_nearest — расстояние до ближайшего аэропорта в метрах (м)\n",
    "<li>balcony — число балконов\n",
    "<li>ceiling_height — высота потолков (м)\n",
    "<li>cityCenters_nearest — расстояние до центра города (м)\n",
    "<li>days_exposition — сколько дней было размещено объявление (от публикации до снятия)\n",
    "<li>first_day_exposition — дата публикации\n",
    "<li>floor — этаж\n",
    "<li>floors_total — всего этажей в доме\n",
    "<li>is_apartment — апартаменты (булев тип)\n",
    "<li>kitchen_area — площадь кухни в квадратных метрах (м²)\n",
    "<li>last_price — цена на момент снятия с публикации\n",
    "<li>living_area — жилая площадь в квадратных метрах(м²)\n",
    "<li>locality_name — название населённого пункта\n",
    "<li>open_plan — свободная планировка (булев тип)\n",
    "<li>parks_around3000 — число парков в радиусе 3 км\n",
    "<li>parks_nearest — расстояние до ближайшего парка (м)\n",
    "<li>ponds_around3000 — число водоёмов в радиусе 3 км\n",
    "<li>ponds_nearest — расстояние до ближайшего водоёма (м)\n",
    "<li>rooms — число комнат\n",
    "<li>studio — квартира-студия (булев тип)\n",
    "<li>total_area — площадь квартиры в квадратных метрах (м²)\n",
    "<li>total_images — число фотографий квартиры в объявлении</ul>"
   ]
  },
  {
   "cell_type": "markdown",
   "metadata": {},
   "source": [
    "## Изучение данных из файла"
   ]
  },
  {
   "cell_type": "code",
   "execution_count": 1,
   "metadata": {},
   "outputs": [
    {
     "data": {
      "text/html": [
       "<div>\n",
       "<style scoped>\n",
       "    .dataframe tbody tr th:only-of-type {\n",
       "        vertical-align: middle;\n",
       "    }\n",
       "\n",
       "    .dataframe tbody tr th {\n",
       "        vertical-align: top;\n",
       "    }\n",
       "\n",
       "    .dataframe thead th {\n",
       "        text-align: right;\n",
       "    }\n",
       "</style>\n",
       "<table border=\"1\" class=\"dataframe\">\n",
       "  <thead>\n",
       "    <tr style=\"text-align: right;\">\n",
       "      <th></th>\n",
       "      <th>total_images</th>\n",
       "      <th>last_price</th>\n",
       "      <th>total_area</th>\n",
       "      <th>first_day_exposition</th>\n",
       "      <th>rooms</th>\n",
       "      <th>ceiling_height</th>\n",
       "      <th>floors_total</th>\n",
       "      <th>living_area</th>\n",
       "      <th>floor</th>\n",
       "      <th>is_apartment</th>\n",
       "      <th>...</th>\n",
       "      <th>kitchen_area</th>\n",
       "      <th>balcony</th>\n",
       "      <th>locality_name</th>\n",
       "      <th>airports_nearest</th>\n",
       "      <th>cityCenters_nearest</th>\n",
       "      <th>parks_around3000</th>\n",
       "      <th>parks_nearest</th>\n",
       "      <th>ponds_around3000</th>\n",
       "      <th>ponds_nearest</th>\n",
       "      <th>days_exposition</th>\n",
       "    </tr>\n",
       "  </thead>\n",
       "  <tbody>\n",
       "    <tr>\n",
       "      <td>0</td>\n",
       "      <td>20</td>\n",
       "      <td>13000000.0</td>\n",
       "      <td>108.0</td>\n",
       "      <td>2019-03-07T00:00:00</td>\n",
       "      <td>3</td>\n",
       "      <td>2.70</td>\n",
       "      <td>16.0</td>\n",
       "      <td>51.0</td>\n",
       "      <td>8</td>\n",
       "      <td>NaN</td>\n",
       "      <td>...</td>\n",
       "      <td>25.0</td>\n",
       "      <td>NaN</td>\n",
       "      <td>Санкт-Петербург</td>\n",
       "      <td>18863.0</td>\n",
       "      <td>16028.0</td>\n",
       "      <td>1.0</td>\n",
       "      <td>482.0</td>\n",
       "      <td>2.0</td>\n",
       "      <td>755.0</td>\n",
       "      <td>NaN</td>\n",
       "    </tr>\n",
       "    <tr>\n",
       "      <td>1</td>\n",
       "      <td>7</td>\n",
       "      <td>3350000.0</td>\n",
       "      <td>40.4</td>\n",
       "      <td>2018-12-04T00:00:00</td>\n",
       "      <td>1</td>\n",
       "      <td>NaN</td>\n",
       "      <td>11.0</td>\n",
       "      <td>18.6</td>\n",
       "      <td>1</td>\n",
       "      <td>NaN</td>\n",
       "      <td>...</td>\n",
       "      <td>11.0</td>\n",
       "      <td>2.0</td>\n",
       "      <td>посёлок Шушары</td>\n",
       "      <td>12817.0</td>\n",
       "      <td>18603.0</td>\n",
       "      <td>0.0</td>\n",
       "      <td>NaN</td>\n",
       "      <td>0.0</td>\n",
       "      <td>NaN</td>\n",
       "      <td>81.0</td>\n",
       "    </tr>\n",
       "    <tr>\n",
       "      <td>2</td>\n",
       "      <td>10</td>\n",
       "      <td>5196000.0</td>\n",
       "      <td>56.0</td>\n",
       "      <td>2015-08-20T00:00:00</td>\n",
       "      <td>2</td>\n",
       "      <td>NaN</td>\n",
       "      <td>5.0</td>\n",
       "      <td>34.3</td>\n",
       "      <td>4</td>\n",
       "      <td>NaN</td>\n",
       "      <td>...</td>\n",
       "      <td>8.3</td>\n",
       "      <td>0.0</td>\n",
       "      <td>Санкт-Петербург</td>\n",
       "      <td>21741.0</td>\n",
       "      <td>13933.0</td>\n",
       "      <td>1.0</td>\n",
       "      <td>90.0</td>\n",
       "      <td>2.0</td>\n",
       "      <td>574.0</td>\n",
       "      <td>558.0</td>\n",
       "    </tr>\n",
       "    <tr>\n",
       "      <td>3</td>\n",
       "      <td>0</td>\n",
       "      <td>64900000.0</td>\n",
       "      <td>159.0</td>\n",
       "      <td>2015-07-24T00:00:00</td>\n",
       "      <td>3</td>\n",
       "      <td>NaN</td>\n",
       "      <td>14.0</td>\n",
       "      <td>NaN</td>\n",
       "      <td>9</td>\n",
       "      <td>NaN</td>\n",
       "      <td>...</td>\n",
       "      <td>NaN</td>\n",
       "      <td>0.0</td>\n",
       "      <td>Санкт-Петербург</td>\n",
       "      <td>28098.0</td>\n",
       "      <td>6800.0</td>\n",
       "      <td>2.0</td>\n",
       "      <td>84.0</td>\n",
       "      <td>3.0</td>\n",
       "      <td>234.0</td>\n",
       "      <td>424.0</td>\n",
       "    </tr>\n",
       "    <tr>\n",
       "      <td>4</td>\n",
       "      <td>2</td>\n",
       "      <td>10000000.0</td>\n",
       "      <td>100.0</td>\n",
       "      <td>2018-06-19T00:00:00</td>\n",
       "      <td>2</td>\n",
       "      <td>3.03</td>\n",
       "      <td>14.0</td>\n",
       "      <td>32.0</td>\n",
       "      <td>13</td>\n",
       "      <td>NaN</td>\n",
       "      <td>...</td>\n",
       "      <td>41.0</td>\n",
       "      <td>NaN</td>\n",
       "      <td>Санкт-Петербург</td>\n",
       "      <td>31856.0</td>\n",
       "      <td>8098.0</td>\n",
       "      <td>2.0</td>\n",
       "      <td>112.0</td>\n",
       "      <td>1.0</td>\n",
       "      <td>48.0</td>\n",
       "      <td>121.0</td>\n",
       "    </tr>\n",
       "  </tbody>\n",
       "</table>\n",
       "<p>5 rows × 22 columns</p>\n",
       "</div>"
      ],
      "text/plain": [
       "   total_images  last_price  total_area first_day_exposition  rooms  \\\n",
       "0            20  13000000.0       108.0  2019-03-07T00:00:00      3   \n",
       "1             7   3350000.0        40.4  2018-12-04T00:00:00      1   \n",
       "2            10   5196000.0        56.0  2015-08-20T00:00:00      2   \n",
       "3             0  64900000.0       159.0  2015-07-24T00:00:00      3   \n",
       "4             2  10000000.0       100.0  2018-06-19T00:00:00      2   \n",
       "\n",
       "   ceiling_height  floors_total  living_area  floor is_apartment  ...  \\\n",
       "0            2.70          16.0         51.0      8          NaN  ...   \n",
       "1             NaN          11.0         18.6      1          NaN  ...   \n",
       "2             NaN           5.0         34.3      4          NaN  ...   \n",
       "3             NaN          14.0          NaN      9          NaN  ...   \n",
       "4            3.03          14.0         32.0     13          NaN  ...   \n",
       "\n",
       "   kitchen_area  balcony    locality_name  airports_nearest  \\\n",
       "0          25.0      NaN  Санкт-Петербург           18863.0   \n",
       "1          11.0      2.0   посёлок Шушары           12817.0   \n",
       "2           8.3      0.0  Санкт-Петербург           21741.0   \n",
       "3           NaN      0.0  Санкт-Петербург           28098.0   \n",
       "4          41.0      NaN  Санкт-Петербург           31856.0   \n",
       "\n",
       "  cityCenters_nearest  parks_around3000  parks_nearest  ponds_around3000  \\\n",
       "0             16028.0               1.0          482.0               2.0   \n",
       "1             18603.0               0.0            NaN               0.0   \n",
       "2             13933.0               1.0           90.0               2.0   \n",
       "3              6800.0               2.0           84.0               3.0   \n",
       "4              8098.0               2.0          112.0               1.0   \n",
       "\n",
       "   ponds_nearest  days_exposition  \n",
       "0          755.0              NaN  \n",
       "1            NaN             81.0  \n",
       "2          574.0            558.0  \n",
       "3          234.0            424.0  \n",
       "4           48.0            121.0  \n",
       "\n",
       "[5 rows x 22 columns]"
      ]
     },
     "execution_count": 1,
     "metadata": {},
     "output_type": "execute_result"
    }
   ],
   "source": [
    "import pandas as pd\n",
    "df = pd.read_csv('https://code.s3.yandex.net/datasets/real_estate_data.csv', sep = '\\t')\n",
    "df.head()"
   ]
  },
  {
   "cell_type": "code",
   "execution_count": 2,
   "metadata": {},
   "outputs": [
    {
     "data": {
      "text/plain": [
       "(23699, 22)"
      ]
     },
     "execution_count": 2,
     "metadata": {},
     "output_type": "execute_result"
    }
   ],
   "source": [
    "df.shape"
   ]
  },
  {
   "cell_type": "code",
   "execution_count": 3,
   "metadata": {},
   "outputs": [
    {
     "name": "stdout",
     "output_type": "stream",
     "text": [
      "<class 'pandas.core.frame.DataFrame'>\n",
      "RangeIndex: 23699 entries, 0 to 23698\n",
      "Data columns (total 22 columns):\n",
      "total_images            23699 non-null int64\n",
      "last_price              23699 non-null float64\n",
      "total_area              23699 non-null float64\n",
      "first_day_exposition    23699 non-null object\n",
      "rooms                   23699 non-null int64\n",
      "ceiling_height          14504 non-null float64\n",
      "floors_total            23613 non-null float64\n",
      "living_area             21796 non-null float64\n",
      "floor                   23699 non-null int64\n",
      "is_apartment            2775 non-null object\n",
      "studio                  23699 non-null bool\n",
      "open_plan               23699 non-null bool\n",
      "kitchen_area            21421 non-null float64\n",
      "balcony                 12180 non-null float64\n",
      "locality_name           23650 non-null object\n",
      "airports_nearest        18157 non-null float64\n",
      "cityCenters_nearest     18180 non-null float64\n",
      "parks_around3000        18181 non-null float64\n",
      "parks_nearest           8079 non-null float64\n",
      "ponds_around3000        18181 non-null float64\n",
      "ponds_nearest           9110 non-null float64\n",
      "days_exposition         20518 non-null float64\n",
      "dtypes: bool(2), float64(14), int64(3), object(3)\n",
      "memory usage: 3.7+ MB\n"
     ]
    }
   ],
   "source": [
    "df.info()"
   ]
  },
  {
   "cell_type": "markdown",
   "metadata": {},
   "source": [
    "### Вывод: При первом взгляде видны пропущенные значения."
   ]
  },
  {
   "cell_type": "markdown",
   "metadata": {},
   "source": [
    "## Предобработка данных"
   ]
  },
  {
   "cell_type": "code",
   "execution_count": 4,
   "metadata": {},
   "outputs": [
    {
     "data": {
      "text/plain": [
       "total_images                0\n",
       "last_price                  0\n",
       "total_area                  0\n",
       "first_day_exposition        0\n",
       "rooms                       0\n",
       "ceiling_height           9195\n",
       "floors_total               86\n",
       "living_area              1903\n",
       "floor                       0\n",
       "is_apartment            20924\n",
       "studio                      0\n",
       "open_plan                   0\n",
       "kitchen_area             2278\n",
       "balcony                 11519\n",
       "locality_name              49\n",
       "airports_nearest         5542\n",
       "cityCenters_nearest      5519\n",
       "parks_around3000         5518\n",
       "parks_nearest           15620\n",
       "ponds_around3000         5518\n",
       "ponds_nearest           14589\n",
       "days_exposition          3181\n",
       "dtype: int64"
      ]
     },
     "execution_count": 4,
     "metadata": {},
     "output_type": "execute_result"
    }
   ],
   "source": [
    "df.isna().sum()"
   ]
  },
  {
   "cell_type": "markdown",
   "metadata": {},
   "source": [
    "В 14 столбцах пропущенные значения. В некоторых столбцах, например в 'parks_nearest', таких данных больше половины. Надо разбираться с каждым столбцом.  "
   ]
  },
  {
   "cell_type": "markdown",
   "metadata": {},
   "source": [
    "Начну с высоты потолков - 'ceiling_height'. 9195 пропущенных значений."
   ]
  },
  {
   "cell_type": "markdown",
   "metadata": {},
   "source": [
    "На первый взгляд не видно каких-либо закономерностей между высотой потолка и другими значениями. Предположим и проверим зависимость высоты потолка от этажности здания 'floors_total' и от площади квартиры 'total_area'."
   ]
  },
  {
   "cell_type": "code",
   "execution_count": 5,
   "metadata": {},
   "outputs": [
    {
     "data": {
      "text/plain": [
       "-0.028731894622727384"
      ]
     },
     "execution_count": 5,
     "metadata": {},
     "output_type": "execute_result"
    }
   ],
   "source": [
    "df['ceiling_height'].corr(df['floors_total'])"
   ]
  },
  {
   "cell_type": "code",
   "execution_count": 6,
   "metadata": {},
   "outputs": [
    {
     "data": {
      "text/plain": [
       "0.09549044852366358"
      ]
     },
     "execution_count": 6,
     "metadata": {},
     "output_type": "execute_result"
    }
   ],
   "source": [
    "df['ceiling_height'].corr(df['total_area'])"
   ]
  },
  {
   "cell_type": "markdown",
   "metadata": {},
   "source": [
    "Посмотрим как высота потолка коррелирует с другимим величинами."
   ]
  },
  {
   "cell_type": "code",
   "execution_count": 7,
   "metadata": {},
   "outputs": [
    {
     "data": {
      "text/plain": [
       "total_images          -0.001987\n",
       "last_price             0.085430\n",
       "total_area             0.095490\n",
       "rooms                  0.054457\n",
       "ceiling_height         1.000000\n",
       "floors_total          -0.028732\n",
       "living_area            0.090650\n",
       "floor                 -0.011798\n",
       "studio                 0.001674\n",
       "open_plan              0.042777\n",
       "kitchen_area           0.087641\n",
       "balcony                0.040523\n",
       "airports_nearest      -0.023947\n",
       "cityCenters_nearest   -0.091689\n",
       "parks_around3000       0.065915\n",
       "parks_nearest         -0.019167\n",
       "ponds_around3000       0.078209\n",
       "ponds_nearest         -0.059090\n",
       "days_exposition        0.019091\n",
       "Name: ceiling_height, dtype: float64"
      ]
     },
     "execution_count": 7,
     "metadata": {},
     "output_type": "execute_result"
    }
   ],
   "source": [
    "df.corr()['ceiling_height']"
   ]
  },
  {
   "cell_type": "markdown",
   "metadata": {},
   "source": [
    "Предположения не оправдались. Значения не коррелируют между собой. Вероятно, данные просто не вносились анкетируемыми. Посмотрим основные статистические характеристики."
   ]
  },
  {
   "cell_type": "code",
   "execution_count": 8,
   "metadata": {},
   "outputs": [
    {
     "data": {
      "text/plain": [
       "count    14504.000000\n",
       "mean         2.771499\n",
       "std          1.261056\n",
       "min          1.000000\n",
       "25%          2.520000\n",
       "50%          2.650000\n",
       "75%          2.800000\n",
       "max        100.000000\n",
       "Name: ceiling_height, dtype: float64"
      ]
     },
     "execution_count": 8,
     "metadata": {},
     "output_type": "execute_result"
    }
   ],
   "source": [
    "df['ceiling_height'].describe()"
   ]
  },
  {
   "cell_type": "markdown",
   "metadata": {},
   "source": [
    "Заполняю пропущенные значения медианным."
   ]
  },
  {
   "cell_type": "code",
   "execution_count": 9,
   "metadata": {},
   "outputs": [],
   "source": [
    "df['ceiling_height'] = df['ceiling_height'].fillna(df['ceiling_height'].median())"
   ]
  },
  {
   "cell_type": "code",
   "execution_count": 10,
   "metadata": {},
   "outputs": [
    {
     "data": {
      "text/plain": [
       "0"
      ]
     },
     "execution_count": 10,
     "metadata": {},
     "output_type": "execute_result"
    }
   ],
   "source": [
    "df['ceiling_height'].isna().sum()"
   ]
  },
  {
   "cell_type": "markdown",
   "metadata": {},
   "source": [
    "Пропущенные значения заменены."
   ]
  },
  {
   "cell_type": "markdown",
   "metadata": {},
   "source": [
    "Далее этажность здания - 'floors_total'. 86 пропущенных значений. Изучу срез данных пропущенных значений."
   ]
  },
  {
   "cell_type": "code",
   "execution_count": 11,
   "metadata": {},
   "outputs": [
    {
     "data": {
      "text/html": [
       "<div>\n",
       "<style scoped>\n",
       "    .dataframe tbody tr th:only-of-type {\n",
       "        vertical-align: middle;\n",
       "    }\n",
       "\n",
       "    .dataframe tbody tr th {\n",
       "        vertical-align: top;\n",
       "    }\n",
       "\n",
       "    .dataframe thead th {\n",
       "        text-align: right;\n",
       "    }\n",
       "</style>\n",
       "<table border=\"1\" class=\"dataframe\">\n",
       "  <thead>\n",
       "    <tr style=\"text-align: right;\">\n",
       "      <th></th>\n",
       "      <th>total_images</th>\n",
       "      <th>last_price</th>\n",
       "      <th>total_area</th>\n",
       "      <th>first_day_exposition</th>\n",
       "      <th>rooms</th>\n",
       "      <th>ceiling_height</th>\n",
       "      <th>floors_total</th>\n",
       "      <th>living_area</th>\n",
       "      <th>floor</th>\n",
       "      <th>is_apartment</th>\n",
       "      <th>...</th>\n",
       "      <th>kitchen_area</th>\n",
       "      <th>balcony</th>\n",
       "      <th>locality_name</th>\n",
       "      <th>airports_nearest</th>\n",
       "      <th>cityCenters_nearest</th>\n",
       "      <th>parks_around3000</th>\n",
       "      <th>parks_nearest</th>\n",
       "      <th>ponds_around3000</th>\n",
       "      <th>ponds_nearest</th>\n",
       "      <th>days_exposition</th>\n",
       "    </tr>\n",
       "  </thead>\n",
       "  <tbody>\n",
       "    <tr>\n",
       "      <td>186</td>\n",
       "      <td>12</td>\n",
       "      <td>11640000.0</td>\n",
       "      <td>65.2</td>\n",
       "      <td>2018-10-02T00:00:00</td>\n",
       "      <td>2</td>\n",
       "      <td>2.65</td>\n",
       "      <td>NaN</td>\n",
       "      <td>30.80</td>\n",
       "      <td>4</td>\n",
       "      <td>NaN</td>\n",
       "      <td>...</td>\n",
       "      <td>12.00</td>\n",
       "      <td>NaN</td>\n",
       "      <td>Санкт-Петербург</td>\n",
       "      <td>39197.0</td>\n",
       "      <td>12373.0</td>\n",
       "      <td>1.0</td>\n",
       "      <td>123.0</td>\n",
       "      <td>0.0</td>\n",
       "      <td>NaN</td>\n",
       "      <td>49.0</td>\n",
       "    </tr>\n",
       "    <tr>\n",
       "      <td>237</td>\n",
       "      <td>4</td>\n",
       "      <td>2438033.0</td>\n",
       "      <td>28.1</td>\n",
       "      <td>2016-11-23T00:00:00</td>\n",
       "      <td>1</td>\n",
       "      <td>2.65</td>\n",
       "      <td>NaN</td>\n",
       "      <td>20.75</td>\n",
       "      <td>1</td>\n",
       "      <td>NaN</td>\n",
       "      <td>...</td>\n",
       "      <td>NaN</td>\n",
       "      <td>0.0</td>\n",
       "      <td>Санкт-Петербург</td>\n",
       "      <td>22041.0</td>\n",
       "      <td>17369.0</td>\n",
       "      <td>0.0</td>\n",
       "      <td>NaN</td>\n",
       "      <td>1.0</td>\n",
       "      <td>374.0</td>\n",
       "      <td>251.0</td>\n",
       "    </tr>\n",
       "    <tr>\n",
       "      <td>457</td>\n",
       "      <td>4</td>\n",
       "      <td>9788348.0</td>\n",
       "      <td>70.8</td>\n",
       "      <td>2015-08-01T00:00:00</td>\n",
       "      <td>2</td>\n",
       "      <td>2.65</td>\n",
       "      <td>NaN</td>\n",
       "      <td>38.40</td>\n",
       "      <td>12</td>\n",
       "      <td>NaN</td>\n",
       "      <td>...</td>\n",
       "      <td>10.63</td>\n",
       "      <td>0.0</td>\n",
       "      <td>Санкт-Петербург</td>\n",
       "      <td>37364.0</td>\n",
       "      <td>8322.0</td>\n",
       "      <td>2.0</td>\n",
       "      <td>309.0</td>\n",
       "      <td>2.0</td>\n",
       "      <td>706.0</td>\n",
       "      <td>727.0</td>\n",
       "    </tr>\n",
       "    <tr>\n",
       "      <td>671</td>\n",
       "      <td>4</td>\n",
       "      <td>6051191.0</td>\n",
       "      <td>93.6</td>\n",
       "      <td>2017-04-06T00:00:00</td>\n",
       "      <td>3</td>\n",
       "      <td>2.65</td>\n",
       "      <td>NaN</td>\n",
       "      <td>47.10</td>\n",
       "      <td>8</td>\n",
       "      <td>NaN</td>\n",
       "      <td>...</td>\n",
       "      <td>16.80</td>\n",
       "      <td>0.0</td>\n",
       "      <td>Санкт-Петербург</td>\n",
       "      <td>22041.0</td>\n",
       "      <td>17369.0</td>\n",
       "      <td>0.0</td>\n",
       "      <td>NaN</td>\n",
       "      <td>1.0</td>\n",
       "      <td>374.0</td>\n",
       "      <td>123.0</td>\n",
       "    </tr>\n",
       "    <tr>\n",
       "      <td>1757</td>\n",
       "      <td>5</td>\n",
       "      <td>3600000.0</td>\n",
       "      <td>39.0</td>\n",
       "      <td>2017-04-22T00:00:00</td>\n",
       "      <td>1</td>\n",
       "      <td>2.65</td>\n",
       "      <td>NaN</td>\n",
       "      <td>NaN</td>\n",
       "      <td>9</td>\n",
       "      <td>NaN</td>\n",
       "      <td>...</td>\n",
       "      <td>NaN</td>\n",
       "      <td>0.0</td>\n",
       "      <td>Санкт-Петербург</td>\n",
       "      <td>22735.0</td>\n",
       "      <td>11618.0</td>\n",
       "      <td>1.0</td>\n",
       "      <td>835.0</td>\n",
       "      <td>1.0</td>\n",
       "      <td>652.0</td>\n",
       "      <td>77.0</td>\n",
       "    </tr>\n",
       "    <tr>\n",
       "      <td>...</td>\n",
       "      <td>...</td>\n",
       "      <td>...</td>\n",
       "      <td>...</td>\n",
       "      <td>...</td>\n",
       "      <td>...</td>\n",
       "      <td>...</td>\n",
       "      <td>...</td>\n",
       "      <td>...</td>\n",
       "      <td>...</td>\n",
       "      <td>...</td>\n",
       "      <td>...</td>\n",
       "      <td>...</td>\n",
       "      <td>...</td>\n",
       "      <td>...</td>\n",
       "      <td>...</td>\n",
       "      <td>...</td>\n",
       "      <td>...</td>\n",
       "      <td>...</td>\n",
       "      <td>...</td>\n",
       "      <td>...</td>\n",
       "      <td>...</td>\n",
       "    </tr>\n",
       "    <tr>\n",
       "      <td>22542</td>\n",
       "      <td>5</td>\n",
       "      <td>8500000.0</td>\n",
       "      <td>63.5</td>\n",
       "      <td>2017-05-24T00:00:00</td>\n",
       "      <td>2</td>\n",
       "      <td>2.80</td>\n",
       "      <td>NaN</td>\n",
       "      <td>NaN</td>\n",
       "      <td>3</td>\n",
       "      <td>NaN</td>\n",
       "      <td>...</td>\n",
       "      <td>NaN</td>\n",
       "      <td>NaN</td>\n",
       "      <td>Санкт-Петербург</td>\n",
       "      <td>51340.0</td>\n",
       "      <td>15363.0</td>\n",
       "      <td>0.0</td>\n",
       "      <td>NaN</td>\n",
       "      <td>1.0</td>\n",
       "      <td>853.0</td>\n",
       "      <td>512.0</td>\n",
       "    </tr>\n",
       "    <tr>\n",
       "      <td>22656</td>\n",
       "      <td>4</td>\n",
       "      <td>4574160.0</td>\n",
       "      <td>64.5</td>\n",
       "      <td>2017-04-02T00:00:00</td>\n",
       "      <td>2</td>\n",
       "      <td>2.65</td>\n",
       "      <td>NaN</td>\n",
       "      <td>31.70</td>\n",
       "      <td>20</td>\n",
       "      <td>NaN</td>\n",
       "      <td>...</td>\n",
       "      <td>14.40</td>\n",
       "      <td>0.0</td>\n",
       "      <td>Санкт-Петербург</td>\n",
       "      <td>22041.0</td>\n",
       "      <td>17369.0</td>\n",
       "      <td>0.0</td>\n",
       "      <td>NaN</td>\n",
       "      <td>1.0</td>\n",
       "      <td>374.0</td>\n",
       "      <td>127.0</td>\n",
       "    </tr>\n",
       "    <tr>\n",
       "      <td>22808</td>\n",
       "      <td>0</td>\n",
       "      <td>14569263.0</td>\n",
       "      <td>110.4</td>\n",
       "      <td>2016-11-20T00:00:00</td>\n",
       "      <td>3</td>\n",
       "      <td>2.65</td>\n",
       "      <td>NaN</td>\n",
       "      <td>45.38</td>\n",
       "      <td>6</td>\n",
       "      <td>NaN</td>\n",
       "      <td>...</td>\n",
       "      <td>23.42</td>\n",
       "      <td>0.0</td>\n",
       "      <td>Санкт-Петербург</td>\n",
       "      <td>19095.0</td>\n",
       "      <td>4529.0</td>\n",
       "      <td>0.0</td>\n",
       "      <td>NaN</td>\n",
       "      <td>0.0</td>\n",
       "      <td>NaN</td>\n",
       "      <td>260.0</td>\n",
       "    </tr>\n",
       "    <tr>\n",
       "      <td>23590</td>\n",
       "      <td>0</td>\n",
       "      <td>21187872.0</td>\n",
       "      <td>123.3</td>\n",
       "      <td>2017-04-25T00:00:00</td>\n",
       "      <td>3</td>\n",
       "      <td>2.65</td>\n",
       "      <td>NaN</td>\n",
       "      <td>50.40</td>\n",
       "      <td>18</td>\n",
       "      <td>NaN</td>\n",
       "      <td>...</td>\n",
       "      <td>23.60</td>\n",
       "      <td>0.0</td>\n",
       "      <td>Санкт-Петербург</td>\n",
       "      <td>19095.0</td>\n",
       "      <td>4529.0</td>\n",
       "      <td>0.0</td>\n",
       "      <td>NaN</td>\n",
       "      <td>0.0</td>\n",
       "      <td>NaN</td>\n",
       "      <td>104.0</td>\n",
       "    </tr>\n",
       "    <tr>\n",
       "      <td>23658</td>\n",
       "      <td>6</td>\n",
       "      <td>3063600.0</td>\n",
       "      <td>43.8</td>\n",
       "      <td>2016-11-28T00:00:00</td>\n",
       "      <td>1</td>\n",
       "      <td>2.70</td>\n",
       "      <td>NaN</td>\n",
       "      <td>14.00</td>\n",
       "      <td>8</td>\n",
       "      <td>NaN</td>\n",
       "      <td>...</td>\n",
       "      <td>15.50</td>\n",
       "      <td>2.0</td>\n",
       "      <td>Санкт-Петербург</td>\n",
       "      <td>8426.0</td>\n",
       "      <td>12082.0</td>\n",
       "      <td>2.0</td>\n",
       "      <td>24.0</td>\n",
       "      <td>1.0</td>\n",
       "      <td>271.0</td>\n",
       "      <td>246.0</td>\n",
       "    </tr>\n",
       "  </tbody>\n",
       "</table>\n",
       "<p>86 rows × 22 columns</p>\n",
       "</div>"
      ],
      "text/plain": [
       "       total_images  last_price  total_area first_day_exposition  rooms  \\\n",
       "186              12  11640000.0        65.2  2018-10-02T00:00:00      2   \n",
       "237               4   2438033.0        28.1  2016-11-23T00:00:00      1   \n",
       "457               4   9788348.0        70.8  2015-08-01T00:00:00      2   \n",
       "671               4   6051191.0        93.6  2017-04-06T00:00:00      3   \n",
       "1757              5   3600000.0        39.0  2017-04-22T00:00:00      1   \n",
       "...             ...         ...         ...                  ...    ...   \n",
       "22542             5   8500000.0        63.5  2017-05-24T00:00:00      2   \n",
       "22656             4   4574160.0        64.5  2017-04-02T00:00:00      2   \n",
       "22808             0  14569263.0       110.4  2016-11-20T00:00:00      3   \n",
       "23590             0  21187872.0       123.3  2017-04-25T00:00:00      3   \n",
       "23658             6   3063600.0        43.8  2016-11-28T00:00:00      1   \n",
       "\n",
       "       ceiling_height  floors_total  living_area  floor is_apartment  ...  \\\n",
       "186              2.65           NaN        30.80      4          NaN  ...   \n",
       "237              2.65           NaN        20.75      1          NaN  ...   \n",
       "457              2.65           NaN        38.40     12          NaN  ...   \n",
       "671              2.65           NaN        47.10      8          NaN  ...   \n",
       "1757             2.65           NaN          NaN      9          NaN  ...   \n",
       "...               ...           ...          ...    ...          ...  ...   \n",
       "22542            2.80           NaN          NaN      3          NaN  ...   \n",
       "22656            2.65           NaN        31.70     20          NaN  ...   \n",
       "22808            2.65           NaN        45.38      6          NaN  ...   \n",
       "23590            2.65           NaN        50.40     18          NaN  ...   \n",
       "23658            2.70           NaN        14.00      8          NaN  ...   \n",
       "\n",
       "       kitchen_area  balcony    locality_name  airports_nearest  \\\n",
       "186           12.00      NaN  Санкт-Петербург           39197.0   \n",
       "237             NaN      0.0  Санкт-Петербург           22041.0   \n",
       "457           10.63      0.0  Санкт-Петербург           37364.0   \n",
       "671           16.80      0.0  Санкт-Петербург           22041.0   \n",
       "1757            NaN      0.0  Санкт-Петербург           22735.0   \n",
       "...             ...      ...              ...               ...   \n",
       "22542           NaN      NaN  Санкт-Петербург           51340.0   \n",
       "22656         14.40      0.0  Санкт-Петербург           22041.0   \n",
       "22808         23.42      0.0  Санкт-Петербург           19095.0   \n",
       "23590         23.60      0.0  Санкт-Петербург           19095.0   \n",
       "23658         15.50      2.0  Санкт-Петербург            8426.0   \n",
       "\n",
       "      cityCenters_nearest  parks_around3000  parks_nearest  ponds_around3000  \\\n",
       "186               12373.0               1.0          123.0               0.0   \n",
       "237               17369.0               0.0            NaN               1.0   \n",
       "457                8322.0               2.0          309.0               2.0   \n",
       "671               17369.0               0.0            NaN               1.0   \n",
       "1757              11618.0               1.0          835.0               1.0   \n",
       "...                   ...               ...            ...               ...   \n",
       "22542             15363.0               0.0            NaN               1.0   \n",
       "22656             17369.0               0.0            NaN               1.0   \n",
       "22808              4529.0               0.0            NaN               0.0   \n",
       "23590              4529.0               0.0            NaN               0.0   \n",
       "23658             12082.0               2.0           24.0               1.0   \n",
       "\n",
       "       ponds_nearest  days_exposition  \n",
       "186              NaN             49.0  \n",
       "237            374.0            251.0  \n",
       "457            706.0            727.0  \n",
       "671            374.0            123.0  \n",
       "1757           652.0             77.0  \n",
       "...              ...              ...  \n",
       "22542          853.0            512.0  \n",
       "22656          374.0            127.0  \n",
       "22808            NaN            260.0  \n",
       "23590            NaN            104.0  \n",
       "23658          271.0            246.0  \n",
       "\n",
       "[86 rows x 22 columns]"
      ]
     },
     "execution_count": 11,
     "metadata": {},
     "output_type": "execute_result"
    }
   ],
   "source": [
    "df[df['floors_total'].isna() == True]"
   ]
  },
  {
   "cell_type": "code",
   "execution_count": 12,
   "metadata": {},
   "outputs": [
    {
     "data": {
      "text/plain": [
       "total_images           0.010427\n",
       "last_price            -0.006984\n",
       "total_area            -0.075774\n",
       "rooms                 -0.228215\n",
       "ceiling_height        -0.026843\n",
       "floors_total           1.000000\n",
       "living_area           -0.169311\n",
       "floor                  0.678059\n",
       "studio                 0.070151\n",
       "open_plan              0.050791\n",
       "kitchen_area           0.163944\n",
       "balcony                0.194065\n",
       "airports_nearest       0.108288\n",
       "cityCenters_nearest    0.019774\n",
       "parks_around3000      -0.252833\n",
       "parks_nearest          0.097527\n",
       "ponds_around3000      -0.122735\n",
       "ponds_nearest          0.038864\n",
       "days_exposition       -0.052234\n",
       "Name: floors_total, dtype: float64"
      ]
     },
     "execution_count": 12,
     "metadata": {},
     "output_type": "execute_result"
    }
   ],
   "source": [
    "df.corr()['floors_total']"
   ]
  },
  {
   "cell_type": "markdown",
   "metadata": {},
   "source": [
    "Этажность не коррелирует ни с какими значениями. Вероятно, данные просто не вносились анкетируемыми. Подставлю вместо пропущенных значений нули. "
   ]
  },
  {
   "cell_type": "code",
   "execution_count": 13,
   "metadata": {},
   "outputs": [],
   "source": [
    "df['floors_total'] = df['floors_total'].fillna(0)"
   ]
  },
  {
   "cell_type": "markdown",
   "metadata": {},
   "source": [
    "Далее жилая площадь - 'living_area'. 1903 пропущенных значений. Сразу проверю возможные корреляции."
   ]
  },
  {
   "cell_type": "code",
   "execution_count": 14,
   "metadata": {
    "scrolled": true
   },
   "outputs": [
    {
     "data": {
      "text/plain": [
       "total_images           0.104780\n",
       "last_price             0.566492\n",
       "total_area             0.939537\n",
       "rooms                  0.845977\n",
       "ceiling_height         0.078623\n",
       "floors_total          -0.168260\n",
       "living_area            1.000000\n",
       "floor                 -0.097210\n",
       "studio                -0.056231\n",
       "open_plan             -0.033711\n",
       "kitchen_area           0.428674\n",
       "balcony                0.018849\n",
       "airports_nearest      -0.057912\n",
       "cityCenters_nearest   -0.231368\n",
       "parks_around3000       0.184453\n",
       "parks_nearest         -0.050167\n",
       "ponds_around3000       0.148933\n",
       "ponds_nearest         -0.081674\n",
       "days_exposition        0.142454\n",
       "Name: living_area, dtype: float64"
      ]
     },
     "execution_count": 14,
     "metadata": {},
     "output_type": "execute_result"
    }
   ],
   "source": [
    "df.corr()['living_area']"
   ]
  },
  {
   "cell_type": "markdown",
   "metadata": {},
   "source": [
    "Видна сильная корреляция с общей площадью 'total_area', что естественно - при увеличении жилой площади увеличится и общая. Я вычислю медиану жилой площади для каждой общей и заполню этими значениями отсутствующие."
   ]
  },
  {
   "cell_type": "code",
   "execution_count": 15,
   "metadata": {},
   "outputs": [
    {
     "name": "stderr",
     "output_type": "stream",
     "text": [
      "/opt/conda/lib/python3.7/site-packages/numpy/lib/nanfunctions.py:1111: RuntimeWarning: Mean of empty slice\n",
      "  return np.nanmean(a, axis, out=out, keepdims=keepdims)\n"
     ]
    }
   ],
   "source": [
    "for area in df['total_area'].unique():\n",
    "    median = df.loc[df['total_area'] == area, 'living_area'].median()\n",
    "    df.loc[(df['living_area'].isna()) & (df['total_area'] == area), 'living_area'] = median"
   ]
  },
  {
   "cell_type": "code",
   "execution_count": 16,
   "metadata": {},
   "outputs": [
    {
     "data": {
      "text/plain": [
       "143"
      ]
     },
     "execution_count": 16,
     "metadata": {},
     "output_type": "execute_result"
    }
   ],
   "source": [
    "df['living_area'].isna().sum()"
   ]
  },
  {
   "cell_type": "markdown",
   "metadata": {},
   "source": [
    "Осталось 143 пропущенных значения, что составляет всего 0.6% от всех данных. Это значения, которые встречаются по одному разу. Можно удалить их, но я, все же, оставлю их как есть."
   ]
  },
  {
   "cell_type": "markdown",
   "metadata": {},
   "source": [
    "Иду дальше. Значения в is_apartment - является ли квартира апартаментами, занесены как True, False или NaN, но отнесены к типу object. Это явное несоответствие типу и его надо исправить. Но перед этим я избавлюсь от пропущенных значений, заменяя их на False, предположив, что анкетируемые просто не знали, что такое апартаменты, проживая в квартире."
   ]
  },
  {
   "cell_type": "code",
   "execution_count": 17,
   "metadata": {},
   "outputs": [
    {
     "data": {
      "text/plain": [
       "0"
      ]
     },
     "execution_count": 17,
     "metadata": {},
     "output_type": "execute_result"
    }
   ],
   "source": [
    "df['is_apartment'] = df['is_apartment'].fillna(False)\n",
    "df['is_apartment'].isna().sum()"
   ]
  },
  {
   "cell_type": "code",
   "execution_count": 18,
   "metadata": {},
   "outputs": [
    {
     "data": {
      "text/plain": [
       "False    23649\n",
       "True        50\n",
       "Name: is_apartment, dtype: int64"
      ]
     },
     "execution_count": 18,
     "metadata": {},
     "output_type": "execute_result"
    }
   ],
   "source": [
    "df['is_apartment'].value_counts()"
   ]
  },
  {
   "cell_type": "code",
   "execution_count": 19,
   "metadata": {},
   "outputs": [
    {
     "data": {
      "text/plain": [
       "dtype('bool')"
      ]
     },
     "execution_count": 19,
     "metadata": {},
     "output_type": "execute_result"
    }
   ],
   "source": [
    "df['is_apartment'] = df['is_apartment'].astype('bool')\n",
    "df['is_apartment'].dtypes"
   ]
  },
  {
   "cell_type": "markdown",
   "metadata": {},
   "source": [
    "Изменения внесены верно."
   ]
  },
  {
   "cell_type": "code",
   "execution_count": 20,
   "metadata": {},
   "outputs": [
    {
     "data": {
      "text/plain": [
       "2278"
      ]
     },
     "execution_count": 20,
     "metadata": {},
     "output_type": "execute_result"
    }
   ],
   "source": [
    "df['kitchen_area'].isna().sum()"
   ]
  },
  {
   "cell_type": "markdown",
   "metadata": {},
   "source": [
    "Следующий столбец площадь кухни - kitchen_area. 2278 пропущенных значений. Проверим корреляцию с другими параметрами."
   ]
  },
  {
   "cell_type": "code",
   "execution_count": 21,
   "metadata": {},
   "outputs": [
    {
     "data": {
      "text/plain": [
       "total_images           0.104756\n",
       "last_price             0.519869\n",
       "total_area             0.609121\n",
       "rooms                  0.269945\n",
       "ceiling_height         0.071350\n",
       "floors_total           0.161820\n",
       "living_area            0.429053\n",
       "floor                  0.135531\n",
       "is_apartment           0.049034\n",
       "studio                      NaN\n",
       "open_plan                   NaN\n",
       "kitchen_area           1.000000\n",
       "balcony                0.098634\n",
       "airports_nearest       0.008200\n",
       "cityCenters_nearest   -0.190049\n",
       "parks_around3000       0.087503\n",
       "parks_nearest          0.029641\n",
       "ponds_around3000       0.150148\n",
       "ponds_nearest         -0.105223\n",
       "days_exposition        0.100586\n",
       "Name: kitchen_area, dtype: float64"
      ]
     },
     "execution_count": 21,
     "metadata": {},
     "output_type": "execute_result"
    }
   ],
   "source": [
    "df.corr()['kitchen_area']"
   ]
  },
  {
   "cell_type": "markdown",
   "metadata": {},
   "source": [
    "Видна средняя корреляция с общей площадью. Возьмем это за основу для вычислений. Я вычислю медиану площади кухни для каждой общей и заполню этими значениями отсутствующие."
   ]
  },
  {
   "cell_type": "code",
   "execution_count": 22,
   "metadata": {},
   "outputs": [],
   "source": [
    "for area in df['total_area'].unique():\n",
    "    median = df.loc[df['total_area'] == area, 'kitchen_area'].median()\n",
    "    df.loc[(df['kitchen_area'].isna()) & (df['total_area'] == area), 'kitchen_area'] = median"
   ]
  },
  {
   "cell_type": "code",
   "execution_count": 23,
   "metadata": {},
   "outputs": [
    {
     "data": {
      "text/plain": [
       "205"
      ]
     },
     "execution_count": 23,
     "metadata": {},
     "output_type": "execute_result"
    }
   ],
   "source": [
    "df['kitchen_area'].isna().sum()"
   ]
  },
  {
   "cell_type": "markdown",
   "metadata": {},
   "source": [
    "Осталось 205 пропущенных значения, что составляет всего 0.86% от всех данных. Это значения, которые встречаются по одному разу. Можно удалить их, но я, все же, оставлю их как есть."
   ]
  },
  {
   "cell_type": "code",
   "execution_count": 24,
   "metadata": {},
   "outputs": [
    {
     "data": {
      "text/plain": [
       "11519"
      ]
     },
     "execution_count": 24,
     "metadata": {},
     "output_type": "execute_result"
    }
   ],
   "source": [
    "df['balcony'].isna().sum()"
   ]
  },
  {
   "cell_type": "markdown",
   "metadata": {},
   "source": [
    "Далее идут данные о количестве балконов - balcony. Пропущенных значений очень много - 11519. Предположу, что скорее всего анкетируемый не заполнял этот параметр при отсутствии балкона. Поэтому заменю такие значения на 0."
   ]
  },
  {
   "cell_type": "code",
   "execution_count": 25,
   "metadata": {},
   "outputs": [
    {
     "data": {
      "text/plain": [
       "0"
      ]
     },
     "execution_count": 25,
     "metadata": {},
     "output_type": "execute_result"
    }
   ],
   "source": [
    "df['balcony'] = df['balcony'].fillna(0)\n",
    "df['balcony'].isna().sum()"
   ]
  },
  {
   "cell_type": "markdown",
   "metadata": {},
   "source": [
    "Пропущенные значении заменены."
   ]
  },
  {
   "cell_type": "markdown",
   "metadata": {},
   "source": [
    "Далее изучим 49 пропусков в именах населенных пунктах - locality_name."
   ]
  },
  {
   "cell_type": "markdown",
   "metadata": {},
   "source": [
    "Поставлю заглушку на пропущенные значения, чтобы можно было дальше работать."
   ]
  },
  {
   "cell_type": "code",
   "execution_count": 26,
   "metadata": {},
   "outputs": [
    {
     "data": {
      "text/plain": [
       "0"
      ]
     },
     "execution_count": 26,
     "metadata": {},
     "output_type": "execute_result"
    }
   ],
   "source": [
    "df['locality_name'] = df['locality_name'].fillna('неизвестно')\n",
    "df['locality_name'].isna().sum()"
   ]
  },
  {
   "cell_type": "code",
   "execution_count": 27,
   "metadata": {},
   "outputs": [
    {
     "data": {
      "text/plain": [
       "365"
      ]
     },
     "execution_count": 27,
     "metadata": {},
     "output_type": "execute_result"
    }
   ],
   "source": [
    "len(df['locality_name'].unique())"
   ]
  },
  {
   "cell_type": "markdown",
   "metadata": {},
   "source": [
    "Найдено 365 уникальных значений. Возможно, одинаковые названия внесены в различном написании. Для приведения названий к единому виду использую функцию. "
   ]
  },
  {
   "cell_type": "code",
   "execution_count": 28,
   "metadata": {},
   "outputs": [],
   "source": [
    "def str_good (row):\n",
    "    row=row.split(' ')\n",
    "    \n",
    "    return(row[-1])"
   ]
  },
  {
   "cell_type": "code",
   "execution_count": 29,
   "metadata": {},
   "outputs": [],
   "source": [
    "df['locality_name_correct'] = df['locality_name'].apply(str_good)"
   ]
  },
  {
   "cell_type": "code",
   "execution_count": 30,
   "metadata": {},
   "outputs": [
    {
     "data": {
      "text/plain": [
       "295"
      ]
     },
     "execution_count": 30,
     "metadata": {},
     "output_type": "execute_result"
    }
   ],
   "source": [
    "len(df['locality_name_correct'].unique())"
   ]
  },
  {
   "cell_type": "markdown",
   "metadata": {},
   "source": [
    "Теперь уникальных имен стало на 70 меньше."
   ]
  },
  {
   "cell_type": "code",
   "execution_count": 31,
   "metadata": {},
   "outputs": [
    {
     "data": {
      "text/plain": [
       "array(['Агалатово', 'Александровская', 'Алексеевка', 'Аннино', 'Аро',\n",
       "       'Барышево', 'Батово', 'Бегуницы', 'Белогорка', 'Белоостров',\n",
       "       'Бокситогорск', 'Бор', 'Бугры', 'Будогощь', 'Ваганово', 'Важины',\n",
       "       'Вартемяги', 'Верево', 'Вещево', 'Виллози', 'Вознесенье',\n",
       "       'Возрождение', 'Войсковицы', 'Войскорово', 'Володарское',\n",
       "       'Волосово', 'Волхов', 'Вруда', 'Всеволожск', 'Выборг', 'Вырица',\n",
       "       'Выскатка', 'Высокоключевой', 'Высоцк', 'Гаврилово', 'Гарболово',\n",
       "       'Гатчина', 'Гладкое', 'Глажево', 'Глебычево', 'Глинка',\n",
       "       'Гончарово', 'Горбунки', 'Горка', 'Гостилицы', 'Грива', 'Громово',\n",
       "       'Девяткино', 'Дзержинского', 'Долина', 'Дружноселье', 'Дубровка',\n",
       "       'Елизаветино', 'Ефимовский', 'Жилгородок', 'Жилпосёлок', 'Житково',\n",
       "       'Заводской', 'Заклинье', 'Заневка', 'Запорожское', 'Зеленогорск',\n",
       "       'Зимитицы', 'Ивангород', 'Ижора', 'Извара', 'Ильичёво', 'Иссад',\n",
       "       'Калитино', 'Каложицы', 'Кальтино', 'Каменногорск', 'Камышовка',\n",
       "       'Кара', 'Карлино', 'Каськово', 'Келози', 'Кикерино', 'Кингисепп',\n",
       "       'Кингисеппский', 'Кипень', 'Кириши', 'Кировск', 'Кирпичное',\n",
       "       'Кисельня', 'Кобралово', 'Кобринское', 'Колпаны', 'Колпино',\n",
       "       'Колтуши', 'Коммунар', 'Коммунары', 'Кондратьево', 'Копорье',\n",
       "       'Коркино', 'Корнево', 'Коробицыно', 'Котельский', 'Котлы',\n",
       "       'Красносельское', 'Кривко', 'Кронштадт', 'Кудрово', 'Кузнечное',\n",
       "       'Кузьмолово', 'Кузьмоловский', 'Курковицы', 'Куровицы', 'Куттузи',\n",
       "       'Лаврики', 'Лаголово', 'Ладога', 'Лампово', 'Лебяжье', 'Левашово',\n",
       "       'Ленинское', 'Лесколово', 'Лесное', 'Лесогорский', 'Ломоносов',\n",
       "       'Лопухинка', 'Луга', 'Лужайка', 'Лукаши', 'Лупполово', 'Любань',\n",
       "       'Малукса', 'Мануйлово', 'Мга', 'Мельниково', 'Меньково',\n",
       "       'Металлострой', 'Мины', 'Мистолово', 'Мичуринское', 'Молодцово',\n",
       "       'Молодёжное', 'Морозова', 'Мурино', 'Мыза-Ивановка', 'Назия',\n",
       "       'Ненимяки', 'Нижняя', 'Низино', 'Никольский', 'Никольское',\n",
       "       'Новогорелово', 'Новолисино', 'Новоселье', 'Нос', 'Нурма',\n",
       "       'Оредеж', 'Оржицы', 'Осельки', 'Отрадное', 'Павлово', 'Павловск',\n",
       "       'Парголово', 'Парицы', 'Паша', 'Пельгора', 'Пеники',\n",
       "       'Первомайское', 'Перово', 'Песочный', 'Петергоф', 'Петро-Славянка',\n",
       "       'Петровское', 'Пижма', 'Пикалёво', 'Пикколово', 'Плодовое',\n",
       "       'Плоское', 'Победа', 'Подпорожье', 'Поле', 'Поляна', 'Поляны',\n",
       "       'Понтонный', 'Почап', 'Починок', 'Приветнинское', 'Пригородный',\n",
       "       'Приладожский', 'Приморск', 'Приозерск', 'Пудомяги', 'Пудость',\n",
       "       'Пустомержа', 'Пустошь', 'Пустынка', 'Путилово', 'Пушкин',\n",
       "       'Пушное', 'Пчева', 'Пчевжа', 'Рабитицы', 'Разбегаево', 'Раздолье',\n",
       "       'Разметелево', 'Рапполово', 'Рахья', 'Реброво', 'Рейзино',\n",
       "       'Репино', 'Рождествено', 'Романовка', 'Ромашки', 'Ропша', 'Рощино',\n",
       "       'Русско', 'Русско-Высоцкое', 'Рябово', 'Сабск', 'Садко',\n",
       "       'Санкт-Петербург', 'Сапёрное', 'Сапёрный', 'Свердлова', 'Свет',\n",
       "       'Светогорск', 'Свирь', 'Свирьстрой', 'Севастьяново', 'Север',\n",
       "       'Селезнёво', 'Село', 'Сельцо', 'Семиозерье', 'Семрино',\n",
       "       'Серебрянский', 'Сертолово', 'Сестрорецк', 'Сиверский', 'Сижно',\n",
       "       'Синявино', 'Сланцы', 'Снегирёвка', 'Советский', 'Совхозный',\n",
       "       'Сосново', 'Старая', 'Старополье', 'Старосиверская', 'Стеклянный',\n",
       "       'Стрельна', 'Суйда', 'Сумино', 'Суоранда', 'Суходолье', 'Счастье',\n",
       "       'Сяськелево', 'Сясьстрой', 'Тайцы', 'Тарасово', 'Тельмана',\n",
       "       'Терволово', 'Терпилицы', 'Тихвин', 'Тихковицы', 'Тойворово',\n",
       "       'Токсово', 'Торковичи', 'Торосово', 'Торошковичи', 'Торфяное',\n",
       "       'Тосно', 'Тёсово-4', 'Углово', 'Ульяновка', 'Усть-Ижора',\n",
       "       'Усть-Луга', 'Учхоз', 'Ушаки', 'Фалилеево', 'Форносово',\n",
       "       'Фёдоровское', 'Хапо-Ое', 'Хинколово', 'Хязельки', 'Цвелодубово',\n",
       "       'Цвылёво', 'Шлиссельбург', 'Шпаньково', 'Шугозеро', 'Шум',\n",
       "       'Шушары', 'Щеглово', 'Юкки', 'Ялгино', 'Яльгелево', 'Ям-Тесово',\n",
       "       'Янино-1', 'километр', 'неизвестно'], dtype=object)"
      ]
     },
     "execution_count": 31,
     "metadata": {},
     "output_type": "execute_result"
    }
   ],
   "source": [
    "df['locality_name_correct'].sort_values().unique()"
   ]
  },
  {
   "cell_type": "markdown",
   "metadata": {},
   "source": [
    "Просмотрев весь, список нахожу в конце населенный пункт 'километр'. Устанавливаю, что это 'Платформа 69-й километр'. Исправляю."
   ]
  },
  {
   "cell_type": "code",
   "execution_count": 32,
   "metadata": {},
   "outputs": [],
   "source": [
    "df['locality_name_correct'] = df['locality_name_correct'].where(df.locality_name_correct != 'километр', 'Платформа 69-й километр')"
   ]
  },
  {
   "cell_type": "markdown",
   "metadata": {},
   "source": [
    "Теперь названия корректные. Остались названия - заглушки. С ними ничего делать не буду, т.к. названия не будут участвовать в исследовании."
   ]
  },
  {
   "cell_type": "code",
   "execution_count": 33,
   "metadata": {},
   "outputs": [
    {
     "data": {
      "text/plain": [
       "total_images                 0\n",
       "last_price                   0\n",
       "total_area                   0\n",
       "first_day_exposition         0\n",
       "rooms                        0\n",
       "ceiling_height               0\n",
       "floors_total                 0\n",
       "living_area                143\n",
       "floor                        0\n",
       "is_apartment                 0\n",
       "studio                       0\n",
       "open_plan                    0\n",
       "kitchen_area               205\n",
       "balcony                      0\n",
       "locality_name                0\n",
       "airports_nearest          5542\n",
       "cityCenters_nearest       5519\n",
       "parks_around3000          5518\n",
       "parks_nearest            15620\n",
       "ponds_around3000          5518\n",
       "ponds_nearest            14589\n",
       "days_exposition           3181\n",
       "locality_name_correct        0\n",
       "dtype: int64"
      ]
     },
     "execution_count": 33,
     "metadata": {},
     "output_type": "execute_result"
    }
   ],
   "source": [
    "df.isna().sum()"
   ]
  },
  {
   "cell_type": "markdown",
   "metadata": {},
   "source": [
    "Теперь идет целая когорта данных различных географических показателей, в которых много пропущенных значений. Я не могу заменить пропущенные значения в этих столбцах т.к. не знаю географических координат квартир."
   ]
  },
  {
   "cell_type": "markdown",
   "metadata": {},
   "source": [
    "В столбце days_exposition тоже есть пропущенные значения, которые я заменю на медианные."
   ]
  },
  {
   "cell_type": "code",
   "execution_count": 34,
   "metadata": {},
   "outputs": [],
   "source": [
    "df['days_exposition'] = df['days_exposition'].fillna(df['days_exposition'].median())"
   ]
  },
  {
   "cell_type": "markdown",
   "metadata": {},
   "source": [
    "Теперь проверю типы данных в сете."
   ]
  },
  {
   "cell_type": "code",
   "execution_count": 35,
   "metadata": {},
   "outputs": [
    {
     "data": {
      "text/plain": [
       "total_images               int64\n",
       "last_price               float64\n",
       "total_area               float64\n",
       "first_day_exposition      object\n",
       "rooms                      int64\n",
       "ceiling_height           float64\n",
       "floors_total             float64\n",
       "living_area              float64\n",
       "floor                      int64\n",
       "is_apartment                bool\n",
       "studio                      bool\n",
       "open_plan                   bool\n",
       "kitchen_area             float64\n",
       "balcony                  float64\n",
       "locality_name             object\n",
       "airports_nearest         float64\n",
       "cityCenters_nearest      float64\n",
       "parks_around3000         float64\n",
       "parks_nearest            float64\n",
       "ponds_around3000         float64\n",
       "ponds_nearest            float64\n",
       "days_exposition          float64\n",
       "locality_name_correct     object\n",
       "dtype: object"
      ]
     },
     "execution_count": 35,
     "metadata": {},
     "output_type": "execute_result"
    }
   ],
   "source": [
    "df.dtypes"
   ]
  },
  {
   "cell_type": "markdown",
   "metadata": {},
   "source": [
    "Данные в first_day_exposition — записаны в виде datetime (причем везде одинаковое время), но отмечены как тип object. Это явное несоответствие исправляю."
   ]
  },
  {
   "cell_type": "code",
   "execution_count": 36,
   "metadata": {},
   "outputs": [],
   "source": [
    "df['first_day_exposition'] = pd.to_datetime(df['first_day_exposition'], format='%Y-%m-%dT%H:%M:%S')"
   ]
  },
  {
   "cell_type": "markdown",
   "metadata": {},
   "source": [
    "Значения в floors_total имеют тип float, но этажность не может быть нецелым числом. Исправляю на тип int."
   ]
  },
  {
   "cell_type": "code",
   "execution_count": 37,
   "metadata": {},
   "outputs": [],
   "source": [
    "df['floors_total'] = df['floors_total'].astype('int')"
   ]
  },
  {
   "cell_type": "markdown",
   "metadata": {},
   "source": [
    "Значения в balcony имеют тип float, но число балконов не может быть нецелым числом."
   ]
  },
  {
   "cell_type": "code",
   "execution_count": 38,
   "metadata": {},
   "outputs": [],
   "source": [
    "df['balcony'] = df['balcony'].astype('int')"
   ]
  },
  {
   "cell_type": "markdown",
   "metadata": {},
   "source": [
    "Значения в days_exposition имеют тип float, но количество дней не может быть нецелым числом.  Логично было бы исправить на тип int. Но из-за наличия пропущенных значений это сделать не получится. Тоже относится к столбцам 'parks_around3000' и 'ponds_around3000 ' "
   ]
  },
  {
   "cell_type": "markdown",
   "metadata": {},
   "source": [
    "## Расчёты и добавление результатов в таблицу"
   ]
  },
  {
   "cell_type": "markdown",
   "metadata": {},
   "source": [
    "Посчитаю и добавлю в таблицу:\n",
    "1. цену квадратного метра;\n",
    "2. день недели, месяц и год публикации объявления;\n",
    "3. этаж квартиры; варианты — первый, последний, другой;\n",
    "4. соотношение жилой и общей площади, а также отношение площади кухни к общей."
   ]
  },
  {
   "cell_type": "markdown",
   "metadata": {},
   "source": [
    "1."
   ]
  },
  {
   "cell_type": "code",
   "execution_count": 39,
   "metadata": {},
   "outputs": [],
   "source": [
    "df['cost_per_metr'] = (df['last_price'] / df['total_area']).round(2)"
   ]
  },
  {
   "cell_type": "markdown",
   "metadata": {},
   "source": [
    "2."
   ]
  },
  {
   "cell_type": "code",
   "execution_count": 40,
   "metadata": {},
   "outputs": [],
   "source": [
    "df['first_day_exposition_day'] = pd.DatetimeIndex(df['first_day_exposition']).weekday_name\n",
    "df['first_day_exposition_month'] = pd.DatetimeIndex(df['first_day_exposition']).month_name()\n",
    "df['first_day_exposition_year'] = pd.DatetimeIndex(df['first_day_exposition']).year"
   ]
  },
  {
   "cell_type": "markdown",
   "metadata": {},
   "source": [
    "3."
   ]
  },
  {
   "cell_type": "code",
   "execution_count": 41,
   "metadata": {},
   "outputs": [],
   "source": [
    "df['floor_category'] = df['floor']"
   ]
  },
  {
   "cell_type": "code",
   "execution_count": 42,
   "metadata": {},
   "outputs": [],
   "source": [
    "for x in range(df.shape[0]):\n",
    "    if df.iloc[x, 8] == 1: df.iloc[x, 27] = 'первый'\n",
    "    elif df.iloc[x, 6] == df.iloc[x, 8]: df.iloc[x, 27] = 'последний'\n",
    "    else: df.iloc[x, 27] = 'другой'"
   ]
  },
  {
   "cell_type": "markdown",
   "metadata": {},
   "source": [
    "4."
   ]
  },
  {
   "cell_type": "code",
   "execution_count": 43,
   "metadata": {},
   "outputs": [],
   "source": [
    "df['living_total_ratio'] = (df['living_area'] / df['total_area']).round(2)"
   ]
  },
  {
   "cell_type": "code",
   "execution_count": 44,
   "metadata": {},
   "outputs": [],
   "source": [
    "df['kitchen_total_ratio'] = (df['kitchen_area'] / df['total_area']).round(2)"
   ]
  },
  {
   "cell_type": "code",
   "execution_count": 45,
   "metadata": {},
   "outputs": [
    {
     "data": {
      "text/html": [
       "<div>\n",
       "<style scoped>\n",
       "    .dataframe tbody tr th:only-of-type {\n",
       "        vertical-align: middle;\n",
       "    }\n",
       "\n",
       "    .dataframe tbody tr th {\n",
       "        vertical-align: top;\n",
       "    }\n",
       "\n",
       "    .dataframe thead th {\n",
       "        text-align: right;\n",
       "    }\n",
       "</style>\n",
       "<table border=\"1\" class=\"dataframe\">\n",
       "  <thead>\n",
       "    <tr style=\"text-align: right;\">\n",
       "      <th></th>\n",
       "      <th>total_images</th>\n",
       "      <th>last_price</th>\n",
       "      <th>total_area</th>\n",
       "      <th>first_day_exposition</th>\n",
       "      <th>rooms</th>\n",
       "      <th>ceiling_height</th>\n",
       "      <th>floors_total</th>\n",
       "      <th>living_area</th>\n",
       "      <th>floor</th>\n",
       "      <th>is_apartment</th>\n",
       "      <th>...</th>\n",
       "      <th>ponds_nearest</th>\n",
       "      <th>days_exposition</th>\n",
       "      <th>locality_name_correct</th>\n",
       "      <th>cost_per_metr</th>\n",
       "      <th>first_day_exposition_day</th>\n",
       "      <th>first_day_exposition_month</th>\n",
       "      <th>first_day_exposition_year</th>\n",
       "      <th>floor_category</th>\n",
       "      <th>living_total_ratio</th>\n",
       "      <th>kitchen_total_ratio</th>\n",
       "    </tr>\n",
       "  </thead>\n",
       "  <tbody>\n",
       "    <tr>\n",
       "      <td>0</td>\n",
       "      <td>20</td>\n",
       "      <td>13000000.0</td>\n",
       "      <td>108.0</td>\n",
       "      <td>2019-03-07</td>\n",
       "      <td>3</td>\n",
       "      <td>2.70</td>\n",
       "      <td>16</td>\n",
       "      <td>51.0</td>\n",
       "      <td>8</td>\n",
       "      <td>False</td>\n",
       "      <td>...</td>\n",
       "      <td>755.0</td>\n",
       "      <td>95.0</td>\n",
       "      <td>Санкт-Петербург</td>\n",
       "      <td>120370.37</td>\n",
       "      <td>Thursday</td>\n",
       "      <td>March</td>\n",
       "      <td>2019</td>\n",
       "      <td>другой</td>\n",
       "      <td>0.47</td>\n",
       "      <td>0.23</td>\n",
       "    </tr>\n",
       "    <tr>\n",
       "      <td>1</td>\n",
       "      <td>7</td>\n",
       "      <td>3350000.0</td>\n",
       "      <td>40.4</td>\n",
       "      <td>2018-12-04</td>\n",
       "      <td>1</td>\n",
       "      <td>2.65</td>\n",
       "      <td>11</td>\n",
       "      <td>18.6</td>\n",
       "      <td>1</td>\n",
       "      <td>False</td>\n",
       "      <td>...</td>\n",
       "      <td>NaN</td>\n",
       "      <td>81.0</td>\n",
       "      <td>Шушары</td>\n",
       "      <td>82920.79</td>\n",
       "      <td>Tuesday</td>\n",
       "      <td>December</td>\n",
       "      <td>2018</td>\n",
       "      <td>первый</td>\n",
       "      <td>0.46</td>\n",
       "      <td>0.27</td>\n",
       "    </tr>\n",
       "    <tr>\n",
       "      <td>2</td>\n",
       "      <td>10</td>\n",
       "      <td>5196000.0</td>\n",
       "      <td>56.0</td>\n",
       "      <td>2015-08-20</td>\n",
       "      <td>2</td>\n",
       "      <td>2.65</td>\n",
       "      <td>5</td>\n",
       "      <td>34.3</td>\n",
       "      <td>4</td>\n",
       "      <td>False</td>\n",
       "      <td>...</td>\n",
       "      <td>574.0</td>\n",
       "      <td>558.0</td>\n",
       "      <td>Санкт-Петербург</td>\n",
       "      <td>92785.71</td>\n",
       "      <td>Thursday</td>\n",
       "      <td>August</td>\n",
       "      <td>2015</td>\n",
       "      <td>другой</td>\n",
       "      <td>0.61</td>\n",
       "      <td>0.15</td>\n",
       "    </tr>\n",
       "    <tr>\n",
       "      <td>3</td>\n",
       "      <td>0</td>\n",
       "      <td>64900000.0</td>\n",
       "      <td>159.0</td>\n",
       "      <td>2015-07-24</td>\n",
       "      <td>3</td>\n",
       "      <td>2.65</td>\n",
       "      <td>14</td>\n",
       "      <td>95.0</td>\n",
       "      <td>9</td>\n",
       "      <td>False</td>\n",
       "      <td>...</td>\n",
       "      <td>234.0</td>\n",
       "      <td>424.0</td>\n",
       "      <td>Санкт-Петербург</td>\n",
       "      <td>408176.10</td>\n",
       "      <td>Friday</td>\n",
       "      <td>July</td>\n",
       "      <td>2015</td>\n",
       "      <td>другой</td>\n",
       "      <td>0.60</td>\n",
       "      <td>0.09</td>\n",
       "    </tr>\n",
       "    <tr>\n",
       "      <td>4</td>\n",
       "      <td>2</td>\n",
       "      <td>10000000.0</td>\n",
       "      <td>100.0</td>\n",
       "      <td>2018-06-19</td>\n",
       "      <td>2</td>\n",
       "      <td>3.03</td>\n",
       "      <td>14</td>\n",
       "      <td>32.0</td>\n",
       "      <td>13</td>\n",
       "      <td>False</td>\n",
       "      <td>...</td>\n",
       "      <td>48.0</td>\n",
       "      <td>121.0</td>\n",
       "      <td>Санкт-Петербург</td>\n",
       "      <td>100000.00</td>\n",
       "      <td>Tuesday</td>\n",
       "      <td>June</td>\n",
       "      <td>2018</td>\n",
       "      <td>другой</td>\n",
       "      <td>0.32</td>\n",
       "      <td>0.41</td>\n",
       "    </tr>\n",
       "  </tbody>\n",
       "</table>\n",
       "<p>5 rows × 30 columns</p>\n",
       "</div>"
      ],
      "text/plain": [
       "   total_images  last_price  total_area first_day_exposition  rooms  \\\n",
       "0            20  13000000.0       108.0           2019-03-07      3   \n",
       "1             7   3350000.0        40.4           2018-12-04      1   \n",
       "2            10   5196000.0        56.0           2015-08-20      2   \n",
       "3             0  64900000.0       159.0           2015-07-24      3   \n",
       "4             2  10000000.0       100.0           2018-06-19      2   \n",
       "\n",
       "   ceiling_height  floors_total  living_area  floor  is_apartment  ...  \\\n",
       "0            2.70            16         51.0      8         False  ...   \n",
       "1            2.65            11         18.6      1         False  ...   \n",
       "2            2.65             5         34.3      4         False  ...   \n",
       "3            2.65            14         95.0      9         False  ...   \n",
       "4            3.03            14         32.0     13         False  ...   \n",
       "\n",
       "   ponds_nearest  days_exposition  locality_name_correct  cost_per_metr  \\\n",
       "0          755.0             95.0        Санкт-Петербург      120370.37   \n",
       "1            NaN             81.0                 Шушары       82920.79   \n",
       "2          574.0            558.0        Санкт-Петербург       92785.71   \n",
       "3          234.0            424.0        Санкт-Петербург      408176.10   \n",
       "4           48.0            121.0        Санкт-Петербург      100000.00   \n",
       "\n",
       "  first_day_exposition_day  first_day_exposition_month  \\\n",
       "0                 Thursday                       March   \n",
       "1                  Tuesday                    December   \n",
       "2                 Thursday                      August   \n",
       "3                   Friday                        July   \n",
       "4                  Tuesday                        June   \n",
       "\n",
       "   first_day_exposition_year  floor_category  living_total_ratio  \\\n",
       "0                       2019          другой                0.47   \n",
       "1                       2018          первый                0.46   \n",
       "2                       2015          другой                0.61   \n",
       "3                       2015          другой                0.60   \n",
       "4                       2018          другой                0.32   \n",
       "\n",
       "   kitchen_total_ratio  \n",
       "0                 0.23  \n",
       "1                 0.27  \n",
       "2                 0.15  \n",
       "3                 0.09  \n",
       "4                 0.41  \n",
       "\n",
       "[5 rows x 30 columns]"
      ]
     },
     "execution_count": 45,
     "metadata": {},
     "output_type": "execute_result"
    }
   ],
   "source": [
    "df.head()"
   ]
  },
  {
   "cell_type": "markdown",
   "metadata": {},
   "source": [
    "## Исследовательский анализ данных"
   ]
  },
  {
   "cell_type": "markdown",
   "metadata": {},
   "source": [
    "<ol>Последовательно выполню следующие пункты:\n",
    "    \n",
    "<li>Изучите следующие параметры: площадь, цена, число комнат, высота потолков. Постройте гистограммы для каждого параметра.</li>\n",
    "<li>Изучите время продажи квартиры. Постройте гистограмму. Посчитайте среднее и медиану. Опишите, сколько обычно занимает продажа. Когда можно считать, что продажи прошли очень быстро, а когда необычно долго?</li>\n",
    "<li>Уберите редкие и выбивающиеся значения. Опишите, какие особенности обнаружили.</li>\n",
    "<li>Какие факторы больше всего влияют на стоимость квартиры? Изучите, зависит ли цена от площади, числа комнат, удалённости от центра. Изучите зависимость цены от того, на каком этаже расположена квартира: первом, последнем или другом. Также изучите зависимость от даты размещения: дня недели, месяца и года.</li>\n",
    "<li>Выберите 10 населённых пунктов с наибольшим числом объявлений. Посчитайте среднюю цену квадратного метра в этих населённых пунктах. Выделите среди них населённые пункты с самой высокой и низкой стоимостью жилья. Эти данные можно найти по имени в столбце 'locality_name'.</li>\n",
    "<li>Изучите предложения квартир: для каждой квартиры есть информация о расстоянии до центра. Выделите квартиры в Санкт-Петербурге ('locality_name'). Ваша задача — выяснить, какая область входит в центр. Создайте столбец с расстоянием до центра в километрах: округлите до целых значений. После этого посчитайте среднюю цену для каждого километра. Постройте график: он должен показывать, как цена зависит от удалённости от центра. Определите границу, где график сильно меняется — это и будет центральная зона.</li>\n",
    "<li>Выделите сегмент квартир в центре. Проанализируйте эту территорию и изучите следующие параметры: площадь, цена, число комнат, высота потолков. Также выделите факторы, которые влияют на стоимость квартиры (число комнат, этаж, удалённость от центра, дата размещения объявления). Сделайте выводы. Отличаются ли они от общих выводов по всему городу?</li>\n",
    "</ol>    "
   ]
  },
  {
   "cell_type": "markdown",
   "metadata": {},
   "source": [
    "1. Изучите следующие параметры: площадь, цена, число комнат, высота потолков. Постройте гистограммы для каждого параметра."
   ]
  },
  {
   "cell_type": "markdown",
   "metadata": {},
   "source": [
    "Изучу распределение общей площади квартир."
   ]
  },
  {
   "cell_type": "code",
   "execution_count": 46,
   "metadata": {},
   "outputs": [
    {
     "data": {
      "text/plain": [
       "<matplotlib.axes._subplots.AxesSubplot at 0x7f56558aef50>"
      ]
     },
     "execution_count": 46,
     "metadata": {},
     "output_type": "execute_result"
    },
    {
     "data": {
      "image/png": "[encoded data removed]",
      "text/plain": [
       "<Figure size 1152x648 with 1 Axes>"
      ]
     },
     "metadata": {
      "needs_background": "light"
     },
     "output_type": "display_data"
    }
   ],
   "source": [
    "df['total_area'].hist(bins=100, figsize=(16,9))"
   ]
  },
  {
   "cell_type": "markdown",
   "metadata": {},
   "source": [
    "Похоже на распределение Пуассона. Квартир, площадью свыше 200 кв.м. мало, рассмотрю их поближе."
   ]
  },
  {
   "cell_type": "code",
   "execution_count": 47,
   "metadata": {},
   "outputs": [
    {
     "data": {
      "text/plain": [
       "<matplotlib.axes._subplots.AxesSubplot at 0x7f5655483350>"
      ]
     },
     "execution_count": 47,
     "metadata": {},
     "output_type": "execute_result"
    },
    {
     "data": {
      "image/png": "[encoded data removed]",
      "text/plain": [
       "<Figure size 432x288 with 1 Axes>"
      ]
     },
     "metadata": {
      "needs_background": "light"
     },
     "output_type": "display_data"
    }
   ],
   "source": [
    "df['total_area'].hist(range=(200,900))"
   ]
  },
  {
   "cell_type": "code",
   "execution_count": 48,
   "metadata": {},
   "outputs": [
    {
     "data": {
      "text/plain": [
       "count    23699.000000\n",
       "mean        60.348651\n",
       "std         35.654083\n",
       "min         12.000000\n",
       "25%         40.000000\n",
       "50%         52.000000\n",
       "75%         69.900000\n",
       "max        900.000000\n",
       "Name: total_area, dtype: float64"
      ]
     },
     "execution_count": 48,
     "metadata": {},
     "output_type": "execute_result"
    }
   ],
   "source": [
    "df['total_area'].describe()"
   ]
  },
  {
   "cell_type": "markdown",
   "metadata": {},
   "source": [
    "Виден выброс в виде квартиры, площадью 900 кв.м. Удалю такое наблюдение."
   ]
  },
  {
   "cell_type": "code",
   "execution_count": 49,
   "metadata": {},
   "outputs": [
    {
     "data": {
      "text/html": [
       "<div>\n",
       "<style scoped>\n",
       "    .dataframe tbody tr th:only-of-type {\n",
       "        vertical-align: middle;\n",
       "    }\n",
       "\n",
       "    .dataframe tbody tr th {\n",
       "        vertical-align: top;\n",
       "    }\n",
       "\n",
       "    .dataframe thead th {\n",
       "        text-align: right;\n",
       "    }\n",
       "</style>\n",
       "<table border=\"1\" class=\"dataframe\">\n",
       "  <thead>\n",
       "    <tr style=\"text-align: right;\">\n",
       "      <th></th>\n",
       "      <th>total_images</th>\n",
       "      <th>last_price</th>\n",
       "      <th>total_area</th>\n",
       "      <th>first_day_exposition</th>\n",
       "      <th>rooms</th>\n",
       "      <th>ceiling_height</th>\n",
       "      <th>floors_total</th>\n",
       "      <th>living_area</th>\n",
       "      <th>floor</th>\n",
       "      <th>is_apartment</th>\n",
       "      <th>...</th>\n",
       "      <th>ponds_nearest</th>\n",
       "      <th>days_exposition</th>\n",
       "      <th>locality_name_correct</th>\n",
       "      <th>cost_per_metr</th>\n",
       "      <th>first_day_exposition_day</th>\n",
       "      <th>first_day_exposition_month</th>\n",
       "      <th>first_day_exposition_year</th>\n",
       "      <th>floor_category</th>\n",
       "      <th>living_total_ratio</th>\n",
       "      <th>kitchen_total_ratio</th>\n",
       "    </tr>\n",
       "  </thead>\n",
       "  <tbody>\n",
       "    <tr>\n",
       "      <td>19540</td>\n",
       "      <td>8</td>\n",
       "      <td>420000000.0</td>\n",
       "      <td>900.0</td>\n",
       "      <td>2017-12-06</td>\n",
       "      <td>12</td>\n",
       "      <td>2.8</td>\n",
       "      <td>25</td>\n",
       "      <td>409.7</td>\n",
       "      <td>25</td>\n",
       "      <td>False</td>\n",
       "      <td>...</td>\n",
       "      <td>318.0</td>\n",
       "      <td>106.0</td>\n",
       "      <td>Санкт-Петербург</td>\n",
       "      <td>466666.67</td>\n",
       "      <td>Wednesday</td>\n",
       "      <td>December</td>\n",
       "      <td>2017</td>\n",
       "      <td>последний</td>\n",
       "      <td>0.46</td>\n",
       "      <td>0.12</td>\n",
       "    </tr>\n",
       "  </tbody>\n",
       "</table>\n",
       "<p>1 rows × 30 columns</p>\n",
       "</div>"
      ],
      "text/plain": [
       "       total_images   last_price  total_area first_day_exposition  rooms  \\\n",
       "19540             8  420000000.0       900.0           2017-12-06     12   \n",
       "\n",
       "       ceiling_height  floors_total  living_area  floor  is_apartment  ...  \\\n",
       "19540             2.8            25        409.7     25         False  ...   \n",
       "\n",
       "       ponds_nearest  days_exposition  locality_name_correct  cost_per_metr  \\\n",
       "19540          318.0            106.0        Санкт-Петербург      466666.67   \n",
       "\n",
       "      first_day_exposition_day  first_day_exposition_month  \\\n",
       "19540                Wednesday                    December   \n",
       "\n",
       "       first_day_exposition_year  floor_category  living_total_ratio  \\\n",
       "19540                       2017       последний                0.46   \n",
       "\n",
       "       kitchen_total_ratio  \n",
       "19540                 0.12  \n",
       "\n",
       "[1 rows x 30 columns]"
      ]
     },
     "execution_count": 49,
     "metadata": {},
     "output_type": "execute_result"
    }
   ],
   "source": [
    "df[df['total_area']==900]"
   ]
  },
  {
   "cell_type": "code",
   "execution_count": 50,
   "metadata": {},
   "outputs": [],
   "source": [
    "df=df.drop(index=[19540])"
   ]
  },
  {
   "cell_type": "code",
   "execution_count": 51,
   "metadata": {},
   "outputs": [
    {
     "data": {
      "text/html": [
       "<div>\n",
       "<style scoped>\n",
       "    .dataframe tbody tr th:only-of-type {\n",
       "        vertical-align: middle;\n",
       "    }\n",
       "\n",
       "    .dataframe tbody tr th {\n",
       "        vertical-align: top;\n",
       "    }\n",
       "\n",
       "    .dataframe thead th {\n",
       "        text-align: right;\n",
       "    }\n",
       "</style>\n",
       "<table border=\"1\" class=\"dataframe\">\n",
       "  <thead>\n",
       "    <tr style=\"text-align: right;\">\n",
       "      <th></th>\n",
       "      <th>total_images</th>\n",
       "      <th>last_price</th>\n",
       "      <th>total_area</th>\n",
       "      <th>first_day_exposition</th>\n",
       "      <th>rooms</th>\n",
       "      <th>ceiling_height</th>\n",
       "      <th>floors_total</th>\n",
       "      <th>living_area</th>\n",
       "      <th>floor</th>\n",
       "      <th>is_apartment</th>\n",
       "      <th>...</th>\n",
       "      <th>ponds_nearest</th>\n",
       "      <th>days_exposition</th>\n",
       "      <th>locality_name_correct</th>\n",
       "      <th>cost_per_metr</th>\n",
       "      <th>first_day_exposition_day</th>\n",
       "      <th>first_day_exposition_month</th>\n",
       "      <th>first_day_exposition_year</th>\n",
       "      <th>floor_category</th>\n",
       "      <th>living_total_ratio</th>\n",
       "      <th>kitchen_total_ratio</th>\n",
       "    </tr>\n",
       "  </thead>\n",
       "  <tbody>\n",
       "    <tr>\n",
       "      <td>155</td>\n",
       "      <td>8</td>\n",
       "      <td>96000000.0</td>\n",
       "      <td>317.0</td>\n",
       "      <td>2017-07-07</td>\n",
       "      <td>4</td>\n",
       "      <td>3.50</td>\n",
       "      <td>3</td>\n",
       "      <td>183.0</td>\n",
       "      <td>3</td>\n",
       "      <td>False</td>\n",
       "      <td>...</td>\n",
       "      <td>366.0</td>\n",
       "      <td>62.0</td>\n",
       "      <td>Санкт-Петербург</td>\n",
       "      <td>302839.12</td>\n",
       "      <td>Friday</td>\n",
       "      <td>July</td>\n",
       "      <td>2017</td>\n",
       "      <td>последний</td>\n",
       "      <td>0.58</td>\n",
       "      <td>NaN</td>\n",
       "    </tr>\n",
       "    <tr>\n",
       "      <td>464</td>\n",
       "      <td>15</td>\n",
       "      <td>66571000.0</td>\n",
       "      <td>280.3</td>\n",
       "      <td>2015-06-11</td>\n",
       "      <td>6</td>\n",
       "      <td>5.20</td>\n",
       "      <td>8</td>\n",
       "      <td>159.5</td>\n",
       "      <td>7</td>\n",
       "      <td>False</td>\n",
       "      <td>...</td>\n",
       "      <td>616.0</td>\n",
       "      <td>578.0</td>\n",
       "      <td>Санкт-Петербург</td>\n",
       "      <td>237499.11</td>\n",
       "      <td>Thursday</td>\n",
       "      <td>June</td>\n",
       "      <td>2015</td>\n",
       "      <td>другой</td>\n",
       "      <td>0.57</td>\n",
       "      <td>0.08</td>\n",
       "    </tr>\n",
       "    <tr>\n",
       "      <td>492</td>\n",
       "      <td>18</td>\n",
       "      <td>95000000.0</td>\n",
       "      <td>216.0</td>\n",
       "      <td>2017-12-05</td>\n",
       "      <td>4</td>\n",
       "      <td>3.00</td>\n",
       "      <td>5</td>\n",
       "      <td>86.0</td>\n",
       "      <td>4</td>\n",
       "      <td>False</td>\n",
       "      <td>...</td>\n",
       "      <td>620.0</td>\n",
       "      <td>14.0</td>\n",
       "      <td>Санкт-Петербург</td>\n",
       "      <td>439814.81</td>\n",
       "      <td>Tuesday</td>\n",
       "      <td>December</td>\n",
       "      <td>2017</td>\n",
       "      <td>другой</td>\n",
       "      <td>0.40</td>\n",
       "      <td>0.36</td>\n",
       "    </tr>\n",
       "    <tr>\n",
       "      <td>509</td>\n",
       "      <td>5</td>\n",
       "      <td>90000000.0</td>\n",
       "      <td>225.0</td>\n",
       "      <td>2016-06-26</td>\n",
       "      <td>6</td>\n",
       "      <td>2.65</td>\n",
       "      <td>4</td>\n",
       "      <td>134.0</td>\n",
       "      <td>2</td>\n",
       "      <td>False</td>\n",
       "      <td>...</td>\n",
       "      <td>519.0</td>\n",
       "      <td>416.0</td>\n",
       "      <td>Санкт-Петербург</td>\n",
       "      <td>400000.00</td>\n",
       "      <td>Sunday</td>\n",
       "      <td>June</td>\n",
       "      <td>2016</td>\n",
       "      <td>другой</td>\n",
       "      <td>0.60</td>\n",
       "      <td>0.09</td>\n",
       "    </tr>\n",
       "    <tr>\n",
       "      <td>521</td>\n",
       "      <td>20</td>\n",
       "      <td>25717300.0</td>\n",
       "      <td>230.1</td>\n",
       "      <td>2015-01-21</td>\n",
       "      <td>3</td>\n",
       "      <td>2.65</td>\n",
       "      <td>3</td>\n",
       "      <td>130.0</td>\n",
       "      <td>1</td>\n",
       "      <td>False</td>\n",
       "      <td>...</td>\n",
       "      <td>278.0</td>\n",
       "      <td>1441.0</td>\n",
       "      <td>Пушкин</td>\n",
       "      <td>111765.75</td>\n",
       "      <td>Wednesday</td>\n",
       "      <td>January</td>\n",
       "      <td>2015</td>\n",
       "      <td>первый</td>\n",
       "      <td>0.56</td>\n",
       "      <td>0.11</td>\n",
       "    </tr>\n",
       "    <tr>\n",
       "      <td>...</td>\n",
       "      <td>...</td>\n",
       "      <td>...</td>\n",
       "      <td>...</td>\n",
       "      <td>...</td>\n",
       "      <td>...</td>\n",
       "      <td>...</td>\n",
       "      <td>...</td>\n",
       "      <td>...</td>\n",
       "      <td>...</td>\n",
       "      <td>...</td>\n",
       "      <td>...</td>\n",
       "      <td>...</td>\n",
       "      <td>...</td>\n",
       "      <td>...</td>\n",
       "      <td>...</td>\n",
       "      <td>...</td>\n",
       "      <td>...</td>\n",
       "      <td>...</td>\n",
       "      <td>...</td>\n",
       "      <td>...</td>\n",
       "      <td>...</td>\n",
       "    </tr>\n",
       "    <tr>\n",
       "      <td>23005</td>\n",
       "      <td>20</td>\n",
       "      <td>30750000.0</td>\n",
       "      <td>297.5</td>\n",
       "      <td>2018-09-09</td>\n",
       "      <td>6</td>\n",
       "      <td>3.14</td>\n",
       "      <td>4</td>\n",
       "      <td>181.8</td>\n",
       "      <td>2</td>\n",
       "      <td>False</td>\n",
       "      <td>...</td>\n",
       "      <td>40.0</td>\n",
       "      <td>42.0</td>\n",
       "      <td>Санкт-Петербург</td>\n",
       "      <td>103361.34</td>\n",
       "      <td>Sunday</td>\n",
       "      <td>September</td>\n",
       "      <td>2018</td>\n",
       "      <td>другой</td>\n",
       "      <td>0.61</td>\n",
       "      <td>0.07</td>\n",
       "    </tr>\n",
       "    <tr>\n",
       "      <td>23281</td>\n",
       "      <td>20</td>\n",
       "      <td>24800000.0</td>\n",
       "      <td>231.2</td>\n",
       "      <td>2015-01-21</td>\n",
       "      <td>6</td>\n",
       "      <td>3.10</td>\n",
       "      <td>5</td>\n",
       "      <td>99.8</td>\n",
       "      <td>4</td>\n",
       "      <td>False</td>\n",
       "      <td>...</td>\n",
       "      <td>795.0</td>\n",
       "      <td>95.0</td>\n",
       "      <td>Санкт-Петербург</td>\n",
       "      <td>107266.44</td>\n",
       "      <td>Wednesday</td>\n",
       "      <td>January</td>\n",
       "      <td>2015</td>\n",
       "      <td>другой</td>\n",
       "      <td>0.43</td>\n",
       "      <td>0.12</td>\n",
       "    </tr>\n",
       "    <tr>\n",
       "      <td>23327</td>\n",
       "      <td>19</td>\n",
       "      <td>34400000.0</td>\n",
       "      <td>215.0</td>\n",
       "      <td>2019-03-15</td>\n",
       "      <td>5</td>\n",
       "      <td>2.75</td>\n",
       "      <td>4</td>\n",
       "      <td>82.4</td>\n",
       "      <td>4</td>\n",
       "      <td>False</td>\n",
       "      <td>...</td>\n",
       "      <td>NaN</td>\n",
       "      <td>95.0</td>\n",
       "      <td>Санкт-Петербург</td>\n",
       "      <td>160000.00</td>\n",
       "      <td>Friday</td>\n",
       "      <td>March</td>\n",
       "      <td>2019</td>\n",
       "      <td>последний</td>\n",
       "      <td>0.38</td>\n",
       "      <td>0.19</td>\n",
       "    </tr>\n",
       "    <tr>\n",
       "      <td>23400</td>\n",
       "      <td>17</td>\n",
       "      <td>30000000.0</td>\n",
       "      <td>213.0</td>\n",
       "      <td>2017-09-28</td>\n",
       "      <td>7</td>\n",
       "      <td>3.40</td>\n",
       "      <td>5</td>\n",
       "      <td>151.4</td>\n",
       "      <td>5</td>\n",
       "      <td>False</td>\n",
       "      <td>...</td>\n",
       "      <td>30.0</td>\n",
       "      <td>299.0</td>\n",
       "      <td>Санкт-Петербург</td>\n",
       "      <td>140845.07</td>\n",
       "      <td>Thursday</td>\n",
       "      <td>September</td>\n",
       "      <td>2017</td>\n",
       "      <td>последний</td>\n",
       "      <td>0.71</td>\n",
       "      <td>0.14</td>\n",
       "    </tr>\n",
       "    <tr>\n",
       "      <td>23491</td>\n",
       "      <td>20</td>\n",
       "      <td>21800000.0</td>\n",
       "      <td>250.0</td>\n",
       "      <td>2017-09-16</td>\n",
       "      <td>3</td>\n",
       "      <td>2.65</td>\n",
       "      <td>12</td>\n",
       "      <td>104.0</td>\n",
       "      <td>7</td>\n",
       "      <td>False</td>\n",
       "      <td>...</td>\n",
       "      <td>NaN</td>\n",
       "      <td>49.0</td>\n",
       "      <td>Санкт-Петербург</td>\n",
       "      <td>87200.00</td>\n",
       "      <td>Saturday</td>\n",
       "      <td>September</td>\n",
       "      <td>2017</td>\n",
       "      <td>другой</td>\n",
       "      <td>0.42</td>\n",
       "      <td>0.18</td>\n",
       "    </tr>\n",
       "  </tbody>\n",
       "</table>\n",
       "<p>226 rows × 30 columns</p>\n",
       "</div>"
      ],
      "text/plain": [
       "       total_images  last_price  total_area first_day_exposition  rooms  \\\n",
       "155               8  96000000.0       317.0           2017-07-07      4   \n",
       "464              15  66571000.0       280.3           2015-06-11      6   \n",
       "492              18  95000000.0       216.0           2017-12-05      4   \n",
       "509               5  90000000.0       225.0           2016-06-26      6   \n",
       "521              20  25717300.0       230.1           2015-01-21      3   \n",
       "...             ...         ...         ...                  ...    ...   \n",
       "23005            20  30750000.0       297.5           2018-09-09      6   \n",
       "23281            20  24800000.0       231.2           2015-01-21      6   \n",
       "23327            19  34400000.0       215.0           2019-03-15      5   \n",
       "23400            17  30000000.0       213.0           2017-09-28      7   \n",
       "23491            20  21800000.0       250.0           2017-09-16      3   \n",
       "\n",
       "       ceiling_height  floors_total  living_area  floor  is_apartment  ...  \\\n",
       "155              3.50             3        183.0      3         False  ...   \n",
       "464              5.20             8        159.5      7         False  ...   \n",
       "492              3.00             5         86.0      4         False  ...   \n",
       "509              2.65             4        134.0      2         False  ...   \n",
       "521              2.65             3        130.0      1         False  ...   \n",
       "...               ...           ...          ...    ...           ...  ...   \n",
       "23005            3.14             4        181.8      2         False  ...   \n",
       "23281            3.10             5         99.8      4         False  ...   \n",
       "23327            2.75             4         82.4      4         False  ...   \n",
       "23400            3.40             5        151.4      5         False  ...   \n",
       "23491            2.65            12        104.0      7         False  ...   \n",
       "\n",
       "       ponds_nearest  days_exposition  locality_name_correct  cost_per_metr  \\\n",
       "155            366.0             62.0        Санкт-Петербург      302839.12   \n",
       "464            616.0            578.0        Санкт-Петербург      237499.11   \n",
       "492            620.0             14.0        Санкт-Петербург      439814.81   \n",
       "509            519.0            416.0        Санкт-Петербург      400000.00   \n",
       "521            278.0           1441.0                 Пушкин      111765.75   \n",
       "...              ...              ...                    ...            ...   \n",
       "23005           40.0             42.0        Санкт-Петербург      103361.34   \n",
       "23281          795.0             95.0        Санкт-Петербург      107266.44   \n",
       "23327            NaN             95.0        Санкт-Петербург      160000.00   \n",
       "23400           30.0            299.0        Санкт-Петербург      140845.07   \n",
       "23491            NaN             49.0        Санкт-Петербург       87200.00   \n",
       "\n",
       "      first_day_exposition_day  first_day_exposition_month  \\\n",
       "155                     Friday                        July   \n",
       "464                   Thursday                        June   \n",
       "492                    Tuesday                    December   \n",
       "509                     Sunday                        June   \n",
       "521                  Wednesday                     January   \n",
       "...                        ...                         ...   \n",
       "23005                   Sunday                   September   \n",
       "23281                Wednesday                     January   \n",
       "23327                   Friday                       March   \n",
       "23400                 Thursday                   September   \n",
       "23491                 Saturday                   September   \n",
       "\n",
       "       first_day_exposition_year  floor_category  living_total_ratio  \\\n",
       "155                         2017       последний                0.58   \n",
       "464                         2015          другой                0.57   \n",
       "492                         2017          другой                0.40   \n",
       "509                         2016          другой                0.60   \n",
       "521                         2015          первый                0.56   \n",
       "...                          ...             ...                 ...   \n",
       "23005                       2018          другой                0.61   \n",
       "23281                       2015          другой                0.43   \n",
       "23327                       2019       последний                0.38   \n",
       "23400                       2017       последний                0.71   \n",
       "23491                       2017          другой                0.42   \n",
       "\n",
       "       kitchen_total_ratio  \n",
       "155                    NaN  \n",
       "464                   0.08  \n",
       "492                   0.36  \n",
       "509                   0.09  \n",
       "521                   0.11  \n",
       "...                    ...  \n",
       "23005                 0.07  \n",
       "23281                 0.12  \n",
       "23327                 0.19  \n",
       "23400                 0.14  \n",
       "23491                 0.18  \n",
       "\n",
       "[226 rows x 30 columns]"
      ]
     },
     "execution_count": 51,
     "metadata": {},
     "output_type": "execute_result"
    }
   ],
   "source": [
    "df[df['total_area']>200]"
   ]
  },
  {
   "cell_type": "markdown",
   "metadata": {},
   "source": [
    "Видно, что квартир свыше 200 кв.м. всего 223 шт, что составляет меньше 1 % от общего. Удалю такие наблюдения."
   ]
  },
  {
   "cell_type": "code",
   "execution_count": 52,
   "metadata": {},
   "outputs": [
    {
     "data": {
      "text/plain": [
       "<matplotlib.axes._subplots.AxesSubplot at 0x7f565530be90>"
      ]
     },
     "execution_count": 52,
     "metadata": {},
     "output_type": "execute_result"
    },
    {
     "data": {
      "image/png": "[encoded data removed]",
      "text/plain": [
       "<Figure size 432x288 with 1 Axes>"
      ]
     },
     "metadata": {
      "needs_background": "light"
     },
     "output_type": "display_data"
    }
   ],
   "source": [
    "df=df.query('total_area<200')\n",
    "df['total_area'].hist(bins=100)"
   ]
  },
  {
   "cell_type": "markdown",
   "metadata": {},
   "source": [
    "Видны маленькие значения слева от пика. Рассмотрю их."
   ]
  },
  {
   "cell_type": "code",
   "execution_count": 53,
   "metadata": {},
   "outputs": [
    {
     "data": {
      "text/plain": [
       "<matplotlib.axes._subplots.AxesSubplot at 0x7f5654b096d0>"
      ]
     },
     "execution_count": 53,
     "metadata": {},
     "output_type": "execute_result"
    },
    {
     "data": {
      "image/png": "[encoded data removed]",
      "text/plain": [
       "<Figure size 1152x648 with 1 Axes>"
      ]
     },
     "metadata": {
      "needs_background": "light"
     },
     "output_type": "display_data"
    }
   ],
   "source": [
    "df['total_area'].hist(bins=50, range=(12,27), figsize=(16,9))"
   ]
  },
  {
   "cell_type": "markdown",
   "metadata": {},
   "source": [
    "Таких значений всего 1,3%. Удалю их."
   ]
  },
  {
   "cell_type": "code",
   "execution_count": 54,
   "metadata": {},
   "outputs": [],
   "source": [
    "df=df.query('total_area>27')"
   ]
  },
  {
   "cell_type": "code",
   "execution_count": 55,
   "metadata": {},
   "outputs": [
    {
     "data": {
      "text/plain": [
       "<matplotlib.axes._subplots.AxesSubplot at 0x7f5654a08ad0>"
      ]
     },
     "execution_count": 55,
     "metadata": {},
     "output_type": "execute_result"
    },
    {
     "data": {
      "image/png": "[encoded data removed]",
      "text/plain": [
       "<Figure size 432x288 with 1 Axes>"
      ]
     },
     "metadata": {
      "needs_background": "light"
     },
     "output_type": "display_data"
    }
   ],
   "source": [
    "df['total_area'].hist(bins=100)"
   ]
  },
  {
   "cell_type": "markdown",
   "metadata": {},
   "source": [
    "Видно распределение значений с несколькими пиками. "
   ]
  },
  {
   "cell_type": "markdown",
   "metadata": {},
   "source": [
    "Изучу распределение цены квартир. Для удобства переведу цену квартир из рублей в миллионы рублей."
   ]
  },
  {
   "cell_type": "code",
   "execution_count": 56,
   "metadata": {},
   "outputs": [],
   "source": [
    "df['last_price'] = df['last_price'] / 1000000"
   ]
  },
  {
   "cell_type": "code",
   "execution_count": 57,
   "metadata": {},
   "outputs": [
    {
     "data": {
      "text/plain": [
       "<matplotlib.axes._subplots.AxesSubplot at 0x7f565483f790>"
      ]
     },
     "execution_count": 57,
     "metadata": {},
     "output_type": "execute_result"
    },
    {
     "data": {
      "image/png": "[encoded data removed]",
      "text/plain": [
       "<Figure size 1152x648 with 1 Axes>"
      ]
     },
     "metadata": {
      "needs_background": "light"
     },
     "output_type": "display_data"
    }
   ],
   "source": [
    "df['last_price'].plot(bins=100, kind='hist', figsize=(16,9))"
   ]
  },
  {
   "cell_type": "markdown",
   "metadata": {},
   "source": [
    "Виден хвост цены больше 50 млн.руб."
   ]
  },
  {
   "cell_type": "code",
   "execution_count": 58,
   "metadata": {},
   "outputs": [
    {
     "data": {
      "text/plain": [
       "49"
      ]
     },
     "execution_count": 58,
     "metadata": {},
     "output_type": "execute_result"
    }
   ],
   "source": [
    "df[df['last_price']>50]['last_price'].count()"
   ]
  },
  {
   "cell_type": "markdown",
   "metadata": {},
   "source": [
    "Таких наблюдений очень мало. Всего 49. Отрезаю их."
   ]
  },
  {
   "cell_type": "code",
   "execution_count": 59,
   "metadata": {},
   "outputs": [],
   "source": [
    "df=df.query('last_price<50')"
   ]
  },
  {
   "cell_type": "code",
   "execution_count": 60,
   "metadata": {},
   "outputs": [
    {
     "data": {
      "text/plain": [
       "count    23056.000000\n",
       "mean         5.902838\n",
       "std          4.592879\n",
       "min          0.012190\n",
       "25%          3.459736\n",
       "50%          4.650000\n",
       "75%          6.700000\n",
       "max         49.900000\n",
       "Name: last_price, dtype: float64"
      ]
     },
     "execution_count": 60,
     "metadata": {},
     "output_type": "execute_result"
    }
   ],
   "source": [
    "df['last_price'].describe()"
   ]
  },
  {
   "cell_type": "code",
   "execution_count": 61,
   "metadata": {},
   "outputs": [
    {
     "data": {
      "text/plain": [
       "<matplotlib.axes._subplots.AxesSubplot at 0x7f5654826ad0>"
      ]
     },
     "execution_count": 61,
     "metadata": {},
     "output_type": "execute_result"
    },
    {
     "data": {
      "image/png": "[encoded data removed]",
      "text/plain": [
       "<Figure size 432x288 with 1 Axes>"
      ]
     },
     "metadata": {
      "needs_background": "light"
     },
     "output_type": "display_data"
    }
   ],
   "source": [
    "df['last_price'].hist(bins=100, range=(0,50))"
   ]
  },
  {
   "cell_type": "markdown",
   "metadata": {},
   "source": [
    "В стоимости квартир наблюдаем нормальное распределение значений."
   ]
  },
  {
   "cell_type": "markdown",
   "metadata": {},
   "source": [
    "Далее изучу распределенние количества комнат."
   ]
  },
  {
   "cell_type": "code",
   "execution_count": 62,
   "metadata": {},
   "outputs": [
    {
     "data": {
      "text/plain": [
       "<matplotlib.axes._subplots.AxesSubplot at 0x7f5654503a90>"
      ]
     },
     "execution_count": 62,
     "metadata": {},
     "output_type": "execute_result"
    },
    {
     "data": {
      "image/png": "[encoded data removed]",
      "text/plain": [
       "<Figure size 648x1152 with 1 Axes>"
      ]
     },
     "metadata": {
      "needs_background": "light"
     },
     "output_type": "display_data"
    }
   ],
   "source": [
    "df['rooms'].hist(bins=100, figsize=(9,16))"
   ]
  },
  {
   "cell_type": "code",
   "execution_count": 63,
   "metadata": {},
   "outputs": [
    {
     "data": {
      "text/plain": [
       "2     7931\n",
       "1     7809\n",
       "3     5772\n",
       "4     1120\n",
       "5      260\n",
       "0       79\n",
       "6       61\n",
       "7       20\n",
       "11       2\n",
       "8        2\n",
       "Name: rooms, dtype: int64"
      ]
     },
     "execution_count": 63,
     "metadata": {},
     "output_type": "execute_result"
    }
   ],
   "source": [
    "df['rooms'].value_counts()"
   ]
  },
  {
   "cell_type": "markdown",
   "metadata": {},
   "source": [
    "Здесь видно, что основная масса квартир содержат до 3 комнат. 79 квартир без комнат непонятно. Надо рассмотреть. Но сначала удалю выбросы, где 8 и 11 комнат."
   ]
  },
  {
   "cell_type": "code",
   "execution_count": 64,
   "metadata": {},
   "outputs": [],
   "source": [
    "df=df.query('rooms<8')"
   ]
  },
  {
   "cell_type": "code",
   "execution_count": 65,
   "metadata": {},
   "outputs": [
    {
     "data": {
      "text/plain": [
       "25"
      ]
     },
     "execution_count": 65,
     "metadata": {},
     "output_type": "execute_result"
    }
   ],
   "source": [
    "df.query('(rooms==0) & (open_plan==True)')['rooms'].count()"
   ]
  },
  {
   "cell_type": "code",
   "execution_count": 66,
   "metadata": {},
   "outputs": [
    {
     "data": {
      "text/plain": [
       "54"
      ]
     },
     "execution_count": 66,
     "metadata": {},
     "output_type": "execute_result"
    }
   ],
   "source": [
    "df.query('(rooms==0) & (studio==True)')['rooms'].count()"
   ]
  },
  {
   "cell_type": "markdown",
   "metadata": {},
   "source": [
    "Установлено, что треть таких квартир это квартиры со свободной планировкой и две трети это квартиры-студии. Эти данные не будут использоваться в дльнейших расчетах, поэтому отрезаю их."
   ]
  },
  {
   "cell_type": "markdown",
   "metadata": {},
   "source": [
    "Напоследок изучу высоту потолков."
   ]
  },
  {
   "cell_type": "code",
   "execution_count": 67,
   "metadata": {},
   "outputs": [
    {
     "data": {
      "text/plain": [
       "<matplotlib.axes._subplots.AxesSubplot at 0x7f5654552310>"
      ]
     },
     "execution_count": 67,
     "metadata": {},
     "output_type": "execute_result"
    },
    {
     "data": {
      "image/png": "[encoded data removed]",
      "text/plain": [
       "<Figure size 1152x648 with 1 Axes>"
      ]
     },
     "metadata": {
      "needs_background": "light"
     },
     "output_type": "display_data"
    }
   ],
   "source": [
    "df['ceiling_height'].hist(figsize=(16,9))"
   ]
  },
  {
   "cell_type": "code",
   "execution_count": 68,
   "metadata": {},
   "outputs": [
    {
     "data": {
      "text/plain": [
       "count    23052.000000\n",
       "mean         2.714755\n",
       "std          0.749466\n",
       "min          1.000000\n",
       "25%          2.600000\n",
       "50%          2.650000\n",
       "75%          2.700000\n",
       "max         32.000000\n",
       "Name: ceiling_height, dtype: float64"
      ]
     },
     "execution_count": 68,
     "metadata": {},
     "output_type": "execute_result"
    }
   ],
   "source": [
    "df['ceiling_height'].describe()"
   ]
  },
  {
   "cell_type": "markdown",
   "metadata": {},
   "source": [
    "Видно, что самая встречающаяся высота потолков до 3 метров. Значения, свыше 8 метров отрезаю изза их малочисленности. Как раз туда попадет и выброс в 30 метров."
   ]
  },
  {
   "cell_type": "code",
   "execution_count": 69,
   "metadata": {},
   "outputs": [],
   "source": [
    "df=df.query('ceiling_height<8')"
   ]
  },
  {
   "cell_type": "code",
   "execution_count": 70,
   "metadata": {},
   "outputs": [
    {
     "data": {
      "text/plain": [
       "<matplotlib.axes._subplots.AxesSubplot at 0x7f5654312610>"
      ]
     },
     "execution_count": 70,
     "metadata": {},
     "output_type": "execute_result"
    },
    {
     "data": {
      "image/png": "[encoded data removed]",
      "text/plain": [
       "<Figure size 1152x648 with 1 Axes>"
      ]
     },
     "metadata": {
      "needs_background": "light"
     },
     "output_type": "display_data"
    }
   ],
   "source": [
    "df['ceiling_height'].hist(bins=100, figsize=(16,9), range=(1,3))"
   ]
  },
  {
   "cell_type": "markdown",
   "metadata": {},
   "source": [
    "Высота потолка меньше 2,5 метров маловероятно. Уберу такие значения вместе с выбросом в 1 метр."
   ]
  },
  {
   "cell_type": "code",
   "execution_count": 71,
   "metadata": {},
   "outputs": [],
   "source": [
    "df=df.query('ceiling_height>=2.5')"
   ]
  },
  {
   "cell_type": "code",
   "execution_count": 72,
   "metadata": {},
   "outputs": [
    {
     "data": {
      "text/plain": [
       "<matplotlib.axes._subplots.AxesSubplot at 0x7f5654133bd0>"
      ]
     },
     "execution_count": 72,
     "metadata": {},
     "output_type": "execute_result"
    },
    {
     "data": {
      "image/png": "[encoded data removed]",
      "text/plain": [
       "<Figure size 1152x648 with 1 Axes>"
      ]
     },
     "metadata": {
      "needs_background": "light"
     },
     "output_type": "display_data"
    }
   ],
   "source": [
    "df['ceiling_height'].hist(bins=50, figsize=(16,9))"
   ]
  },
  {
   "cell_type": "markdown",
   "metadata": {},
   "source": [
    "2. Изучите время продажи квартиры. Постройте гистограмму. Посчитайте среднее и медиану. Опишите, сколько обычно занимает продажа. Когда можно считать, что продажи прошли очень быстро, а когда необычно долго?"
   ]
  },
  {
   "cell_type": "code",
   "execution_count": 73,
   "metadata": {},
   "outputs": [
    {
     "data": {
      "text/plain": [
       "<matplotlib.axes._subplots.AxesSubplot at 0x7f5654030d10>"
      ]
     },
     "execution_count": 73,
     "metadata": {},
     "output_type": "execute_result"
    },
    {
     "data": {
      "image/png": "[encoded data removed]",
      "text/plain": [
       "<Figure size 1152x648 with 1 Axes>"
      ]
     },
     "metadata": {
      "needs_background": "light"
     },
     "output_type": "display_data"
    }
   ],
   "source": [
    "df['days_exposition'].hist(bins=100, range=(0,1200), figsize=(16,9))"
   ]
  },
  {
   "cell_type": "markdown",
   "metadata": {},
   "source": [
    "Виден большой пик значений. Каке то данные сильно выходят за нормальные границы."
   ]
  },
  {
   "cell_type": "code",
   "execution_count": 74,
   "metadata": {},
   "outputs": [
    {
     "data": {
      "text/plain": [
       "95.0      3138\n",
       "45.0       849\n",
       "60.0       533\n",
       "7.0        227\n",
       "30.0       204\n",
       "          ... \n",
       "996.0        1\n",
       "951.0        1\n",
       "693.0        1\n",
       "1255.0       1\n",
       "773.0        1\n",
       "Name: days_exposition, Length: 1132, dtype: int64"
      ]
     },
     "execution_count": 74,
     "metadata": {},
     "output_type": "execute_result"
    }
   ],
   "source": [
    "df['days_exposition'].value_counts()"
   ]
  },
  {
   "cell_type": "markdown",
   "metadata": {},
   "source": [
    "Этот пик приходится на 95 дней продажи. Изучу срез данных в этот день."
   ]
  },
  {
   "cell_type": "code",
   "execution_count": 75,
   "metadata": {},
   "outputs": [
    {
     "data": {
      "text/html": [
       "<div>\n",
       "<style scoped>\n",
       "    .dataframe tbody tr th:only-of-type {\n",
       "        vertical-align: middle;\n",
       "    }\n",
       "\n",
       "    .dataframe tbody tr th {\n",
       "        vertical-align: top;\n",
       "    }\n",
       "\n",
       "    .dataframe thead th {\n",
       "        text-align: right;\n",
       "    }\n",
       "</style>\n",
       "<table border=\"1\" class=\"dataframe\">\n",
       "  <thead>\n",
       "    <tr style=\"text-align: right;\">\n",
       "      <th></th>\n",
       "      <th>total_images</th>\n",
       "      <th>last_price</th>\n",
       "      <th>total_area</th>\n",
       "      <th>first_day_exposition</th>\n",
       "      <th>rooms</th>\n",
       "      <th>ceiling_height</th>\n",
       "      <th>floors_total</th>\n",
       "      <th>living_area</th>\n",
       "      <th>floor</th>\n",
       "      <th>is_apartment</th>\n",
       "      <th>...</th>\n",
       "      <th>ponds_nearest</th>\n",
       "      <th>days_exposition</th>\n",
       "      <th>locality_name_correct</th>\n",
       "      <th>cost_per_metr</th>\n",
       "      <th>first_day_exposition_day</th>\n",
       "      <th>first_day_exposition_month</th>\n",
       "      <th>first_day_exposition_year</th>\n",
       "      <th>floor_category</th>\n",
       "      <th>living_total_ratio</th>\n",
       "      <th>kitchen_total_ratio</th>\n",
       "    </tr>\n",
       "  </thead>\n",
       "  <tbody>\n",
       "    <tr>\n",
       "      <td>0</td>\n",
       "      <td>20</td>\n",
       "      <td>13.000</td>\n",
       "      <td>108.00</td>\n",
       "      <td>2019-03-07</td>\n",
       "      <td>3</td>\n",
       "      <td>2.70</td>\n",
       "      <td>16</td>\n",
       "      <td>51.0</td>\n",
       "      <td>8</td>\n",
       "      <td>False</td>\n",
       "      <td>...</td>\n",
       "      <td>755.0</td>\n",
       "      <td>95.0</td>\n",
       "      <td>Санкт-Петербург</td>\n",
       "      <td>120370.37</td>\n",
       "      <td>Thursday</td>\n",
       "      <td>March</td>\n",
       "      <td>2019</td>\n",
       "      <td>другой</td>\n",
       "      <td>0.47</td>\n",
       "      <td>0.23</td>\n",
       "    </tr>\n",
       "    <tr>\n",
       "      <td>7</td>\n",
       "      <td>5</td>\n",
       "      <td>7.915</td>\n",
       "      <td>71.60</td>\n",
       "      <td>2019-04-18</td>\n",
       "      <td>2</td>\n",
       "      <td>2.65</td>\n",
       "      <td>24</td>\n",
       "      <td>44.3</td>\n",
       "      <td>22</td>\n",
       "      <td>False</td>\n",
       "      <td>...</td>\n",
       "      <td>NaN</td>\n",
       "      <td>95.0</td>\n",
       "      <td>Санкт-Петербург</td>\n",
       "      <td>110544.69</td>\n",
       "      <td>Thursday</td>\n",
       "      <td>April</td>\n",
       "      <td>2019</td>\n",
       "      <td>другой</td>\n",
       "      <td>0.62</td>\n",
       "      <td>0.26</td>\n",
       "    </tr>\n",
       "    <tr>\n",
       "      <td>44</td>\n",
       "      <td>13</td>\n",
       "      <td>5.350</td>\n",
       "      <td>40.00</td>\n",
       "      <td>2018-11-18</td>\n",
       "      <td>1</td>\n",
       "      <td>2.65</td>\n",
       "      <td>22</td>\n",
       "      <td>18.0</td>\n",
       "      <td>3</td>\n",
       "      <td>False</td>\n",
       "      <td>...</td>\n",
       "      <td>1152.0</td>\n",
       "      <td>95.0</td>\n",
       "      <td>Санкт-Петербург</td>\n",
       "      <td>133750.00</td>\n",
       "      <td>Sunday</td>\n",
       "      <td>November</td>\n",
       "      <td>2018</td>\n",
       "      <td>другой</td>\n",
       "      <td>0.45</td>\n",
       "      <td>0.25</td>\n",
       "    </tr>\n",
       "    <tr>\n",
       "      <td>45</td>\n",
       "      <td>17</td>\n",
       "      <td>5.200</td>\n",
       "      <td>50.60</td>\n",
       "      <td>2018-12-02</td>\n",
       "      <td>2</td>\n",
       "      <td>2.65</td>\n",
       "      <td>9</td>\n",
       "      <td>30.3</td>\n",
       "      <td>7</td>\n",
       "      <td>False</td>\n",
       "      <td>...</td>\n",
       "      <td>NaN</td>\n",
       "      <td>95.0</td>\n",
       "      <td>Санкт-Петербург</td>\n",
       "      <td>102766.80</td>\n",
       "      <td>Sunday</td>\n",
       "      <td>December</td>\n",
       "      <td>2018</td>\n",
       "      <td>другой</td>\n",
       "      <td>0.60</td>\n",
       "      <td>0.14</td>\n",
       "    </tr>\n",
       "    <tr>\n",
       "      <td>46</td>\n",
       "      <td>17</td>\n",
       "      <td>6.600</td>\n",
       "      <td>52.10</td>\n",
       "      <td>2019-01-31</td>\n",
       "      <td>2</td>\n",
       "      <td>2.60</td>\n",
       "      <td>24</td>\n",
       "      <td>29.7</td>\n",
       "      <td>9</td>\n",
       "      <td>False</td>\n",
       "      <td>...</td>\n",
       "      <td>NaN</td>\n",
       "      <td>95.0</td>\n",
       "      <td>Санкт-Петербург</td>\n",
       "      <td>126679.46</td>\n",
       "      <td>Thursday</td>\n",
       "      <td>January</td>\n",
       "      <td>2019</td>\n",
       "      <td>другой</td>\n",
       "      <td>0.57</td>\n",
       "      <td>0.16</td>\n",
       "    </tr>\n",
       "    <tr>\n",
       "      <td>...</td>\n",
       "      <td>...</td>\n",
       "      <td>...</td>\n",
       "      <td>...</td>\n",
       "      <td>...</td>\n",
       "      <td>...</td>\n",
       "      <td>...</td>\n",
       "      <td>...</td>\n",
       "      <td>...</td>\n",
       "      <td>...</td>\n",
       "      <td>...</td>\n",
       "      <td>...</td>\n",
       "      <td>...</td>\n",
       "      <td>...</td>\n",
       "      <td>...</td>\n",
       "      <td>...</td>\n",
       "      <td>...</td>\n",
       "      <td>...</td>\n",
       "      <td>...</td>\n",
       "      <td>...</td>\n",
       "      <td>...</td>\n",
       "      <td>...</td>\n",
       "    </tr>\n",
       "    <tr>\n",
       "      <td>23684</td>\n",
       "      <td>20</td>\n",
       "      <td>21.400</td>\n",
       "      <td>145.00</td>\n",
       "      <td>2018-11-02</td>\n",
       "      <td>4</td>\n",
       "      <td>3.00</td>\n",
       "      <td>26</td>\n",
       "      <td>71.4</td>\n",
       "      <td>17</td>\n",
       "      <td>False</td>\n",
       "      <td>...</td>\n",
       "      <td>NaN</td>\n",
       "      <td>95.0</td>\n",
       "      <td>Санкт-Петербург</td>\n",
       "      <td>147586.21</td>\n",
       "      <td>Friday</td>\n",
       "      <td>November</td>\n",
       "      <td>2018</td>\n",
       "      <td>другой</td>\n",
       "      <td>0.49</td>\n",
       "      <td>0.11</td>\n",
       "    </tr>\n",
       "    <tr>\n",
       "      <td>23685</td>\n",
       "      <td>15</td>\n",
       "      <td>2.490</td>\n",
       "      <td>31.00</td>\n",
       "      <td>2019-01-24</td>\n",
       "      <td>1</td>\n",
       "      <td>2.50</td>\n",
       "      <td>5</td>\n",
       "      <td>17.3</td>\n",
       "      <td>5</td>\n",
       "      <td>False</td>\n",
       "      <td>...</td>\n",
       "      <td>NaN</td>\n",
       "      <td>95.0</td>\n",
       "      <td>Ломоносов</td>\n",
       "      <td>80322.58</td>\n",
       "      <td>Thursday</td>\n",
       "      <td>January</td>\n",
       "      <td>2019</td>\n",
       "      <td>последний</td>\n",
       "      <td>0.56</td>\n",
       "      <td>0.18</td>\n",
       "    </tr>\n",
       "    <tr>\n",
       "      <td>23694</td>\n",
       "      <td>9</td>\n",
       "      <td>9.700</td>\n",
       "      <td>133.81</td>\n",
       "      <td>2017-03-21</td>\n",
       "      <td>3</td>\n",
       "      <td>3.70</td>\n",
       "      <td>5</td>\n",
       "      <td>73.3</td>\n",
       "      <td>3</td>\n",
       "      <td>False</td>\n",
       "      <td>...</td>\n",
       "      <td>381.0</td>\n",
       "      <td>95.0</td>\n",
       "      <td>Санкт-Петербург</td>\n",
       "      <td>72490.85</td>\n",
       "      <td>Tuesday</td>\n",
       "      <td>March</td>\n",
       "      <td>2017</td>\n",
       "      <td>другой</td>\n",
       "      <td>0.55</td>\n",
       "      <td>0.10</td>\n",
       "    </tr>\n",
       "    <tr>\n",
       "      <td>23696</td>\n",
       "      <td>18</td>\n",
       "      <td>2.500</td>\n",
       "      <td>56.70</td>\n",
       "      <td>2018-02-11</td>\n",
       "      <td>2</td>\n",
       "      <td>2.65</td>\n",
       "      <td>3</td>\n",
       "      <td>29.7</td>\n",
       "      <td>1</td>\n",
       "      <td>False</td>\n",
       "      <td>...</td>\n",
       "      <td>NaN</td>\n",
       "      <td>95.0</td>\n",
       "      <td>Рождествено</td>\n",
       "      <td>44091.71</td>\n",
       "      <td>Sunday</td>\n",
       "      <td>February</td>\n",
       "      <td>2018</td>\n",
       "      <td>первый</td>\n",
       "      <td>0.52</td>\n",
       "      <td>0.15</td>\n",
       "    </tr>\n",
       "    <tr>\n",
       "      <td>23698</td>\n",
       "      <td>4</td>\n",
       "      <td>1.350</td>\n",
       "      <td>32.30</td>\n",
       "      <td>2017-07-21</td>\n",
       "      <td>1</td>\n",
       "      <td>2.50</td>\n",
       "      <td>5</td>\n",
       "      <td>12.3</td>\n",
       "      <td>1</td>\n",
       "      <td>False</td>\n",
       "      <td>...</td>\n",
       "      <td>NaN</td>\n",
       "      <td>95.0</td>\n",
       "      <td>Учхоз</td>\n",
       "      <td>41795.67</td>\n",
       "      <td>Friday</td>\n",
       "      <td>July</td>\n",
       "      <td>2017</td>\n",
       "      <td>первый</td>\n",
       "      <td>0.38</td>\n",
       "      <td>0.28</td>\n",
       "    </tr>\n",
       "  </tbody>\n",
       "</table>\n",
       "<p>3138 rows × 30 columns</p>\n",
       "</div>"
      ],
      "text/plain": [
       "       total_images  last_price  total_area first_day_exposition  rooms  \\\n",
       "0                20      13.000      108.00           2019-03-07      3   \n",
       "7                 5       7.915       71.60           2019-04-18      2   \n",
       "44               13       5.350       40.00           2018-11-18      1   \n",
       "45               17       5.200       50.60           2018-12-02      2   \n",
       "46               17       6.600       52.10           2019-01-31      2   \n",
       "...             ...         ...         ...                  ...    ...   \n",
       "23684            20      21.400      145.00           2018-11-02      4   \n",
       "23685            15       2.490       31.00           2019-01-24      1   \n",
       "23694             9       9.700      133.81           2017-03-21      3   \n",
       "23696            18       2.500       56.70           2018-02-11      2   \n",
       "23698             4       1.350       32.30           2017-07-21      1   \n",
       "\n",
       "       ceiling_height  floors_total  living_area  floor  is_apartment  ...  \\\n",
       "0                2.70            16         51.0      8         False  ...   \n",
       "7                2.65            24         44.3     22         False  ...   \n",
       "44               2.65            22         18.0      3         False  ...   \n",
       "45               2.65             9         30.3      7         False  ...   \n",
       "46               2.60            24         29.7      9         False  ...   \n",
       "...               ...           ...          ...    ...           ...  ...   \n",
       "23684            3.00            26         71.4     17         False  ...   \n",
       "23685            2.50             5         17.3      5         False  ...   \n",
       "23694            3.70             5         73.3      3         False  ...   \n",
       "23696            2.65             3         29.7      1         False  ...   \n",
       "23698            2.50             5         12.3      1         False  ...   \n",
       "\n",
       "       ponds_nearest  days_exposition  locality_name_correct  cost_per_metr  \\\n",
       "0              755.0             95.0        Санкт-Петербург      120370.37   \n",
       "7                NaN             95.0        Санкт-Петербург      110544.69   \n",
       "44            1152.0             95.0        Санкт-Петербург      133750.00   \n",
       "45               NaN             95.0        Санкт-Петербург      102766.80   \n",
       "46               NaN             95.0        Санкт-Петербург      126679.46   \n",
       "...              ...              ...                    ...            ...   \n",
       "23684            NaN             95.0        Санкт-Петербург      147586.21   \n",
       "23685            NaN             95.0              Ломоносов       80322.58   \n",
       "23694          381.0             95.0        Санкт-Петербург       72490.85   \n",
       "23696            NaN             95.0            Рождествено       44091.71   \n",
       "23698            NaN             95.0                  Учхоз       41795.67   \n",
       "\n",
       "      first_day_exposition_day  first_day_exposition_month  \\\n",
       "0                     Thursday                       March   \n",
       "7                     Thursday                       April   \n",
       "44                      Sunday                    November   \n",
       "45                      Sunday                    December   \n",
       "46                    Thursday                     January   \n",
       "...                        ...                         ...   \n",
       "23684                   Friday                    November   \n",
       "23685                 Thursday                     January   \n",
       "23694                  Tuesday                       March   \n",
       "23696                   Sunday                    February   \n",
       "23698                   Friday                        July   \n",
       "\n",
       "       first_day_exposition_year  floor_category  living_total_ratio  \\\n",
       "0                           2019          другой                0.47   \n",
       "7                           2019          другой                0.62   \n",
       "44                          2018          другой                0.45   \n",
       "45                          2018          другой                0.60   \n",
       "46                          2019          другой                0.57   \n",
       "...                          ...             ...                 ...   \n",
       "23684                       2018          другой                0.49   \n",
       "23685                       2019       последний                0.56   \n",
       "23694                       2017          другой                0.55   \n",
       "23696                       2018          первый                0.52   \n",
       "23698                       2017          первый                0.38   \n",
       "\n",
       "       kitchen_total_ratio  \n",
       "0                     0.23  \n",
       "7                     0.26  \n",
       "44                    0.25  \n",
       "45                    0.14  \n",
       "46                    0.16  \n",
       "...                    ...  \n",
       "23684                 0.11  \n",
       "23685                 0.18  \n",
       "23694                 0.10  \n",
       "23696                 0.15  \n",
       "23698                 0.28  \n",
       "\n",
       "[3138 rows x 30 columns]"
      ]
     },
     "execution_count": 75,
     "metadata": {},
     "output_type": "execute_result"
    }
   ],
   "source": [
    "df[df['days_exposition']==95]"
   ]
  },
  {
   "cell_type": "markdown",
   "metadata": {},
   "source": [
    "Не видно никаких зацепок. 95 дней соответствует медиане."
   ]
  },
  {
   "cell_type": "code",
   "execution_count": 76,
   "metadata": {},
   "outputs": [
    {
     "data": {
      "text/plain": [
       "count    22954.000000\n",
       "mean       169.043086\n",
       "std        205.900955\n",
       "min          1.000000\n",
       "25%         45.000000\n",
       "50%         95.000000\n",
       "75%        198.000000\n",
       "max       1580.000000\n",
       "Name: days_exposition, dtype: float64"
      ]
     },
     "execution_count": 76,
     "metadata": {},
     "output_type": "execute_result"
    }
   ],
   "source": [
    "df['days_exposition'].describe()"
   ]
  },
  {
   "cell_type": "markdown",
   "metadata": {},
   "source": [
    "Считаю, что меньше первого квартиля - это быстрые продажи. В межквартильный размах входят стандартные продажи. Значения выше третьего квартиля - долгие продажи."
   ]
  },
  {
   "cell_type": "markdown",
   "metadata": {},
   "source": [
    "3. Уберите редкие и выбивающиеся значения. Опишите, какие особенности обнаружили"
   ]
  },
  {
   "cell_type": "markdown",
   "metadata": {},
   "source": [
    "<li>total_area - площадь квартиры. Я убрал редкие значение больше 200 и меньше 27 кв.м. Удалил выброс в 900 кв.м.\n",
    "<li>last_price - продажная цена. Я убрал редкие значения цены больше 50 млн. руб.\n",
    "<li>rooms - число комнат. Я удалил выбросы в 8 и 11 комнат. Потом убрал редкие значения с нулевым количеством комнат.\n",
    "<li>ceiling_height - высота потолка. Я убрал выбросы в 1 и 32 метра и оставил данные с высотой в пределах 2,5-8 метров."
   ]
  },
  {
   "cell_type": "markdown",
   "metadata": {},
   "source": [
    "После предобработки и исследования входных данных я убрал 3% мусорных значений."
   ]
  },
  {
   "cell_type": "markdown",
   "metadata": {},
   "source": [
    "4. Какие факторы больше всего влияют на стоимость квартиры? Изучите, зависит ли цена от площади, числа комнат, удалённости от центра. Изучите зависимость цены от того, на каком этаже расположена квартира: первом, последнем или другом. Также изучите зависимость от даты размещения: дня недели, месяца и года."
   ]
  },
  {
   "cell_type": "markdown",
   "metadata": {},
   "source": [
    "Изучите, зависит ли цена от площади, числа комнат, удалённости от центра. Для этого выясним корреляцию данных между собой."
   ]
  },
  {
   "cell_type": "code",
   "execution_count": 77,
   "metadata": {},
   "outputs": [],
   "source": [
    "newdf = pd.DataFrame(df, columns=['last_price', 'total_area', 'rooms', 'cityCenters_nearest'])"
   ]
  },
  {
   "cell_type": "code",
   "execution_count": 78,
   "metadata": {},
   "outputs": [
    {
     "data": {
      "text/html": [
       "<div>\n",
       "<style scoped>\n",
       "    .dataframe tbody tr th:only-of-type {\n",
       "        vertical-align: middle;\n",
       "    }\n",
       "\n",
       "    .dataframe tbody tr th {\n",
       "        vertical-align: top;\n",
       "    }\n",
       "\n",
       "    .dataframe thead th {\n",
       "        text-align: right;\n",
       "    }\n",
       "</style>\n",
       "<table border=\"1\" class=\"dataframe\">\n",
       "  <thead>\n",
       "    <tr style=\"text-align: right;\">\n",
       "      <th></th>\n",
       "      <th>last_price</th>\n",
       "      <th>total_area</th>\n",
       "      <th>rooms</th>\n",
       "      <th>cityCenters_nearest</th>\n",
       "    </tr>\n",
       "  </thead>\n",
       "  <tbody>\n",
       "    <tr>\n",
       "      <td>last_price</td>\n",
       "      <td>1.000000</td>\n",
       "      <td>0.766233</td>\n",
       "      <td>0.464393</td>\n",
       "      <td>-0.339806</td>\n",
       "    </tr>\n",
       "    <tr>\n",
       "      <td>total_area</td>\n",
       "      <td>0.766233</td>\n",
       "      <td>1.000000</td>\n",
       "      <td>0.785539</td>\n",
       "      <td>-0.239700</td>\n",
       "    </tr>\n",
       "    <tr>\n",
       "      <td>rooms</td>\n",
       "      <td>0.464393</td>\n",
       "      <td>0.785539</td>\n",
       "      <td>1.000000</td>\n",
       "      <td>-0.166468</td>\n",
       "    </tr>\n",
       "    <tr>\n",
       "      <td>cityCenters_nearest</td>\n",
       "      <td>-0.339806</td>\n",
       "      <td>-0.239700</td>\n",
       "      <td>-0.166468</td>\n",
       "      <td>1.000000</td>\n",
       "    </tr>\n",
       "  </tbody>\n",
       "</table>\n",
       "</div>"
      ],
      "text/plain": [
       "                     last_price  total_area     rooms  cityCenters_nearest\n",
       "last_price             1.000000    0.766233  0.464393            -0.339806\n",
       "total_area             0.766233    1.000000  0.785539            -0.239700\n",
       "rooms                  0.464393    0.785539  1.000000            -0.166468\n",
       "cityCenters_nearest   -0.339806   -0.239700 -0.166468             1.000000"
      ]
     },
     "execution_count": 78,
     "metadata": {},
     "output_type": "execute_result"
    }
   ],
   "source": [
    "newdf.corr()"
   ]
  },
  {
   "cell_type": "markdown",
   "metadata": {},
   "source": [
    "Видна корреляция выше среднего у следующих пар значений: площадь - количество комнат и цена-площадь. Эти корреляции вполне естественны. Чем больше комнат, тем больше площадь квартиры, а чем больше площадь тем квартира дороже. Поэтому цена сильно зависит от количества комнат и площади. И слабо зависит от расстояния до центра города."
   ]
  },
  {
   "cell_type": "markdown",
   "metadata": {},
   "source": [
    "Изучите зависимость цены от того, на каком этаже расположена квартира: первом, последнем или другом. Сделаю сводную таблицу."
   ]
  },
  {
   "cell_type": "code",
   "execution_count": 79,
   "metadata": {},
   "outputs": [
    {
     "data": {
      "text/html": [
       "<div>\n",
       "<style scoped>\n",
       "    .dataframe tbody tr th:only-of-type {\n",
       "        vertical-align: middle;\n",
       "    }\n",
       "\n",
       "    .dataframe tbody tr th {\n",
       "        vertical-align: top;\n",
       "    }\n",
       "\n",
       "    .dataframe thead th {\n",
       "        text-align: right;\n",
       "    }\n",
       "</style>\n",
       "<table border=\"1\" class=\"dataframe\">\n",
       "  <thead>\n",
       "    <tr style=\"text-align: right;\">\n",
       "      <th></th>\n",
       "      <th>last_price</th>\n",
       "    </tr>\n",
       "    <tr>\n",
       "      <th>floor_category</th>\n",
       "      <th></th>\n",
       "    </tr>\n",
       "  </thead>\n",
       "  <tbody>\n",
       "    <tr>\n",
       "      <td>первый</td>\n",
       "      <td>3.90</td>\n",
       "    </tr>\n",
       "    <tr>\n",
       "      <td>последний</td>\n",
       "      <td>4.30</td>\n",
       "    </tr>\n",
       "    <tr>\n",
       "      <td>другой</td>\n",
       "      <td>4.85</td>\n",
       "    </tr>\n",
       "  </tbody>\n",
       "</table>\n",
       "</div>"
      ],
      "text/plain": [
       "                last_price\n",
       "floor_category            \n",
       "первый                3.90\n",
       "последний             4.30\n",
       "другой                4.85"
      ]
     },
     "execution_count": 79,
     "metadata": {},
     "output_type": "execute_result"
    }
   ],
   "source": [
    "df1 = df.pivot_table(index='floor_category', values='last_price', aggfunc='median')\n",
    "df1.sort_values(by='last_price')\n"
   ]
  },
  {
   "cell_type": "code",
   "execution_count": 80,
   "metadata": {},
   "outputs": [
    {
     "data": {
      "text/plain": [
       "<matplotlib.axes._subplots.AxesSubplot at 0x7f565405e2d0>"
      ]
     },
     "execution_count": 80,
     "metadata": {},
     "output_type": "execute_result"
    },
    {
     "data": {
      "image/png": "[encoded data removed]",
      "text/plain": [
       "<Figure size 432x288 with 1 Axes>"
      ]
     },
     "metadata": {
      "needs_background": "light"
     },
     "output_type": "display_data"
    }
   ],
   "source": [
    "df1.sort_values(by='last_price').plot()"
   ]
  },
  {
   "cell_type": "markdown",
   "metadata": {},
   "source": [
    "Видно, что цена зависима от этажа квартиры. Цены в целом ниже для квартир на первом и последнем этажах. Остальные этажи наиболее дорогие."
   ]
  },
  {
   "cell_type": "markdown",
   "metadata": {},
   "source": [
    "Также изучите зависимость от даты размещения: дня недели, месяца и года. Сделаю сводные таблицы."
   ]
  },
  {
   "cell_type": "code",
   "execution_count": 81,
   "metadata": {},
   "outputs": [],
   "source": [
    "df2 = df.pivot_table(index='first_day_exposition_day', values='last_price', aggfunc='median')\n",
    "df3 = df.pivot_table(index='first_day_exposition_month', values='last_price', aggfunc='median')\n",
    "df4 = df.pivot_table(index='first_day_exposition_year', values='last_price', aggfunc='median')"
   ]
  },
  {
   "cell_type": "code",
   "execution_count": 82,
   "metadata": {},
   "outputs": [
    {
     "data": {
      "text/html": [
       "<div>\n",
       "<style scoped>\n",
       "    .dataframe tbody tr th:only-of-type {\n",
       "        vertical-align: middle;\n",
       "    }\n",
       "\n",
       "    .dataframe tbody tr th {\n",
       "        vertical-align: top;\n",
       "    }\n",
       "\n",
       "    .dataframe thead th {\n",
       "        text-align: right;\n",
       "    }\n",
       "</style>\n",
       "<table border=\"1\" class=\"dataframe\">\n",
       "  <thead>\n",
       "    <tr style=\"text-align: right;\">\n",
       "      <th></th>\n",
       "      <th>last_price</th>\n",
       "    </tr>\n",
       "    <tr>\n",
       "      <th>first_day_exposition_day</th>\n",
       "      <th></th>\n",
       "    </tr>\n",
       "  </thead>\n",
       "  <tbody>\n",
       "    <tr>\n",
       "      <td>Saturday</td>\n",
       "      <td>4.5500</td>\n",
       "    </tr>\n",
       "    <tr>\n",
       "      <td>Sunday</td>\n",
       "      <td>4.5525</td>\n",
       "    </tr>\n",
       "    <tr>\n",
       "      <td>Friday</td>\n",
       "      <td>4.6000</td>\n",
       "    </tr>\n",
       "    <tr>\n",
       "      <td>Monday</td>\n",
       "      <td>4.6500</td>\n",
       "    </tr>\n",
       "    <tr>\n",
       "      <td>Thursday</td>\n",
       "      <td>4.6500</td>\n",
       "    </tr>\n",
       "    <tr>\n",
       "      <td>Wednesday</td>\n",
       "      <td>4.7000</td>\n",
       "    </tr>\n",
       "    <tr>\n",
       "      <td>Tuesday</td>\n",
       "      <td>4.7500</td>\n",
       "    </tr>\n",
       "  </tbody>\n",
       "</table>\n",
       "</div>"
      ],
      "text/plain": [
       "                          last_price\n",
       "first_day_exposition_day            \n",
       "Saturday                      4.5500\n",
       "Sunday                        4.5525\n",
       "Friday                        4.6000\n",
       "Monday                        4.6500\n",
       "Thursday                      4.6500\n",
       "Wednesday                     4.7000\n",
       "Tuesday                       4.7500"
      ]
     },
     "execution_count": 82,
     "metadata": {},
     "output_type": "execute_result"
    }
   ],
   "source": [
    "df2.sort_values(by='last_price')"
   ]
  },
  {
   "cell_type": "code",
   "execution_count": 83,
   "metadata": {},
   "outputs": [
    {
     "data": {
      "text/plain": [
       "<matplotlib.axes._subplots.AxesSubplot at 0x7f565471c690>"
      ]
     },
     "execution_count": 83,
     "metadata": {},
     "output_type": "execute_result"
    },
    {
     "data": {
      "image/png": "[encoded data removed]",
      "text/plain": [
       "<Figure size 432x288 with 1 Axes>"
      ]
     },
     "metadata": {
      "needs_background": "light"
     },
     "output_type": "display_data"
    }
   ],
   "source": [
    "df2.sort_values(by='last_price').plot()"
   ]
  },
  {
   "cell_type": "markdown",
   "metadata": {},
   "source": [
    "В целом видно, что цена начинает повышаться с начала недели. На выходных цена самая низкая."
   ]
  },
  {
   "cell_type": "code",
   "execution_count": 84,
   "metadata": {},
   "outputs": [
    {
     "data": {
      "text/html": [
       "<div>\n",
       "<style scoped>\n",
       "    .dataframe tbody tr th:only-of-type {\n",
       "        vertical-align: middle;\n",
       "    }\n",
       "\n",
       "    .dataframe tbody tr th {\n",
       "        vertical-align: top;\n",
       "    }\n",
       "\n",
       "    .dataframe thead th {\n",
       "        text-align: right;\n",
       "    }\n",
       "</style>\n",
       "<table border=\"1\" class=\"dataframe\">\n",
       "  <thead>\n",
       "    <tr style=\"text-align: right;\">\n",
       "      <th></th>\n",
       "      <th>last_price</th>\n",
       "    </tr>\n",
       "    <tr>\n",
       "      <th>first_day_exposition_month</th>\n",
       "      <th></th>\n",
       "    </tr>\n",
       "  </thead>\n",
       "  <tbody>\n",
       "    <tr>\n",
       "      <td>June</td>\n",
       "      <td>4.400</td>\n",
       "    </tr>\n",
       "    <tr>\n",
       "      <td>May</td>\n",
       "      <td>4.550</td>\n",
       "    </tr>\n",
       "    <tr>\n",
       "      <td>October</td>\n",
       "      <td>4.590</td>\n",
       "    </tr>\n",
       "    <tr>\n",
       "      <td>August</td>\n",
       "      <td>4.600</td>\n",
       "    </tr>\n",
       "    <tr>\n",
       "      <td>January</td>\n",
       "      <td>4.600</td>\n",
       "    </tr>\n",
       "    <tr>\n",
       "      <td>February</td>\n",
       "      <td>4.650</td>\n",
       "    </tr>\n",
       "    <tr>\n",
       "      <td>July</td>\n",
       "      <td>4.675</td>\n",
       "    </tr>\n",
       "    <tr>\n",
       "      <td>December</td>\n",
       "      <td>4.700</td>\n",
       "    </tr>\n",
       "    <tr>\n",
       "      <td>March</td>\n",
       "      <td>4.700</td>\n",
       "    </tr>\n",
       "    <tr>\n",
       "      <td>November</td>\n",
       "      <td>4.700</td>\n",
       "    </tr>\n",
       "    <tr>\n",
       "      <td>September</td>\n",
       "      <td>4.700</td>\n",
       "    </tr>\n",
       "    <tr>\n",
       "      <td>April</td>\n",
       "      <td>4.800</td>\n",
       "    </tr>\n",
       "  </tbody>\n",
       "</table>\n",
       "</div>"
      ],
      "text/plain": [
       "                            last_price\n",
       "first_day_exposition_month            \n",
       "June                             4.400\n",
       "May                              4.550\n",
       "October                          4.590\n",
       "August                           4.600\n",
       "January                          4.600\n",
       "February                         4.650\n",
       "July                             4.675\n",
       "December                         4.700\n",
       "March                            4.700\n",
       "November                         4.700\n",
       "September                        4.700\n",
       "April                            4.800"
      ]
     },
     "execution_count": 84,
     "metadata": {},
     "output_type": "execute_result"
    }
   ],
   "source": [
    "df3.sort_values(by='last_price')"
   ]
  },
  {
   "cell_type": "markdown",
   "metadata": {},
   "source": [
    "В целом к концу года цена выше."
   ]
  },
  {
   "cell_type": "code",
   "execution_count": 85,
   "metadata": {},
   "outputs": [
    {
     "data": {
      "text/html": [
       "<div>\n",
       "<style scoped>\n",
       "    .dataframe tbody tr th:only-of-type {\n",
       "        vertical-align: middle;\n",
       "    }\n",
       "\n",
       "    .dataframe tbody tr th {\n",
       "        vertical-align: top;\n",
       "    }\n",
       "\n",
       "    .dataframe thead th {\n",
       "        text-align: right;\n",
       "    }\n",
       "</style>\n",
       "<table border=\"1\" class=\"dataframe\">\n",
       "  <thead>\n",
       "    <tr style=\"text-align: right;\">\n",
       "      <th></th>\n",
       "      <th>last_price</th>\n",
       "    </tr>\n",
       "    <tr>\n",
       "      <th>first_day_exposition_year</th>\n",
       "      <th></th>\n",
       "    </tr>\n",
       "  </thead>\n",
       "  <tbody>\n",
       "    <tr>\n",
       "      <td>2017</td>\n",
       "      <td>4.500</td>\n",
       "    </tr>\n",
       "    <tr>\n",
       "      <td>2016</td>\n",
       "      <td>4.550</td>\n",
       "    </tr>\n",
       "    <tr>\n",
       "      <td>2018</td>\n",
       "      <td>4.600</td>\n",
       "    </tr>\n",
       "    <tr>\n",
       "      <td>2019</td>\n",
       "      <td>5.065</td>\n",
       "    </tr>\n",
       "    <tr>\n",
       "      <td>2015</td>\n",
       "      <td>5.250</td>\n",
       "    </tr>\n",
       "    <tr>\n",
       "      <td>2014</td>\n",
       "      <td>7.500</td>\n",
       "    </tr>\n",
       "  </tbody>\n",
       "</table>\n",
       "</div>"
      ],
      "text/plain": [
       "                           last_price\n",
       "first_day_exposition_year            \n",
       "2017                            4.500\n",
       "2016                            4.550\n",
       "2018                            4.600\n",
       "2019                            5.065\n",
       "2015                            5.250\n",
       "2014                            7.500"
      ]
     },
     "execution_count": 85,
     "metadata": {},
     "output_type": "execute_result"
    }
   ],
   "source": [
    "df4.sort_values(by='last_price')"
   ]
  },
  {
   "cell_type": "code",
   "execution_count": 86,
   "metadata": {},
   "outputs": [
    {
     "data": {
      "text/plain": [
       "<matplotlib.axes._subplots.AxesSubplot at 0x7f5653d99c50>"
      ]
     },
     "execution_count": 86,
     "metadata": {},
     "output_type": "execute_result"
    },
    {
     "data": {
      "image/png": "[encoded data removed]",
      "text/plain": [
       "<Figure size 432x288 with 1 Axes>"
      ]
     },
     "metadata": {
      "needs_background": "light"
     },
     "output_type": "display_data"
    }
   ],
   "source": [
    "df4.plot()"
   ]
  },
  {
   "cell_type": "markdown",
   "metadata": {},
   "source": [
    "Начиная с 2014 года цена падает до 2017 года и после начинается подъем."
   ]
  },
  {
   "cell_type": "markdown",
   "metadata": {},
   "source": [
    "5. Выберите 10 населённых пунктов с наибольшим числом объявлений. Посчитайте среднюю цену квадратного метра в этих населённых пунктах. Выделите среди них населённые пункты с самой высокой и низкой стоимостью жилья."
   ]
  },
  {
   "cell_type": "code",
   "execution_count": 87,
   "metadata": {},
   "outputs": [
    {
     "data": {
      "text/html": [
       "<div>\n",
       "<style scoped>\n",
       "    .dataframe tbody tr th:only-of-type {\n",
       "        vertical-align: middle;\n",
       "    }\n",
       "\n",
       "    .dataframe tbody tr th {\n",
       "        vertical-align: top;\n",
       "    }\n",
       "\n",
       "    .dataframe thead th {\n",
       "        text-align: right;\n",
       "    }\n",
       "</style>\n",
       "<table border=\"1\" class=\"dataframe\">\n",
       "  <thead>\n",
       "    <tr style=\"text-align: right;\">\n",
       "      <th></th>\n",
       "      <th>cost_per_metr</th>\n",
       "    </tr>\n",
       "    <tr>\n",
       "      <th>locality_name_correct</th>\n",
       "      <th></th>\n",
       "    </tr>\n",
       "  </thead>\n",
       "  <tbody>\n",
       "    <tr>\n",
       "      <td>Зеленогорск</td>\n",
       "      <td>115122.799583</td>\n",
       "    </tr>\n",
       "    <tr>\n",
       "      <td>Санкт-Петербург</td>\n",
       "      <td>111952.856527</td>\n",
       "    </tr>\n",
       "    <tr>\n",
       "      <td>Репино</td>\n",
       "      <td>104238.612500</td>\n",
       "    </tr>\n",
       "    <tr>\n",
       "      <td>Пушкин</td>\n",
       "      <td>103099.210444</td>\n",
       "    </tr>\n",
       "    <tr>\n",
       "      <td>Сестрорецк</td>\n",
       "      <td>101912.339286</td>\n",
       "    </tr>\n",
       "    <tr>\n",
       "      <td>Нос</td>\n",
       "      <td>100660.816667</td>\n",
       "    </tr>\n",
       "    <tr>\n",
       "      <td>Мистолово</td>\n",
       "      <td>98549.977273</td>\n",
       "    </tr>\n",
       "    <tr>\n",
       "      <td>Левашово</td>\n",
       "      <td>96997.690000</td>\n",
       "    </tr>\n",
       "    <tr>\n",
       "      <td>Кудрово</td>\n",
       "      <td>94569.055324</td>\n",
       "    </tr>\n",
       "    <tr>\n",
       "      <td>неизвестно</td>\n",
       "      <td>94309.995102</td>\n",
       "    </tr>\n",
       "  </tbody>\n",
       "</table>\n",
       "</div>"
      ],
      "text/plain": [
       "                       cost_per_metr\n",
       "locality_name_correct               \n",
       "Зеленогорск            115122.799583\n",
       "Санкт-Петербург        111952.856527\n",
       "Репино                 104238.612500\n",
       "Пушкин                 103099.210444\n",
       "Сестрорецк             101912.339286\n",
       "Нос                    100660.816667\n",
       "Мистолово               98549.977273\n",
       "Левашово                96997.690000\n",
       "Кудрово                 94569.055324\n",
       "неизвестно              94309.995102"
      ]
     },
     "execution_count": 87,
     "metadata": {},
     "output_type": "execute_result"
    }
   ],
   "source": [
    "df_locality = df.groupby('locality_name_correct').agg({'cost_per_metr':'mean'}).sort_values(by='cost_per_metr', ascending=False).head(10)\n",
    "df_locality"
   ]
  },
  {
   "cell_type": "markdown",
   "metadata": {},
   "source": [
    "В этом ТОР-10 видно, что самые дорогие квартиры находятся в Зеленогорске, а дешевые в Кудрово."
   ]
  },
  {
   "cell_type": "markdown",
   "metadata": {},
   "source": [
    "6. Изучите предложения квартир: для каждой квартиры есть информация о расстоянии до центра. Выделите квартиры в Санкт-Петербурге ('locality_name'). Ваша задача — выяснить, какая область входит в центр. Создайте столбец с расстоянием до центра в километрах: округлите до целых значений. После этого посчитайте среднюю цену для каждого километра. Постройте график: он должен показывать, как цена зависит от удалённости от центра. Определите границу, где график сильно меняется — это и будет центральная зона."
   ]
  },
  {
   "cell_type": "markdown",
   "metadata": {},
   "source": [
    "Делаю срез данных для наблюдений в Санкт-Петербурге."
   ]
  },
  {
   "cell_type": "code",
   "execution_count": 88,
   "metadata": {},
   "outputs": [],
   "source": [
    "df_area_in_SP = df.query('locality_name_correct == \"Санкт-Петербург\"')"
   ]
  },
  {
   "cell_type": "code",
   "execution_count": 89,
   "metadata": {},
   "outputs": [],
   "source": [
    "df_area_in_SP = pd.DataFrame(df_area_in_SP, columns=['last_price', 'cityCenters_nearest']) "
   ]
  },
  {
   "cell_type": "markdown",
   "metadata": {},
   "source": [
    "Перевожу расстояние до центра в километры."
   ]
  },
  {
   "cell_type": "code",
   "execution_count": 90,
   "metadata": {},
   "outputs": [],
   "source": [
    "df_area_in_SP['cityCenters_nearest'] = df_area_in_SP['cityCenters_nearest'] / 1000"
   ]
  },
  {
   "cell_type": "markdown",
   "metadata": {},
   "source": [
    "Сделаю сводную таблицу для зависимости цена-расстояние от центра."
   ]
  },
  {
   "cell_type": "code",
   "execution_count": 91,
   "metadata": {},
   "outputs": [],
   "source": [
    "df_area_in_SP = df_area_in_SP.groupby('cityCenters_nearest', as_index=False).agg({'last_price':'median'})"
   ]
  },
  {
   "cell_type": "code",
   "execution_count": 92,
   "metadata": {},
   "outputs": [
    {
     "data": {
      "text/html": [
       "<div>\n",
       "<style scoped>\n",
       "    .dataframe tbody tr th:only-of-type {\n",
       "        vertical-align: middle;\n",
       "    }\n",
       "\n",
       "    .dataframe tbody tr th {\n",
       "        vertical-align: top;\n",
       "    }\n",
       "\n",
       "    .dataframe thead th {\n",
       "        text-align: right;\n",
       "    }\n",
       "</style>\n",
       "<table border=\"1\" class=\"dataframe\">\n",
       "  <thead>\n",
       "    <tr style=\"text-align: right;\">\n",
       "      <th></th>\n",
       "      <th>cityCenters_nearest</th>\n",
       "      <th>last_price</th>\n",
       "    </tr>\n",
       "  </thead>\n",
       "  <tbody>\n",
       "    <tr>\n",
       "      <td>0</td>\n",
       "      <td>0.181</td>\n",
       "      <td>31.099</td>\n",
       "    </tr>\n",
       "    <tr>\n",
       "      <td>1</td>\n",
       "      <td>0.208</td>\n",
       "      <td>5.800</td>\n",
       "    </tr>\n",
       "    <tr>\n",
       "      <td>2</td>\n",
       "      <td>0.215</td>\n",
       "      <td>10.990</td>\n",
       "    </tr>\n",
       "    <tr>\n",
       "      <td>3</td>\n",
       "      <td>0.287</td>\n",
       "      <td>9.590</td>\n",
       "    </tr>\n",
       "    <tr>\n",
       "      <td>4</td>\n",
       "      <td>0.291</td>\n",
       "      <td>11.500</td>\n",
       "    </tr>\n",
       "    <tr>\n",
       "      <td>...</td>\n",
       "      <td>...</td>\n",
       "      <td>...</td>\n",
       "    </tr>\n",
       "    <tr>\n",
       "      <td>6148</td>\n",
       "      <td>28.644</td>\n",
       "      <td>4.775</td>\n",
       "    </tr>\n",
       "    <tr>\n",
       "      <td>6149</td>\n",
       "      <td>28.806</td>\n",
       "      <td>4.370</td>\n",
       "    </tr>\n",
       "    <tr>\n",
       "      <td>6150</td>\n",
       "      <td>29.263</td>\n",
       "      <td>4.850</td>\n",
       "    </tr>\n",
       "    <tr>\n",
       "      <td>6151</td>\n",
       "      <td>29.343</td>\n",
       "      <td>4.200</td>\n",
       "    </tr>\n",
       "    <tr>\n",
       "      <td>6152</td>\n",
       "      <td>29.493</td>\n",
       "      <td>2.450</td>\n",
       "    </tr>\n",
       "  </tbody>\n",
       "</table>\n",
       "<p>6153 rows × 2 columns</p>\n",
       "</div>"
      ],
      "text/plain": [
       "      cityCenters_nearest  last_price\n",
       "0                   0.181      31.099\n",
       "1                   0.208       5.800\n",
       "2                   0.215      10.990\n",
       "3                   0.287       9.590\n",
       "4                   0.291      11.500\n",
       "...                   ...         ...\n",
       "6148               28.644       4.775\n",
       "6149               28.806       4.370\n",
       "6150               29.263       4.850\n",
       "6151               29.343       4.200\n",
       "6152               29.493       2.450\n",
       "\n",
       "[6153 rows x 2 columns]"
      ]
     },
     "execution_count": 92,
     "metadata": {},
     "output_type": "execute_result"
    }
   ],
   "source": [
    "df_area_in_SP"
   ]
  },
  {
   "cell_type": "code",
   "execution_count": 93,
   "metadata": {},
   "outputs": [
    {
     "data": {
      "text/plain": [
       "<matplotlib.axes._subplots.AxesSubplot at 0x7f5653d1c050>"
      ]
     },
     "execution_count": 93,
     "metadata": {},
     "output_type": "execute_result"
    },
    {
     "data": {
      "image/png": "[encoded data removed]",
      "text/plain": [
       "<Figure size 1152x648 with 1 Axes>"
      ]
     },
     "metadata": {
      "needs_background": "light"
     },
     "output_type": "display_data"
    }
   ],
   "source": [
    "df_area_in_SP.plot(x='cityCenters_nearest', y='last_price', title='Изменение стоимости квартиры при удалении от центра', grid=True, figsize=(16,9))"
   ]
  },
  {
   "cell_type": "markdown",
   "metadata": {},
   "source": [
    "После 10 км начинается снижение цены, поэтому обозначим границу центральной зоны в 10 км.\n",
    "В целом видно, что цена снижается по мере удаленности от центра."
   ]
  },
  {
   "cell_type": "code",
   "execution_count": 94,
   "metadata": {},
   "outputs": [
    {
     "data": {
      "text/html": [
       "<div>\n",
       "<style scoped>\n",
       "    .dataframe tbody tr th:only-of-type {\n",
       "        vertical-align: middle;\n",
       "    }\n",
       "\n",
       "    .dataframe tbody tr th {\n",
       "        vertical-align: top;\n",
       "    }\n",
       "\n",
       "    .dataframe thead th {\n",
       "        text-align: right;\n",
       "    }\n",
       "</style>\n",
       "<table border=\"1\" class=\"dataframe\">\n",
       "  <thead>\n",
       "    <tr style=\"text-align: right;\">\n",
       "      <th></th>\n",
       "      <th>cityCenters_nearest</th>\n",
       "      <th>last_price</th>\n",
       "    </tr>\n",
       "  </thead>\n",
       "  <tbody>\n",
       "    <tr>\n",
       "      <td>cityCenters_nearest</td>\n",
       "      <td>1.000000</td>\n",
       "      <td>-0.461401</td>\n",
       "    </tr>\n",
       "    <tr>\n",
       "      <td>last_price</td>\n",
       "      <td>-0.461401</td>\n",
       "      <td>1.000000</td>\n",
       "    </tr>\n",
       "  </tbody>\n",
       "</table>\n",
       "</div>"
      ],
      "text/plain": [
       "                     cityCenters_nearest  last_price\n",
       "cityCenters_nearest             1.000000   -0.461401\n",
       "last_price                     -0.461401    1.000000"
      ]
     },
     "execution_count": 94,
     "metadata": {},
     "output_type": "execute_result"
    }
   ],
   "source": [
    "df_area_in_SP.corr()"
   ]
  },
  {
   "cell_type": "markdown",
   "metadata": {},
   "source": [
    "Видно, что корреляция средняя."
   ]
  },
  {
   "cell_type": "markdown",
   "metadata": {},
   "source": [
    "7. Выделите сегмент квартир в центре. Проанализируйте эту территорию и изучите следующие параметры: площадь, цена, число комнат, высота потолков. Также выделите факторы, которые влияют на стоимость квартиры (число комнат, этаж, удалённость от центра, дата размещения объявления). Сделайте выводы. Отличаются ли они от общих выводов по всему городу?"
   ]
  },
  {
   "cell_type": "markdown",
   "metadata": {},
   "source": [
    "Сделаю срез данных с заданныи параметрами."
   ]
  },
  {
   "cell_type": "code",
   "execution_count": 95,
   "metadata": {},
   "outputs": [],
   "source": [
    "df_centr_area = pd.DataFrame(df.query('locality_name_correct == \"Санкт-Петербург\"'), columns = ['total_area', 'last_price', 'rooms', 'ceiling_height', 'cityCenters_nearest',  'first_day_exposition_day','first_day_exposition_month', 'first_day_exposition_year'])"
   ]
  },
  {
   "cell_type": "code",
   "execution_count": 96,
   "metadata": {},
   "outputs": [],
   "source": [
    "df_centr_area['cityCenters_nearest'] = df_centr_area['cityCenters_nearest'] / 1000"
   ]
  },
  {
   "cell_type": "code",
   "execution_count": 97,
   "metadata": {},
   "outputs": [],
   "source": [
    "df_centr_area = df_centr_area.query('cityCenters_nearest<=10')"
   ]
  },
  {
   "cell_type": "code",
   "execution_count": 98,
   "metadata": {},
   "outputs": [
    {
     "data": {
      "text/html": [
       "<div>\n",
       "<style scoped>\n",
       "    .dataframe tbody tr th:only-of-type {\n",
       "        vertical-align: middle;\n",
       "    }\n",
       "\n",
       "    .dataframe tbody tr th {\n",
       "        vertical-align: top;\n",
       "    }\n",
       "\n",
       "    .dataframe thead th {\n",
       "        text-align: right;\n",
       "    }\n",
       "</style>\n",
       "<table border=\"1\" class=\"dataframe\">\n",
       "  <thead>\n",
       "    <tr style=\"text-align: right;\">\n",
       "      <th></th>\n",
       "      <th>total_area</th>\n",
       "      <th>last_price</th>\n",
       "      <th>rooms</th>\n",
       "      <th>ceiling_height</th>\n",
       "      <th>cityCenters_nearest</th>\n",
       "      <th>first_day_exposition_day</th>\n",
       "      <th>first_day_exposition_month</th>\n",
       "      <th>first_day_exposition_year</th>\n",
       "    </tr>\n",
       "  </thead>\n",
       "  <tbody>\n",
       "    <tr>\n",
       "      <td>4</td>\n",
       "      <td>100.00</td>\n",
       "      <td>10.00</td>\n",
       "      <td>2</td>\n",
       "      <td>3.03</td>\n",
       "      <td>8.098</td>\n",
       "      <td>Tuesday</td>\n",
       "      <td>June</td>\n",
       "      <td>2018</td>\n",
       "    </tr>\n",
       "    <tr>\n",
       "      <td>21</td>\n",
       "      <td>31.60</td>\n",
       "      <td>3.20</td>\n",
       "      <td>1</td>\n",
       "      <td>2.65</td>\n",
       "      <td>9.722</td>\n",
       "      <td>Wednesday</td>\n",
       "      <td>March</td>\n",
       "      <td>2018</td>\n",
       "    </tr>\n",
       "    <tr>\n",
       "      <td>24</td>\n",
       "      <td>97.20</td>\n",
       "      <td>6.50</td>\n",
       "      <td>2</td>\n",
       "      <td>2.65</td>\n",
       "      <td>2.336</td>\n",
       "      <td>Saturday</td>\n",
       "      <td>October</td>\n",
       "      <td>2015</td>\n",
       "    </tr>\n",
       "    <tr>\n",
       "      <td>35</td>\n",
       "      <td>149.00</td>\n",
       "      <td>15.50</td>\n",
       "      <td>5</td>\n",
       "      <td>2.65</td>\n",
       "      <td>3.502</td>\n",
       "      <td>Monday</td>\n",
       "      <td>June</td>\n",
       "      <td>2017</td>\n",
       "    </tr>\n",
       "    <tr>\n",
       "      <td>51</td>\n",
       "      <td>161.00</td>\n",
       "      <td>45.00</td>\n",
       "      <td>3</td>\n",
       "      <td>3.20</td>\n",
       "      <td>6.589</td>\n",
       "      <td>Tuesday</td>\n",
       "      <td>October</td>\n",
       "      <td>2017</td>\n",
       "    </tr>\n",
       "    <tr>\n",
       "      <td>...</td>\n",
       "      <td>...</td>\n",
       "      <td>...</td>\n",
       "      <td>...</td>\n",
       "      <td>...</td>\n",
       "      <td>...</td>\n",
       "      <td>...</td>\n",
       "      <td>...</td>\n",
       "      <td>...</td>\n",
       "    </tr>\n",
       "    <tr>\n",
       "      <td>23674</td>\n",
       "      <td>56.00</td>\n",
       "      <td>5.95</td>\n",
       "      <td>3</td>\n",
       "      <td>2.65</td>\n",
       "      <td>9.217</td>\n",
       "      <td>Tuesday</td>\n",
       "      <td>March</td>\n",
       "      <td>2019</td>\n",
       "    </tr>\n",
       "    <tr>\n",
       "      <td>23681</td>\n",
       "      <td>43.00</td>\n",
       "      <td>5.25</td>\n",
       "      <td>2</td>\n",
       "      <td>2.50</td>\n",
       "      <td>7.262</td>\n",
       "      <td>Friday</td>\n",
       "      <td>May</td>\n",
       "      <td>2018</td>\n",
       "    </tr>\n",
       "    <tr>\n",
       "      <td>23690</td>\n",
       "      <td>52.00</td>\n",
       "      <td>5.50</td>\n",
       "      <td>2</td>\n",
       "      <td>2.65</td>\n",
       "      <td>6.263</td>\n",
       "      <td>Thursday</td>\n",
       "      <td>July</td>\n",
       "      <td>2018</td>\n",
       "    </tr>\n",
       "    <tr>\n",
       "      <td>23691</td>\n",
       "      <td>72.90</td>\n",
       "      <td>9.47</td>\n",
       "      <td>2</td>\n",
       "      <td>2.75</td>\n",
       "      <td>4.489</td>\n",
       "      <td>Thursday</td>\n",
       "      <td>October</td>\n",
       "      <td>2016</td>\n",
       "    </tr>\n",
       "    <tr>\n",
       "      <td>23694</td>\n",
       "      <td>133.81</td>\n",
       "      <td>9.70</td>\n",
       "      <td>3</td>\n",
       "      <td>3.70</td>\n",
       "      <td>4.232</td>\n",
       "      <td>Tuesday</td>\n",
       "      <td>March</td>\n",
       "      <td>2017</td>\n",
       "    </tr>\n",
       "  </tbody>\n",
       "</table>\n",
       "<p>4757 rows × 8 columns</p>\n",
       "</div>"
      ],
      "text/plain": [
       "       total_area  last_price  rooms  ceiling_height  cityCenters_nearest  \\\n",
       "4          100.00       10.00      2            3.03                8.098   \n",
       "21          31.60        3.20      1            2.65                9.722   \n",
       "24          97.20        6.50      2            2.65                2.336   \n",
       "35         149.00       15.50      5            2.65                3.502   \n",
       "51         161.00       45.00      3            3.20                6.589   \n",
       "...           ...         ...    ...             ...                  ...   \n",
       "23674       56.00        5.95      3            2.65                9.217   \n",
       "23681       43.00        5.25      2            2.50                7.262   \n",
       "23690       52.00        5.50      2            2.65                6.263   \n",
       "23691       72.90        9.47      2            2.75                4.489   \n",
       "23694      133.81        9.70      3            3.70                4.232   \n",
       "\n",
       "      first_day_exposition_day first_day_exposition_month  \\\n",
       "4                      Tuesday                       June   \n",
       "21                   Wednesday                      March   \n",
       "24                    Saturday                    October   \n",
       "35                      Monday                       June   \n",
       "51                     Tuesday                    October   \n",
       "...                        ...                        ...   \n",
       "23674                  Tuesday                      March   \n",
       "23681                   Friday                        May   \n",
       "23690                 Thursday                       July   \n",
       "23691                 Thursday                    October   \n",
       "23694                  Tuesday                      March   \n",
       "\n",
       "       first_day_exposition_year  \n",
       "4                           2018  \n",
       "21                          2018  \n",
       "24                          2015  \n",
       "35                          2017  \n",
       "51                          2017  \n",
       "...                          ...  \n",
       "23674                       2019  \n",
       "23681                       2018  \n",
       "23690                       2018  \n",
       "23691                       2016  \n",
       "23694                       2017  \n",
       "\n",
       "[4757 rows x 8 columns]"
      ]
     },
     "execution_count": 98,
     "metadata": {},
     "output_type": "execute_result"
    }
   ],
   "source": [
    "df_centr_area"
   ]
  },
  {
   "cell_type": "code",
   "execution_count": 99,
   "metadata": {},
   "outputs": [
    {
     "data": {
      "text/html": [
       "<div>\n",
       "<style scoped>\n",
       "    .dataframe tbody tr th:only-of-type {\n",
       "        vertical-align: middle;\n",
       "    }\n",
       "\n",
       "    .dataframe tbody tr th {\n",
       "        vertical-align: top;\n",
       "    }\n",
       "\n",
       "    .dataframe thead th {\n",
       "        text-align: right;\n",
       "    }\n",
       "</style>\n",
       "<table border=\"1\" class=\"dataframe\">\n",
       "  <thead>\n",
       "    <tr style=\"text-align: right;\">\n",
       "      <th></th>\n",
       "      <th>total_area</th>\n",
       "      <th>last_price</th>\n",
       "      <th>rooms</th>\n",
       "      <th>ceiling_height</th>\n",
       "      <th>cityCenters_nearest</th>\n",
       "      <th>first_day_exposition_year</th>\n",
       "    </tr>\n",
       "  </thead>\n",
       "  <tbody>\n",
       "    <tr>\n",
       "      <td>total_area</td>\n",
       "      <td>1.000000</td>\n",
       "      <td>0.730069</td>\n",
       "      <td>0.790176</td>\n",
       "      <td>0.306602</td>\n",
       "      <td>-0.298415</td>\n",
       "      <td>-0.092219</td>\n",
       "    </tr>\n",
       "    <tr>\n",
       "      <td>last_price</td>\n",
       "      <td>0.730069</td>\n",
       "      <td>1.000000</td>\n",
       "      <td>0.438041</td>\n",
       "      <td>0.237850</td>\n",
       "      <td>-0.231974</td>\n",
       "      <td>-0.041147</td>\n",
       "    </tr>\n",
       "    <tr>\n",
       "      <td>rooms</td>\n",
       "      <td>0.790176</td>\n",
       "      <td>0.438041</td>\n",
       "      <td>1.000000</td>\n",
       "      <td>0.248295</td>\n",
       "      <td>-0.284465</td>\n",
       "      <td>-0.057276</td>\n",
       "    </tr>\n",
       "    <tr>\n",
       "      <td>ceiling_height</td>\n",
       "      <td>0.306602</td>\n",
       "      <td>0.237850</td>\n",
       "      <td>0.248295</td>\n",
       "      <td>1.000000</td>\n",
       "      <td>-0.345537</td>\n",
       "      <td>0.011923</td>\n",
       "    </tr>\n",
       "    <tr>\n",
       "      <td>cityCenters_nearest</td>\n",
       "      <td>-0.298415</td>\n",
       "      <td>-0.231974</td>\n",
       "      <td>-0.284465</td>\n",
       "      <td>-0.345537</td>\n",
       "      <td>1.000000</td>\n",
       "      <td>0.083423</td>\n",
       "    </tr>\n",
       "    <tr>\n",
       "      <td>first_day_exposition_year</td>\n",
       "      <td>-0.092219</td>\n",
       "      <td>-0.041147</td>\n",
       "      <td>-0.057276</td>\n",
       "      <td>0.011923</td>\n",
       "      <td>0.083423</td>\n",
       "      <td>1.000000</td>\n",
       "    </tr>\n",
       "  </tbody>\n",
       "</table>\n",
       "</div>"
      ],
      "text/plain": [
       "                           total_area  last_price     rooms  ceiling_height  \\\n",
       "total_area                   1.000000    0.730069  0.790176        0.306602   \n",
       "last_price                   0.730069    1.000000  0.438041        0.237850   \n",
       "rooms                        0.790176    0.438041  1.000000        0.248295   \n",
       "ceiling_height               0.306602    0.237850  0.248295        1.000000   \n",
       "cityCenters_nearest         -0.298415   -0.231974 -0.284465       -0.345537   \n",
       "first_day_exposition_year   -0.092219   -0.041147 -0.057276        0.011923   \n",
       "\n",
       "                           cityCenters_nearest  first_day_exposition_year  \n",
       "total_area                           -0.298415                  -0.092219  \n",
       "last_price                           -0.231974                  -0.041147  \n",
       "rooms                                -0.284465                  -0.057276  \n",
       "ceiling_height                       -0.345537                   0.011923  \n",
       "cityCenters_nearest                   1.000000                   0.083423  \n",
       "first_day_exposition_year             0.083423                   1.000000  "
      ]
     },
     "execution_count": 99,
     "metadata": {},
     "output_type": "execute_result"
    }
   ],
   "source": [
    "df_centr_area.corr()"
   ]
  },
  {
   "cell_type": "markdown",
   "metadata": {},
   "source": [
    "В центральном округе Санкт-Петербурга видны такие же зависимости как и в общих данных. Цена зависит главным образом от площади квартиры и количества комнат. Не зависит от высоты потолков и расстояния до центра города. Общая площадь зависит от количества комнат."
   ]
  },
  {
   "cell_type": "code",
   "execution_count": 100,
   "metadata": {},
   "outputs": [],
   "source": [
    "df_centr_area2 = df_centr_area.pivot_table(index='first_day_exposition_day', values='last_price', aggfunc='median').sort_values(by='last_price')\n",
    "df_centr_area3 = df_centr_area.pivot_table(index='first_day_exposition_month', values='last_price', aggfunc='median').sort_values(by='last_price')\n",
    "df_centr_area4 = df_centr_area.pivot_table(index='first_day_exposition_year', values='last_price', aggfunc='median').sort_values(by='last_price')"
   ]
  },
  {
   "cell_type": "code",
   "execution_count": 101,
   "metadata": {},
   "outputs": [
    {
     "data": {
      "text/plain": [
       "(<matplotlib.axes._subplots.AxesSubplot at 0x7f5653d09650>,\n",
       " <matplotlib.axes._subplots.AxesSubplot at 0x7f5652469050>)"
      ]
     },
     "execution_count": 101,
     "metadata": {},
     "output_type": "execute_result"
    },
    {
     "data": {
      "image/png": "[encoded data removed]",
      "text/plain": [
       "<Figure size 432x288 with 1 Axes>"
      ]
     },
     "metadata": {
      "needs_background": "light"
     },
     "output_type": "display_data"
    },
    {
     "data": {
      "image/png": "[encoded data removed]",
      "text/plain": [
       "<Figure size 432x288 with 1 Axes>"
      ]
     },
     "metadata": {
      "needs_background": "light"
     },
     "output_type": "display_data"
    }
   ],
   "source": [
    "df_centr_area2.plot(), df2.sort_values(by='last_price').plot()"
   ]
  },
  {
   "cell_type": "code",
   "execution_count": 102,
   "metadata": {},
   "outputs": [
    {
     "data": {
      "text/plain": [
       "(<matplotlib.axes._subplots.AxesSubplot at 0x7f56523ff590>,\n",
       " <matplotlib.axes._subplots.AxesSubplot at 0x7f56523c2bd0>)"
      ]
     },
     "execution_count": 102,
     "metadata": {},
     "output_type": "execute_result"
    },
    {
     "data": {
      "image/png": "[encoded data removed]",
      "text/plain": [
       "<Figure size 432x288 with 1 Axes>"
      ]
     },
     "metadata": {
      "needs_background": "light"
     },
     "output_type": "display_data"
    },
    {
     "data": {
      "image/png": "[encoded data removed]",
      "text/plain": [
       "<Figure size 432x288 with 1 Axes>"
      ]
     },
     "metadata": {
      "needs_background": "light"
     },
     "output_type": "display_data"
    }
   ],
   "source": [
    "df_centr_area3.plot(), df3.sort_values(by='last_price').plot()"
   ]
  },
  {
   "cell_type": "code",
   "execution_count": 103,
   "metadata": {},
   "outputs": [
    {
     "data": {
      "text/plain": [
       "(<matplotlib.axes._subplots.AxesSubplot at 0x7f56522d6790>,\n",
       " <matplotlib.axes._subplots.AxesSubplot at 0x7f565229d210>)"
      ]
     },
     "execution_count": 103,
     "metadata": {},
     "output_type": "execute_result"
    },
    {
     "data": {
      "image/png": "[encoded data removed]",
      "text/plain": [
       "<Figure size 432x288 with 1 Axes>"
      ]
     },
     "metadata": {
      "needs_background": "light"
     },
     "output_type": "display_data"
    },
    {
     "data": {
      "image/png": "[encoded data removed]",
      "text/plain": [
       "<Figure size 432x288 with 1 Axes>"
      ]
     },
     "metadata": {
      "needs_background": "light"
     },
     "output_type": "display_data"
    }
   ],
   "source": [
    "df_centr_area4.plot(), df4.sort_values(by='last_price').plot()"
   ]
  },
  {
   "cell_type": "markdown",
   "metadata": {},
   "source": [
    "Сравнивая графики не обнаруживю значимых различий. Следовательно зависимости в центре Санкт_Петербурга схожи с зависимостями в целом по всему набору данных."
   ]
  },
  {
   "cell_type": "markdown",
   "metadata": {},
   "source": [
    "## Общий вывод"
   ]
  },
  {
   "cell_type": "markdown",
   "metadata": {},
   "source": [
    "<li>Наиболее распространеные параметры продаваемых квартир: общая площадь до 70 кв.м., 1-2-3 комнатные, с высотой потолка до 2,7 м и ценой до 6,7 млн.руб.\n",
    "<li><b>Самая сильная зависимость цены от общей площади.</b>\n",
    "<li>Цена зависима от этажа квартиры. Самая назкая цена у квартир на первом этаже. Потом на последнем этаже. Другие этажи повышают стоимость.\n",
    "<li>По дате размещения объявления вывод такой:\n",
    "<li>Цена начинает повышаться с начала недели. На выходных цена самая низкая.\n",
    "<li>В целом к концу года цена выше.\n",
    "<li>Начиная с 2014 года цена падала до 2017 года и после начинается подъем.\n",
    "<li>В этом ТОР-10 самых дорогих квартир видно, что они находятся в Зеленогорске и Санкт-Петербурге, а дешевые в Кудрово.\n",
    "<li>В центральном округе Санкт-Петербурга видны такие же зависимости как и в общих данных. Цена зависит главным образом от площади квартиры и количества комнат. Средне от расстояния до центра города.</li>\n",
    "<h6>Самый главный параметр, влияющий на стоимость квартиры - это её площадь.</h6>"
   ]
  }
 ],
 "metadata": {
  "ExecuteTimeLog": [
   {
    "duration": 350,
    "start_time": "2021-06-09T13:41:57.352Z"
   },
   {
    "duration": 1096,
    "start_time": "2021-06-09T13:42:16.707Z"
   },
   {
    "duration": 87,
    "start_time": "2021-06-09T13:42:35.553Z"
   },
   {
    "duration": 269,
    "start_time": "2021-06-09T13:42:58.419Z"
   },
   {
    "duration": 300,
    "start_time": "2021-06-09T13:43:18.132Z"
   },
   {
    "duration": 268,
    "start_time": "2021-06-09T13:43:48.676Z"
   },
   {
    "duration": 241,
    "start_time": "2021-06-09T13:44:37.838Z"
   },
   {
    "duration": 93,
    "start_time": "2021-06-09T13:44:46.726Z"
   },
   {
    "duration": 444,
    "start_time": "2021-06-09T13:44:53.455Z"
   },
   {
    "duration": 373,
    "start_time": "2021-06-09T13:45:14.829Z"
   },
   {
    "duration": 263,
    "start_time": "2021-06-09T13:45:25.345Z"
   },
   {
    "duration": 980,
    "start_time": "2021-06-09T13:46:50.203Z"
   },
   {
    "duration": 322,
    "start_time": "2021-06-09T13:47:11.625Z"
   },
   {
    "duration": 274,
    "start_time": "2021-06-09T13:47:25.980Z"
   },
   {
    "duration": 386,
    "start_time": "2021-06-09T13:49:36.812Z"
   },
   {
    "duration": 280,
    "start_time": "2021-06-09T13:50:20.587Z"
   },
   {
    "duration": 40,
    "start_time": "2021-06-09T13:52:04.342Z"
   },
   {
    "duration": 13,
    "start_time": "2021-06-09T13:52:17.541Z"
   },
   {
    "duration": 522,
    "start_time": "2021-06-09T14:00:22.476Z"
   },
   {
    "duration": 8,
    "start_time": "2021-06-09T14:00:50.372Z"
   },
   {
    "duration": 11,
    "start_time": "2021-06-09T14:01:01.115Z"
   },
   {
    "duration": 282,
    "start_time": "2021-06-09T14:02:05.855Z"
   },
   {
    "duration": 6,
    "start_time": "2021-06-09T14:02:14.124Z"
   },
   {
    "duration": 22,
    "start_time": "2021-06-09T14:03:33.858Z"
   },
   {
    "duration": 19,
    "start_time": "2021-06-09T14:03:43.281Z"
   },
   {
    "duration": 9,
    "start_time": "2021-06-09T14:05:57.580Z"
   },
   {
    "duration": 17,
    "start_time": "2021-06-09T14:06:02.613Z"
   },
   {
    "duration": 601,
    "start_time": "2021-06-09T14:07:12.290Z"
   },
   {
    "duration": 431,
    "start_time": "2021-06-09T14:07:48.716Z"
   },
   {
    "duration": 559,
    "start_time": "2021-06-09T14:07:59.684Z"
   },
   {
    "duration": 311,
    "start_time": "2021-06-09T14:08:05.516Z"
   },
   {
    "duration": 303,
    "start_time": "2021-06-09T14:08:13.962Z"
   },
   {
    "duration": 285,
    "start_time": "2021-06-09T14:08:25.422Z"
   },
   {
    "duration": 319,
    "start_time": "2021-06-09T14:08:31.277Z"
   },
   {
    "duration": 585,
    "start_time": "2021-06-09T14:08:47.324Z"
   },
   {
    "duration": 3021,
    "start_time": "2021-06-09T14:08:53.742Z"
   },
   {
    "duration": 1264,
    "start_time": "2021-06-09T14:09:43.510Z"
   },
   {
    "duration": 358,
    "start_time": "2021-06-09T14:10:01.008Z"
   },
   {
    "duration": 292,
    "start_time": "2021-06-09T14:11:21.631Z"
   },
   {
    "duration": 2981,
    "start_time": "2021-06-09T14:11:36.175Z"
   },
   {
    "duration": 728,
    "start_time": "2021-06-09T14:11:46.631Z"
   },
   {
    "duration": 294,
    "start_time": "2021-06-09T14:11:54.267Z"
   },
   {
    "duration": 416,
    "start_time": "2021-06-09T14:11:59.960Z"
   },
   {
    "duration": 349,
    "start_time": "2021-06-09T14:12:06.807Z"
   },
   {
    "duration": 309,
    "start_time": "2021-06-09T14:12:15.096Z"
   },
   {
    "duration": 430,
    "start_time": "2021-06-09T14:12:24.631Z"
   },
   {
    "duration": 8,
    "start_time": "2021-06-09T14:13:10.459Z"
   },
   {
    "duration": 74,
    "start_time": "2021-06-09T14:14:10.761Z"
   },
   {
    "duration": 57,
    "start_time": "2021-06-09T14:19:58.539Z"
   },
   {
    "duration": 378,
    "start_time": "2021-06-09T14:21:50.044Z"
   },
   {
    "duration": 293,
    "start_time": "2021-06-09T14:23:37.292Z"
   },
   {
    "duration": 412,
    "start_time": "2021-06-09T14:24:00.245Z"
   },
   {
    "duration": 470,
    "start_time": "2021-06-09T14:24:16.124Z"
   },
   {
    "duration": 289,
    "start_time": "2021-06-09T14:25:29.543Z"
   },
   {
    "duration": 333,
    "start_time": "2021-06-09T14:26:28.683Z"
   },
   {
    "duration": 8,
    "start_time": "2021-06-09T14:26:57.146Z"
   },
   {
    "duration": 8,
    "start_time": "2021-06-09T14:28:19.008Z"
   },
   {
    "duration": 390,
    "start_time": "2021-06-09T17:11:42.649Z"
   },
   {
    "duration": 1287,
    "start_time": "2021-06-09T17:11:54.905Z"
   },
   {
    "duration": 9,
    "start_time": "2021-06-09T17:11:56.198Z"
   },
   {
    "duration": 15,
    "start_time": "2021-06-09T17:11:56.212Z"
   },
   {
    "duration": 6,
    "start_time": "2021-06-09T17:11:56.230Z"
   },
   {
    "duration": 341,
    "start_time": "2021-06-09T17:11:56.239Z"
   },
   {
    "duration": 4016,
    "start_time": "2021-06-09T17:11:52.567Z"
   },
   {
    "duration": 4015,
    "start_time": "2021-06-09T17:11:52.572Z"
   },
   {
    "duration": 4012,
    "start_time": "2021-06-09T17:11:52.577Z"
   },
   {
    "duration": 4011,
    "start_time": "2021-06-09T17:11:52.580Z"
   },
   {
    "duration": 4009,
    "start_time": "2021-06-09T17:11:52.583Z"
   },
   {
    "duration": 326,
    "start_time": "2021-06-09T17:12:55.635Z"
   },
   {
    "duration": 2125,
    "start_time": "2021-06-09T17:13:06.213Z"
   },
   {
    "duration": 14,
    "start_time": "2021-06-09T17:15:20.106Z"
   },
   {
    "duration": 43,
    "start_time": "2021-06-09T17:15:30.916Z"
   },
   {
    "duration": 42,
    "start_time": "2021-06-09T17:15:50.103Z"
   },
   {
    "duration": 48,
    "start_time": "2021-06-09T17:16:09.456Z"
   },
   {
    "duration": 37,
    "start_time": "2021-06-09T17:16:16.639Z"
   },
   {
    "duration": 50,
    "start_time": "2021-06-09T17:17:35.323Z"
   },
   {
    "duration": 11,
    "start_time": "2021-06-09T17:17:54.917Z"
   },
   {
    "duration": 7961,
    "start_time": "2021-06-09T17:18:32.887Z"
   },
   {
    "duration": 42,
    "start_time": "2021-06-09T17:18:58.631Z"
   },
   {
    "duration": 41,
    "start_time": "2021-06-09T17:19:19.354Z"
   },
   {
    "duration": 40,
    "start_time": "2021-06-09T17:19:27.414Z"
   },
   {
    "duration": 40,
    "start_time": "2021-06-09T17:19:45.660Z"
   },
   {
    "duration": 348,
    "start_time": "2021-06-09T17:19:55.169Z"
   },
   {
    "duration": 8,
    "start_time": "2021-06-09T17:19:55.520Z"
   },
   {
    "duration": 13,
    "start_time": "2021-06-09T17:19:55.532Z"
   },
   {
    "duration": 7,
    "start_time": "2021-06-09T17:19:55.548Z"
   },
   {
    "duration": 3640,
    "start_time": "2021-06-09T17:19:55.586Z"
   },
   {
    "duration": 3998,
    "start_time": "2021-06-09T17:19:55.230Z"
   },
   {
    "duration": 3995,
    "start_time": "2021-06-09T17:19:55.235Z"
   },
   {
    "duration": 3986,
    "start_time": "2021-06-09T17:19:55.245Z"
   },
   {
    "duration": 3982,
    "start_time": "2021-06-09T17:19:55.250Z"
   },
   {
    "duration": 3979,
    "start_time": "2021-06-09T17:19:55.254Z"
   },
   {
    "duration": 42,
    "start_time": "2021-06-09T17:21:20.225Z"
   },
   {
    "duration": 107,
    "start_time": "2021-06-09T17:22:49.499Z"
   },
   {
    "duration": 41,
    "start_time": "2021-06-09T17:22:57.108Z"
   },
   {
    "duration": 338,
    "start_time": "2021-06-09T17:23:00.608Z"
   },
   {
    "duration": 6,
    "start_time": "2021-06-09T17:23:00.948Z"
   },
   {
    "duration": 40,
    "start_time": "2021-06-09T17:23:00.956Z"
   },
   {
    "duration": 11,
    "start_time": "2021-06-09T17:23:01.000Z"
   },
   {
    "duration": 2718,
    "start_time": "2021-06-09T17:23:01.015Z"
   },
   {
    "duration": 3988,
    "start_time": "2021-06-09T17:22:59.749Z"
   },
   {
    "duration": 3986,
    "start_time": "2021-06-09T17:22:59.753Z"
   },
   {
    "duration": 3986,
    "start_time": "2021-06-09T17:22:59.755Z"
   },
   {
    "duration": 3985,
    "start_time": "2021-06-09T17:22:59.758Z"
   },
   {
    "duration": 3985,
    "start_time": "2021-06-09T17:22:59.760Z"
   },
   {
    "duration": 2232,
    "start_time": "2021-06-09T17:24:38.329Z"
   },
   {
    "duration": 43,
    "start_time": "2021-06-09T17:26:46.932Z"
   },
   {
    "duration": 10,
    "start_time": "2021-06-09T17:27:00.135Z"
   },
   {
    "duration": 398,
    "start_time": "2021-06-09T17:28:38.266Z"
   },
   {
    "duration": 6,
    "start_time": "2021-06-09T17:28:38.667Z"
   },
   {
    "duration": 33,
    "start_time": "2021-06-09T17:28:38.676Z"
   },
   {
    "duration": 7,
    "start_time": "2021-06-09T17:28:38.712Z"
   },
   {
    "duration": 3036,
    "start_time": "2021-06-09T17:28:38.721Z"
   },
   {
    "duration": 3981,
    "start_time": "2021-06-09T17:28:37.780Z"
   },
   {
    "duration": 3977,
    "start_time": "2021-06-09T17:28:37.785Z"
   },
   {
    "duration": 3974,
    "start_time": "2021-06-09T17:28:37.790Z"
   },
   {
    "duration": 3973,
    "start_time": "2021-06-09T17:28:37.793Z"
   },
   {
    "duration": 3973,
    "start_time": "2021-06-09T17:28:37.795Z"
   },
   {
    "duration": 2166,
    "start_time": "2021-06-09T17:29:18.696Z"
   },
   {
    "duration": 2133,
    "start_time": "2021-06-09T17:29:45.308Z"
   },
   {
    "duration": 22,
    "start_time": "2021-06-09T17:31:31.279Z"
   },
   {
    "duration": 466,
    "start_time": "2021-06-09T17:33:56.689Z"
   },
   {
    "duration": 5,
    "start_time": "2021-06-09T17:33:57.157Z"
   },
   {
    "duration": 26,
    "start_time": "2021-06-09T17:33:57.165Z"
   },
   {
    "duration": 10,
    "start_time": "2021-06-09T17:33:57.196Z"
   },
   {
    "duration": 20,
    "start_time": "2021-06-09T17:33:57.209Z"
   },
   {
    "duration": 15,
    "start_time": "2021-06-09T17:33:57.234Z"
   },
   {
    "duration": 309,
    "start_time": "2021-06-09T17:33:57.251Z"
   },
   {
    "duration": 3965,
    "start_time": "2021-06-09T17:33:53.598Z"
   },
   {
    "duration": 3960,
    "start_time": "2021-06-09T17:33:53.604Z"
   },
   {
    "duration": 3946,
    "start_time": "2021-06-09T17:33:53.619Z"
   },
   {
    "duration": 3945,
    "start_time": "2021-06-09T17:33:53.622Z"
   },
   {
    "duration": 9,
    "start_time": "2021-06-09T17:34:15.223Z"
   },
   {
    "duration": 7,
    "start_time": "2021-06-09T17:34:28.022Z"
   },
   {
    "duration": 595,
    "start_time": "2021-06-09T17:34:50.978Z"
   },
   {
    "duration": 360,
    "start_time": "2021-06-09T17:35:01.619Z"
   },
   {
    "duration": 14,
    "start_time": "2021-06-09T17:36:37.346Z"
   },
   {
    "duration": 8,
    "start_time": "2021-06-09T17:38:43.433Z"
   },
   {
    "duration": 345,
    "start_time": "2021-06-09T17:40:15.287Z"
   },
   {
    "duration": 114,
    "start_time": "2021-06-09T17:41:04.592Z"
   },
   {
    "duration": 359,
    "start_time": "2021-06-09T17:41:10.318Z"
   },
   {
    "duration": 7625,
    "start_time": "2021-06-09T17:42:02.212Z"
   },
   {
    "duration": 64,
    "start_time": "2021-06-09T17:42:26.036Z"
   },
   {
    "duration": 66,
    "start_time": "2021-06-09T17:42:49.102Z"
   },
   {
    "duration": 57,
    "start_time": "2021-06-09T17:43:00.219Z"
   },
   {
    "duration": 343,
    "start_time": "2021-06-09T17:47:29.015Z"
   },
   {
    "duration": 343,
    "start_time": "2021-06-09T17:47:38.725Z"
   },
   {
    "duration": 352,
    "start_time": "2021-06-09T17:48:02.677Z"
   },
   {
    "duration": 348,
    "start_time": "2021-06-09T17:48:30.324Z"
   },
   {
    "duration": 7,
    "start_time": "2021-06-09T17:48:50.659Z"
   },
   {
    "duration": 20,
    "start_time": "2021-06-09T17:49:56.697Z"
   },
   {
    "duration": 1406,
    "start_time": "2021-06-09T17:51:11.965Z"
   },
   {
    "duration": 319,
    "start_time": "2021-06-09T17:53:21.369Z"
   },
   {
    "duration": 8,
    "start_time": "2021-06-09T17:55:06.220Z"
   },
   {
    "duration": 108,
    "start_time": "2021-06-09T17:56:06.225Z"
   },
   {
    "duration": 69,
    "start_time": "2021-06-09T17:56:15.568Z"
   },
   {
    "duration": 7,
    "start_time": "2021-06-09T17:56:41.751Z"
   },
   {
    "duration": 11,
    "start_time": "2021-06-09T17:56:54.574Z"
   },
   {
    "duration": 10,
    "start_time": "2021-06-09T18:00:54.308Z"
   },
   {
    "duration": 9,
    "start_time": "2021-06-09T18:01:03.701Z"
   },
   {
    "duration": 21,
    "start_time": "2021-06-09T18:01:29.187Z"
   },
   {
    "duration": 325,
    "start_time": "2021-06-09T18:01:38.259Z"
   },
   {
    "duration": 335,
    "start_time": "2021-06-09T18:01:53.466Z"
   },
   {
    "duration": 316,
    "start_time": "2021-06-09T18:02:08.450Z"
   },
   {
    "duration": 337,
    "start_time": "2021-06-09T18:02:45.097Z"
   },
   {
    "duration": 10,
    "start_time": "2021-06-09T18:02:54.058Z"
   },
   {
    "duration": 9,
    "start_time": "2021-06-09T18:03:00.735Z"
   },
   {
    "duration": 335,
    "start_time": "2021-06-09T18:03:11.847Z"
   },
   {
    "duration": 11,
    "start_time": "2021-06-09T18:03:24.502Z"
   },
   {
    "duration": 808,
    "start_time": "2021-06-09T18:03:58.041Z"
   },
   {
    "duration": 216,
    "start_time": "2021-06-09T18:04:06.589Z"
   },
   {
    "duration": 342,
    "start_time": "2021-06-09T18:05:20.281Z"
   },
   {
    "duration": 10,
    "start_time": "2021-06-09T18:05:26.369Z"
   },
   {
    "duration": 7,
    "start_time": "2021-06-09T18:05:32.616Z"
   },
   {
    "duration": 12,
    "start_time": "2021-06-09T18:05:36.737Z"
   },
   {
    "duration": 24,
    "start_time": "2021-06-09T18:06:29.110Z"
   },
   {
    "duration": 364,
    "start_time": "2021-06-09T18:06:35.837Z"
   },
   {
    "duration": 5,
    "start_time": "2021-06-09T18:06:36.204Z"
   },
   {
    "duration": 18,
    "start_time": "2021-06-09T18:06:36.213Z"
   },
   {
    "duration": 7,
    "start_time": "2021-06-09T18:06:36.233Z"
   },
   {
    "duration": 45,
    "start_time": "2021-06-09T18:06:36.243Z"
   },
   {
    "duration": 66,
    "start_time": "2021-06-09T18:06:36.291Z"
   },
   {
    "duration": 35,
    "start_time": "2021-06-09T18:06:36.360Z"
   },
   {
    "duration": 28,
    "start_time": "2021-06-09T18:06:36.398Z"
   },
   {
    "duration": 339,
    "start_time": "2021-06-09T18:06:36.429Z"
   },
   {
    "duration": 3887,
    "start_time": "2021-06-09T18:06:32.885Z"
   },
   {
    "duration": 37,
    "start_time": "2021-06-09T18:07:43.580Z"
   },
   {
    "duration": 15,
    "start_time": "2021-06-09T18:07:59.482Z"
   },
   {
    "duration": 71,
    "start_time": "2021-06-09T18:15:02.587Z"
   },
   {
    "duration": 97,
    "start_time": "2021-06-09T18:15:21.115Z"
   },
   {
    "duration": 74,
    "start_time": "2021-06-09T18:15:31.018Z"
   },
   {
    "duration": 72,
    "start_time": "2021-06-09T18:15:56.431Z"
   },
   {
    "duration": 11,
    "start_time": "2021-06-09T18:17:14.388Z"
   },
   {
    "duration": 7,
    "start_time": "2021-06-09T18:20:05.291Z"
   },
   {
    "duration": 6,
    "start_time": "2021-06-09T18:20:18.112Z"
   },
   {
    "duration": 6,
    "start_time": "2021-06-09T18:20:42.652Z"
   },
   {
    "duration": 5,
    "start_time": "2021-06-09T18:20:55.867Z"
   },
   {
    "duration": 43,
    "start_time": "2021-06-09T18:21:04.754Z"
   },
   {
    "duration": 72,
    "start_time": "2021-06-09T18:21:13.167Z"
   },
   {
    "duration": 54,
    "start_time": "2021-06-09T18:21:28.725Z"
   },
   {
    "duration": 301,
    "start_time": "2021-06-09T18:22:55.921Z"
   },
   {
    "duration": 6,
    "start_time": "2021-06-09T18:22:56.226Z"
   },
   {
    "duration": 15,
    "start_time": "2021-06-09T18:22:56.235Z"
   },
   {
    "duration": 7,
    "start_time": "2021-06-09T18:22:56.253Z"
   },
   {
    "duration": 25,
    "start_time": "2021-06-09T18:22:56.286Z"
   },
   {
    "duration": 90,
    "start_time": "2021-06-09T18:22:56.314Z"
   },
   {
    "duration": 8,
    "start_time": "2021-06-09T18:22:56.407Z"
   },
   {
    "duration": 7,
    "start_time": "2021-06-09T18:22:56.419Z"
   },
   {
    "duration": 88,
    "start_time": "2021-06-09T18:22:56.428Z"
   },
   {
    "duration": 351,
    "start_time": "2021-06-09T18:30:07.382Z"
   },
   {
    "duration": 5,
    "start_time": "2021-06-09T18:30:07.736Z"
   },
   {
    "duration": 15,
    "start_time": "2021-06-09T18:30:07.745Z"
   },
   {
    "duration": 8,
    "start_time": "2021-06-09T18:30:07.786Z"
   },
   {
    "duration": 25,
    "start_time": "2021-06-09T18:30:07.797Z"
   },
   {
    "duration": 87,
    "start_time": "2021-06-09T18:30:07.824Z"
   },
   {
    "duration": 11,
    "start_time": "2021-06-09T18:30:07.914Z"
   },
   {
    "duration": 5,
    "start_time": "2021-06-09T18:30:07.928Z"
   },
   {
    "duration": 86,
    "start_time": "2021-06-09T18:30:07.936Z"
   },
   {
    "duration": 5,
    "start_time": "2021-06-09T18:30:20.837Z"
   },
   {
    "duration": 39,
    "start_time": "2021-06-09T18:30:30.136Z"
   },
   {
    "duration": 8,
    "start_time": "2021-06-09T18:31:00.635Z"
   },
   {
    "duration": 237,
    "start_time": "2021-06-09T18:33:01.224Z"
   },
   {
    "duration": 5,
    "start_time": "2021-06-09T18:33:01.464Z"
   },
   {
    "duration": 26,
    "start_time": "2021-06-09T18:33:01.472Z"
   },
   {
    "duration": 10,
    "start_time": "2021-06-09T18:33:01.501Z"
   },
   {
    "duration": 36,
    "start_time": "2021-06-09T18:33:01.514Z"
   },
   {
    "duration": 75,
    "start_time": "2021-06-09T18:33:01.552Z"
   },
   {
    "duration": 7,
    "start_time": "2021-06-09T18:33:01.629Z"
   },
   {
    "duration": 11,
    "start_time": "2021-06-09T18:33:01.640Z"
   },
   {
    "duration": 7,
    "start_time": "2021-06-09T18:34:24.153Z"
   },
   {
    "duration": 337,
    "start_time": "2021-06-09T18:34:55.400Z"
   },
   {
    "duration": 7,
    "start_time": "2021-06-09T18:35:02.797Z"
   },
   {
    "duration": 302,
    "start_time": "2021-06-09T18:35:36.049Z"
   },
   {
    "duration": 5,
    "start_time": "2021-06-09T18:35:36.354Z"
   },
   {
    "duration": 30,
    "start_time": "2021-06-09T18:35:36.362Z"
   },
   {
    "duration": 10,
    "start_time": "2021-06-09T18:35:36.396Z"
   },
   {
    "duration": 26,
    "start_time": "2021-06-09T18:35:36.409Z"
   },
   {
    "duration": 18,
    "start_time": "2021-06-09T18:35:36.438Z"
   },
   {
    "duration": 30,
    "start_time": "2021-06-09T18:35:36.458Z"
   },
   {
    "duration": 8,
    "start_time": "2021-06-09T18:35:41.629Z"
   },
   {
    "duration": 8,
    "start_time": "2021-06-09T18:38:44.053Z"
   },
   {
    "duration": 6,
    "start_time": "2021-06-09T18:38:56.157Z"
   },
   {
    "duration": 14,
    "start_time": "2021-06-09T18:39:11.782Z"
   },
   {
    "duration": 8,
    "start_time": "2021-06-09T18:40:36.489Z"
   },
   {
    "duration": 7,
    "start_time": "2021-06-09T18:40:38.624Z"
   },
   {
    "duration": 36,
    "start_time": "2021-06-09T18:43:02.612Z"
   },
   {
    "duration": 23,
    "start_time": "2021-06-09T18:58:40.831Z"
   },
   {
    "duration": 60,
    "start_time": "2021-06-09T18:58:45.467Z"
   },
   {
    "duration": 34,
    "start_time": "2021-06-09T19:03:41.431Z"
   },
   {
    "duration": 326,
    "start_time": "2021-06-09T19:06:16.502Z"
   },
   {
    "duration": 105,
    "start_time": "2021-06-09T19:07:28.415Z"
   },
   {
    "duration": 356,
    "start_time": "2021-06-09T19:07:46.990Z"
   },
   {
    "duration": 317,
    "start_time": "2021-06-09T19:11:54.214Z"
   },
   {
    "duration": 4,
    "start_time": "2021-06-09T19:12:03.530Z"
   },
   {
    "duration": 5,
    "start_time": "2021-06-09T19:12:13.753Z"
   },
   {
    "duration": 8,
    "start_time": "2021-06-09T19:12:19.761Z"
   },
   {
    "duration": 14,
    "start_time": "2021-06-09T19:13:09.391Z"
   },
   {
    "duration": 14,
    "start_time": "2021-06-09T19:13:19.223Z"
   },
   {
    "duration": 18,
    "start_time": "2021-06-09T19:13:58.790Z"
   },
   {
    "duration": 17,
    "start_time": "2021-06-09T19:14:08.628Z"
   },
   {
    "duration": 16,
    "start_time": "2021-06-09T19:15:18.466Z"
   },
   {
    "duration": 432,
    "start_time": "2021-06-09T19:16:19.639Z"
   },
   {
    "duration": 421,
    "start_time": "2021-06-09T19:16:27.831Z"
   },
   {
    "duration": 800,
    "start_time": "2021-06-09T19:16:39.315Z"
   },
   {
    "duration": 945,
    "start_time": "2021-06-09T19:17:01.654Z"
   },
   {
    "duration": 20,
    "start_time": "2021-06-09T19:17:32.606Z"
   },
   {
    "duration": 361,
    "start_time": "2021-06-09T19:19:12.249Z"
   },
   {
    "duration": 16,
    "start_time": "2021-06-09T19:19:22.512Z"
   },
   {
    "duration": 6,
    "start_time": "2021-06-09T19:22:12.509Z"
   },
   {
    "duration": 7,
    "start_time": "2021-06-09T19:22:36.736Z"
   },
   {
    "duration": 5,
    "start_time": "2021-06-09T19:23:20.198Z"
   },
   {
    "duration": 8,
    "start_time": "2021-06-09T19:23:29.339Z"
   },
   {
    "duration": 60,
    "start_time": "2021-06-09T19:24:02.609Z"
   },
   {
    "duration": 10,
    "start_time": "2021-06-09T19:24:43.338Z"
   },
   {
    "duration": 56,
    "start_time": "2021-06-09T19:24:45.990Z"
   },
   {
    "duration": 42,
    "start_time": "2021-06-09T19:24:53.142Z"
   },
   {
    "duration": 522,
    "start_time": "2021-06-09T19:25:54.002Z"
   },
   {
    "duration": 4,
    "start_time": "2021-06-09T19:25:54.527Z"
   },
   {
    "duration": 14,
    "start_time": "2021-06-09T19:25:54.534Z"
   },
   {
    "duration": 7,
    "start_time": "2021-06-09T19:25:54.551Z"
   },
   {
    "duration": 48,
    "start_time": "2021-06-09T19:25:54.560Z"
   },
   {
    "duration": 6,
    "start_time": "2021-06-09T19:25:54.610Z"
   },
   {
    "duration": 11,
    "start_time": "2021-06-09T19:25:54.618Z"
   },
   {
    "duration": 68,
    "start_time": "2021-06-09T19:25:54.631Z"
   },
   {
    "duration": 16,
    "start_time": "2021-06-09T19:25:54.702Z"
   },
   {
    "duration": 340,
    "start_time": "2021-06-09T19:25:54.721Z"
   },
   {
    "duration": 3679,
    "start_time": "2021-06-09T19:25:51.385Z"
   },
   {
    "duration": 9,
    "start_time": "2021-06-09T19:26:12.848Z"
   },
   {
    "duration": 40,
    "start_time": "2021-06-09T19:26:17.446Z"
   },
   {
    "duration": 304,
    "start_time": "2021-06-09T19:26:44.802Z"
   },
   {
    "duration": 8,
    "start_time": "2021-06-09T19:26:45.109Z"
   },
   {
    "duration": 14,
    "start_time": "2021-06-09T19:26:45.120Z"
   },
   {
    "duration": 9,
    "start_time": "2021-06-09T19:26:45.138Z"
   },
   {
    "duration": 59,
    "start_time": "2021-06-09T19:26:45.149Z"
   },
   {
    "duration": 6,
    "start_time": "2021-06-09T19:26:45.211Z"
   },
   {
    "duration": 19,
    "start_time": "2021-06-09T19:26:45.220Z"
   },
   {
    "duration": 76,
    "start_time": "2021-06-09T19:26:45.242Z"
   },
   {
    "duration": 19,
    "start_time": "2021-06-09T19:26:45.321Z"
   },
   {
    "duration": 19,
    "start_time": "2021-06-09T19:26:45.343Z"
   },
   {
    "duration": 65,
    "start_time": "2021-06-09T19:26:45.365Z"
   },
   {
    "duration": 60,
    "start_time": "2021-06-09T19:26:57.566Z"
   },
   {
    "duration": 10,
    "start_time": "2021-06-09T19:27:04.220Z"
   },
   {
    "duration": 39,
    "start_time": "2021-06-09T19:27:07.029Z"
   },
   {
    "duration": 23,
    "start_time": "2021-06-09T19:28:04.478Z"
   },
   {
    "duration": 16,
    "start_time": "2021-06-09T19:29:16.207Z"
   },
   {
    "duration": 7,
    "start_time": "2021-06-09T19:29:26.342Z"
   },
   {
    "duration": 9,
    "start_time": "2021-06-09T19:30:40.062Z"
   },
   {
    "duration": 7,
    "start_time": "2021-06-09T19:31:07.722Z"
   },
   {
    "duration": 42,
    "start_time": "2021-06-09T19:31:15.007Z"
   },
   {
    "duration": 7,
    "start_time": "2021-06-09T19:31:54.192Z"
   },
   {
    "duration": 48,
    "start_time": "2021-06-09T19:31:54.777Z"
   },
   {
    "duration": 6,
    "start_time": "2021-06-09T19:32:26.798Z"
   },
   {
    "duration": 45,
    "start_time": "2021-06-09T19:32:28.744Z"
   },
   {
    "duration": 7,
    "start_time": "2021-06-09T19:32:50.463Z"
   },
   {
    "duration": 41,
    "start_time": "2021-06-09T19:32:52.120Z"
   },
   {
    "duration": 6,
    "start_time": "2021-06-09T19:33:10.740Z"
   },
   {
    "duration": 42,
    "start_time": "2021-06-09T19:33:11.842Z"
   },
   {
    "duration": 7,
    "start_time": "2021-06-09T19:33:27.027Z"
   },
   {
    "duration": 44,
    "start_time": "2021-06-09T19:33:27.598Z"
   },
   {
    "duration": 19,
    "start_time": "2021-06-09T19:33:53.810Z"
   },
   {
    "duration": 456,
    "start_time": "2021-06-09T19:34:39.061Z"
   },
   {
    "duration": 5,
    "start_time": "2021-06-09T19:34:39.520Z"
   },
   {
    "duration": 15,
    "start_time": "2021-06-09T19:34:39.528Z"
   },
   {
    "duration": 6,
    "start_time": "2021-06-09T19:34:39.546Z"
   },
   {
    "duration": 54,
    "start_time": "2021-06-09T19:34:39.555Z"
   },
   {
    "duration": 7,
    "start_time": "2021-06-09T19:34:39.612Z"
   },
   {
    "duration": 7,
    "start_time": "2021-06-09T19:34:39.621Z"
   },
   {
    "duration": 59,
    "start_time": "2021-06-09T19:34:39.632Z"
   },
   {
    "duration": 20,
    "start_time": "2021-06-09T19:34:39.695Z"
   },
   {
    "duration": 68,
    "start_time": "2021-06-09T19:34:39.718Z"
   },
   {
    "duration": 36,
    "start_time": "2021-06-09T19:35:41.218Z"
   },
   {
    "duration": 984,
    "start_time": "2021-06-10T07:41:14.674Z"
   },
   {
    "duration": 5,
    "start_time": "2021-06-10T07:41:15.661Z"
   },
   {
    "duration": 22,
    "start_time": "2021-06-10T07:41:15.669Z"
   },
   {
    "duration": 6,
    "start_time": "2021-06-10T07:41:15.694Z"
   },
   {
    "duration": 35,
    "start_time": "2021-06-10T07:41:15.703Z"
   },
   {
    "duration": 7,
    "start_time": "2021-06-10T07:41:15.740Z"
   },
   {
    "duration": 8,
    "start_time": "2021-06-10T07:41:15.750Z"
   },
   {
    "duration": 70,
    "start_time": "2021-06-10T07:41:15.762Z"
   },
   {
    "duration": 17,
    "start_time": "2021-06-10T07:41:15.834Z"
   },
   {
    "duration": 36,
    "start_time": "2021-06-10T07:41:15.853Z"
   },
   {
    "duration": 24,
    "start_time": "2021-06-10T07:49:09.951Z"
   },
   {
    "duration": 34,
    "start_time": "2021-06-10T07:49:15.886Z"
   },
   {
    "duration": 34,
    "start_time": "2021-06-10T07:49:21.549Z"
   },
   {
    "duration": 23,
    "start_time": "2021-06-10T07:49:26.821Z"
   },
   {
    "duration": 86,
    "start_time": "2021-06-10T07:55:48.715Z"
   },
   {
    "duration": 349,
    "start_time": "2021-06-10T07:59:34.317Z"
   },
   {
    "duration": 7,
    "start_time": "2021-06-10T07:59:47.880Z"
   },
   {
    "duration": 394,
    "start_time": "2021-06-10T08:00:17.070Z"
   },
   {
    "duration": 3413,
    "start_time": "2021-06-10T08:00:44.290Z"
   },
   {
    "duration": 266,
    "start_time": "2021-06-10T08:01:17.893Z"
   },
   {
    "duration": 13,
    "start_time": "2021-06-10T08:01:23.406Z"
   },
   {
    "duration": 56,
    "start_time": "2021-06-10T08:01:27.452Z"
   },
   {
    "duration": 7,
    "start_time": "2021-06-10T08:01:32.022Z"
   },
   {
    "duration": 298,
    "start_time": "2021-06-10T08:01:58.826Z"
   },
   {
    "duration": 288,
    "start_time": "2021-06-10T08:02:12.494Z"
   },
   {
    "duration": 542,
    "start_time": "2021-06-10T08:02:28.057Z"
   },
   {
    "duration": 264,
    "start_time": "2021-06-10T08:02:39.085Z"
   },
   {
    "duration": 278,
    "start_time": "2021-06-10T08:02:51.464Z"
   },
   {
    "duration": 410,
    "start_time": "2021-06-10T08:03:34.008Z"
   },
   {
    "duration": 8,
    "start_time": "2021-06-10T08:07:07.158Z"
   },
   {
    "duration": 6,
    "start_time": "2021-06-10T08:07:12.734Z"
   },
   {
    "duration": 7,
    "start_time": "2021-06-10T08:07:19.076Z"
   },
   {
    "duration": 12,
    "start_time": "2021-06-10T08:07:22.763Z"
   },
   {
    "duration": 280,
    "start_time": "2021-06-10T08:08:02.839Z"
   },
   {
    "duration": 319,
    "start_time": "2021-06-10T08:08:12.630Z"
   },
   {
    "duration": 260,
    "start_time": "2021-06-10T08:08:19.909Z"
   },
   {
    "duration": 304,
    "start_time": "2021-06-10T08:09:04.068Z"
   },
   {
    "duration": 13,
    "start_time": "2021-06-10T08:09:15.515Z"
   },
   {
    "duration": 57,
    "start_time": "2021-06-10T08:09:53.527Z"
   },
   {
    "duration": 55,
    "start_time": "2021-06-10T08:10:32.934Z"
   },
   {
    "duration": 55,
    "start_time": "2021-06-10T08:10:38.634Z"
   },
   {
    "duration": 57,
    "start_time": "2021-06-10T08:10:43.795Z"
   },
   {
    "duration": 57,
    "start_time": "2021-06-10T08:10:50.691Z"
   },
   {
    "duration": 56,
    "start_time": "2021-06-10T08:11:03.829Z"
   },
   {
    "duration": 7,
    "start_time": "2021-06-10T08:18:58.967Z"
   },
   {
    "duration": 7,
    "start_time": "2021-06-10T08:19:00.607Z"
   },
   {
    "duration": 7,
    "start_time": "2021-06-10T08:22:22.488Z"
   },
   {
    "duration": 305,
    "start_time": "2021-06-10T08:22:57.119Z"
   },
   {
    "duration": 321,
    "start_time": "2021-06-10T08:24:16.950Z"
   },
   {
    "duration": 11,
    "start_time": "2021-06-10T08:26:23.171Z"
   },
   {
    "duration": 64,
    "start_time": "2021-06-10T08:26:32.925Z"
   },
   {
    "duration": 43,
    "start_time": "2021-06-10T08:27:17.651Z"
   },
   {
    "duration": 6,
    "start_time": "2021-06-10T08:27:44.163Z"
   },
   {
    "duration": 67,
    "start_time": "2021-06-10T08:28:42.019Z"
   },
   {
    "duration": 8,
    "start_time": "2021-06-10T08:28:56.721Z"
   },
   {
    "duration": 7,
    "start_time": "2021-06-10T08:28:59.055Z"
   },
   {
    "duration": 8,
    "start_time": "2021-06-10T08:29:35.840Z"
   },
   {
    "duration": 8,
    "start_time": "2021-06-10T08:30:32.145Z"
   },
   {
    "duration": 8,
    "start_time": "2021-06-10T08:30:33.336Z"
   },
   {
    "duration": 12,
    "start_time": "2021-06-10T08:30:39.353Z"
   },
   {
    "duration": 7,
    "start_time": "2021-06-10T08:32:41.053Z"
   },
   {
    "duration": 7,
    "start_time": "2021-06-10T08:32:43.782Z"
   },
   {
    "duration": 8,
    "start_time": "2021-06-10T08:32:58.851Z"
   },
   {
    "duration": 6,
    "start_time": "2021-06-10T08:36:04.352Z"
   },
   {
    "duration": 275,
    "start_time": "2021-06-10T08:36:18.392Z"
   },
   {
    "duration": 107,
    "start_time": "2021-06-10T08:36:48.353Z"
   },
   {
    "duration": 312,
    "start_time": "2021-06-10T08:37:27.652Z"
   },
   {
    "duration": 109,
    "start_time": "2021-06-10T08:37:31.464Z"
   },
   {
    "duration": 269,
    "start_time": "2021-06-10T08:38:57.011Z"
   },
   {
    "duration": 273,
    "start_time": "2021-06-10T08:39:04.547Z"
   },
   {
    "duration": 315,
    "start_time": "2021-06-10T08:39:29.950Z"
   },
   {
    "duration": 88,
    "start_time": "2021-06-10T08:39:38.749Z"
   },
   {
    "duration": 319,
    "start_time": "2021-06-10T08:40:00.634Z"
   },
   {
    "duration": 107,
    "start_time": "2021-06-10T08:40:24.370Z"
   },
   {
    "duration": 7,
    "start_time": "2021-06-10T08:41:54.917Z"
   },
   {
    "duration": 319,
    "start_time": "2021-06-10T08:42:02.184Z"
   },
   {
    "duration": 361,
    "start_time": "2021-06-10T08:42:10.781Z"
   },
   {
    "duration": 311,
    "start_time": "2021-06-10T08:43:06.333Z"
   },
   {
    "duration": 104,
    "start_time": "2021-06-10T08:43:13.038Z"
   },
   {
    "duration": 77,
    "start_time": "2021-06-10T08:43:43.435Z"
   },
   {
    "duration": 366,
    "start_time": "2021-06-10T08:44:38.354Z"
   },
   {
    "duration": 23,
    "start_time": "2021-06-10T08:45:01.479Z"
   },
   {
    "duration": 55,
    "start_time": "2021-06-10T08:45:21.674Z"
   },
   {
    "duration": 76,
    "start_time": "2021-06-10T08:46:01.141Z"
   },
   {
    "duration": 13,
    "start_time": "2021-06-10T08:47:01.787Z"
   },
   {
    "duration": 42,
    "start_time": "2021-06-10T08:55:05.109Z"
   },
   {
    "duration": 16,
    "start_time": "2021-06-10T08:55:11.922Z"
   },
   {
    "duration": 76,
    "start_time": "2021-06-10T09:05:44.098Z"
   },
   {
    "duration": 93,
    "start_time": "2021-06-10T09:12:03.558Z"
   },
   {
    "duration": 5,
    "start_time": "2021-06-10T09:13:26.150Z"
   },
   {
    "duration": 10,
    "start_time": "2021-06-10T09:13:39.942Z"
   },
   {
    "duration": 11,
    "start_time": "2021-06-10T09:14:10.677Z"
   },
   {
    "duration": 269,
    "start_time": "2021-06-10T09:15:31.237Z"
   },
   {
    "duration": 508,
    "start_time": "2021-06-10T09:15:40.957Z"
   },
   {
    "duration": 965,
    "start_time": "2021-06-10T09:16:00.407Z"
   },
   {
    "duration": 396,
    "start_time": "2021-06-10T09:16:19.518Z"
   },
   {
    "duration": 244,
    "start_time": "2021-06-10T09:16:25.669Z"
   },
   {
    "duration": 1559,
    "start_time": "2021-06-10T09:16:30.816Z"
   },
   {
    "duration": 299,
    "start_time": "2021-06-10T09:16:47.856Z"
   },
   {
    "duration": 297,
    "start_time": "2021-06-10T09:16:55.158Z"
   },
   {
    "duration": 294,
    "start_time": "2021-06-10T09:17:12.768Z"
   },
   {
    "duration": 2033,
    "start_time": "2021-06-10T09:17:22.422Z"
   },
   {
    "duration": 563,
    "start_time": "2021-06-10T09:17:49.452Z"
   },
   {
    "duration": 324,
    "start_time": "2021-06-10T09:18:43.568Z"
   },
   {
    "duration": 321,
    "start_time": "2021-06-10T09:18:51.178Z"
   },
   {
    "duration": 947,
    "start_time": "2021-06-10T09:20:57.309Z"
   },
   {
    "duration": 95,
    "start_time": "2021-06-10T09:23:14.244Z"
   },
   {
    "duration": 92,
    "start_time": "2021-06-10T09:23:37.836Z"
   },
   {
    "duration": 352,
    "start_time": "2021-06-10T09:24:05.014Z"
   },
   {
    "duration": 953,
    "start_time": "2021-06-10T09:24:11.161Z"
   },
   {
    "duration": 5,
    "start_time": "2021-06-10T09:24:12.116Z"
   },
   {
    "duration": 14,
    "start_time": "2021-06-10T09:24:12.125Z"
   },
   {
    "duration": 82,
    "start_time": "2021-06-10T09:24:12.142Z"
   },
   {
    "duration": 8,
    "start_time": "2021-06-10T09:24:12.226Z"
   },
   {
    "duration": 14,
    "start_time": "2021-06-10T09:24:12.236Z"
   },
   {
    "duration": 106,
    "start_time": "2021-06-10T09:24:12.252Z"
   },
   {
    "duration": 11,
    "start_time": "2021-06-10T09:24:12.362Z"
   },
   {
    "duration": 7,
    "start_time": "2021-06-10T09:24:12.376Z"
   },
   {
    "duration": 9,
    "start_time": "2021-06-10T09:24:12.385Z"
   },
   {
    "duration": 80,
    "start_time": "2021-06-10T09:24:12.396Z"
   },
   {
    "duration": 109,
    "start_time": "2021-06-10T09:24:12.478Z"
   },
   {
    "duration": 88,
    "start_time": "2021-06-10T09:24:12.589Z"
   },
   {
    "duration": 9,
    "start_time": "2021-06-10T09:24:12.680Z"
   },
   {
    "duration": 323,
    "start_time": "2021-06-10T09:24:31.024Z"
   },
   {
    "duration": 937,
    "start_time": "2021-06-10T09:24:35.553Z"
   },
   {
    "duration": 5,
    "start_time": "2021-06-10T09:24:36.493Z"
   },
   {
    "duration": 27,
    "start_time": "2021-06-10T09:24:36.501Z"
   },
   {
    "duration": 55,
    "start_time": "2021-06-10T09:24:36.531Z"
   },
   {
    "duration": 6,
    "start_time": "2021-06-10T09:24:36.589Z"
   },
   {
    "duration": 6,
    "start_time": "2021-06-10T09:24:36.625Z"
   },
   {
    "duration": 101,
    "start_time": "2021-06-10T09:24:36.633Z"
   },
   {
    "duration": 12,
    "start_time": "2021-06-10T09:24:36.737Z"
   },
   {
    "duration": 6,
    "start_time": "2021-06-10T09:24:36.751Z"
   },
   {
    "duration": 6,
    "start_time": "2021-06-10T09:24:36.759Z"
   },
   {
    "duration": 87,
    "start_time": "2021-06-10T09:24:36.767Z"
   },
   {
    "duration": 95,
    "start_time": "2021-06-10T09:24:36.856Z"
   },
   {
    "duration": 97,
    "start_time": "2021-06-10T09:24:36.953Z"
   },
   {
    "duration": 11,
    "start_time": "2021-06-10T09:24:37.054Z"
   },
   {
    "duration": 1059,
    "start_time": "2021-06-10T09:24:48.084Z"
   },
   {
    "duration": 5,
    "start_time": "2021-06-10T09:24:49.146Z"
   },
   {
    "duration": 234,
    "start_time": "2021-06-10T09:24:53.378Z"
   },
   {
    "duration": 1169,
    "start_time": "2021-06-10T09:33:41.834Z"
   },
   {
    "duration": 17,
    "start_time": "2021-06-10T09:33:43.007Z"
   },
   {
    "duration": 14,
    "start_time": "2021-06-10T09:33:43.040Z"
   },
   {
    "duration": 73,
    "start_time": "2021-06-10T09:33:43.058Z"
   },
   {
    "duration": 9,
    "start_time": "2021-06-10T09:33:43.134Z"
   },
   {
    "duration": 14,
    "start_time": "2021-06-10T09:33:43.146Z"
   },
   {
    "duration": 116,
    "start_time": "2021-06-10T09:33:43.163Z"
   },
   {
    "duration": 12,
    "start_time": "2021-06-10T09:33:43.284Z"
   },
   {
    "duration": 27,
    "start_time": "2021-06-10T09:33:43.299Z"
   },
   {
    "duration": 8,
    "start_time": "2021-06-10T09:33:43.329Z"
   },
   {
    "duration": 61,
    "start_time": "2021-06-10T09:33:43.340Z"
   },
   {
    "duration": 102,
    "start_time": "2021-06-10T09:33:43.403Z"
   },
   {
    "duration": 98,
    "start_time": "2021-06-10T09:33:43.508Z"
   },
   {
    "duration": 23,
    "start_time": "2021-06-10T09:33:43.608Z"
   },
   {
    "duration": 1098,
    "start_time": "2021-06-10T10:30:18.148Z"
   },
   {
    "duration": 5,
    "start_time": "2021-06-10T10:30:19.249Z"
   },
   {
    "duration": 14,
    "start_time": "2021-06-10T10:30:19.257Z"
   },
   {
    "duration": 79,
    "start_time": "2021-06-10T10:30:19.274Z"
   },
   {
    "duration": 6,
    "start_time": "2021-06-10T10:30:19.356Z"
   },
   {
    "duration": 6,
    "start_time": "2021-06-10T10:30:19.365Z"
   },
   {
    "duration": 120,
    "start_time": "2021-06-10T10:30:19.372Z"
   },
   {
    "duration": 12,
    "start_time": "2021-06-10T10:30:19.495Z"
   },
   {
    "duration": 18,
    "start_time": "2021-06-10T10:30:19.510Z"
   },
   {
    "duration": 8,
    "start_time": "2021-06-10T10:30:19.530Z"
   },
   {
    "duration": 55,
    "start_time": "2021-06-10T10:30:19.540Z"
   },
   {
    "duration": 101,
    "start_time": "2021-06-10T10:30:19.598Z"
   },
   {
    "duration": 98,
    "start_time": "2021-06-10T10:30:19.702Z"
   },
   {
    "duration": 22,
    "start_time": "2021-06-10T10:30:19.803Z"
   },
   {
    "duration": 1035,
    "start_time": "2021-06-10T10:30:48.753Z"
   },
   {
    "duration": 6,
    "start_time": "2021-06-10T10:30:49.790Z"
   },
   {
    "duration": 26,
    "start_time": "2021-06-10T10:30:49.799Z"
   },
   {
    "duration": 60,
    "start_time": "2021-06-10T10:30:49.828Z"
   },
   {
    "duration": 6,
    "start_time": "2021-06-10T10:30:49.891Z"
   },
   {
    "duration": 6,
    "start_time": "2021-06-10T10:30:49.925Z"
   },
   {
    "duration": 112,
    "start_time": "2021-06-10T10:30:49.933Z"
   },
   {
    "duration": 11,
    "start_time": "2021-06-10T10:30:50.049Z"
   },
   {
    "duration": 5,
    "start_time": "2021-06-10T10:30:50.063Z"
   },
   {
    "duration": 8,
    "start_time": "2021-06-10T10:30:50.070Z"
   },
   {
    "duration": 82,
    "start_time": "2021-06-10T10:30:50.081Z"
   },
   {
    "duration": 95,
    "start_time": "2021-06-10T10:30:50.165Z"
   },
   {
    "duration": 96,
    "start_time": "2021-06-10T10:30:50.262Z"
   },
   {
    "duration": 9,
    "start_time": "2021-06-10T10:30:50.360Z"
   },
   {
    "duration": 2,
    "start_time": "2021-06-10T10:30:50.372Z"
   },
   {
    "duration": 21,
    "start_time": "2021-06-10T10:30:50.377Z"
   },
   {
    "duration": 24,
    "start_time": "2021-06-10T10:30:50.401Z"
   },
   {
    "duration": 10,
    "start_time": "2021-06-10T10:30:50.427Z"
   },
   {
    "duration": 5,
    "start_time": "2021-06-10T10:30:50.439Z"
   },
   {
    "duration": 6,
    "start_time": "2021-06-10T10:30:50.447Z"
   },
   {
    "duration": 351,
    "start_time": "2021-06-10T10:32:29.211Z"
   },
   {
    "duration": 941,
    "start_time": "2021-06-10T10:32:38.371Z"
   },
   {
    "duration": 10,
    "start_time": "2021-06-10T10:32:39.314Z"
   },
   {
    "duration": 11,
    "start_time": "2021-06-10T10:32:39.327Z"
   },
   {
    "duration": 83,
    "start_time": "2021-06-10T10:32:39.341Z"
   },
   {
    "duration": 6,
    "start_time": "2021-06-10T10:32:39.427Z"
   },
   {
    "duration": 8,
    "start_time": "2021-06-10T10:32:39.436Z"
   },
   {
    "duration": 112,
    "start_time": "2021-06-10T10:32:39.446Z"
   },
   {
    "duration": 12,
    "start_time": "2021-06-10T10:32:39.563Z"
   },
   {
    "duration": 6,
    "start_time": "2021-06-10T10:32:39.577Z"
   },
   {
    "duration": 7,
    "start_time": "2021-06-10T10:32:39.585Z"
   },
   {
    "duration": 81,
    "start_time": "2021-06-10T10:32:39.595Z"
   },
   {
    "duration": 106,
    "start_time": "2021-06-10T10:32:39.678Z"
   },
   {
    "duration": 91,
    "start_time": "2021-06-10T10:32:39.786Z"
   },
   {
    "duration": 9,
    "start_time": "2021-06-10T10:32:39.880Z"
   },
   {
    "duration": 876,
    "start_time": "2021-06-10T10:32:39.891Z"
   },
   {
    "duration": 7,
    "start_time": "2021-06-10T10:32:40.769Z"
   },
   {
    "duration": 14,
    "start_time": "2021-06-10T10:32:40.778Z"
   },
   {
    "duration": 30,
    "start_time": "2021-06-10T10:32:40.794Z"
   },
   {
    "duration": 7,
    "start_time": "2021-06-10T10:32:40.826Z"
   },
   {
    "duration": 11,
    "start_time": "2021-06-10T10:32:40.835Z"
   },
   {
    "duration": 6,
    "start_time": "2021-06-10T10:35:36.941Z"
   },
   {
    "duration": 5,
    "start_time": "2021-06-10T10:35:38.794Z"
   },
   {
    "duration": 10,
    "start_time": "2021-06-10T10:35:53.820Z"
   },
   {
    "duration": 306,
    "start_time": "2021-06-10T10:36:21.236Z"
   },
   {
    "duration": 298,
    "start_time": "2021-06-10T10:37:05.205Z"
   },
   {
    "duration": 307,
    "start_time": "2021-06-10T10:37:14.212Z"
   },
   {
    "duration": 7784,
    "start_time": "2021-06-10T10:37:48.479Z"
   },
   {
    "duration": 94,
    "start_time": "2021-06-10T10:38:17.695Z"
   },
   {
    "duration": 768,
    "start_time": "2021-06-10T10:38:27.245Z"
   },
   {
    "duration": 337,
    "start_time": "2021-06-10T10:39:19.477Z"
   },
   {
    "duration": 6,
    "start_time": "2021-06-10T10:40:21.336Z"
   },
   {
    "duration": 297,
    "start_time": "2021-06-10T10:40:47.644Z"
   },
   {
    "duration": 286,
    "start_time": "2021-06-10T10:41:00.418Z"
   },
   {
    "duration": 572,
    "start_time": "2021-06-10T10:41:07.760Z"
   },
   {
    "duration": 3156,
    "start_time": "2021-06-10T10:41:20.499Z"
   },
   {
    "duration": 273,
    "start_time": "2021-06-10T10:41:28.667Z"
   },
   {
    "duration": 421,
    "start_time": "2021-06-10T10:41:50.874Z"
   },
   {
    "duration": 279,
    "start_time": "2021-06-10T10:42:03.401Z"
   },
   {
    "duration": 9,
    "start_time": "2021-06-10T10:42:35.345Z"
   },
   {
    "duration": 7,
    "start_time": "2021-06-10T10:42:50.964Z"
   },
   {
    "duration": 313,
    "start_time": "2021-06-10T10:43:19.946Z"
   },
   {
    "duration": 286,
    "start_time": "2021-06-10T10:44:06.414Z"
   },
   {
    "duration": 143,
    "start_time": "2021-06-10T10:44:15.474Z"
   },
   {
    "duration": 264,
    "start_time": "2021-06-10T10:44:49.419Z"
   },
   {
    "duration": 87,
    "start_time": "2021-06-10T10:45:35.692Z"
   },
   {
    "duration": 89,
    "start_time": "2021-06-10T10:46:07.957Z"
   },
   {
    "duration": 317,
    "start_time": "2021-06-10T10:46:28.457Z"
   },
   {
    "duration": 12,
    "start_time": "2021-06-10T11:47:26.864Z"
   },
   {
    "duration": 277,
    "start_time": "2021-06-10T11:49:12.630Z"
   },
   {
    "duration": 13,
    "start_time": "2021-06-10T11:49:44.361Z"
   },
   {
    "duration": 265,
    "start_time": "2021-06-10T11:50:51.333Z"
   },
   {
    "duration": 8,
    "start_time": "2021-06-10T11:52:34.258Z"
   },
   {
    "duration": 94,
    "start_time": "2021-06-10T11:52:42.233Z"
   },
   {
    "duration": 88,
    "start_time": "2021-06-10T11:52:47.113Z"
   },
   {
    "duration": 12,
    "start_time": "2021-06-10T11:53:05.940Z"
   },
   {
    "duration": 8,
    "start_time": "2021-06-10T11:53:28.138Z"
   },
   {
    "duration": 14,
    "start_time": "2021-06-10T11:54:04.647Z"
   },
   {
    "duration": 120,
    "start_time": "2021-06-10T11:54:13.690Z"
   },
   {
    "duration": 12,
    "start_time": "2021-06-10T11:54:36.707Z"
   },
   {
    "duration": 12,
    "start_time": "2021-06-10T11:55:06.665Z"
   },
   {
    "duration": 12,
    "start_time": "2021-06-10T11:55:13.345Z"
   },
   {
    "duration": 13,
    "start_time": "2021-06-10T11:55:28.736Z"
   },
   {
    "duration": 547,
    "start_time": "2021-06-10T11:59:07.241Z"
   },
   {
    "duration": 809,
    "start_time": "2021-06-10T12:03:18.868Z"
   },
   {
    "duration": 833,
    "start_time": "2021-06-10T12:03:45.893Z"
   },
   {
    "duration": 815,
    "start_time": "2021-06-10T12:04:01.782Z"
   },
   {
    "duration": 280,
    "start_time": "2021-06-10T12:05:18.914Z"
   },
   {
    "duration": 306,
    "start_time": "2021-06-10T12:05:34.015Z"
   },
   {
    "duration": 275,
    "start_time": "2021-06-10T12:05:48.356Z"
   },
   {
    "duration": 285,
    "start_time": "2021-06-10T12:06:10.067Z"
   },
   {
    "duration": 280,
    "start_time": "2021-06-10T12:06:32.903Z"
   },
   {
    "duration": 270,
    "start_time": "2021-06-10T12:06:59.523Z"
   },
   {
    "duration": 489,
    "start_time": "2021-06-10T12:07:12.751Z"
   },
   {
    "duration": 476,
    "start_time": "2021-06-10T12:08:02.751Z"
   },
   {
    "duration": 255,
    "start_time": "2021-06-10T12:08:35.976Z"
   },
   {
    "duration": 1249,
    "start_time": "2021-06-10T12:09:11.152Z"
   },
   {
    "duration": 474,
    "start_time": "2021-06-10T12:09:32.937Z"
   },
   {
    "duration": 483,
    "start_time": "2021-06-10T12:10:15.447Z"
   },
   {
    "duration": 281,
    "start_time": "2021-06-10T12:10:33.794Z"
   },
   {
    "duration": 513,
    "start_time": "2021-06-10T12:12:59.646Z"
   },
   {
    "duration": 512,
    "start_time": "2021-06-10T12:13:09.336Z"
   },
   {
    "duration": 497,
    "start_time": "2021-06-10T12:13:31.037Z"
   },
   {
    "duration": 690,
    "start_time": "2021-06-10T12:13:51.478Z"
   },
   {
    "duration": 286,
    "start_time": "2021-06-10T12:14:51.282Z"
   },
   {
    "duration": 947,
    "start_time": "2021-06-10T12:15:27.924Z"
   },
   {
    "duration": 11,
    "start_time": "2021-06-10T12:16:31.139Z"
   },
   {
    "duration": 13,
    "start_time": "2021-06-10T12:16:56.556Z"
   },
   {
    "duration": 13,
    "start_time": "2021-06-10T12:17:09.870Z"
   },
   {
    "duration": 10,
    "start_time": "2021-06-10T12:17:49.203Z"
   },
   {
    "duration": 294,
    "start_time": "2021-06-10T12:18:01.947Z"
   },
   {
    "duration": 295,
    "start_time": "2021-06-10T12:19:49.835Z"
   },
   {
    "duration": 296,
    "start_time": "2021-06-10T12:20:46.921Z"
   },
   {
    "duration": 251,
    "start_time": "2021-06-10T12:21:01.136Z"
   },
   {
    "duration": 376,
    "start_time": "2021-06-10T12:21:10.673Z"
   },
   {
    "duration": 875,
    "start_time": "2021-06-10T12:21:18.741Z"
   },
   {
    "duration": 3289,
    "start_time": "2021-06-10T12:22:18.035Z"
   },
   {
    "duration": 487,
    "start_time": "2021-06-10T12:22:25.837Z"
   },
   {
    "duration": 807,
    "start_time": "2021-06-10T12:22:53.291Z"
   },
   {
    "duration": 618,
    "start_time": "2021-06-10T12:23:09.944Z"
   },
   {
    "duration": 310,
    "start_time": "2021-06-10T12:24:41.043Z"
   },
   {
    "duration": 293,
    "start_time": "2021-06-10T12:24:55.080Z"
   },
   {
    "duration": 10,
    "start_time": "2021-06-10T12:25:17.509Z"
   },
   {
    "duration": 273,
    "start_time": "2021-06-10T12:25:36.095Z"
   },
   {
    "duration": 13,
    "start_time": "2021-06-10T12:26:00.335Z"
   },
   {
    "duration": 9,
    "start_time": "2021-06-10T12:26:36.761Z"
   },
   {
    "duration": 8,
    "start_time": "2021-06-10T12:26:46.200Z"
   },
   {
    "duration": 12,
    "start_time": "2021-06-10T12:26:51.964Z"
   },
   {
    "duration": 10,
    "start_time": "2021-06-10T12:27:14.564Z"
   },
   {
    "duration": 9,
    "start_time": "2021-06-10T12:27:27.344Z"
   },
   {
    "duration": 9,
    "start_time": "2021-06-10T12:27:44.015Z"
   },
   {
    "duration": 277,
    "start_time": "2021-06-10T12:27:51.739Z"
   },
   {
    "duration": 11,
    "start_time": "2021-06-10T12:30:27.083Z"
   },
   {
    "duration": 266,
    "start_time": "2021-06-10T12:30:59.087Z"
   },
   {
    "duration": 10,
    "start_time": "2021-06-10T12:31:54.823Z"
   },
   {
    "duration": 269,
    "start_time": "2021-06-10T12:33:15.368Z"
   },
   {
    "duration": 12,
    "start_time": "2021-06-10T12:33:54.992Z"
   },
   {
    "duration": 13,
    "start_time": "2021-06-10T12:38:24.786Z"
   },
   {
    "duration": 56,
    "start_time": "2021-06-10T12:39:52.545Z"
   },
   {
    "duration": 74,
    "start_time": "2021-06-10T12:41:14.861Z"
   },
   {
    "duration": 85,
    "start_time": "2021-06-10T12:54:50.459Z"
   },
   {
    "duration": 292,
    "start_time": "2021-06-10T12:55:22.470Z"
   },
   {
    "duration": 17,
    "start_time": "2021-06-10T12:55:48.043Z"
   },
   {
    "duration": 22,
    "start_time": "2021-06-10T12:56:17.982Z"
   },
   {
    "duration": 12,
    "start_time": "2021-06-10T12:56:56.859Z"
   },
   {
    "duration": 21,
    "start_time": "2021-06-10T12:57:22.610Z"
   },
   {
    "duration": 24,
    "start_time": "2021-06-10T12:57:50.031Z"
   },
   {
    "duration": 22,
    "start_time": "2021-06-10T13:30:08.602Z"
   },
   {
    "duration": 6,
    "start_time": "2021-06-10T13:31:15.637Z"
   },
   {
    "duration": 7,
    "start_time": "2021-06-10T13:31:21.099Z"
   },
   {
    "duration": 9,
    "start_time": "2021-06-10T13:31:30.755Z"
   },
   {
    "duration": 7,
    "start_time": "2021-06-10T13:31:33.452Z"
   },
   {
    "duration": 9,
    "start_time": "2021-06-10T13:31:51.172Z"
   },
   {
    "duration": 40,
    "start_time": "2021-06-10T13:32:06.062Z"
   },
   {
    "duration": 15,
    "start_time": "2021-06-10T13:32:25.533Z"
   },
   {
    "duration": 102,
    "start_time": "2021-06-10T13:39:05.541Z"
   },
   {
    "duration": 87,
    "start_time": "2021-06-10T13:39:14.945Z"
   },
   {
    "duration": 88,
    "start_time": "2021-06-10T13:39:24.627Z"
   },
   {
    "duration": 109,
    "start_time": "2021-06-10T13:39:28.002Z"
   },
   {
    "duration": 89,
    "start_time": "2021-06-10T13:39:34.959Z"
   },
   {
    "duration": 10,
    "start_time": "2021-06-10T13:39:45.594Z"
   },
   {
    "duration": 17,
    "start_time": "2021-06-10T13:39:55.391Z"
   },
   {
    "duration": 9,
    "start_time": "2021-06-10T13:42:14.236Z"
   },
   {
    "duration": 20,
    "start_time": "2021-06-10T13:42:17.247Z"
   },
   {
    "duration": 9,
    "start_time": "2021-06-10T13:43:53.358Z"
   },
   {
    "duration": 20,
    "start_time": "2021-06-10T13:43:57.984Z"
   },
   {
    "duration": 10,
    "start_time": "2021-06-10T13:44:17.599Z"
   },
   {
    "duration": 19,
    "start_time": "2021-06-10T13:44:19.893Z"
   },
   {
    "duration": 9,
    "start_time": "2021-06-10T13:44:56.503Z"
   },
   {
    "duration": 21,
    "start_time": "2021-06-10T13:44:58.624Z"
   },
   {
    "duration": 24,
    "start_time": "2021-06-10T13:46:05.290Z"
   },
   {
    "duration": 9,
    "start_time": "2021-06-10T13:46:29.541Z"
   },
   {
    "duration": 24,
    "start_time": "2021-06-10T13:47:48.764Z"
   },
   {
    "duration": 26,
    "start_time": "2021-06-10T13:47:50.427Z"
   },
   {
    "duration": 24,
    "start_time": "2021-06-10T13:48:51.341Z"
   },
   {
    "duration": 1868,
    "start_time": "2021-06-10T13:51:51.025Z"
   },
   {
    "duration": 1272,
    "start_time": "2021-06-10T13:51:51.625Z"
   },
   {
    "duration": 19,
    "start_time": "2021-06-10T13:52:17.221Z"
   },
   {
    "duration": 30,
    "start_time": "2021-06-10T13:52:20.170Z"
   },
   {
    "duration": 3685,
    "start_time": "2021-06-10T13:53:04.768Z"
   },
   {
    "duration": 288,
    "start_time": "2021-06-10T13:53:23.252Z"
   },
   {
    "duration": 5192,
    "start_time": "2021-06-10T13:56:00.660Z"
   },
   {
    "duration": 6745,
    "start_time": "2021-06-10T13:56:48.092Z"
   },
   {
    "duration": 13,
    "start_time": "2021-06-10T14:34:01.029Z"
   },
   {
    "duration": 10,
    "start_time": "2021-06-10T14:39:52.286Z"
   },
   {
    "duration": 38,
    "start_time": "2021-06-10T14:40:02.730Z"
   },
   {
    "duration": 11,
    "start_time": "2021-06-10T14:40:46.353Z"
   },
   {
    "duration": 39,
    "start_time": "2021-06-10T14:40:47.119Z"
   },
   {
    "duration": 302,
    "start_time": "2021-06-10T16:10:45.987Z"
   },
   {
    "duration": 1132,
    "start_time": "2021-06-10T16:10:50.552Z"
   },
   {
    "duration": 4,
    "start_time": "2021-06-10T16:10:51.687Z"
   },
   {
    "duration": 15,
    "start_time": "2021-06-10T16:10:51.694Z"
   },
   {
    "duration": 80,
    "start_time": "2021-06-10T16:10:51.712Z"
   },
   {
    "duration": 6,
    "start_time": "2021-06-10T16:10:51.794Z"
   },
   {
    "duration": 8,
    "start_time": "2021-06-10T16:10:51.803Z"
   },
   {
    "duration": 122,
    "start_time": "2021-06-10T16:10:51.813Z"
   },
   {
    "duration": 11,
    "start_time": "2021-06-10T16:10:51.939Z"
   },
   {
    "duration": 30,
    "start_time": "2021-06-10T16:10:51.953Z"
   },
   {
    "duration": 7,
    "start_time": "2021-06-10T16:10:51.985Z"
   },
   {
    "duration": 54,
    "start_time": "2021-06-10T16:10:51.994Z"
   },
   {
    "duration": 106,
    "start_time": "2021-06-10T16:10:52.050Z"
   },
   {
    "duration": 94,
    "start_time": "2021-06-10T16:10:52.159Z"
   },
   {
    "duration": 304,
    "start_time": "2021-06-10T16:10:52.255Z"
   },
   {
    "duration": -3559,
    "start_time": "2021-06-10T16:10:56.122Z"
   },
   {
    "duration": -3562,
    "start_time": "2021-06-10T16:10:56.126Z"
   },
   {
    "duration": -3564,
    "start_time": "2021-06-10T16:10:56.130Z"
   },
   {
    "duration": -3568,
    "start_time": "2021-06-10T16:10:56.135Z"
   },
   {
    "duration": -3571,
    "start_time": "2021-06-10T16:10:56.140Z"
   },
   {
    "duration": -3575,
    "start_time": "2021-06-10T16:10:56.145Z"
   },
   {
    "duration": -3578,
    "start_time": "2021-06-10T16:10:56.149Z"
   },
   {
    "duration": -3622,
    "start_time": "2021-06-10T16:10:56.195Z"
   },
   {
    "duration": -3626,
    "start_time": "2021-06-10T16:10:56.201Z"
   },
   {
    "duration": -3636,
    "start_time": "2021-06-10T16:10:56.212Z"
   },
   {
    "duration": -3641,
    "start_time": "2021-06-10T16:10:56.218Z"
   },
   {
    "duration": -3644,
    "start_time": "2021-06-10T16:10:56.223Z"
   },
   {
    "duration": -3647,
    "start_time": "2021-06-10T16:10:56.227Z"
   },
   {
    "duration": -3650,
    "start_time": "2021-06-10T16:10:56.231Z"
   },
   {
    "duration": -3652,
    "start_time": "2021-06-10T16:10:56.235Z"
   },
   {
    "duration": -3655,
    "start_time": "2021-06-10T16:10:56.239Z"
   },
   {
    "duration": 13,
    "start_time": "2021-06-10T16:11:27.256Z"
   },
   {
    "duration": 39,
    "start_time": "2021-06-10T16:11:29.177Z"
   },
   {
    "duration": 10,
    "start_time": "2021-06-10T16:18:30.598Z"
   },
   {
    "duration": 34,
    "start_time": "2021-06-10T16:18:33.230Z"
   },
   {
    "duration": 246,
    "start_time": "2021-06-10T16:21:37.398Z"
   },
   {
    "duration": 9,
    "start_time": "2021-06-10T16:21:47.631Z"
   },
   {
    "duration": 35,
    "start_time": "2021-06-10T16:21:51.862Z"
   },
   {
    "duration": 5,
    "start_time": "2021-06-10T16:22:27.761Z"
   },
   {
    "duration": 8,
    "start_time": "2021-06-10T16:22:41.774Z"
   },
   {
    "duration": 1632,
    "start_time": "2021-06-10T16:26:46.546Z"
   },
   {
    "duration": 291,
    "start_time": "2021-06-10T16:28:17.237Z"
   },
   {
    "duration": 57,
    "start_time": "2021-06-10T16:29:08.538Z"
   },
   {
    "duration": 35,
    "start_time": "2021-06-10T16:29:18.404Z"
   },
   {
    "duration": 154,
    "start_time": "2021-06-10T16:30:03.242Z"
   },
   {
    "duration": 84,
    "start_time": "2021-06-10T16:30:45.220Z"
   },
   {
    "duration": 22,
    "start_time": "2021-06-10T16:30:53.240Z"
   },
   {
    "duration": 256,
    "start_time": "2021-06-10T16:31:21.502Z"
   },
   {
    "duration": 267,
    "start_time": "2021-06-10T16:31:30.242Z"
   },
   {
    "duration": 1611,
    "start_time": "2021-06-10T16:31:44.002Z"
   },
   {
    "duration": 1650,
    "start_time": "2021-06-10T16:32:02.073Z"
   },
   {
    "duration": 1917,
    "start_time": "2021-06-10T16:32:14.336Z"
   },
   {
    "duration": 1556,
    "start_time": "2021-06-10T16:32:45.234Z"
   },
   {
    "duration": 47,
    "start_time": "2021-06-10T16:33:55.781Z"
   },
   {
    "duration": 35,
    "start_time": "2021-06-10T16:33:58.394Z"
   },
   {
    "duration": 12,
    "start_time": "2021-06-10T16:34:35.006Z"
   },
   {
    "duration": 48,
    "start_time": "2021-06-10T16:40:53.502Z"
   },
   {
    "duration": 37,
    "start_time": "2021-06-10T16:40:54.254Z"
   },
   {
    "duration": 287,
    "start_time": "2021-06-10T16:41:05.720Z"
   },
   {
    "duration": 5,
    "start_time": "2021-06-10T16:41:06.010Z"
   },
   {
    "duration": 12,
    "start_time": "2021-06-10T16:41:06.018Z"
   },
   {
    "duration": 75,
    "start_time": "2021-06-10T16:41:06.033Z"
   },
   {
    "duration": 6,
    "start_time": "2021-06-10T16:41:06.111Z"
   },
   {
    "duration": 17,
    "start_time": "2021-06-10T16:41:06.119Z"
   },
   {
    "duration": 99,
    "start_time": "2021-06-10T16:41:06.139Z"
   },
   {
    "duration": 13,
    "start_time": "2021-06-10T16:41:06.244Z"
   },
   {
    "duration": 28,
    "start_time": "2021-06-10T16:41:06.261Z"
   },
   {
    "duration": 18,
    "start_time": "2021-06-10T16:41:06.291Z"
   },
   {
    "duration": 61,
    "start_time": "2021-06-10T16:41:06.311Z"
   },
   {
    "duration": 90,
    "start_time": "2021-06-10T16:41:06.374Z"
   },
   {
    "duration": 79,
    "start_time": "2021-06-10T16:41:06.483Z"
   },
   {
    "duration": 22,
    "start_time": "2021-06-10T16:41:06.564Z"
   },
   {
    "duration": 37,
    "start_time": "2021-06-10T16:41:06.589Z"
   },
   {
    "duration": 74,
    "start_time": "2021-06-10T16:41:06.629Z"
   },
   {
    "duration": 33,
    "start_time": "2021-06-10T16:41:06.706Z"
   },
   {
    "duration": 83,
    "start_time": "2021-06-10T16:41:06.742Z"
   },
   {
    "duration": -2920,
    "start_time": "2021-06-10T16:41:09.748Z"
   },
   {
    "duration": -2938,
    "start_time": "2021-06-10T16:41:09.767Z"
   },
   {
    "duration": -2947,
    "start_time": "2021-06-10T16:41:09.777Z"
   },
   {
    "duration": -2950,
    "start_time": "2021-06-10T16:41:09.782Z"
   },
   {
    "duration": -2955,
    "start_time": "2021-06-10T16:41:09.788Z"
   },
   {
    "duration": -2958,
    "start_time": "2021-06-10T16:41:09.792Z"
   },
   {
    "duration": -2960,
    "start_time": "2021-06-10T16:41:09.796Z"
   },
   {
    "duration": -2963,
    "start_time": "2021-06-10T16:41:09.800Z"
   },
   {
    "duration": -2966,
    "start_time": "2021-06-10T16:41:09.804Z"
   },
   {
    "duration": -2969,
    "start_time": "2021-06-10T16:41:09.808Z"
   },
   {
    "duration": -2971,
    "start_time": "2021-06-10T16:41:09.812Z"
   },
   {
    "duration": -2974,
    "start_time": "2021-06-10T16:41:09.816Z"
   },
   {
    "duration": -2977,
    "start_time": "2021-06-10T16:41:09.820Z"
   },
   {
    "duration": -2978,
    "start_time": "2021-06-10T16:41:09.823Z"
   },
   {
    "duration": -2980,
    "start_time": "2021-06-10T16:41:09.827Z"
   },
   {
    "duration": 8,
    "start_time": "2021-06-10T16:41:22.532Z"
   },
   {
    "duration": 11,
    "start_time": "2021-06-10T16:44:30.677Z"
   },
   {
    "duration": 35,
    "start_time": "2021-06-10T16:44:32.387Z"
   },
   {
    "duration": 55,
    "start_time": "2021-06-10T16:45:05.995Z"
   },
   {
    "duration": 11,
    "start_time": "2021-06-10T16:45:18.187Z"
   },
   {
    "duration": 53,
    "start_time": "2021-06-10T16:45:22.848Z"
   },
   {
    "duration": 11,
    "start_time": "2021-06-10T16:46:12.847Z"
   },
   {
    "duration": 36,
    "start_time": "2021-06-10T16:46:14.069Z"
   },
   {
    "duration": 10,
    "start_time": "2021-06-10T16:46:31.629Z"
   },
   {
    "duration": 11,
    "start_time": "2021-06-10T16:46:54.664Z"
   },
   {
    "duration": 36,
    "start_time": "2021-06-10T16:47:00.025Z"
   },
   {
    "duration": 10,
    "start_time": "2021-06-10T16:47:06.579Z"
   },
   {
    "duration": 35,
    "start_time": "2021-06-10T16:47:08.165Z"
   },
   {
    "duration": 9,
    "start_time": "2021-06-10T16:47:19.399Z"
   },
   {
    "duration": 33,
    "start_time": "2021-06-10T16:47:21.065Z"
   },
   {
    "duration": 269,
    "start_time": "2021-06-10T16:50:50.695Z"
   },
   {
    "duration": 4,
    "start_time": "2021-06-10T16:50:50.967Z"
   },
   {
    "duration": 20,
    "start_time": "2021-06-10T16:50:50.974Z"
   },
   {
    "duration": 56,
    "start_time": "2021-06-10T16:50:50.998Z"
   },
   {
    "duration": 33,
    "start_time": "2021-06-10T16:50:51.056Z"
   },
   {
    "duration": 10,
    "start_time": "2021-06-10T16:50:51.091Z"
   },
   {
    "duration": 119,
    "start_time": "2021-06-10T16:50:51.104Z"
   },
   {
    "duration": 12,
    "start_time": "2021-06-10T16:50:51.229Z"
   },
   {
    "duration": 5,
    "start_time": "2021-06-10T16:50:51.244Z"
   },
   {
    "duration": 35,
    "start_time": "2021-06-10T16:50:51.251Z"
   },
   {
    "duration": 57,
    "start_time": "2021-06-10T16:50:51.289Z"
   },
   {
    "duration": 107,
    "start_time": "2021-06-10T16:50:51.348Z"
   },
   {
    "duration": 94,
    "start_time": "2021-06-10T16:50:51.458Z"
   },
   {
    "duration": 16,
    "start_time": "2021-06-10T16:50:51.554Z"
   },
   {
    "duration": 5,
    "start_time": "2021-06-10T16:50:51.584Z"
   },
   {
    "duration": 43,
    "start_time": "2021-06-10T16:50:51.592Z"
   },
   {
    "duration": 6,
    "start_time": "2021-06-10T16:50:51.637Z"
   },
   {
    "duration": 66,
    "start_time": "2021-06-10T16:50:51.646Z"
   },
   {
    "duration": 9,
    "start_time": "2021-06-10T16:50:51.714Z"
   },
   {
    "duration": 7,
    "start_time": "2021-06-10T16:50:51.725Z"
   },
   {
    "duration": 9,
    "start_time": "2021-06-10T16:50:51.735Z"
   },
   {
    "duration": 17,
    "start_time": "2021-06-10T16:50:51.746Z"
   },
   {
    "duration": 12,
    "start_time": "2021-06-10T16:51:08.622Z"
   },
   {
    "duration": 20,
    "start_time": "2021-06-10T16:52:18.238Z"
   },
   {
    "duration": 26,
    "start_time": "2021-06-10T16:54:33.620Z"
   },
   {
    "duration": 26,
    "start_time": "2021-06-10T16:55:00.060Z"
   },
   {
    "duration": 26,
    "start_time": "2021-06-10T16:55:09.125Z"
   },
   {
    "duration": 21,
    "start_time": "2021-06-10T16:56:19.491Z"
   },
   {
    "duration": 21,
    "start_time": "2021-06-10T16:56:31.871Z"
   },
   {
    "duration": 19,
    "start_time": "2021-06-10T16:56:39.054Z"
   },
   {
    "duration": 22,
    "start_time": "2021-06-10T16:56:45.509Z"
   },
   {
    "duration": 21,
    "start_time": "2021-06-10T16:56:51.157Z"
   },
   {
    "duration": 20,
    "start_time": "2021-06-10T16:56:55.549Z"
   },
   {
    "duration": 19,
    "start_time": "2021-06-10T16:57:08.232Z"
   },
   {
    "duration": 20,
    "start_time": "2021-06-10T16:57:13.191Z"
   },
   {
    "duration": 20,
    "start_time": "2021-06-10T16:57:19.064Z"
   },
   {
    "duration": 30,
    "start_time": "2021-06-10T16:57:38.237Z"
   },
   {
    "duration": 28,
    "start_time": "2021-06-10T16:59:50.230Z"
   },
   {
    "duration": 28,
    "start_time": "2021-06-10T17:01:16.418Z"
   },
   {
    "duration": 7,
    "start_time": "2021-06-10T17:01:58.226Z"
   },
   {
    "duration": 237,
    "start_time": "2021-06-10T17:02:34.568Z"
   },
   {
    "duration": 232,
    "start_time": "2021-06-10T17:02:59.329Z"
   },
   {
    "duration": 25,
    "start_time": "2021-06-10T17:03:45.594Z"
   },
   {
    "duration": 28,
    "start_time": "2021-06-10T17:04:19.092Z"
   },
   {
    "duration": 25,
    "start_time": "2021-06-10T17:04:22.730Z"
   },
   {
    "duration": 18,
    "start_time": "2021-06-10T17:05:10.533Z"
   },
   {
    "duration": 237,
    "start_time": "2021-06-10T17:05:31.987Z"
   },
   {
    "duration": 19,
    "start_time": "2021-06-10T17:05:43.734Z"
   },
   {
    "duration": 76,
    "start_time": "2021-06-10T17:06:04.850Z"
   },
   {
    "duration": 32,
    "start_time": "2021-06-10T17:06:12.250Z"
   },
   {
    "duration": 272,
    "start_time": "2021-06-10T17:06:55.659Z"
   },
   {
    "duration": 31,
    "start_time": "2021-06-10T17:07:02.453Z"
   },
   {
    "duration": 22,
    "start_time": "2021-06-10T17:09:18.243Z"
   },
   {
    "duration": 28,
    "start_time": "2021-06-10T17:09:24.964Z"
   },
   {
    "duration": 32,
    "start_time": "2021-06-10T17:09:32.900Z"
   },
   {
    "duration": 20,
    "start_time": "2021-06-10T17:11:35.312Z"
   },
   {
    "duration": 46,
    "start_time": "2021-06-10T17:12:18.254Z"
   },
   {
    "duration": 21,
    "start_time": "2021-06-10T17:12:43.967Z"
   },
   {
    "duration": 47,
    "start_time": "2021-06-10T17:12:46.751Z"
   },
   {
    "duration": 43,
    "start_time": "2021-06-10T17:13:24.464Z"
   },
   {
    "duration": 20,
    "start_time": "2021-06-10T17:14:09.634Z"
   },
   {
    "duration": 28,
    "start_time": "2021-06-10T17:14:12.292Z"
   },
   {
    "duration": 7,
    "start_time": "2021-06-10T17:16:41.758Z"
   },
   {
    "duration": 252,
    "start_time": "2021-06-10T17:17:06.507Z"
   },
   {
    "duration": 29,
    "start_time": "2021-06-10T17:17:24.147Z"
   },
   {
    "duration": 32,
    "start_time": "2021-06-10T17:18:18.523Z"
   },
   {
    "duration": 31,
    "start_time": "2021-06-10T17:18:28.224Z"
   },
   {
    "duration": 21,
    "start_time": "2021-06-10T17:18:49.773Z"
   },
   {
    "duration": 367,
    "start_time": "2021-06-10T18:21:31.773Z"
   },
   {
    "duration": 5,
    "start_time": "2021-06-10T18:21:32.143Z"
   },
   {
    "duration": 33,
    "start_time": "2021-06-10T18:21:32.152Z"
   },
   {
    "duration": 57,
    "start_time": "2021-06-10T18:21:32.188Z"
   },
   {
    "duration": 6,
    "start_time": "2021-06-10T18:21:32.247Z"
   },
   {
    "duration": 32,
    "start_time": "2021-06-10T18:21:32.255Z"
   },
   {
    "duration": 100,
    "start_time": "2021-06-10T18:21:32.290Z"
   },
   {
    "duration": 13,
    "start_time": "2021-06-10T18:21:32.395Z"
   },
   {
    "duration": 6,
    "start_time": "2021-06-10T18:21:32.412Z"
   },
   {
    "duration": 9,
    "start_time": "2021-06-10T18:21:32.420Z"
   },
   {
    "duration": 88,
    "start_time": "2021-06-10T18:21:32.431Z"
   },
   {
    "duration": 83,
    "start_time": "2021-06-10T18:21:32.521Z"
   },
   {
    "duration": 79,
    "start_time": "2021-06-10T18:21:32.607Z"
   },
   {
    "duration": 20,
    "start_time": "2021-06-10T18:21:32.688Z"
   },
   {
    "duration": 26,
    "start_time": "2021-06-10T18:21:32.710Z"
   },
   {
    "duration": 8,
    "start_time": "2021-06-10T18:21:32.739Z"
   },
   {
    "duration": 3,
    "start_time": "2021-06-10T18:21:32.783Z"
   },
   {
    "duration": 47,
    "start_time": "2021-06-10T18:21:32.788Z"
   },
   {
    "duration": 7,
    "start_time": "2021-06-10T18:21:32.837Z"
   },
   {
    "duration": 52,
    "start_time": "2021-06-10T18:21:32.847Z"
   },
   {
    "duration": 14,
    "start_time": "2021-06-10T18:21:32.902Z"
   },
   {
    "duration": 8,
    "start_time": "2021-06-10T18:21:32.918Z"
   },
   {
    "duration": 7,
    "start_time": "2021-06-10T18:21:32.930Z"
   },
   {
    "duration": 10,
    "start_time": "2021-06-10T18:21:32.939Z"
   },
   {
    "duration": 20,
    "start_time": "2021-06-10T18:22:40.382Z"
   },
   {
    "duration": 1192,
    "start_time": "2021-06-10T18:23:33.451Z"
   },
   {
    "duration": 21,
    "start_time": "2021-06-10T18:24:01.950Z"
   },
   {
    "duration": 23,
    "start_time": "2021-06-10T18:24:13.241Z"
   },
   {
    "duration": 22,
    "start_time": "2021-06-10T18:24:33.545Z"
   },
   {
    "duration": 28,
    "start_time": "2021-06-10T18:26:08.269Z"
   },
   {
    "duration": 30,
    "start_time": "2021-06-10T18:26:48.721Z"
   },
   {
    "duration": 25,
    "start_time": "2021-06-10T18:30:43.119Z"
   },
   {
    "duration": 29,
    "start_time": "2021-06-10T18:31:56.472Z"
   },
   {
    "duration": 24,
    "start_time": "2021-06-10T18:33:01.125Z"
   },
   {
    "duration": 20,
    "start_time": "2021-06-10T18:37:17.860Z"
   },
   {
    "duration": 85,
    "start_time": "2021-06-10T18:41:09.231Z"
   },
   {
    "duration": 4,
    "start_time": "2021-06-10T18:41:34.715Z"
   },
   {
    "duration": 623,
    "start_time": "2021-06-10T18:41:52.553Z"
   },
   {
    "duration": 19,
    "start_time": "2021-06-10T18:42:19.515Z"
   },
   {
    "duration": 4,
    "start_time": "2021-06-10T18:42:39.908Z"
   },
   {
    "duration": 517,
    "start_time": "2021-06-10T18:42:41.068Z"
   },
   {
    "duration": 5,
    "start_time": "2021-06-10T18:43:00.611Z"
   },
   {
    "duration": 502,
    "start_time": "2021-06-10T18:43:01.629Z"
   },
   {
    "duration": 4,
    "start_time": "2021-06-10T18:43:10.907Z"
   },
   {
    "duration": 10,
    "start_time": "2021-06-10T18:43:11.554Z"
   },
   {
    "duration": 4,
    "start_time": "2021-06-10T18:43:16.981Z"
   },
   {
    "duration": 11,
    "start_time": "2021-06-10T18:43:17.895Z"
   },
   {
    "duration": 4,
    "start_time": "2021-06-10T18:43:52.162Z"
   },
   {
    "duration": 17,
    "start_time": "2021-06-10T18:43:52.626Z"
   },
   {
    "duration": 4,
    "start_time": "2021-06-10T18:44:30.683Z"
   },
   {
    "duration": 16,
    "start_time": "2021-06-10T18:44:32.212Z"
   },
   {
    "duration": 16,
    "start_time": "2021-06-10T18:44:38.626Z"
   },
   {
    "duration": 4,
    "start_time": "2021-06-10T18:44:45.778Z"
   },
   {
    "duration": 12,
    "start_time": "2021-06-10T18:44:47.593Z"
   },
   {
    "duration": 3,
    "start_time": "2021-06-10T18:46:31.323Z"
   },
   {
    "duration": 13,
    "start_time": "2021-06-10T18:46:31.982Z"
   },
   {
    "duration": 4,
    "start_time": "2021-06-10T18:47:40.598Z"
   },
   {
    "duration": 12,
    "start_time": "2021-06-10T18:47:41.770Z"
   },
   {
    "duration": 4,
    "start_time": "2021-06-10T18:47:50.829Z"
   },
   {
    "duration": 12,
    "start_time": "2021-06-10T18:47:51.549Z"
   },
   {
    "duration": 4,
    "start_time": "2021-06-10T18:48:46.193Z"
   },
   {
    "duration": 15,
    "start_time": "2021-06-10T18:48:47.086Z"
   },
   {
    "duration": 12,
    "start_time": "2021-06-10T18:48:54.613Z"
   },
   {
    "duration": 5875,
    "start_time": "2021-06-10T18:54:04.496Z"
   },
   {
    "duration": 87596,
    "start_time": "2021-06-10T18:55:02.307Z"
   },
   {
    "duration": 3,
    "start_time": "2021-06-10T18:56:51.660Z"
   },
   {
    "duration": 87449,
    "start_time": "2021-06-10T18:56:52.416Z"
   },
   {
    "duration": 246,
    "start_time": "2021-06-10T19:02:13.802Z"
   },
   {
    "duration": 259,
    "start_time": "2021-06-10T19:02:49.310Z"
   },
   {
    "duration": 232,
    "start_time": "2021-06-10T19:03:03.195Z"
   },
   {
    "duration": 273,
    "start_time": "2021-06-10T19:03:07.973Z"
   },
   {
    "duration": 12,
    "start_time": "2021-06-10T19:03:48.566Z"
   },
   {
    "duration": 254,
    "start_time": "2021-06-10T19:04:03.144Z"
   },
   {
    "duration": 12,
    "start_time": "2021-06-10T19:04:23.598Z"
   },
   {
    "duration": 12,
    "start_time": "2021-06-10T19:04:41.832Z"
   },
   {
    "duration": 46632,
    "start_time": "2021-06-10T19:06:26.918Z"
   },
   {
    "duration": 355,
    "start_time": "2021-06-10T19:07:22.881Z"
   },
   {
    "duration": 244,
    "start_time": "2021-06-10T19:07:36.482Z"
   },
   {
    "duration": 36,
    "start_time": "2021-06-10T19:07:48.692Z"
   },
   {
    "duration": 64,
    "start_time": "2021-06-10T19:08:01.133Z"
   },
   {
    "duration": 43,
    "start_time": "2021-06-10T19:08:10.077Z"
   },
   {
    "duration": 56410,
    "start_time": "2021-06-10T19:08:33.201Z"
   },
   {
    "duration": 914,
    "start_time": "2021-06-10T19:09:31.686Z"
   },
   {
    "duration": 4,
    "start_time": "2021-06-10T19:10:09.929Z"
   },
   {
    "duration": 949,
    "start_time": "2021-06-10T19:10:10.761Z"
   },
   {
    "duration": 231,
    "start_time": "2021-06-10T19:10:25.226Z"
   },
   {
    "duration": 921,
    "start_time": "2021-06-10T19:10:37.473Z"
   },
   {
    "duration": 5942,
    "start_time": "2021-06-10T19:10:58.756Z"
   },
   {
    "duration": 9385,
    "start_time": "2021-06-10T19:11:09.812Z"
   },
   {
    "duration": 11249,
    "start_time": "2021-06-10T19:11:26.347Z"
   },
   {
    "duration": 24266,
    "start_time": "2021-06-10T19:14:47.658Z"
   },
   {
    "duration": 256,
    "start_time": "2021-06-10T19:15:37.968Z"
   },
   {
    "duration": 5,
    "start_time": "2021-06-10T19:15:38.227Z"
   },
   {
    "duration": 14,
    "start_time": "2021-06-10T19:15:38.235Z"
   },
   {
    "duration": 78,
    "start_time": "2021-06-10T19:15:38.252Z"
   },
   {
    "duration": 7,
    "start_time": "2021-06-10T19:15:38.333Z"
   },
   {
    "duration": 8,
    "start_time": "2021-06-10T19:15:38.342Z"
   },
   {
    "duration": 97,
    "start_time": "2021-06-10T19:15:38.353Z"
   },
   {
    "duration": 30,
    "start_time": "2021-06-10T19:15:38.453Z"
   },
   {
    "duration": 6,
    "start_time": "2021-06-10T19:15:38.486Z"
   },
   {
    "duration": 8,
    "start_time": "2021-06-10T19:15:38.494Z"
   },
   {
    "duration": 54,
    "start_time": "2021-06-10T19:15:38.504Z"
   },
   {
    "duration": 68,
    "start_time": "2021-06-10T19:15:38.584Z"
   },
   {
    "duration": 90,
    "start_time": "2021-06-10T19:15:38.654Z"
   },
   {
    "duration": 21,
    "start_time": "2021-06-10T19:15:38.746Z"
   },
   {
    "duration": 3,
    "start_time": "2021-06-10T19:15:38.784Z"
   },
   {
    "duration": 38281,
    "start_time": "2021-06-10T19:15:38.790Z"
   },
   {
    "duration": -2746,
    "start_time": "2021-06-10T19:16:19.819Z"
   },
   {
    "duration": -2750,
    "start_time": "2021-06-10T19:16:19.825Z"
   },
   {
    "duration": -2752,
    "start_time": "2021-06-10T19:16:19.829Z"
   },
   {
    "duration": -2758,
    "start_time": "2021-06-10T19:16:19.836Z"
   },
   {
    "duration": -2761,
    "start_time": "2021-06-10T19:16:19.841Z"
   },
   {
    "duration": -2764,
    "start_time": "2021-06-10T19:16:19.845Z"
   },
   {
    "duration": -2767,
    "start_time": "2021-06-10T19:16:19.850Z"
   },
   {
    "duration": -2770,
    "start_time": "2021-06-10T19:16:19.854Z"
   },
   {
    "duration": 7,
    "start_time": "2021-06-10T19:16:19.821Z"
   },
   {
    "duration": 4,
    "start_time": "2021-06-10T19:16:52.437Z"
   },
   {
    "duration": 8546,
    "start_time": "2021-06-10T19:16:55.825Z"
   },
   {
    "duration": 12,
    "start_time": "2021-06-10T19:17:17.879Z"
   },
   {
    "duration": 20,
    "start_time": "2021-06-10T19:18:05.583Z"
   },
   {
    "duration": 12,
    "start_time": "2021-06-10T19:18:31.817Z"
   },
   {
    "duration": 13,
    "start_time": "2021-06-10T19:18:47.960Z"
   },
   {
    "duration": 4,
    "start_time": "2021-06-10T19:19:04.911Z"
   },
   {
    "duration": 517,
    "start_time": "2021-06-10T19:19:10.595Z"
   },
   {
    "duration": 4,
    "start_time": "2021-06-10T19:19:41.384Z"
   },
   {
    "duration": 13,
    "start_time": "2021-06-10T19:19:44.647Z"
   },
   {
    "duration": 4,
    "start_time": "2021-06-10T19:20:19.137Z"
   },
   {
    "duration": 6543,
    "start_time": "2021-06-10T19:20:21.474Z"
   },
   {
    "duration": 85,
    "start_time": "2021-06-10T19:21:10.833Z"
   },
   {
    "duration": 4,
    "start_time": "2021-06-10T19:21:20.680Z"
   },
   {
    "duration": 10,
    "start_time": "2021-06-10T19:21:23.458Z"
   },
   {
    "duration": 48836,
    "start_time": "2021-06-10T19:21:40.646Z"
   },
   {
    "duration": 231,
    "start_time": "2021-06-10T19:22:57.404Z"
   },
   {
    "duration": 946,
    "start_time": "2021-06-10T19:23:14.107Z"
   },
   {
    "duration": 336,
    "start_time": "2021-06-10T19:23:22.444Z"
   },
   {
    "duration": 264,
    "start_time": "2021-06-10T19:23:47.989Z"
   },
   {
    "duration": 6321,
    "start_time": "2021-06-10T19:23:52.444Z"
   },
   {
    "duration": 8,
    "start_time": "2021-06-10T19:27:56.206Z"
   },
   {
    "duration": 11,
    "start_time": "2021-06-10T19:28:08.587Z"
   },
   {
    "duration": 4,
    "start_time": "2021-06-10T19:29:39.264Z"
   },
   {
    "duration": 12210,
    "start_time": "2021-06-10T19:29:40.625Z"
   },
   {
    "duration": 82,
    "start_time": "2021-06-10T19:30:03.822Z"
   },
   {
    "duration": 4,
    "start_time": "2021-06-10T19:30:13.906Z"
   },
   {
    "duration": 4,
    "start_time": "2021-06-10T19:30:41.181Z"
   },
   {
    "duration": -2675,
    "start_time": "2021-06-10T19:31:01.930Z"
   },
   {
    "duration": 5,
    "start_time": "2021-06-10T19:31:12.431Z"
   },
   {
    "duration": 32404,
    "start_time": "2021-06-10T19:31:13.159Z"
   },
   {
    "duration": 3,
    "start_time": "2021-06-10T19:31:59.424Z"
   },
   {
    "duration": 18190,
    "start_time": "2021-06-10T19:32:02.854Z"
   },
   {
    "duration": 4,
    "start_time": "2021-06-10T19:32:57.224Z"
   },
   {
    "duration": 12671,
    "start_time": "2021-06-10T19:33:01.618Z"
   },
   {
    "duration": 8,
    "start_time": "2021-06-10T19:33:54.110Z"
   },
   {
    "duration": 6,
    "start_time": "2021-06-10T19:34:12.938Z"
   },
   {
    "duration": 6,
    "start_time": "2021-06-10T19:34:33.089Z"
   },
   {
    "duration": 11,
    "start_time": "2021-06-10T19:36:12.501Z"
   },
   {
    "duration": 10,
    "start_time": "2021-06-10T19:36:37.661Z"
   },
   {
    "duration": 20,
    "start_time": "2021-06-10T19:36:50.837Z"
   },
   {
    "duration": 25,
    "start_time": "2021-06-10T19:37:10.582Z"
   },
   {
    "duration": 10,
    "start_time": "2021-06-10T19:38:00.301Z"
   },
   {
    "duration": 20,
    "start_time": "2021-06-10T19:38:17.145Z"
   },
   {
    "duration": 27,
    "start_time": "2021-06-10T19:38:28.098Z"
   },
   {
    "duration": 78,
    "start_time": "2021-06-10T19:39:05.184Z"
   },
   {
    "duration": 38920,
    "start_time": "2021-06-10T19:39:15.838Z"
   },
   {
    "duration": 4,
    "start_time": "2021-06-10T19:39:56.351Z"
   },
   {
    "duration": 11,
    "start_time": "2021-06-10T19:39:58.600Z"
   },
   {
    "duration": 4,
    "start_time": "2021-06-10T19:40:49.091Z"
   },
   {
    "duration": 458,
    "start_time": "2021-06-10T19:40:49.685Z"
   },
   {
    "duration": 4,
    "start_time": "2021-06-10T19:41:14.934Z"
   },
   {
    "duration": 1819,
    "start_time": "2021-06-10T19:41:16.389Z"
   },
   {
    "duration": 4,
    "start_time": "2021-06-10T19:41:43.859Z"
   },
   {
    "duration": 10,
    "start_time": "2021-06-10T19:41:46.737Z"
   },
   {
    "duration": 306,
    "start_time": "2021-06-10T19:42:06.612Z"
   },
   {
    "duration": 5,
    "start_time": "2021-06-10T19:42:06.920Z"
   },
   {
    "duration": 16,
    "start_time": "2021-06-10T19:42:06.928Z"
   },
   {
    "duration": 70,
    "start_time": "2021-06-10T19:42:06.947Z"
   },
   {
    "duration": 6,
    "start_time": "2021-06-10T19:42:07.020Z"
   },
   {
    "duration": 9,
    "start_time": "2021-06-10T19:42:07.028Z"
   },
   {
    "duration": 98,
    "start_time": "2021-06-10T19:42:07.039Z"
   },
   {
    "duration": 12,
    "start_time": "2021-06-10T19:42:07.139Z"
   },
   {
    "duration": 5,
    "start_time": "2021-06-10T19:42:07.155Z"
   },
   {
    "duration": 7,
    "start_time": "2021-06-10T19:42:07.183Z"
   },
   {
    "duration": 54,
    "start_time": "2021-06-10T19:42:07.192Z"
   },
   {
    "duration": 94,
    "start_time": "2021-06-10T19:42:07.248Z"
   },
   {
    "duration": 75,
    "start_time": "2021-06-10T19:42:07.344Z"
   },
   {
    "duration": 20,
    "start_time": "2021-06-10T19:42:07.421Z"
   },
   {
    "duration": 4,
    "start_time": "2021-06-10T19:42:07.443Z"
   },
   {
    "duration": 36,
    "start_time": "2021-06-10T19:42:07.449Z"
   },
   {
    "duration": 15539,
    "start_time": "2021-06-10T19:42:07.488Z"
   },
   {
    "duration": -2697,
    "start_time": "2021-06-10T19:42:25.727Z"
   },
   {
    "duration": -2708,
    "start_time": "2021-06-10T19:42:25.740Z"
   },
   {
    "duration": -2711,
    "start_time": "2021-06-10T19:42:25.744Z"
   },
   {
    "duration": -2713,
    "start_time": "2021-06-10T19:42:25.748Z"
   },
   {
    "duration": -2716,
    "start_time": "2021-06-10T19:42:25.753Z"
   },
   {
    "duration": -2731,
    "start_time": "2021-06-10T19:42:25.769Z"
   },
   {
    "duration": -2734,
    "start_time": "2021-06-10T19:42:25.774Z"
   },
   {
    "duration": 3,
    "start_time": "2021-06-10T19:42:28.615Z"
   },
   {
    "duration": 10,
    "start_time": "2021-06-10T19:42:30.016Z"
   },
   {
    "duration": 12934,
    "start_time": "2021-06-10T19:44:56.656Z"
   },
   {
    "duration": 4,
    "start_time": "2021-06-10T19:45:17.770Z"
   },
   {
    "duration": 5,
    "start_time": "2021-06-10T19:46:11.337Z"
   },
   {
    "duration": 1172,
    "start_time": "2021-06-10T19:46:12.297Z"
   },
   {
    "duration": 477,
    "start_time": "2021-06-10T19:46:37.666Z"
   },
   {
    "duration": 4,
    "start_time": "2021-06-10T19:46:57.427Z"
   },
   {
    "duration": 490,
    "start_time": "2021-06-10T19:46:58.065Z"
   },
   {
    "duration": 4,
    "start_time": "2021-06-10T19:47:30.660Z"
   },
   {
    "duration": 12,
    "start_time": "2021-06-10T19:47:32.036Z"
   },
   {
    "duration": 88596,
    "start_time": "2021-06-10T19:47:35.411Z"
   },
   {
    "duration": -2692,
    "start_time": "2021-06-10T19:49:06.703Z"
   },
   {
    "duration": 16,
    "start_time": "2021-06-10T19:49:06.178Z"
   },
   {
    "duration": 12,
    "start_time": "2021-06-10T19:49:31.475Z"
   },
   {
    "duration": 4,
    "start_time": "2021-06-10T19:52:51.632Z"
   },
   {
    "duration": 14,
    "start_time": "2021-06-10T19:53:06.809Z"
   },
   {
    "duration": 81182,
    "start_time": "2021-06-10T19:53:24.790Z"
   },
   {
    "duration": 4,
    "start_time": "2021-06-10T20:00:55.084Z"
   },
   {
    "duration": 11,
    "start_time": "2021-06-10T20:00:57.064Z"
   },
   {
    "duration": 60548,
    "start_time": "2021-06-10T20:01:05.067Z"
   },
   {
    "duration": 10,
    "start_time": "2021-06-10T20:02:09.669Z"
   },
   {
    "duration": 370,
    "start_time": "2021-06-11T07:56:29.585Z"
   },
   {
    "duration": 1341,
    "start_time": "2021-06-11T07:56:37.275Z"
   },
   {
    "duration": 7,
    "start_time": "2021-06-11T07:56:38.620Z"
   },
   {
    "duration": 15,
    "start_time": "2021-06-11T07:56:38.632Z"
   },
   {
    "duration": 92,
    "start_time": "2021-06-11T07:56:38.651Z"
   },
   {
    "duration": 10,
    "start_time": "2021-06-11T07:56:38.746Z"
   },
   {
    "duration": 9,
    "start_time": "2021-06-11T07:56:38.787Z"
   },
   {
    "duration": 113,
    "start_time": "2021-06-11T07:56:38.798Z"
   },
   {
    "duration": 14,
    "start_time": "2021-06-11T07:56:38.915Z"
   },
   {
    "duration": 7,
    "start_time": "2021-06-11T07:56:38.933Z"
   },
   {
    "duration": 8,
    "start_time": "2021-06-11T07:56:38.942Z"
   },
   {
    "duration": 97,
    "start_time": "2021-06-11T07:56:38.953Z"
   },
   {
    "duration": 108,
    "start_time": "2021-06-11T07:56:39.053Z"
   },
   {
    "duration": 99,
    "start_time": "2021-06-11T07:56:39.164Z"
   },
   {
    "duration": 33,
    "start_time": "2021-06-11T07:56:39.266Z"
   },
   {
    "duration": 4,
    "start_time": "2021-06-11T07:56:39.302Z"
   },
   {
    "duration": 21,
    "start_time": "2021-06-11T07:56:39.308Z"
   },
   {
    "duration": 19,
    "start_time": "2021-06-11T07:56:39.331Z"
   },
   {
    "duration": 4,
    "start_time": "2021-06-11T07:56:39.385Z"
   },
   {
    "duration": 8,
    "start_time": "2021-06-11T07:56:39.392Z"
   },
   {
    "duration": 12,
    "start_time": "2021-06-11T07:56:39.403Z"
   },
   {
    "duration": 4,
    "start_time": "2021-06-11T07:56:39.419Z"
   },
   {
    "duration": 8,
    "start_time": "2021-06-11T07:56:39.425Z"
   },
   {
    "duration": 48,
    "start_time": "2021-06-11T07:56:39.437Z"
   },
   {
    "duration": 41057,
    "start_time": "2021-06-11T07:57:21.102Z"
   },
   {
    "duration": 11,
    "start_time": "2021-06-11T07:58:22.249Z"
   },
   {
    "duration": 41,
    "start_time": "2021-06-11T08:02:43.550Z"
   },
   {
    "duration": 16,
    "start_time": "2021-06-11T08:02:52.372Z"
   },
   {
    "duration": 104,
    "start_time": "2021-06-11T08:13:35.879Z"
   },
   {
    "duration": 4,
    "start_time": "2021-06-11T08:13:42.053Z"
   },
   {
    "duration": 8,
    "start_time": "2021-06-11T08:13:44.636Z"
   },
   {
    "duration": 8,
    "start_time": "2021-06-11T08:13:52.555Z"
   },
   {
    "duration": 7,
    "start_time": "2021-06-11T08:14:46.976Z"
   },
   {
    "duration": 31390,
    "start_time": "2021-06-11T08:14:49.456Z"
   },
   {
    "duration": 645,
    "start_time": "2021-06-11T08:24:13.992Z"
   },
   {
    "duration": 634,
    "start_time": "2021-06-11T08:25:55.800Z"
   },
   {
    "duration": 359,
    "start_time": "2021-06-11T08:27:47.766Z"
   },
   {
    "duration": 399,
    "start_time": "2021-06-11T08:28:07.149Z"
   },
   {
    "duration": 11,
    "start_time": "2021-06-11T08:28:25.301Z"
   },
   {
    "duration": 44,
    "start_time": "2021-06-11T08:28:45.347Z"
   },
   {
    "duration": 63,
    "start_time": "2021-06-11T08:29:08.675Z"
   },
   {
    "duration": 335,
    "start_time": "2021-06-11T08:32:57.213Z"
   },
   {
    "duration": 287,
    "start_time": "2021-06-11T08:33:31.791Z"
   },
   {
    "duration": 6,
    "start_time": "2021-06-11T08:33:32.081Z"
   },
   {
    "duration": 21,
    "start_time": "2021-06-11T08:33:32.092Z"
   },
   {
    "duration": 92,
    "start_time": "2021-06-11T08:33:32.115Z"
   },
   {
    "duration": 10,
    "start_time": "2021-06-11T08:33:32.209Z"
   },
   {
    "duration": 14,
    "start_time": "2021-06-11T08:33:32.222Z"
   },
   {
    "duration": 161,
    "start_time": "2021-06-11T08:33:32.239Z"
   },
   {
    "duration": 16,
    "start_time": "2021-06-11T08:33:32.405Z"
   },
   {
    "duration": 6,
    "start_time": "2021-06-11T08:33:32.424Z"
   },
   {
    "duration": 10,
    "start_time": "2021-06-11T08:33:32.432Z"
   },
   {
    "duration": 87,
    "start_time": "2021-06-11T08:33:32.445Z"
   },
   {
    "duration": 96,
    "start_time": "2021-06-11T08:33:32.535Z"
   },
   {
    "duration": 93,
    "start_time": "2021-06-11T08:33:32.633Z"
   },
   {
    "duration": 20,
    "start_time": "2021-06-11T08:33:32.728Z"
   },
   {
    "duration": 5,
    "start_time": "2021-06-11T08:33:32.751Z"
   },
   {
    "duration": 29241,
    "start_time": "2021-06-11T08:33:32.758Z"
   },
   {
    "duration": 354,
    "start_time": "2021-06-11T08:34:02.002Z"
   },
   {
    "duration": 1400,
    "start_time": "2021-06-11T08:34:00.958Z"
   },
   {
    "duration": 1387,
    "start_time": "2021-06-11T08:34:00.973Z"
   },
   {
    "duration": 1375,
    "start_time": "2021-06-11T08:34:00.986Z"
   },
   {
    "duration": 1362,
    "start_time": "2021-06-11T08:34:01.000Z"
   },
   {
    "duration": 1355,
    "start_time": "2021-06-11T08:34:01.009Z"
   },
   {
    "duration": 1348,
    "start_time": "2021-06-11T08:34:01.017Z"
   },
   {
    "duration": 1340,
    "start_time": "2021-06-11T08:34:01.026Z"
   },
   {
    "duration": 28237,
    "start_time": "2021-06-11T08:35:04.530Z"
   },
   {
    "duration": 32,
    "start_time": "2021-06-11T08:36:04.041Z"
   },
   {
    "duration": 45,
    "start_time": "2021-06-11T08:36:47.088Z"
   },
   {
    "duration": 23,
    "start_time": "2021-06-11T08:37:40.213Z"
   },
   {
    "duration": 350,
    "start_time": "2021-06-11T08:39:21.721Z"
   },
   {
    "duration": 330,
    "start_time": "2021-06-11T08:39:45.097Z"
   },
   {
    "duration": 5,
    "start_time": "2021-06-11T08:40:02.513Z"
   },
   {
    "duration": 337,
    "start_time": "2021-06-11T08:40:40.911Z"
   },
   {
    "duration": 319,
    "start_time": "2021-06-11T08:41:25.205Z"
   },
   {
    "duration": 22,
    "start_time": "2021-06-11T08:41:42.524Z"
   },
   {
    "duration": 339,
    "start_time": "2021-06-11T08:43:02.714Z"
   },
   {
    "duration": 328,
    "start_time": "2021-06-11T08:43:18.105Z"
   },
   {
    "duration": 301,
    "start_time": "2021-06-11T08:43:39.497Z"
   },
   {
    "duration": 7,
    "start_time": "2021-06-11T08:43:39.802Z"
   },
   {
    "duration": 15,
    "start_time": "2021-06-11T08:43:39.812Z"
   },
   {
    "duration": 99,
    "start_time": "2021-06-11T08:43:39.830Z"
   },
   {
    "duration": 8,
    "start_time": "2021-06-11T08:43:39.931Z"
   },
   {
    "duration": 42,
    "start_time": "2021-06-11T08:43:39.941Z"
   },
   {
    "duration": 109,
    "start_time": "2021-06-11T08:43:39.985Z"
   },
   {
    "duration": 14,
    "start_time": "2021-06-11T08:43:40.100Z"
   },
   {
    "duration": 15,
    "start_time": "2021-06-11T08:43:40.118Z"
   },
   {
    "duration": 35,
    "start_time": "2021-06-11T08:43:40.136Z"
   },
   {
    "duration": 73,
    "start_time": "2021-06-11T08:43:40.173Z"
   },
   {
    "duration": 86,
    "start_time": "2021-06-11T08:43:40.248Z"
   },
   {
    "duration": 95,
    "start_time": "2021-06-11T08:43:40.337Z"
   },
   {
    "duration": 21,
    "start_time": "2021-06-11T08:43:40.434Z"
   },
   {
    "duration": 4,
    "start_time": "2021-06-11T08:43:40.457Z"
   },
   {
    "duration": 48,
    "start_time": "2021-06-11T08:43:40.464Z"
   },
   {
    "duration": 380,
    "start_time": "2021-06-11T08:43:40.515Z"
   },
   {
    "duration": 1444,
    "start_time": "2021-06-11T08:43:39.455Z"
   },
   {
    "duration": 1406,
    "start_time": "2021-06-11T08:43:39.495Z"
   },
   {
    "duration": 1350,
    "start_time": "2021-06-11T08:43:39.554Z"
   },
   {
    "duration": 1322,
    "start_time": "2021-06-11T08:43:39.584Z"
   },
   {
    "duration": 1291,
    "start_time": "2021-06-11T08:43:39.617Z"
   },
   {
    "duration": 1265,
    "start_time": "2021-06-11T08:43:39.645Z"
   },
   {
    "duration": 1238,
    "start_time": "2021-06-11T08:43:39.675Z"
   },
   {
    "duration": 314,
    "start_time": "2021-06-11T08:44:17.871Z"
   },
   {
    "duration": 328,
    "start_time": "2021-06-11T08:44:38.154Z"
   },
   {
    "duration": 8149,
    "start_time": "2021-06-11T08:44:50.964Z"
   },
   {
    "duration": 313,
    "start_time": "2021-06-11T08:45:47.515Z"
   },
   {
    "duration": 311,
    "start_time": "2021-06-11T08:51:52.875Z"
   },
   {
    "duration": 264,
    "start_time": "2021-06-11T08:52:59.913Z"
   },
   {
    "duration": 10,
    "start_time": "2021-06-11T08:53:00.180Z"
   },
   {
    "duration": 15,
    "start_time": "2021-06-11T08:53:00.195Z"
   },
   {
    "duration": 114,
    "start_time": "2021-06-11T08:53:00.214Z"
   },
   {
    "duration": 9,
    "start_time": "2021-06-11T08:53:00.331Z"
   },
   {
    "duration": 19,
    "start_time": "2021-06-11T08:53:00.343Z"
   },
   {
    "duration": 105,
    "start_time": "2021-06-11T08:53:00.365Z"
   },
   {
    "duration": 23,
    "start_time": "2021-06-11T08:53:00.476Z"
   },
   {
    "duration": 8,
    "start_time": "2021-06-11T08:53:00.504Z"
   },
   {
    "duration": 35,
    "start_time": "2021-06-11T08:53:00.515Z"
   },
   {
    "duration": 95,
    "start_time": "2021-06-11T08:53:00.552Z"
   },
   {
    "duration": 103,
    "start_time": "2021-06-11T08:53:00.649Z"
   },
   {
    "duration": 99,
    "start_time": "2021-06-11T08:53:00.756Z"
   },
   {
    "duration": 362,
    "start_time": "2021-06-11T08:53:00.858Z"
   },
   {
    "duration": 4,
    "start_time": "2021-06-11T08:53:01.223Z"
   },
   {
    "duration": 17,
    "start_time": "2021-06-11T08:53:01.230Z"
   },
   {
    "duration": 4,
    "start_time": "2021-06-11T08:53:01.308Z"
   },
   {
    "duration": 16,
    "start_time": "2021-06-11T08:53:01.315Z"
   },
   {
    "duration": 12,
    "start_time": "2021-06-11T08:53:01.334Z"
   },
   {
    "duration": 6,
    "start_time": "2021-06-11T08:53:01.349Z"
   },
   {
    "duration": 12,
    "start_time": "2021-06-11T08:53:01.358Z"
   },
   {
    "duration": 19,
    "start_time": "2021-06-11T08:53:01.372Z"
   },
   {
    "duration": 11,
    "start_time": "2021-06-11T08:53:01.397Z"
   },
   {
    "duration": 11,
    "start_time": "2021-06-11T08:53:01.411Z"
   },
   {
    "duration": 12,
    "start_time": "2021-06-11T08:53:01.426Z"
   },
   {
    "duration": 115,
    "start_time": "2021-06-11T08:54:49.007Z"
   },
   {
    "duration": 114,
    "start_time": "2021-06-11T08:54:58.547Z"
   },
   {
    "duration": 347,
    "start_time": "2021-06-11T08:55:08.781Z"
   },
   {
    "duration": 3871,
    "start_time": "2021-06-11T08:55:44.903Z"
   },
   {
    "duration": 111,
    "start_time": "2021-06-11T09:00:19.311Z"
   },
   {
    "duration": 12086,
    "start_time": "2021-06-11T09:00:29.385Z"
   },
   {
    "duration": 12516,
    "start_time": "2021-06-11T09:00:43.619Z"
   },
   {
    "duration": 6,
    "start_time": "2021-06-11T09:01:48.376Z"
   },
   {
    "duration": 7,
    "start_time": "2021-06-11T09:01:59.057Z"
   },
   {
    "duration": 9980,
    "start_time": "2021-06-11T09:02:12.142Z"
   },
   {
    "duration": 9327,
    "start_time": "2021-06-11T09:02:51.438Z"
   },
   {
    "duration": 450,
    "start_time": "2021-06-11T09:04:26.858Z"
   },
   {
    "duration": 5,
    "start_time": "2021-06-11T09:04:27.311Z"
   },
   {
    "duration": 16,
    "start_time": "2021-06-11T09:04:27.319Z"
   },
   {
    "duration": 84,
    "start_time": "2021-06-11T09:04:27.338Z"
   },
   {
    "duration": 7,
    "start_time": "2021-06-11T09:04:27.424Z"
   },
   {
    "duration": 10,
    "start_time": "2021-06-11T09:04:27.433Z"
   },
   {
    "duration": 113,
    "start_time": "2021-06-11T09:04:27.445Z"
   },
   {
    "duration": 24,
    "start_time": "2021-06-11T09:04:27.562Z"
   },
   {
    "duration": 8,
    "start_time": "2021-06-11T09:04:27.591Z"
   },
   {
    "duration": 10,
    "start_time": "2021-06-11T09:04:27.603Z"
   },
   {
    "duration": 94,
    "start_time": "2021-06-11T09:04:27.615Z"
   },
   {
    "duration": 84,
    "start_time": "2021-06-11T09:04:27.711Z"
   },
   {
    "duration": 94,
    "start_time": "2021-06-11T09:04:27.797Z"
   },
   {
    "duration": 10116,
    "start_time": "2021-06-11T09:04:27.895Z"
   },
   {
    "duration": 8,
    "start_time": "2021-06-11T09:04:38.013Z"
   },
   {
    "duration": 6,
    "start_time": "2021-06-11T09:04:38.023Z"
   },
   {
    "duration": 7,
    "start_time": "2021-06-11T09:04:38.032Z"
   },
   {
    "duration": 13,
    "start_time": "2021-06-11T09:04:38.042Z"
   },
   {
    "duration": 29,
    "start_time": "2021-06-11T09:04:38.058Z"
   },
   {
    "duration": 11,
    "start_time": "2021-06-11T09:04:38.090Z"
   },
   {
    "duration": 10,
    "start_time": "2021-06-11T09:04:38.104Z"
   },
   {
    "duration": 6,
    "start_time": "2021-06-11T09:04:58.671Z"
   },
   {
    "duration": 9591,
    "start_time": "2021-06-11T09:05:23.146Z"
   },
   {
    "duration": 58,
    "start_time": "2021-06-11T09:05:32.740Z"
   },
   {
    "duration": 71,
    "start_time": "2021-06-11T09:06:03.231Z"
   },
   {
    "duration": 2193,
    "start_time": "2021-06-11T09:07:11.169Z"
   },
   {
    "duration": 2657,
    "start_time": "2021-06-11T09:07:41.681Z"
   },
   {
    "duration": 2183,
    "start_time": "2021-06-11T09:08:25.281Z"
   },
   {
    "duration": 274,
    "start_time": "2021-06-11T09:08:34.498Z"
   },
   {
    "duration": 11,
    "start_time": "2021-06-11T09:08:34.775Z"
   },
   {
    "duration": 19,
    "start_time": "2021-06-11T09:08:34.791Z"
   },
   {
    "duration": 88,
    "start_time": "2021-06-11T09:08:34.814Z"
   },
   {
    "duration": 7,
    "start_time": "2021-06-11T09:08:34.904Z"
   },
   {
    "duration": 7,
    "start_time": "2021-06-11T09:08:34.914Z"
   },
   {
    "duration": 127,
    "start_time": "2021-06-11T09:08:34.923Z"
   },
   {
    "duration": 11,
    "start_time": "2021-06-11T09:08:35.054Z"
   },
   {
    "duration": 23,
    "start_time": "2021-06-11T09:08:35.068Z"
   },
   {
    "duration": 10,
    "start_time": "2021-06-11T09:08:35.095Z"
   },
   {
    "duration": 109,
    "start_time": "2021-06-11T09:08:35.108Z"
   },
   {
    "duration": 135,
    "start_time": "2021-06-11T09:08:35.220Z"
   },
   {
    "duration": 131,
    "start_time": "2021-06-11T09:08:35.358Z"
   },
   {
    "duration": 2162,
    "start_time": "2021-06-11T09:08:35.492Z"
   },
   {
    "duration": 1516,
    "start_time": "2021-06-11T09:08:36.142Z"
   },
   {
    "duration": 1511,
    "start_time": "2021-06-11T09:08:36.149Z"
   },
   {
    "duration": 1505,
    "start_time": "2021-06-11T09:08:36.157Z"
   },
   {
    "duration": 1499,
    "start_time": "2021-06-11T09:08:36.166Z"
   },
   {
    "duration": 1493,
    "start_time": "2021-06-11T09:08:36.174Z"
   },
   {
    "duration": 1487,
    "start_time": "2021-06-11T09:08:36.182Z"
   },
   {
    "duration": 1481,
    "start_time": "2021-06-11T09:08:36.190Z"
   },
   {
    "duration": 1476,
    "start_time": "2021-06-11T09:08:36.198Z"
   },
   {
    "duration": 13043,
    "start_time": "2021-06-11T09:09:02.258Z"
   },
   {
    "duration": 55,
    "start_time": "2021-06-11T09:09:17.831Z"
   },
   {
    "duration": 71,
    "start_time": "2021-06-11T09:10:40.234Z"
   },
   {
    "duration": 7,
    "start_time": "2021-06-11T09:10:56.847Z"
   },
   {
    "duration": 340,
    "start_time": "2021-06-11T09:13:02.236Z"
   },
   {
    "duration": 11830,
    "start_time": "2021-06-11T09:16:59.931Z"
   },
   {
    "duration": 12174,
    "start_time": "2021-06-11T09:17:16.473Z"
   },
   {
    "duration": 743,
    "start_time": "2021-06-11T09:19:50.551Z"
   },
   {
    "duration": 748,
    "start_time": "2021-06-11T09:20:25.527Z"
   },
   {
    "duration": 12969,
    "start_time": "2021-06-11T09:20:54.253Z"
   },
   {
    "duration": 14,
    "start_time": "2021-06-11T09:22:01.062Z"
   },
   {
    "duration": 10,
    "start_time": "2021-06-11T09:22:14.036Z"
   },
   {
    "duration": 16,
    "start_time": "2021-06-11T09:24:08.653Z"
   },
   {
    "duration": 15,
    "start_time": "2021-06-11T09:24:23.114Z"
   },
   {
    "duration": 452,
    "start_time": "2021-06-11T09:25:01.129Z"
   },
   {
    "duration": 11,
    "start_time": "2021-06-11T09:25:10.408Z"
   },
   {
    "duration": 328,
    "start_time": "2021-06-11T09:25:34.610Z"
   },
   {
    "duration": 348,
    "start_time": "2021-06-11T09:25:42.779Z"
   },
   {
    "duration": 42,
    "start_time": "2021-06-11T09:26:16.373Z"
   },
   {
    "duration": 123,
    "start_time": "2021-06-11T09:28:48.317Z"
   },
   {
    "duration": 14,
    "start_time": "2021-06-11T09:28:59.307Z"
   },
   {
    "duration": 16,
    "start_time": "2021-06-11T09:29:19.203Z"
   },
   {
    "duration": 17,
    "start_time": "2021-06-11T09:29:48.229Z"
   },
   {
    "duration": 9,
    "start_time": "2021-06-11T09:31:23.499Z"
   },
   {
    "duration": 10,
    "start_time": "2021-06-11T09:33:00.470Z"
   },
   {
    "duration": 8535,
    "start_time": "2021-06-11T09:56:42.506Z"
   },
   {
    "duration": 13,
    "start_time": "2021-06-11T09:57:02.797Z"
   },
   {
    "duration": 488,
    "start_time": "2021-06-11T09:57:07.398Z"
   },
   {
    "duration": 5,
    "start_time": "2021-06-11T09:57:07.889Z"
   },
   {
    "duration": 19,
    "start_time": "2021-06-11T09:57:07.897Z"
   },
   {
    "duration": 81,
    "start_time": "2021-06-11T09:57:07.919Z"
   },
   {
    "duration": 7,
    "start_time": "2021-06-11T09:57:08.003Z"
   },
   {
    "duration": 7,
    "start_time": "2021-06-11T09:57:08.013Z"
   },
   {
    "duration": 110,
    "start_time": "2021-06-11T09:57:08.022Z"
   },
   {
    "duration": 12,
    "start_time": "2021-06-11T09:57:08.136Z"
   },
   {
    "duration": 6,
    "start_time": "2021-06-11T09:57:08.151Z"
   },
   {
    "duration": 7,
    "start_time": "2021-06-11T09:57:08.185Z"
   },
   {
    "duration": 106,
    "start_time": "2021-06-11T09:57:08.195Z"
   },
   {
    "duration": 133,
    "start_time": "2021-06-11T09:57:08.304Z"
   },
   {
    "duration": 134,
    "start_time": "2021-06-11T09:57:08.440Z"
   },
   {
    "duration": 13045,
    "start_time": "2021-06-11T09:57:08.577Z"
   },
   {
    "duration": 18,
    "start_time": "2021-06-11T09:57:21.625Z"
   },
   {
    "duration": 8,
    "start_time": "2021-06-11T09:57:21.646Z"
   },
   {
    "duration": 3,
    "start_time": "2021-06-11T09:57:21.686Z"
   },
   {
    "duration": 8,
    "start_time": "2021-06-11T09:57:21.691Z"
   },
   {
    "duration": 11,
    "start_time": "2021-06-11T09:57:21.701Z"
   },
   {
    "duration": 7,
    "start_time": "2021-06-11T09:57:21.714Z"
   },
   {
    "duration": 6,
    "start_time": "2021-06-11T09:57:21.723Z"
   },
   {
    "duration": 7,
    "start_time": "2021-06-11T09:57:21.732Z"
   },
   {
    "duration": 377,
    "start_time": "2021-06-11T09:58:13.978Z"
   },
   {
    "duration": 6,
    "start_time": "2021-06-11T09:58:14.359Z"
   },
   {
    "duration": 18,
    "start_time": "2021-06-11T09:58:14.386Z"
   },
   {
    "duration": 111,
    "start_time": "2021-06-11T09:58:14.408Z"
   },
   {
    "duration": 9,
    "start_time": "2021-06-11T09:58:14.522Z"
   },
   {
    "duration": 14,
    "start_time": "2021-06-11T09:58:14.533Z"
   },
   {
    "duration": 102,
    "start_time": "2021-06-11T09:58:14.550Z"
   },
   {
    "duration": 12,
    "start_time": "2021-06-11T09:58:14.656Z"
   },
   {
    "duration": 6,
    "start_time": "2021-06-11T09:58:14.686Z"
   },
   {
    "duration": 8,
    "start_time": "2021-06-11T09:58:14.694Z"
   },
   {
    "duration": 61,
    "start_time": "2021-06-11T09:58:14.704Z"
   },
   {
    "duration": 75,
    "start_time": "2021-06-11T09:58:14.786Z"
   },
   {
    "duration": 85,
    "start_time": "2021-06-11T09:58:14.864Z"
   },
   {
    "duration": 8606,
    "start_time": "2021-06-11T09:58:14.952Z"
   },
   {
    "duration": 24,
    "start_time": "2021-06-11T09:58:23.561Z"
   },
   {
    "duration": 7,
    "start_time": "2021-06-11T09:58:23.588Z"
   },
   {
    "duration": 10,
    "start_time": "2021-06-11T09:58:23.597Z"
   },
   {
    "duration": 12,
    "start_time": "2021-06-11T09:58:23.610Z"
   },
   {
    "duration": 13,
    "start_time": "2021-06-11T09:58:23.625Z"
   },
   {
    "duration": 6,
    "start_time": "2021-06-11T09:58:23.641Z"
   },
   {
    "duration": 15,
    "start_time": "2021-06-11T09:58:23.649Z"
   },
   {
    "duration": 7,
    "start_time": "2021-06-11T09:58:23.687Z"
   },
   {
    "duration": 333,
    "start_time": "2021-06-11T09:59:14.313Z"
   },
   {
    "duration": 5,
    "start_time": "2021-06-11T09:59:21.584Z"
   },
   {
    "duration": 5,
    "start_time": "2021-06-11T09:59:40.542Z"
   },
   {
    "duration": 8,
    "start_time": "2021-06-11T10:01:05.040Z"
   },
   {
    "duration": 8950,
    "start_time": "2021-06-11T10:11:05.041Z"
   },
   {
    "duration": 10997,
    "start_time": "2021-06-11T10:12:02.834Z"
   },
   {
    "duration": 79,
    "start_time": "2021-06-11T10:14:03.987Z"
   },
   {
    "duration": 59,
    "start_time": "2021-06-11T10:16:33.824Z"
   },
   {
    "duration": 13,
    "start_time": "2021-06-11T10:21:49.935Z"
   },
   {
    "duration": 18,
    "start_time": "2021-06-11T10:22:17.651Z"
   },
   {
    "duration": 15,
    "start_time": "2021-06-11T10:22:28.749Z"
   },
   {
    "duration": 5,
    "start_time": "2021-06-11T10:23:34.293Z"
   },
   {
    "duration": 7,
    "start_time": "2021-06-11T10:23:46.161Z"
   },
   {
    "duration": 6,
    "start_time": "2021-06-11T10:23:52.765Z"
   },
   {
    "duration": 462,
    "start_time": "2021-06-11T10:24:51.579Z"
   },
   {
    "duration": 5,
    "start_time": "2021-06-11T10:24:52.044Z"
   },
   {
    "duration": 38,
    "start_time": "2021-06-11T10:24:52.053Z"
   },
   {
    "duration": 63,
    "start_time": "2021-06-11T10:24:52.095Z"
   },
   {
    "duration": 33,
    "start_time": "2021-06-11T10:24:52.161Z"
   },
   {
    "duration": 7,
    "start_time": "2021-06-11T10:24:52.197Z"
   },
   {
    "duration": 115,
    "start_time": "2021-06-11T10:24:52.207Z"
   },
   {
    "duration": 12,
    "start_time": "2021-06-11T10:24:52.325Z"
   },
   {
    "duration": 6,
    "start_time": "2021-06-11T10:24:52.340Z"
   },
   {
    "duration": 48,
    "start_time": "2021-06-11T10:24:52.349Z"
   },
   {
    "duration": 58,
    "start_time": "2021-06-11T10:24:52.401Z"
   },
   {
    "duration": 100,
    "start_time": "2021-06-11T10:24:52.461Z"
   },
   {
    "duration": 91,
    "start_time": "2021-06-11T10:24:52.564Z"
   },
   {
    "duration": 9553,
    "start_time": "2021-06-11T10:24:52.658Z"
   },
   {
    "duration": 12,
    "start_time": "2021-06-11T10:25:02.214Z"
   },
   {
    "duration": 38,
    "start_time": "2021-06-11T10:25:02.230Z"
   },
   {
    "duration": 29,
    "start_time": "2021-06-11T10:25:02.271Z"
   },
   {
    "duration": 32,
    "start_time": "2021-06-11T10:25:02.303Z"
   },
   {
    "duration": 22,
    "start_time": "2021-06-11T10:25:02.337Z"
   },
   {
    "duration": 18,
    "start_time": "2021-06-11T10:25:02.362Z"
   },
   {
    "duration": 19,
    "start_time": "2021-06-11T10:25:02.383Z"
   },
   {
    "duration": 25,
    "start_time": "2021-06-11T10:25:02.405Z"
   },
   {
    "duration": 17,
    "start_time": "2021-06-11T10:25:02.434Z"
   },
   {
    "duration": 7,
    "start_time": "2021-06-11T10:26:28.987Z"
   },
   {
    "duration": 25,
    "start_time": "2021-06-11T10:26:42.687Z"
   },
   {
    "duration": 39,
    "start_time": "2021-06-11T10:28:02.291Z"
   },
   {
    "duration": 1624,
    "start_time": "2021-06-11T10:36:06.919Z"
   },
   {
    "duration": 19,
    "start_time": "2021-06-11T10:36:08.546Z"
   },
   {
    "duration": 31,
    "start_time": "2021-06-11T10:36:08.569Z"
   },
   {
    "duration": 102,
    "start_time": "2021-06-11T10:36:08.604Z"
   },
   {
    "duration": 8,
    "start_time": "2021-06-11T10:36:08.710Z"
   },
   {
    "duration": 17,
    "start_time": "2021-06-11T10:36:08.721Z"
   },
   {
    "duration": 112,
    "start_time": "2021-06-11T10:36:08.741Z"
   },
   {
    "duration": 29,
    "start_time": "2021-06-11T10:36:08.857Z"
   },
   {
    "duration": 7,
    "start_time": "2021-06-11T10:36:08.889Z"
   },
   {
    "duration": 10,
    "start_time": "2021-06-11T10:36:08.898Z"
   },
   {
    "duration": 99,
    "start_time": "2021-06-11T10:36:08.911Z"
   },
   {
    "duration": 123,
    "start_time": "2021-06-11T10:36:09.013Z"
   },
   {
    "duration": 89,
    "start_time": "2021-06-11T10:36:09.139Z"
   },
   {
    "duration": 9634,
    "start_time": "2021-06-11T10:36:09.230Z"
   },
   {
    "duration": 19,
    "start_time": "2021-06-11T10:36:18.867Z"
   },
   {
    "duration": 12,
    "start_time": "2021-06-11T10:36:18.889Z"
   },
   {
    "duration": 13,
    "start_time": "2021-06-11T10:36:18.904Z"
   },
   {
    "duration": 22,
    "start_time": "2021-06-11T10:36:18.920Z"
   },
   {
    "duration": 85,
    "start_time": "2021-06-11T10:36:18.945Z"
   },
   {
    "duration": 7,
    "start_time": "2021-06-11T10:36:19.033Z"
   },
   {
    "duration": 10,
    "start_time": "2021-06-11T10:36:19.043Z"
   },
   {
    "duration": 19,
    "start_time": "2021-06-11T10:36:19.056Z"
   },
   {
    "duration": 11,
    "start_time": "2021-06-11T10:36:19.090Z"
   },
   {
    "duration": 9,
    "start_time": "2021-06-11T10:37:29.735Z"
   },
   {
    "duration": 8,
    "start_time": "2021-06-11T10:39:58.199Z"
   },
   {
    "duration": 88,
    "start_time": "2021-06-11T10:42:24.137Z"
   },
   {
    "duration": 13773,
    "start_time": "2021-06-11T10:47:11.093Z"
   },
   {
    "duration": 7,
    "start_time": "2021-06-11T10:47:42.745Z"
   },
   {
    "duration": 54,
    "start_time": "2021-06-11T10:47:57.117Z"
   },
   {
    "duration": 6,
    "start_time": "2021-06-11T10:48:50.861Z"
   },
   {
    "duration": 40,
    "start_time": "2021-06-11T10:50:10.639Z"
   },
   {
    "duration": 35,
    "start_time": "2021-06-11T10:50:17.384Z"
   },
   {
    "duration": 11,
    "start_time": "2021-06-11T10:50:37.292Z"
   },
   {
    "duration": 11,
    "start_time": "2021-06-11T10:51:57.503Z"
   },
   {
    "duration": 6,
    "start_time": "2021-06-11T10:59:06.001Z"
   },
   {
    "duration": 8,
    "start_time": "2021-06-11T10:59:51.761Z"
   },
   {
    "duration": 8,
    "start_time": "2021-06-11T11:00:04.901Z"
   },
   {
    "duration": 224,
    "start_time": "2021-06-11T19:15:55.751Z"
   },
   {
    "duration": 4,
    "start_time": "2021-06-11T19:15:55.978Z"
   },
   {
    "duration": 17,
    "start_time": "2021-06-11T19:15:55.985Z"
   },
   {
    "duration": 73,
    "start_time": "2021-06-11T19:15:56.005Z"
   },
   {
    "duration": 6,
    "start_time": "2021-06-11T19:15:56.080Z"
   },
   {
    "duration": 36,
    "start_time": "2021-06-11T19:15:56.089Z"
   },
   {
    "duration": 82,
    "start_time": "2021-06-11T19:15:56.128Z"
   },
   {
    "duration": 12,
    "start_time": "2021-06-11T19:15:56.226Z"
   },
   {
    "duration": 6,
    "start_time": "2021-06-11T19:15:56.240Z"
   },
   {
    "duration": 8,
    "start_time": "2021-06-11T19:15:56.248Z"
   },
   {
    "duration": 87,
    "start_time": "2021-06-11T19:15:56.258Z"
   },
   {
    "duration": 95,
    "start_time": "2021-06-11T19:15:56.347Z"
   },
   {
    "duration": 86,
    "start_time": "2021-06-11T19:15:56.445Z"
   },
   {
    "duration": 8698,
    "start_time": "2021-06-11T19:15:56.533Z"
   },
   {
    "duration": 6,
    "start_time": "2021-06-11T19:16:05.233Z"
   },
   {
    "duration": 11,
    "start_time": "2021-06-11T19:16:05.241Z"
   },
   {
    "duration": 8,
    "start_time": "2021-06-11T19:16:05.254Z"
   },
   {
    "duration": 9,
    "start_time": "2021-06-11T19:16:05.264Z"
   },
   {
    "duration": 122,
    "start_time": "2021-06-11T19:16:05.275Z"
   },
   {
    "duration": 8608,
    "start_time": "2021-06-11T19:16:05.400Z"
   },
   {
    "duration": 5,
    "start_time": "2021-06-11T19:16:14.011Z"
   },
   {
    "duration": 5,
    "start_time": "2021-06-11T19:16:14.026Z"
   },
   {
    "duration": 7,
    "start_time": "2021-06-11T19:16:14.035Z"
   },
   {
    "duration": 2,
    "start_time": "2021-06-11T19:16:14.045Z"
   },
   {
    "duration": 6,
    "start_time": "2021-06-11T19:16:14.050Z"
   },
   {
    "duration": 9,
    "start_time": "2021-06-11T19:16:14.058Z"
   },
   {
    "duration": 11,
    "start_time": "2021-06-11T19:16:17.170Z"
   },
   {
    "duration": 10,
    "start_time": "2021-06-11T19:17:55.494Z"
   },
   {
    "duration": 8,
    "start_time": "2021-06-11T19:18:32.858Z"
   },
   {
    "duration": 72,
    "start_time": "2021-06-11T19:18:40.939Z"
   },
   {
    "duration": 8713,
    "start_time": "2021-06-11T19:19:53.223Z"
   },
   {
    "duration": 8285,
    "start_time": "2021-06-11T19:21:06.932Z"
   },
   {
    "duration": -3184,
    "start_time": "2021-06-11T19:21:18.404Z"
   },
   {
    "duration": 5,
    "start_time": "2021-06-11T19:21:32.232Z"
   },
   {
    "duration": 9133,
    "start_time": "2021-06-11T19:21:52.179Z"
   },
   {
    "duration": 7,
    "start_time": "2021-06-11T19:22:03.555Z"
   },
   {
    "duration": 7,
    "start_time": "2021-06-11T19:24:53.471Z"
   },
   {
    "duration": 10,
    "start_time": "2021-06-11T19:25:06.063Z"
   },
   {
    "duration": 8,
    "start_time": "2021-06-11T19:25:38.012Z"
   },
   {
    "duration": 7,
    "start_time": "2021-06-11T19:25:44.359Z"
   },
   {
    "duration": 7,
    "start_time": "2021-06-11T19:27:05.774Z"
   },
   {
    "duration": 9,
    "start_time": "2021-06-11T19:27:10.077Z"
   },
   {
    "duration": 358,
    "start_time": "2021-06-11T19:29:38.724Z"
   },
   {
    "duration": 421,
    "start_time": "2021-06-11T19:30:16.886Z"
   },
   {
    "duration": 360,
    "start_time": "2021-06-11T19:30:28.545Z"
   },
   {
    "duration": 11,
    "start_time": "2021-06-11T19:30:39.511Z"
   },
   {
    "duration": 13,
    "start_time": "2021-06-11T19:30:53.249Z"
   },
   {
    "duration": 73,
    "start_time": "2021-06-11T19:31:31.490Z"
   },
   {
    "duration": 322,
    "start_time": "2021-06-11T19:34:09.273Z"
   },
   {
    "duration": 86,
    "start_time": "2021-06-11T19:34:19.110Z"
   },
   {
    "duration": 11,
    "start_time": "2021-06-11T19:35:14.190Z"
   },
   {
    "duration": 13,
    "start_time": "2021-06-11T19:35:29.108Z"
   },
   {
    "duration": 13,
    "start_time": "2021-06-11T19:35:38.512Z"
   },
   {
    "duration": 13,
    "start_time": "2021-06-11T19:35:47.910Z"
   },
   {
    "duration": 2140,
    "start_time": "2021-06-11T19:36:00.365Z"
   },
   {
    "duration": 122,
    "start_time": "2021-06-11T19:36:39.512Z"
   },
   {
    "duration": 2041,
    "start_time": "2021-06-11T19:36:52.301Z"
   },
   {
    "duration": 2396,
    "start_time": "2021-06-11T19:37:15.661Z"
   },
   {
    "duration": 436,
    "start_time": "2021-06-11T19:37:42.172Z"
   },
   {
    "duration": 991,
    "start_time": "2021-06-11T19:37:45.557Z"
   },
   {
    "duration": 6,
    "start_time": "2021-06-11T19:37:46.550Z"
   },
   {
    "duration": 13,
    "start_time": "2021-06-11T19:37:46.558Z"
   },
   {
    "duration": 95,
    "start_time": "2021-06-11T19:37:46.575Z"
   },
   {
    "duration": 7,
    "start_time": "2021-06-11T19:37:46.672Z"
   },
   {
    "duration": 7,
    "start_time": "2021-06-11T19:37:46.682Z"
   },
   {
    "duration": 134,
    "start_time": "2021-06-11T19:37:46.691Z"
   },
   {
    "duration": 13,
    "start_time": "2021-06-11T19:37:46.829Z"
   },
   {
    "duration": 6,
    "start_time": "2021-06-11T19:37:46.845Z"
   },
   {
    "duration": 15,
    "start_time": "2021-06-11T19:37:46.854Z"
   },
   {
    "duration": 97,
    "start_time": "2021-06-11T19:37:46.872Z"
   },
   {
    "duration": 98,
    "start_time": "2021-06-11T19:37:46.972Z"
   },
   {
    "duration": 104,
    "start_time": "2021-06-11T19:37:47.072Z"
   },
   {
    "duration": 8859,
    "start_time": "2021-06-11T19:37:47.178Z"
   },
   {
    "duration": 6,
    "start_time": "2021-06-11T19:37:56.040Z"
   },
   {
    "duration": 11,
    "start_time": "2021-06-11T19:37:56.049Z"
   },
   {
    "duration": 7,
    "start_time": "2021-06-11T19:37:56.063Z"
   },
   {
    "duration": 13,
    "start_time": "2021-06-11T19:37:56.072Z"
   },
   {
    "duration": 123,
    "start_time": "2021-06-11T19:37:56.088Z"
   },
   {
    "duration": 8473,
    "start_time": "2021-06-11T19:37:56.225Z"
   },
   {
    "duration": 23,
    "start_time": "2021-06-11T19:38:04.702Z"
   },
   {
    "duration": 8,
    "start_time": "2021-06-11T19:38:04.728Z"
   },
   {
    "duration": 8,
    "start_time": "2021-06-11T19:38:04.742Z"
   },
   {
    "duration": 7,
    "start_time": "2021-06-11T19:38:04.753Z"
   },
   {
    "duration": 546,
    "start_time": "2021-06-11T19:38:22.053Z"
   },
   {
    "duration": 1021,
    "start_time": "2021-06-11T19:38:36.409Z"
   },
   {
    "duration": 5,
    "start_time": "2021-06-11T19:38:37.433Z"
   },
   {
    "duration": 17,
    "start_time": "2021-06-11T19:38:37.441Z"
   },
   {
    "duration": 83,
    "start_time": "2021-06-11T19:38:37.461Z"
   },
   {
    "duration": 7,
    "start_time": "2021-06-11T19:38:37.546Z"
   },
   {
    "duration": 14,
    "start_time": "2021-06-11T19:38:37.555Z"
   },
   {
    "duration": 112,
    "start_time": "2021-06-11T19:38:37.571Z"
   },
   {
    "duration": 11,
    "start_time": "2021-06-11T19:38:37.687Z"
   },
   {
    "duration": 24,
    "start_time": "2021-06-11T19:38:37.701Z"
   },
   {
    "duration": 7,
    "start_time": "2021-06-11T19:38:37.728Z"
   },
   {
    "duration": 74,
    "start_time": "2021-06-11T19:38:37.737Z"
   },
   {
    "duration": 94,
    "start_time": "2021-06-11T19:38:37.813Z"
   },
   {
    "duration": 96,
    "start_time": "2021-06-11T19:38:37.909Z"
   },
   {
    "duration": 8377,
    "start_time": "2021-06-11T19:38:38.007Z"
   },
   {
    "duration": 6,
    "start_time": "2021-06-11T19:38:46.386Z"
   },
   {
    "duration": 15,
    "start_time": "2021-06-11T19:38:46.394Z"
   },
   {
    "duration": 7,
    "start_time": "2021-06-11T19:38:46.426Z"
   },
   {
    "duration": 9,
    "start_time": "2021-06-11T19:38:46.436Z"
   },
   {
    "duration": 166,
    "start_time": "2021-06-11T19:38:46.447Z"
   },
   {
    "duration": 8469,
    "start_time": "2021-06-11T19:38:46.616Z"
   },
   {
    "duration": 7,
    "start_time": "2021-06-11T19:38:55.087Z"
   },
   {
    "duration": 8,
    "start_time": "2021-06-11T19:38:55.096Z"
   },
   {
    "duration": 7,
    "start_time": "2021-06-11T19:38:55.128Z"
   },
   {
    "duration": 7,
    "start_time": "2021-06-11T19:38:55.138Z"
   },
   {
    "duration": 6,
    "start_time": "2021-06-11T19:38:55.147Z"
   },
   {
    "duration": 5,
    "start_time": "2021-06-11T19:38:55.156Z"
   },
   {
    "duration": 6,
    "start_time": "2021-06-11T19:38:55.164Z"
   },
   {
    "duration": 5,
    "start_time": "2021-06-11T19:38:55.172Z"
   },
   {
    "duration": 34,
    "start_time": "2021-06-11T19:40:25.594Z"
   },
   {
    "duration": 396,
    "start_time": "2021-06-11T19:40:33.251Z"
   },
   {
    "duration": 927,
    "start_time": "2021-06-11T19:41:07.223Z"
   },
   {
    "duration": 17,
    "start_time": "2021-06-11T19:41:46.232Z"
   },
   {
    "duration": 12,
    "start_time": "2021-06-11T19:42:23.341Z"
   },
   {
    "duration": 15,
    "start_time": "2021-06-11T19:42:30.062Z"
   },
   {
    "duration": 14,
    "start_time": "2021-06-11T19:42:44.881Z"
   },
   {
    "duration": 46,
    "start_time": "2021-06-11T19:43:27.903Z"
   },
   {
    "duration": 12,
    "start_time": "2021-06-11T19:43:49.180Z"
   },
   {
    "duration": 16,
    "start_time": "2021-06-11T19:44:09.390Z"
   },
   {
    "duration": 399,
    "start_time": "2021-06-11T19:44:36.435Z"
   },
   {
    "duration": 14,
    "start_time": "2021-06-11T19:44:50.886Z"
   },
   {
    "duration": 11,
    "start_time": "2021-06-11T19:46:24.927Z"
   },
   {
    "duration": 8,
    "start_time": "2021-06-11T19:46:42.047Z"
   },
   {
    "duration": 7,
    "start_time": "2021-06-11T19:46:54.103Z"
   },
   {
    "duration": 5,
    "start_time": "2021-06-11T19:54:17.407Z"
   },
   {
    "duration": 14,
    "start_time": "2021-06-11T19:55:18.317Z"
   },
   {
    "duration": 9,
    "start_time": "2021-06-11T19:55:44.610Z"
   },
   {
    "duration": 3197,
    "start_time": "2021-06-11T19:55:47.054Z"
   },
   {
    "duration": 7,
    "start_time": "2021-06-11T19:57:09.735Z"
   },
   {
    "duration": 5,
    "start_time": "2021-06-11T19:57:44.989Z"
   },
   {
    "duration": 7,
    "start_time": "2021-06-11T19:57:46.715Z"
   },
   {
    "duration": 5,
    "start_time": "2021-06-11T19:58:19.067Z"
   },
   {
    "duration": 1789,
    "start_time": "2021-06-11T19:58:26.460Z"
   },
   {
    "duration": 351,
    "start_time": "2021-06-11T20:00:37.034Z"
   },
   {
    "duration": 705,
    "start_time": "2021-06-11T20:00:48.415Z"
   },
   {
    "duration": 125,
    "start_time": "2021-06-11T20:02:09.616Z"
   },
   {
    "duration": 352,
    "start_time": "2021-06-11T20:02:20.998Z"
   },
   {
    "duration": 834,
    "start_time": "2021-06-11T20:04:00.967Z"
   },
   {
    "duration": 129,
    "start_time": "2021-06-11T20:04:11.708Z"
   },
   {
    "duration": 5,
    "start_time": "2021-06-11T20:04:28.731Z"
   },
   {
    "duration": 4,
    "start_time": "2021-06-11T20:05:59.000Z"
   },
   {
    "duration": 952,
    "start_time": "2021-06-11T20:06:01.796Z"
   },
   {
    "duration": 1983,
    "start_time": "2021-06-11T20:06:10.170Z"
   },
   {
    "duration": 210,
    "start_time": "2021-06-11T20:06:18.138Z"
   },
   {
    "duration": 5,
    "start_time": "2021-06-11T20:06:18.350Z"
   },
   {
    "duration": 14,
    "start_time": "2021-06-11T20:06:18.358Z"
   },
   {
    "duration": 61,
    "start_time": "2021-06-11T20:06:18.646Z"
   },
   {
    "duration": 7,
    "start_time": "2021-06-11T20:06:18.709Z"
   },
   {
    "duration": 7,
    "start_time": "2021-06-11T20:06:18.726Z"
   },
   {
    "duration": 105,
    "start_time": "2021-06-11T20:06:18.736Z"
   },
   {
    "duration": 11,
    "start_time": "2021-06-11T20:06:18.844Z"
   },
   {
    "duration": 6,
    "start_time": "2021-06-11T20:06:18.858Z"
   },
   {
    "duration": 9,
    "start_time": "2021-06-11T20:06:18.866Z"
   },
   {
    "duration": 83,
    "start_time": "2021-06-11T20:06:18.877Z"
   },
   {
    "duration": 97,
    "start_time": "2021-06-11T20:06:18.964Z"
   },
   {
    "duration": 91,
    "start_time": "2021-06-11T20:06:19.064Z"
   },
   {
    "duration": 8454,
    "start_time": "2021-06-11T20:06:19.158Z"
   },
   {
    "duration": 14,
    "start_time": "2021-06-11T20:06:27.615Z"
   },
   {
    "duration": 12,
    "start_time": "2021-06-11T20:06:27.631Z"
   },
   {
    "duration": 7,
    "start_time": "2021-06-11T20:06:27.646Z"
   },
   {
    "duration": 8,
    "start_time": "2021-06-11T20:06:27.655Z"
   },
   {
    "duration": 123,
    "start_time": "2021-06-11T20:06:27.665Z"
   },
   {
    "duration": 8868,
    "start_time": "2021-06-11T20:06:27.790Z"
   },
   {
    "duration": 6,
    "start_time": "2021-06-11T20:06:36.660Z"
   },
   {
    "duration": 16,
    "start_time": "2021-06-11T20:06:36.668Z"
   },
   {
    "duration": 19,
    "start_time": "2021-06-11T20:06:36.686Z"
   },
   {
    "duration": 20,
    "start_time": "2021-06-11T20:06:36.707Z"
   },
   {
    "duration": 13,
    "start_time": "2021-06-11T20:06:36.730Z"
   },
   {
    "duration": 8,
    "start_time": "2021-06-11T20:06:36.745Z"
   },
   {
    "duration": 14,
    "start_time": "2021-06-11T20:06:36.755Z"
   },
   {
    "duration": 7,
    "start_time": "2021-06-11T20:06:36.772Z"
   },
   {
    "duration": 45,
    "start_time": "2021-06-11T20:06:36.781Z"
   },
   {
    "duration": 957,
    "start_time": "2021-06-11T20:06:36.830Z"
   },
   {
    "duration": 1893,
    "start_time": "2021-06-11T20:06:37.790Z"
   },
   {
    "duration": -3138,
    "start_time": "2021-06-11T20:06:42.823Z"
   },
   {
    "duration": -3148,
    "start_time": "2021-06-11T20:06:42.835Z"
   },
   {
    "duration": -3153,
    "start_time": "2021-06-11T20:06:42.841Z"
   },
   {
    "duration": 5,
    "start_time": "2021-06-11T20:07:31.819Z"
   },
   {
    "duration": 121,
    "start_time": "2021-06-11T20:07:48.821Z"
   },
   {
    "duration": 6,
    "start_time": "2021-06-11T20:07:57.620Z"
   },
   {
    "duration": 6,
    "start_time": "2021-06-11T20:08:14.693Z"
   },
   {
    "duration": 8613,
    "start_time": "2021-06-11T20:08:57.479Z"
   },
   {
    "duration": 21,
    "start_time": "2021-06-11T20:09:57.029Z"
   },
   {
    "duration": 4,
    "start_time": "2021-06-11T20:10:00.482Z"
   },
   {
    "duration": 909,
    "start_time": "2021-06-11T20:10:02.953Z"
   },
   {
    "duration": 1910,
    "start_time": "2021-06-11T20:10:06.958Z"
   },
   {
    "duration": 4,
    "start_time": "2021-06-11T20:10:25.370Z"
   },
   {
    "duration": 2785,
    "start_time": "2021-06-11T20:10:28.056Z"
   },
   {
    "duration": 1131,
    "start_time": "2021-06-11T20:11:32.288Z"
   },
   {
    "duration": 353,
    "start_time": "2021-06-11T20:12:45.548Z"
   },
   {
    "duration": 9,
    "start_time": "2021-06-11T20:12:56.151Z"
   },
   {
    "duration": 13,
    "start_time": "2021-06-11T20:13:21.872Z"
   },
   {
    "duration": 19,
    "start_time": "2021-06-11T20:13:59.442Z"
   },
   {
    "duration": 389,
    "start_time": "2021-06-11T20:15:01.627Z"
   },
   {
    "duration": 355,
    "start_time": "2021-06-11T20:15:18.506Z"
   },
   {
    "duration": 6,
    "start_time": "2021-06-11T20:15:29.312Z"
   },
   {
    "duration": 11,
    "start_time": "2021-06-11T20:15:41.914Z"
   },
   {
    "duration": 11,
    "start_time": "2021-06-11T20:15:48.618Z"
   },
   {
    "duration": 12,
    "start_time": "2021-06-11T20:16:06.057Z"
   },
   {
    "duration": 12,
    "start_time": "2021-06-11T20:16:28.379Z"
   },
   {
    "duration": 11,
    "start_time": "2021-06-11T20:16:38.486Z"
   },
   {
    "duration": 20,
    "start_time": "2021-06-11T20:16:53.400Z"
   },
   {
    "duration": 12,
    "start_time": "2021-06-11T20:16:57.441Z"
   },
   {
    "duration": 11,
    "start_time": "2021-06-11T20:17:33.116Z"
   },
   {
    "duration": 367,
    "start_time": "2021-06-11T20:20:11.058Z"
   },
   {
    "duration": 120,
    "start_time": "2021-06-11T20:20:43.818Z"
   },
   {
    "duration": 326,
    "start_time": "2021-06-11T20:20:52.865Z"
   },
   {
    "duration": 335,
    "start_time": "2021-06-11T20:21:08.778Z"
   },
   {
    "duration": 363,
    "start_time": "2021-06-11T20:21:23.418Z"
   },
   {
    "duration": 373,
    "start_time": "2021-06-11T20:21:59.634Z"
   },
   {
    "duration": 333,
    "start_time": "2021-06-11T20:22:19.403Z"
   },
   {
    "duration": 363,
    "start_time": "2021-06-11T20:22:30.835Z"
   },
   {
    "duration": 16,
    "start_time": "2021-06-11T20:23:18.589Z"
   },
   {
    "duration": 1223,
    "start_time": "2021-06-11T20:23:25.888Z"
   },
   {
    "duration": 17,
    "start_time": "2021-06-11T20:24:25.284Z"
   },
   {
    "duration": 1177,
    "start_time": "2021-06-11T20:24:36.426Z"
   },
   {
    "duration": 9,
    "start_time": "2021-06-11T20:24:50.021Z"
   },
   {
    "duration": 23,
    "start_time": "2021-06-11T20:26:05.909Z"
   },
   {
    "duration": 1133,
    "start_time": "2021-06-11T20:26:08.873Z"
   },
   {
    "duration": 9,
    "start_time": "2021-06-11T20:26:19.781Z"
   },
   {
    "duration": 27,
    "start_time": "2021-06-11T20:27:56.518Z"
   },
   {
    "duration": 1188,
    "start_time": "2021-06-11T20:27:57.951Z"
   },
   {
    "duration": 10,
    "start_time": "2021-06-11T20:28:12.535Z"
   },
   {
    "duration": 10,
    "start_time": "2021-06-11T20:29:14.227Z"
   },
   {
    "duration": 413,
    "start_time": "2021-06-11T20:29:32.199Z"
   },
   {
    "duration": 706,
    "start_time": "2021-06-12T05:29:40.150Z"
   },
   {
    "duration": 4,
    "start_time": "2021-06-12T05:29:40.857Z"
   },
   {
    "duration": 22,
    "start_time": "2021-06-12T05:29:40.863Z"
   },
   {
    "duration": 34,
    "start_time": "2021-06-12T05:29:40.887Z"
   },
   {
    "duration": 5,
    "start_time": "2021-06-12T05:29:40.922Z"
   },
   {
    "duration": 5,
    "start_time": "2021-06-12T05:29:40.928Z"
   },
   {
    "duration": 90,
    "start_time": "2021-06-12T05:29:40.934Z"
   },
   {
    "duration": 8,
    "start_time": "2021-06-12T05:29:41.027Z"
   },
   {
    "duration": 4,
    "start_time": "2021-06-12T05:29:41.037Z"
   },
   {
    "duration": 5,
    "start_time": "2021-06-12T05:29:41.042Z"
   },
   {
    "duration": 53,
    "start_time": "2021-06-12T05:29:41.048Z"
   },
   {
    "duration": 63,
    "start_time": "2021-06-12T05:29:41.102Z"
   },
   {
    "duration": 74,
    "start_time": "2021-06-12T05:29:41.167Z"
   },
   {
    "duration": 4774,
    "start_time": "2021-06-12T05:29:41.242Z"
   },
   {
    "duration": 4,
    "start_time": "2021-06-12T05:29:46.017Z"
   },
   {
    "duration": 9,
    "start_time": "2021-06-12T05:29:46.023Z"
   },
   {
    "duration": 5,
    "start_time": "2021-06-12T05:29:46.033Z"
   },
   {
    "duration": 4,
    "start_time": "2021-06-12T05:29:46.040Z"
   },
   {
    "duration": 93,
    "start_time": "2021-06-12T05:29:46.046Z"
   },
   {
    "duration": 4709,
    "start_time": "2021-06-12T05:29:46.140Z"
   },
   {
    "duration": 4,
    "start_time": "2021-06-12T05:29:50.850Z"
   },
   {
    "duration": 6,
    "start_time": "2021-06-12T05:29:50.856Z"
   },
   {
    "duration": 5,
    "start_time": "2021-06-12T05:29:50.864Z"
   },
   {
    "duration": 253,
    "start_time": "2021-06-12T05:29:50.870Z"
   },
   {
    "duration": -3742,
    "start_time": "2021-06-12T05:29:54.867Z"
   },
   {
    "duration": -3747,
    "start_time": "2021-06-12T05:29:54.873Z"
   },
   {
    "duration": -3751,
    "start_time": "2021-06-12T05:29:54.878Z"
   },
   {
    "duration": -3757,
    "start_time": "2021-06-12T05:29:54.884Z"
   },
   {
    "duration": -3764,
    "start_time": "2021-06-12T05:29:54.892Z"
   },
   {
    "duration": -3769,
    "start_time": "2021-06-12T05:29:54.898Z"
   },
   {
    "duration": -3772,
    "start_time": "2021-06-12T05:29:54.902Z"
   },
   {
    "duration": -3777,
    "start_time": "2021-06-12T05:29:54.908Z"
   },
   {
    "duration": -3782,
    "start_time": "2021-06-12T05:29:54.914Z"
   },
   {
    "duration": -3787,
    "start_time": "2021-06-12T05:29:54.920Z"
   },
   {
    "duration": -3790,
    "start_time": "2021-06-12T05:29:54.924Z"
   },
   {
    "duration": -3795,
    "start_time": "2021-06-12T05:29:54.930Z"
   },
   {
    "duration": -3799,
    "start_time": "2021-06-12T05:29:54.935Z"
   },
   {
    "duration": -3803,
    "start_time": "2021-06-12T05:29:54.940Z"
   },
   {
    "duration": 4738,
    "start_time": "2021-06-12T05:30:00.518Z"
   },
   {
    "duration": 187,
    "start_time": "2021-06-12T05:32:53.591Z"
   },
   {
    "duration": 43,
    "start_time": "2021-06-12T05:34:27.785Z"
   },
   {
    "duration": 8,
    "start_time": "2021-06-12T05:36:28.944Z"
   },
   {
    "duration": 21,
    "start_time": "2021-06-12T05:43:24.082Z"
   },
   {
    "duration": 11,
    "start_time": "2021-06-12T05:43:35.909Z"
   },
   {
    "duration": 11,
    "start_time": "2021-06-12T05:44:01.390Z"
   },
   {
    "duration": 9,
    "start_time": "2021-06-12T05:44:39.762Z"
   },
   {
    "duration": 8,
    "start_time": "2021-06-12T05:45:05.082Z"
   },
   {
    "duration": 200,
    "start_time": "2021-06-12T05:45:22.256Z"
   },
   {
    "duration": 6,
    "start_time": "2021-06-12T05:45:35.871Z"
   },
   {
    "duration": 29,
    "start_time": "2021-06-12T05:45:48.602Z"
   },
   {
    "duration": 29,
    "start_time": "2021-06-12T05:46:10.137Z"
   },
   {
    "duration": 178,
    "start_time": "2021-06-12T05:46:15.429Z"
   },
   {
    "duration": 4,
    "start_time": "2021-06-12T05:46:15.609Z"
   },
   {
    "duration": 9,
    "start_time": "2021-06-12T05:46:15.614Z"
   },
   {
    "duration": 32,
    "start_time": "2021-06-12T05:46:15.625Z"
   },
   {
    "duration": 26,
    "start_time": "2021-06-12T05:46:15.658Z"
   },
   {
    "duration": 4,
    "start_time": "2021-06-12T05:46:15.686Z"
   },
   {
    "duration": 59,
    "start_time": "2021-06-12T05:46:15.692Z"
   },
   {
    "duration": 9,
    "start_time": "2021-06-12T05:46:15.753Z"
   },
   {
    "duration": 24,
    "start_time": "2021-06-12T05:46:15.764Z"
   },
   {
    "duration": 4,
    "start_time": "2021-06-12T05:46:15.790Z"
   },
   {
    "duration": 34,
    "start_time": "2021-06-12T05:46:15.796Z"
   },
   {
    "duration": 76,
    "start_time": "2021-06-12T05:46:15.832Z"
   },
   {
    "duration": 55,
    "start_time": "2021-06-12T05:46:15.910Z"
   },
   {
    "duration": 4786,
    "start_time": "2021-06-12T05:46:15.967Z"
   },
   {
    "duration": 5,
    "start_time": "2021-06-12T05:46:20.754Z"
   },
   {
    "duration": 8,
    "start_time": "2021-06-12T05:46:20.760Z"
   },
   {
    "duration": 17,
    "start_time": "2021-06-12T05:46:20.770Z"
   },
   {
    "duration": 5,
    "start_time": "2021-06-12T05:46:20.789Z"
   },
   {
    "duration": 61,
    "start_time": "2021-06-12T05:46:20.795Z"
   },
   {
    "duration": 4761,
    "start_time": "2021-06-12T05:46:20.857Z"
   },
   {
    "duration": 4,
    "start_time": "2021-06-12T05:46:25.619Z"
   },
   {
    "duration": 5,
    "start_time": "2021-06-12T05:46:25.625Z"
   },
   {
    "duration": 4,
    "start_time": "2021-06-12T05:46:25.633Z"
   },
   {
    "duration": 8,
    "start_time": "2021-06-12T05:46:25.639Z"
   },
   {
    "duration": 46,
    "start_time": "2021-06-12T05:46:25.648Z"
   },
   {
    "duration": 5,
    "start_time": "2021-06-12T05:46:25.695Z"
   },
   {
    "duration": 9,
    "start_time": "2021-06-12T05:46:25.701Z"
   },
   {
    "duration": 12,
    "start_time": "2021-06-12T05:46:25.711Z"
   },
   {
    "duration": 6,
    "start_time": "2021-06-12T05:46:25.725Z"
   },
   {
    "duration": 21,
    "start_time": "2021-06-12T05:46:25.732Z"
   },
   {
    "duration": 1293,
    "start_time": "2021-06-12T05:46:25.754Z"
   },
   {
    "duration": -3726,
    "start_time": "2021-06-12T05:46:30.775Z"
   },
   {
    "duration": -3730,
    "start_time": "2021-06-12T05:46:30.780Z"
   },
   {
    "duration": -3734,
    "start_time": "2021-06-12T05:46:30.785Z"
   },
   {
    "duration": -3738,
    "start_time": "2021-06-12T05:46:30.790Z"
   },
   {
    "duration": -3742,
    "start_time": "2021-06-12T05:46:30.795Z"
   },
   {
    "duration": -3747,
    "start_time": "2021-06-12T05:46:30.800Z"
   },
   {
    "duration": -3753,
    "start_time": "2021-06-12T05:46:30.807Z"
   },
   {
    "duration": 38,
    "start_time": "2021-06-12T05:48:02.182Z"
   },
   {
    "duration": 10,
    "start_time": "2021-06-12T05:48:28.353Z"
   },
   {
    "duration": 11,
    "start_time": "2021-06-12T05:49:01.242Z"
   },
   {
    "duration": 7,
    "start_time": "2021-06-12T05:50:57.002Z"
   },
   {
    "duration": 6,
    "start_time": "2021-06-12T05:51:00.251Z"
   },
   {
    "duration": 13,
    "start_time": "2021-06-12T05:52:07.330Z"
   },
   {
    "duration": 3,
    "start_time": "2021-06-12T05:52:11.211Z"
   },
   {
    "duration": 2587,
    "start_time": "2021-06-12T05:53:22.473Z"
   },
   {
    "duration": 33,
    "start_time": "2021-06-12T05:53:51.597Z"
   },
   {
    "duration": 26,
    "start_time": "2021-06-12T05:54:22.086Z"
   },
   {
    "duration": 23,
    "start_time": "2021-06-12T05:59:58.048Z"
   },
   {
    "duration": 1206,
    "start_time": "2021-06-12T06:00:22.739Z"
   },
   {
    "duration": 24,
    "start_time": "2021-06-12T06:00:52.400Z"
   },
   {
    "duration": 24,
    "start_time": "2021-06-12T06:01:04.720Z"
   },
   {
    "duration": 1161,
    "start_time": "2021-06-12T06:01:46.929Z"
   },
   {
    "duration": 6,
    "start_time": "2021-06-12T06:02:15.904Z"
   },
   {
    "duration": 1219,
    "start_time": "2021-06-12T06:03:50.498Z"
   },
   {
    "duration": 6,
    "start_time": "2021-06-12T06:04:12.832Z"
   },
   {
    "duration": 6,
    "start_time": "2021-06-12T06:04:20.917Z"
   },
   {
    "duration": 1258,
    "start_time": "2021-06-12T06:04:29.324Z"
   },
   {
    "duration": 177,
    "start_time": "2021-06-12T06:05:41.840Z"
   },
   {
    "duration": 27,
    "start_time": "2021-06-12T06:06:52.406Z"
   },
   {
    "duration": 3126,
    "start_time": "2021-06-12T06:06:53.723Z"
   },
   {
    "duration": 49,
    "start_time": "2021-06-12T06:07:04.537Z"
   },
   {
    "duration": 27,
    "start_time": "2021-06-12T06:07:28.674Z"
   },
   {
    "duration": 2864,
    "start_time": "2021-06-12T06:07:29.484Z"
   },
   {
    "duration": 56,
    "start_time": "2021-06-12T06:07:32.350Z"
   },
   {
    "duration": 1179,
    "start_time": "2021-06-12T06:08:37.951Z"
   },
   {
    "duration": 7,
    "start_time": "2021-06-12T06:09:32.312Z"
   },
   {
    "duration": 1173,
    "start_time": "2021-06-12T06:09:49.269Z"
   },
   {
    "duration": 6,
    "start_time": "2021-06-12T06:11:07.871Z"
   },
   {
    "duration": 8,
    "start_time": "2021-06-12T06:11:18.814Z"
   },
   {
    "duration": 6,
    "start_time": "2021-06-12T06:13:20.049Z"
   },
   {
    "duration": 10,
    "start_time": "2021-06-12T06:13:46.247Z"
   },
   {
    "duration": 6,
    "start_time": "2021-06-12T06:14:09.481Z"
   },
   {
    "duration": 46,
    "start_time": "2021-06-12T06:14:19.588Z"
   },
   {
    "duration": 25,
    "start_time": "2021-06-12T06:14:32.475Z"
   },
   {
    "duration": 26,
    "start_time": "2021-06-12T06:14:43.258Z"
   },
   {
    "duration": 25,
    "start_time": "2021-06-12T06:15:27.354Z"
   },
   {
    "duration": 25,
    "start_time": "2021-06-12T06:15:46.690Z"
   },
   {
    "duration": 27,
    "start_time": "2021-06-12T06:15:54.945Z"
   },
   {
    "duration": 26,
    "start_time": "2021-06-12T06:16:00.290Z"
   },
   {
    "duration": 124,
    "start_time": "2021-06-12T06:16:19.653Z"
   },
   {
    "duration": 6,
    "start_time": "2021-06-12T06:16:44.494Z"
   },
   {
    "duration": 222,
    "start_time": "2021-06-12T06:17:00.054Z"
   },
   {
    "duration": 4,
    "start_time": "2021-06-12T06:17:00.277Z"
   },
   {
    "duration": 12,
    "start_time": "2021-06-12T06:17:00.283Z"
   },
   {
    "duration": 40,
    "start_time": "2021-06-12T06:17:00.297Z"
   },
   {
    "duration": 5,
    "start_time": "2021-06-12T06:17:00.338Z"
   },
   {
    "duration": 14,
    "start_time": "2021-06-12T06:17:00.344Z"
   },
   {
    "duration": 73,
    "start_time": "2021-06-12T06:17:00.359Z"
   },
   {
    "duration": 8,
    "start_time": "2021-06-12T06:17:00.435Z"
   },
   {
    "duration": 10,
    "start_time": "2021-06-12T06:17:00.445Z"
   },
   {
    "duration": 9,
    "start_time": "2021-06-12T06:17:00.457Z"
   },
   {
    "duration": 44,
    "start_time": "2021-06-12T06:17:00.468Z"
   },
   {
    "duration": 55,
    "start_time": "2021-06-12T06:17:00.513Z"
   },
   {
    "duration": 67,
    "start_time": "2021-06-12T06:17:00.570Z"
   },
   {
    "duration": 4923,
    "start_time": "2021-06-12T06:17:00.639Z"
   },
   {
    "duration": 4,
    "start_time": "2021-06-12T06:17:05.564Z"
   },
   {
    "duration": 17,
    "start_time": "2021-06-12T06:17:05.569Z"
   },
   {
    "duration": 7,
    "start_time": "2021-06-12T06:17:05.588Z"
   },
   {
    "duration": 5,
    "start_time": "2021-06-12T06:17:05.596Z"
   },
   {
    "duration": 64,
    "start_time": "2021-06-12T06:17:05.603Z"
   },
   {
    "duration": 4863,
    "start_time": "2021-06-12T06:17:05.668Z"
   },
   {
    "duration": 4,
    "start_time": "2021-06-12T06:17:10.532Z"
   },
   {
    "duration": 9,
    "start_time": "2021-06-12T06:17:10.537Z"
   },
   {
    "duration": 6,
    "start_time": "2021-06-12T06:17:10.549Z"
   },
   {
    "duration": 2,
    "start_time": "2021-06-12T06:17:10.556Z"
   },
   {
    "duration": 26,
    "start_time": "2021-06-12T06:17:10.560Z"
   },
   {
    "duration": 6,
    "start_time": "2021-06-12T06:17:10.587Z"
   },
   {
    "duration": 14,
    "start_time": "2021-06-12T06:17:10.594Z"
   },
   {
    "duration": 6,
    "start_time": "2021-06-12T06:17:10.610Z"
   },
   {
    "duration": 10,
    "start_time": "2021-06-12T06:17:10.618Z"
   },
   {
    "duration": 29,
    "start_time": "2021-06-12T06:17:10.630Z"
   },
   {
    "duration": 2581,
    "start_time": "2021-06-12T06:17:10.661Z"
   },
   {
    "duration": 8,
    "start_time": "2021-06-12T06:17:13.244Z"
   },
   {
    "duration": 181,
    "start_time": "2021-06-12T06:17:13.253Z"
   },
   {
    "duration": -3703,
    "start_time": "2021-06-12T06:17:17.139Z"
   },
   {
    "duration": -3712,
    "start_time": "2021-06-12T06:17:17.149Z"
   },
   {
    "duration": -3718,
    "start_time": "2021-06-12T06:17:17.155Z"
   },
   {
    "duration": 27,
    "start_time": "2021-06-12T06:17:47.211Z"
   },
   {
    "duration": 185,
    "start_time": "2021-06-12T06:19:04.148Z"
   },
   {
    "duration": 181,
    "start_time": "2021-06-12T06:19:16.529Z"
   },
   {
    "duration": 15,
    "start_time": "2021-06-12T06:20:07.839Z"
   },
   {
    "duration": 25,
    "start_time": "2021-06-12T06:20:08.947Z"
   },
   {
    "duration": 3162,
    "start_time": "2021-06-12T06:20:10.423Z"
   },
   {
    "duration": 6,
    "start_time": "2021-06-12T06:21:08.005Z"
   },
   {
    "duration": 25,
    "start_time": "2021-06-12T06:21:24.688Z"
   },
   {
    "duration": 8,
    "start_time": "2021-06-12T06:21:53.148Z"
   },
   {
    "duration": 25,
    "start_time": "2021-06-12T06:21:55.941Z"
   },
   {
    "duration": 175,
    "start_time": "2021-06-12T06:38:05.906Z"
   },
   {
    "duration": 173,
    "start_time": "2021-06-12T06:39:14.402Z"
   },
   {
    "duration": 114,
    "start_time": "2021-06-12T06:39:29.947Z"
   },
   {
    "duration": 5,
    "start_time": "2021-06-12T06:39:50.862Z"
   },
   {
    "duration": 25,
    "start_time": "2021-06-12T06:40:01.383Z"
   },
   {
    "duration": 26,
    "start_time": "2021-06-12T06:40:13.769Z"
   },
   {
    "duration": 26,
    "start_time": "2021-06-12T06:40:34.019Z"
   },
   {
    "duration": 26,
    "start_time": "2021-06-12T06:41:16.342Z"
   },
   {
    "duration": 25,
    "start_time": "2021-06-12T06:41:48.866Z"
   },
   {
    "duration": 294,
    "start_time": "2021-06-12T06:42:40.196Z"
   },
   {
    "duration": 3,
    "start_time": "2021-06-12T06:42:40.492Z"
   },
   {
    "duration": 10,
    "start_time": "2021-06-12T06:42:40.497Z"
   },
   {
    "duration": 32,
    "start_time": "2021-06-12T06:42:40.509Z"
   },
   {
    "duration": 5,
    "start_time": "2021-06-12T06:42:40.543Z"
   },
   {
    "duration": 5,
    "start_time": "2021-06-12T06:42:40.549Z"
   },
   {
    "duration": 59,
    "start_time": "2021-06-12T06:42:40.584Z"
   },
   {
    "duration": 8,
    "start_time": "2021-06-12T06:42:40.645Z"
   },
   {
    "duration": 4,
    "start_time": "2021-06-12T06:42:40.655Z"
   },
   {
    "duration": 27,
    "start_time": "2021-06-12T06:42:40.660Z"
   },
   {
    "duration": 32,
    "start_time": "2021-06-12T06:42:40.689Z"
   },
   {
    "duration": 66,
    "start_time": "2021-06-12T06:42:40.722Z"
   },
   {
    "duration": 54,
    "start_time": "2021-06-12T06:42:40.790Z"
   },
   {
    "duration": 4838,
    "start_time": "2021-06-12T06:42:40.846Z"
   },
   {
    "duration": 5,
    "start_time": "2021-06-12T06:42:45.686Z"
   },
   {
    "duration": 8,
    "start_time": "2021-06-12T06:42:45.692Z"
   },
   {
    "duration": 6,
    "start_time": "2021-06-12T06:42:45.701Z"
   },
   {
    "duration": 5,
    "start_time": "2021-06-12T06:42:45.709Z"
   },
   {
    "duration": 82,
    "start_time": "2021-06-12T06:42:45.715Z"
   },
   {
    "duration": 4786,
    "start_time": "2021-06-12T06:42:45.798Z"
   },
   {
    "duration": 4,
    "start_time": "2021-06-12T06:42:50.586Z"
   },
   {
    "duration": 5,
    "start_time": "2021-06-12T06:42:50.592Z"
   },
   {
    "duration": 4,
    "start_time": "2021-06-12T06:42:50.600Z"
   },
   {
    "duration": 3,
    "start_time": "2021-06-12T06:42:50.606Z"
   },
   {
    "duration": 9,
    "start_time": "2021-06-12T06:42:50.610Z"
   },
   {
    "duration": 9,
    "start_time": "2021-06-12T06:42:50.620Z"
   },
   {
    "duration": 55,
    "start_time": "2021-06-12T06:42:50.630Z"
   },
   {
    "duration": 2649,
    "start_time": "2021-06-12T06:42:50.686Z"
   },
   {
    "duration": 6,
    "start_time": "2021-06-12T06:42:53.337Z"
   },
   {
    "duration": 14,
    "start_time": "2021-06-12T06:42:53.345Z"
   },
   {
    "duration": 11,
    "start_time": "2021-06-12T06:42:53.360Z"
   },
   {
    "duration": 6,
    "start_time": "2021-06-12T06:42:53.372Z"
   },
   {
    "duration": 24,
    "start_time": "2021-06-12T06:43:12.053Z"
   },
   {
    "duration": 30,
    "start_time": "2021-06-12T06:43:48.340Z"
   },
   {
    "duration": 176,
    "start_time": "2021-06-12T07:31:54.392Z"
   },
   {
    "duration": 3,
    "start_time": "2021-06-12T07:32:07.053Z"
   },
   {
    "duration": 9,
    "start_time": "2021-06-12T07:32:08.141Z"
   },
   {
    "duration": 21,
    "start_time": "2021-06-12T07:32:16.758Z"
   },
   {
    "duration": 10,
    "start_time": "2021-06-12T07:32:46.607Z"
   },
   {
    "duration": 257,
    "start_time": "2021-06-12T07:34:18.996Z"
   },
   {
    "duration": 4,
    "start_time": "2021-06-12T07:34:19.254Z"
   },
   {
    "duration": 10,
    "start_time": "2021-06-12T07:34:19.259Z"
   },
   {
    "duration": 34,
    "start_time": "2021-06-12T07:34:19.285Z"
   },
   {
    "duration": 5,
    "start_time": "2021-06-12T07:34:19.320Z"
   },
   {
    "duration": 5,
    "start_time": "2021-06-12T07:34:19.326Z"
   },
   {
    "duration": 78,
    "start_time": "2021-06-12T07:34:19.332Z"
   },
   {
    "duration": 8,
    "start_time": "2021-06-12T07:34:19.412Z"
   },
   {
    "duration": 3,
    "start_time": "2021-06-12T07:34:19.422Z"
   },
   {
    "duration": 4,
    "start_time": "2021-06-12T07:34:19.427Z"
   },
   {
    "duration": 53,
    "start_time": "2021-06-12T07:34:19.433Z"
   },
   {
    "duration": 53,
    "start_time": "2021-06-12T07:34:19.487Z"
   },
   {
    "duration": 69,
    "start_time": "2021-06-12T07:34:19.542Z"
   },
   {
    "duration": 4757,
    "start_time": "2021-06-12T07:34:19.612Z"
   },
   {
    "duration": 4,
    "start_time": "2021-06-12T07:34:24.371Z"
   },
   {
    "duration": 16,
    "start_time": "2021-06-12T07:34:24.376Z"
   },
   {
    "duration": 6,
    "start_time": "2021-06-12T07:34:24.394Z"
   },
   {
    "duration": 5,
    "start_time": "2021-06-12T07:34:24.402Z"
   },
   {
    "duration": 59,
    "start_time": "2021-06-12T07:34:24.408Z"
   },
   {
    "duration": 4773,
    "start_time": "2021-06-12T07:34:24.485Z"
   },
   {
    "duration": 4,
    "start_time": "2021-06-12T07:34:29.260Z"
   },
   {
    "duration": 7,
    "start_time": "2021-06-12T07:34:29.265Z"
   },
   {
    "duration": 14,
    "start_time": "2021-06-12T07:34:29.274Z"
   },
   {
    "duration": 5,
    "start_time": "2021-06-12T07:34:29.290Z"
   },
   {
    "duration": 8,
    "start_time": "2021-06-12T07:34:29.296Z"
   },
   {
    "duration": 6,
    "start_time": "2021-06-12T07:34:29.305Z"
   },
   {
    "duration": 25,
    "start_time": "2021-06-12T07:34:29.313Z"
   },
   {
    "duration": 2,
    "start_time": "2021-06-12T07:34:29.340Z"
   },
   {
    "duration": 6,
    "start_time": "2021-06-12T07:34:29.343Z"
   },
   {
    "duration": 34,
    "start_time": "2021-06-12T07:34:29.351Z"
   },
   {
    "duration": 8,
    "start_time": "2021-06-12T07:34:29.387Z"
   },
   {
    "duration": 4,
    "start_time": "2021-06-12T07:34:29.396Z"
   },
   {
    "duration": 5,
    "start_time": "2021-06-12T07:34:29.401Z"
   },
   {
    "duration": 4,
    "start_time": "2021-06-12T07:34:29.408Z"
   },
   {
    "duration": 7,
    "start_time": "2021-06-12T07:36:08.653Z"
   },
   {
    "duration": 233,
    "start_time": "2021-06-12T07:38:53.703Z"
   },
   {
    "duration": 4,
    "start_time": "2021-06-12T07:38:53.938Z"
   },
   {
    "duration": 11,
    "start_time": "2021-06-12T07:38:53.943Z"
   },
   {
    "duration": 52,
    "start_time": "2021-06-12T07:38:53.955Z"
   },
   {
    "duration": 5,
    "start_time": "2021-06-12T07:38:54.008Z"
   },
   {
    "duration": 5,
    "start_time": "2021-06-12T07:38:54.015Z"
   },
   {
    "duration": 77,
    "start_time": "2021-06-12T07:38:54.022Z"
   },
   {
    "duration": 9,
    "start_time": "2021-06-12T07:38:54.101Z"
   },
   {
    "duration": 3,
    "start_time": "2021-06-12T07:38:54.112Z"
   },
   {
    "duration": 6,
    "start_time": "2021-06-12T07:38:54.117Z"
   },
   {
    "duration": 34,
    "start_time": "2021-06-12T07:38:54.124Z"
   },
   {
    "duration": 80,
    "start_time": "2021-06-12T07:38:54.159Z"
   },
   {
    "duration": 65,
    "start_time": "2021-06-12T07:38:54.240Z"
   },
   {
    "duration": 4937,
    "start_time": "2021-06-12T07:38:54.307Z"
   },
   {
    "duration": 5,
    "start_time": "2021-06-12T07:38:59.245Z"
   },
   {
    "duration": 8,
    "start_time": "2021-06-12T07:38:59.251Z"
   },
   {
    "duration": 10,
    "start_time": "2021-06-12T07:38:59.260Z"
   },
   {
    "duration": 21,
    "start_time": "2021-06-12T07:38:59.271Z"
   },
   {
    "duration": 64,
    "start_time": "2021-06-12T07:38:59.293Z"
   },
   {
    "duration": 4977,
    "start_time": "2021-06-12T07:38:59.359Z"
   },
   {
    "duration": 4,
    "start_time": "2021-06-12T07:39:04.338Z"
   },
   {
    "duration": 7,
    "start_time": "2021-06-12T07:39:04.343Z"
   },
   {
    "duration": 6,
    "start_time": "2021-06-12T07:39:04.353Z"
   },
   {
    "duration": 2,
    "start_time": "2021-06-12T07:39:04.361Z"
   },
   {
    "duration": 25,
    "start_time": "2021-06-12T07:39:04.364Z"
   },
   {
    "duration": 5,
    "start_time": "2021-06-12T07:39:04.391Z"
   },
   {
    "duration": 4,
    "start_time": "2021-06-12T07:39:04.398Z"
   },
   {
    "duration": 2816,
    "start_time": "2021-06-12T07:39:04.403Z"
   },
   {
    "duration": 3,
    "start_time": "2021-06-12T07:39:07.221Z"
   },
   {
    "duration": 13,
    "start_time": "2021-06-12T07:39:07.226Z"
   },
   {
    "duration": 11,
    "start_time": "2021-06-12T07:39:07.241Z"
   },
   {
    "duration": 6,
    "start_time": "2021-06-12T07:39:07.254Z"
   },
   {
    "duration": 11,
    "start_time": "2021-06-12T07:39:07.262Z"
   },
   {
    "duration": 6,
    "start_time": "2021-06-12T07:39:07.275Z"
   },
   {
    "duration": 1215,
    "start_time": "2021-06-12T07:39:23.522Z"
   },
   {
    "duration": 8,
    "start_time": "2021-06-12T07:39:33.864Z"
   },
   {
    "duration": 6,
    "start_time": "2021-06-12T07:40:43.842Z"
   },
   {
    "duration": 204,
    "start_time": "2021-06-12T07:46:19.018Z"
   },
   {
    "duration": 3,
    "start_time": "2021-06-12T07:46:24.458Z"
   },
   {
    "duration": 18,
    "start_time": "2021-06-12T07:46:25.026Z"
   },
   {
    "duration": 17,
    "start_time": "2021-06-12T07:46:36.707Z"
   },
   {
    "duration": 79,
    "start_time": "2021-06-12T07:46:59.107Z"
   },
   {
    "duration": 3,
    "start_time": "2021-06-12T07:47:28.850Z"
   },
   {
    "duration": 16,
    "start_time": "2021-06-12T07:47:34.740Z"
   },
   {
    "duration": 15,
    "start_time": "2021-06-12T07:48:06.527Z"
   },
   {
    "duration": 1148,
    "start_time": "2021-06-12T13:28:44.767Z"
   },
   {
    "duration": 5,
    "start_time": "2021-06-12T13:28:45.918Z"
   },
   {
    "duration": 13,
    "start_time": "2021-06-12T13:28:45.927Z"
   },
   {
    "duration": 95,
    "start_time": "2021-06-12T13:28:45.942Z"
   },
   {
    "duration": 8,
    "start_time": "2021-06-12T13:28:46.039Z"
   },
   {
    "duration": 6,
    "start_time": "2021-06-12T13:28:46.049Z"
   },
   {
    "duration": 119,
    "start_time": "2021-06-12T13:28:46.057Z"
   },
   {
    "duration": 22,
    "start_time": "2021-06-12T13:28:46.180Z"
   },
   {
    "duration": 7,
    "start_time": "2021-06-12T13:28:46.207Z"
   },
   {
    "duration": 10,
    "start_time": "2021-06-12T13:28:46.216Z"
   },
   {
    "duration": 110,
    "start_time": "2021-06-12T13:28:46.231Z"
   },
   {
    "duration": 128,
    "start_time": "2021-06-12T13:28:46.344Z"
   },
   {
    "duration": 127,
    "start_time": "2021-06-12T13:28:46.475Z"
   },
   {
    "duration": 8538,
    "start_time": "2021-06-12T13:28:46.605Z"
   },
   {
    "duration": 5,
    "start_time": "2021-06-12T13:28:55.146Z"
   },
   {
    "duration": 10,
    "start_time": "2021-06-12T13:28:55.154Z"
   },
   {
    "duration": 34,
    "start_time": "2021-06-12T13:28:55.166Z"
   },
   {
    "duration": 7,
    "start_time": "2021-06-12T13:28:55.202Z"
   },
   {
    "duration": 114,
    "start_time": "2021-06-12T13:28:55.211Z"
   },
   {
    "duration": 8907,
    "start_time": "2021-06-12T13:28:55.327Z"
   },
   {
    "duration": 6,
    "start_time": "2021-06-12T13:29:04.236Z"
   },
   {
    "duration": 9,
    "start_time": "2021-06-12T13:29:04.245Z"
   },
   {
    "duration": 43,
    "start_time": "2021-06-12T13:29:04.258Z"
   },
   {
    "duration": 3,
    "start_time": "2021-06-12T13:29:04.303Z"
   },
   {
    "duration": 12,
    "start_time": "2021-06-12T13:29:04.308Z"
   },
   {
    "duration": 8,
    "start_time": "2021-06-12T13:29:04.323Z"
   },
   {
    "duration": 4,
    "start_time": "2021-06-12T13:29:04.334Z"
   },
   {
    "duration": 89,
    "start_time": "2021-06-12T13:29:04.341Z"
   },
   {
    "duration": -3878,
    "start_time": "2021-06-12T13:29:08.311Z"
   },
   {
    "duration": -3880,
    "start_time": "2021-06-12T13:29:08.315Z"
   },
   {
    "duration": -3886,
    "start_time": "2021-06-12T13:29:08.323Z"
   },
   {
    "duration": -3890,
    "start_time": "2021-06-12T13:29:08.328Z"
   },
   {
    "duration": -3893,
    "start_time": "2021-06-12T13:29:08.333Z"
   },
   {
    "duration": 20,
    "start_time": "2021-06-12T13:29:13.734Z"
   },
   {
    "duration": 8,
    "start_time": "2021-06-12T13:29:38.940Z"
   },
   {
    "duration": 9,
    "start_time": "2021-06-12T13:29:55.008Z"
   },
   {
    "duration": 8,
    "start_time": "2021-06-12T13:30:52.554Z"
   },
   {
    "duration": 84,
    "start_time": "2021-06-12T13:30:59.750Z"
   },
   {
    "duration": 17,
    "start_time": "2021-06-12T13:39:02.083Z"
   },
   {
    "duration": 9,
    "start_time": "2021-06-12T13:39:09.741Z"
   },
   {
    "duration": 367,
    "start_time": "2021-06-12T13:39:28.466Z"
   },
   {
    "duration": 7,
    "start_time": "2021-06-12T13:39:34.389Z"
   },
   {
    "duration": 263,
    "start_time": "2021-06-12T13:40:00.874Z"
   },
   {
    "duration": 8,
    "start_time": "2021-06-12T13:40:19.742Z"
   },
   {
    "duration": 265,
    "start_time": "2021-06-12T13:40:32.453Z"
   },
   {
    "duration": 26,
    "start_time": "2021-06-12T13:40:51.955Z"
   },
   {
    "duration": 10,
    "start_time": "2021-06-12T13:43:57.072Z"
   },
   {
    "duration": 35,
    "start_time": "2021-06-12T13:44:05.096Z"
   },
   {
    "duration": 43,
    "start_time": "2021-06-12T13:44:44.317Z"
   },
   {
    "duration": 269,
    "start_time": "2021-06-12T13:45:20.266Z"
   },
   {
    "duration": 6510,
    "start_time": "2021-06-12T13:45:36.676Z"
   },
   {
    "duration": 89,
    "start_time": "2021-06-12T13:46:06.253Z"
   },
   {
    "duration": 7123,
    "start_time": "2021-06-12T13:46:21.178Z"
   },
   {
    "duration": 261,
    "start_time": "2021-06-12T13:47:00.692Z"
   },
   {
    "duration": 11,
    "start_time": "2021-06-12T13:48:04.204Z"
   },
   {
    "duration": 28,
    "start_time": "2021-06-12T13:48:20.722Z"
   },
   {
    "duration": 8,
    "start_time": "2021-06-12T13:49:02.966Z"
   },
   {
    "duration": 26,
    "start_time": "2021-06-12T13:49:05.202Z"
   },
   {
    "duration": 85,
    "start_time": "2021-06-12T13:54:16.304Z"
   },
   {
    "duration": 17,
    "start_time": "2021-06-12T13:56:12.817Z"
   },
   {
    "duration": 314,
    "start_time": "2021-06-12T14:02:16.168Z"
   },
   {
    "duration": 1340,
    "start_time": "2021-06-12T14:02:22.080Z"
   },
   {
    "duration": 7,
    "start_time": "2021-06-12T14:02:23.423Z"
   },
   {
    "duration": 17,
    "start_time": "2021-06-12T14:02:23.434Z"
   },
   {
    "duration": 114,
    "start_time": "2021-06-12T14:02:23.454Z"
   },
   {
    "duration": 8,
    "start_time": "2021-06-12T14:02:23.571Z"
   },
   {
    "duration": 12,
    "start_time": "2021-06-12T14:02:23.599Z"
   },
   {
    "duration": 122,
    "start_time": "2021-06-12T14:02:23.617Z"
   },
   {
    "duration": 13,
    "start_time": "2021-06-12T14:02:23.743Z"
   },
   {
    "duration": 6,
    "start_time": "2021-06-12T14:02:23.758Z"
   },
   {
    "duration": 36,
    "start_time": "2021-06-12T14:02:23.766Z"
   },
   {
    "duration": 66,
    "start_time": "2021-06-12T14:02:23.805Z"
   },
   {
    "duration": 112,
    "start_time": "2021-06-12T14:02:23.873Z"
   },
   {
    "duration": 95,
    "start_time": "2021-06-12T14:02:23.987Z"
   },
   {
    "duration": 8921,
    "start_time": "2021-06-12T14:02:24.085Z"
   },
   {
    "duration": 10,
    "start_time": "2021-06-12T14:02:33.008Z"
   },
   {
    "duration": 11,
    "start_time": "2021-06-12T14:02:33.021Z"
   },
   {
    "duration": 8,
    "start_time": "2021-06-12T14:02:33.036Z"
   },
   {
    "duration": 8,
    "start_time": "2021-06-12T14:02:33.047Z"
   },
   {
    "duration": 171,
    "start_time": "2021-06-12T14:02:33.057Z"
   },
   {
    "duration": 10348,
    "start_time": "2021-06-12T14:02:33.231Z"
   },
   {
    "duration": 21,
    "start_time": "2021-06-12T14:02:43.582Z"
   },
   {
    "duration": 13,
    "start_time": "2021-06-12T14:02:43.606Z"
   },
   {
    "duration": 7,
    "start_time": "2021-06-12T14:02:43.624Z"
   },
   {
    "duration": 5,
    "start_time": "2021-06-12T14:02:43.634Z"
   },
   {
    "duration": 14,
    "start_time": "2021-06-12T14:02:43.641Z"
   },
   {
    "duration": 43,
    "start_time": "2021-06-12T14:02:43.657Z"
   },
   {
    "duration": 9,
    "start_time": "2021-06-12T14:02:43.703Z"
   },
   {
    "duration": 23,
    "start_time": "2021-06-12T14:02:43.714Z"
   },
   {
    "duration": 7,
    "start_time": "2021-06-12T14:02:43.739Z"
   },
   {
    "duration": 58,
    "start_time": "2021-06-12T14:02:43.749Z"
   },
   {
    "duration": 91,
    "start_time": "2021-06-12T14:02:43.811Z"
   },
   {
    "duration": -3797,
    "start_time": "2021-06-12T14:02:47.702Z"
   },
   {
    "duration": -3800,
    "start_time": "2021-06-12T14:02:47.707Z"
   },
   {
    "duration": -3803,
    "start_time": "2021-06-12T14:02:47.712Z"
   },
   {
    "duration": -3805,
    "start_time": "2021-06-12T14:02:47.716Z"
   },
   {
    "duration": -3807,
    "start_time": "2021-06-12T14:02:47.720Z"
   },
   {
    "duration": -3821,
    "start_time": "2021-06-12T14:02:47.736Z"
   },
   {
    "duration": 300,
    "start_time": "2021-06-12T14:02:47.736Z"
   },
   {
    "duration": 5,
    "start_time": "2021-06-12T14:02:48.039Z"
   },
   {
    "duration": 15,
    "start_time": "2021-06-12T14:02:48.047Z"
   },
   {
    "duration": 92,
    "start_time": "2021-06-12T14:02:48.065Z"
   },
   {
    "duration": 6,
    "start_time": "2021-06-12T14:02:48.159Z"
   },
   {
    "duration": 7,
    "start_time": "2021-06-12T14:02:48.168Z"
   },
   {
    "duration": 85,
    "start_time": "2021-06-12T14:02:48.200Z"
   },
   {
    "duration": 29,
    "start_time": "2021-06-12T14:02:48.289Z"
   },
   {
    "duration": 6,
    "start_time": "2021-06-12T14:02:48.321Z"
   },
   {
    "duration": 8,
    "start_time": "2021-06-12T14:02:48.329Z"
   },
   {
    "duration": 86,
    "start_time": "2021-06-12T14:02:48.340Z"
   },
   {
    "duration": 98,
    "start_time": "2021-06-12T14:02:48.428Z"
   },
   {
    "duration": 92,
    "start_time": "2021-06-12T14:02:48.529Z"
   },
   {
    "duration": 8648,
    "start_time": "2021-06-12T14:02:48.624Z"
   },
   {
    "duration": 7,
    "start_time": "2021-06-12T14:02:57.275Z"
   },
   {
    "duration": 26,
    "start_time": "2021-06-12T14:02:57.284Z"
   },
   {
    "duration": 8,
    "start_time": "2021-06-12T14:02:57.314Z"
   },
   {
    "duration": 9,
    "start_time": "2021-06-12T14:02:57.324Z"
   },
   {
    "duration": 119,
    "start_time": "2021-06-12T14:02:57.336Z"
   },
   {
    "duration": 8612,
    "start_time": "2021-06-12T14:02:57.458Z"
   },
   {
    "duration": 6,
    "start_time": "2021-06-12T14:03:06.073Z"
   },
   {
    "duration": 21,
    "start_time": "2021-06-12T14:03:06.081Z"
   },
   {
    "duration": 14,
    "start_time": "2021-06-12T14:03:06.107Z"
   },
   {
    "duration": 4,
    "start_time": "2021-06-12T14:03:06.124Z"
   },
   {
    "duration": 12,
    "start_time": "2021-06-12T14:03:06.131Z"
   },
   {
    "duration": 55,
    "start_time": "2021-06-12T14:03:06.146Z"
   },
   {
    "duration": 7,
    "start_time": "2021-06-12T14:03:06.209Z"
   },
   {
    "duration": 23,
    "start_time": "2021-06-12T14:03:06.221Z"
   },
   {
    "duration": 11,
    "start_time": "2021-06-12T14:03:06.247Z"
   },
   {
    "duration": 71,
    "start_time": "2021-06-12T14:03:06.261Z"
   },
   {
    "duration": 91,
    "start_time": "2021-06-12T14:03:06.335Z"
   },
   {
    "duration": -3783,
    "start_time": "2021-06-12T14:03:10.212Z"
   },
   {
    "duration": -3788,
    "start_time": "2021-06-12T14:03:10.218Z"
   },
   {
    "duration": -3791,
    "start_time": "2021-06-12T14:03:10.223Z"
   },
   {
    "duration": -3795,
    "start_time": "2021-06-12T14:03:10.228Z"
   },
   {
    "duration": -3799,
    "start_time": "2021-06-12T14:03:10.233Z"
   },
   {
    "duration": -3802,
    "start_time": "2021-06-12T14:03:10.238Z"
   },
   {
    "duration": 15,
    "start_time": "2021-06-12T14:03:32.310Z"
   },
   {
    "duration": 31,
    "start_time": "2021-06-12T14:03:49.191Z"
   },
   {
    "duration": 96,
    "start_time": "2021-06-12T14:05:46.598Z"
   },
   {
    "duration": 290,
    "start_time": "2021-06-12T14:06:45.999Z"
   },
   {
    "duration": 10,
    "start_time": "2021-06-12T14:06:46.292Z"
   },
   {
    "duration": 16,
    "start_time": "2021-06-12T14:06:46.306Z"
   },
   {
    "duration": 93,
    "start_time": "2021-06-12T14:06:46.325Z"
   },
   {
    "duration": 7,
    "start_time": "2021-06-12T14:06:46.421Z"
   },
   {
    "duration": 8,
    "start_time": "2021-06-12T14:06:46.430Z"
   },
   {
    "duration": 115,
    "start_time": "2021-06-12T14:06:46.440Z"
   },
   {
    "duration": 11,
    "start_time": "2021-06-12T14:06:46.559Z"
   },
   {
    "duration": 28,
    "start_time": "2021-06-12T14:06:46.573Z"
   },
   {
    "duration": 8,
    "start_time": "2021-06-12T14:06:46.604Z"
   },
   {
    "duration": 98,
    "start_time": "2021-06-12T14:06:46.615Z"
   },
   {
    "duration": 125,
    "start_time": "2021-06-12T14:06:46.716Z"
   },
   {
    "duration": 115,
    "start_time": "2021-06-12T14:06:46.844Z"
   },
   {
    "duration": 11612,
    "start_time": "2021-06-12T14:06:46.963Z"
   },
   {
    "duration": 22,
    "start_time": "2021-06-12T14:06:58.578Z"
   },
   {
    "duration": 14,
    "start_time": "2021-06-12T14:06:58.604Z"
   },
   {
    "duration": 14,
    "start_time": "2021-06-12T14:06:58.621Z"
   },
   {
    "duration": 11,
    "start_time": "2021-06-12T14:06:58.637Z"
   },
   {
    "duration": 115,
    "start_time": "2021-06-12T14:06:58.650Z"
   },
   {
    "duration": 8375,
    "start_time": "2021-06-12T14:06:58.768Z"
   },
   {
    "duration": 7,
    "start_time": "2021-06-12T14:07:07.145Z"
   },
   {
    "duration": 17,
    "start_time": "2021-06-12T14:07:07.154Z"
   },
   {
    "duration": 26,
    "start_time": "2021-06-12T14:07:07.176Z"
   },
   {
    "duration": 3,
    "start_time": "2021-06-12T14:07:07.205Z"
   },
   {
    "duration": 17,
    "start_time": "2021-06-12T14:07:07.210Z"
   },
   {
    "duration": 7,
    "start_time": "2021-06-12T14:07:07.230Z"
   },
   {
    "duration": 5,
    "start_time": "2021-06-12T14:07:07.240Z"
   },
   {
    "duration": 56,
    "start_time": "2021-06-12T14:07:07.247Z"
   },
   {
    "duration": 8,
    "start_time": "2021-06-12T14:07:07.305Z"
   },
   {
    "duration": 39,
    "start_time": "2021-06-12T14:07:07.316Z"
   },
   {
    "duration": 43,
    "start_time": "2021-06-12T14:07:07.358Z"
   },
   {
    "duration": 17,
    "start_time": "2021-06-12T14:07:07.404Z"
   },
   {
    "duration": 86,
    "start_time": "2021-06-12T14:07:07.424Z"
   },
   {
    "duration": -3784,
    "start_time": "2021-06-12T14:07:11.297Z"
   },
   {
    "duration": -3799,
    "start_time": "2021-06-12T14:07:11.313Z"
   },
   {
    "duration": -3801,
    "start_time": "2021-06-12T14:07:11.317Z"
   },
   {
    "duration": 1266,
    "start_time": "2021-06-12T14:07:52.394Z"
   },
   {
    "duration": 5,
    "start_time": "2021-06-12T14:07:53.662Z"
   },
   {
    "duration": 37,
    "start_time": "2021-06-12T14:07:53.670Z"
   },
   {
    "duration": 55,
    "start_time": "2021-06-12T14:07:53.710Z"
   },
   {
    "duration": 7,
    "start_time": "2021-06-12T14:07:53.767Z"
   },
   {
    "duration": 28,
    "start_time": "2021-06-12T14:07:53.777Z"
   },
   {
    "duration": 106,
    "start_time": "2021-06-12T14:07:53.807Z"
   },
   {
    "duration": 13,
    "start_time": "2021-06-12T14:07:53.917Z"
   },
   {
    "duration": 5,
    "start_time": "2021-06-12T14:07:53.933Z"
   },
   {
    "duration": 7,
    "start_time": "2021-06-12T14:07:53.941Z"
   },
   {
    "duration": 93,
    "start_time": "2021-06-12T14:07:53.950Z"
   },
   {
    "duration": 110,
    "start_time": "2021-06-12T14:07:54.046Z"
   },
   {
    "duration": 104,
    "start_time": "2021-06-12T14:07:54.159Z"
   },
   {
    "duration": 11537,
    "start_time": "2021-06-12T14:07:54.265Z"
   },
   {
    "duration": 7,
    "start_time": "2021-06-12T14:08:05.805Z"
   },
   {
    "duration": 14,
    "start_time": "2021-06-12T14:08:05.815Z"
   },
   {
    "duration": 10,
    "start_time": "2021-06-12T14:08:05.832Z"
   },
   {
    "duration": 10,
    "start_time": "2021-06-12T14:08:05.845Z"
   },
   {
    "duration": 137,
    "start_time": "2021-06-12T14:08:05.902Z"
   },
   {
    "duration": 11415,
    "start_time": "2021-06-12T14:08:06.042Z"
   },
   {
    "duration": 8,
    "start_time": "2021-06-12T14:08:17.460Z"
   },
   {
    "duration": 38,
    "start_time": "2021-06-12T14:08:17.471Z"
   },
   {
    "duration": 8,
    "start_time": "2021-06-12T14:08:17.515Z"
   },
   {
    "duration": 7,
    "start_time": "2021-06-12T14:08:17.526Z"
   },
   {
    "duration": 14,
    "start_time": "2021-06-12T14:08:17.535Z"
   },
   {
    "duration": 8,
    "start_time": "2021-06-12T14:08:17.551Z"
   },
   {
    "duration": 4,
    "start_time": "2021-06-12T14:08:17.562Z"
   },
   {
    "duration": 23,
    "start_time": "2021-06-12T14:08:17.600Z"
   },
   {
    "duration": 9,
    "start_time": "2021-06-12T14:08:17.626Z"
   },
   {
    "duration": 29,
    "start_time": "2021-06-12T14:08:17.638Z"
   },
   {
    "duration": 18,
    "start_time": "2021-06-12T14:08:17.702Z"
   },
   {
    "duration": 15,
    "start_time": "2021-06-12T14:08:17.725Z"
   },
   {
    "duration": 329,
    "start_time": "2021-06-12T14:08:38.689Z"
   },
   {
    "duration": 1080,
    "start_time": "2021-06-12T14:08:43.744Z"
   },
   {
    "duration": 6,
    "start_time": "2021-06-12T14:08:44.828Z"
   },
   {
    "duration": 16,
    "start_time": "2021-06-12T14:08:44.838Z"
   },
   {
    "duration": 95,
    "start_time": "2021-06-12T14:08:44.858Z"
   },
   {
    "duration": 6,
    "start_time": "2021-06-12T14:08:44.956Z"
   },
   {
    "duration": 7,
    "start_time": "2021-06-12T14:08:44.964Z"
   },
   {
    "duration": 124,
    "start_time": "2021-06-12T14:08:44.973Z"
   },
   {
    "duration": 15,
    "start_time": "2021-06-12T14:08:45.106Z"
   },
   {
    "duration": 6,
    "start_time": "2021-06-12T14:08:45.124Z"
   },
   {
    "duration": 6,
    "start_time": "2021-06-12T14:08:45.132Z"
   },
   {
    "duration": 94,
    "start_time": "2021-06-12T14:08:45.141Z"
   },
   {
    "duration": 95,
    "start_time": "2021-06-12T14:08:45.237Z"
   },
   {
    "duration": 102,
    "start_time": "2021-06-12T14:08:45.334Z"
   },
   {
    "duration": 8474,
    "start_time": "2021-06-12T14:08:45.439Z"
   },
   {
    "duration": 8,
    "start_time": "2021-06-12T14:08:53.919Z"
   },
   {
    "duration": 12,
    "start_time": "2021-06-12T14:08:53.929Z"
   },
   {
    "duration": 7,
    "start_time": "2021-06-12T14:08:53.943Z"
   },
   {
    "duration": 47,
    "start_time": "2021-06-12T14:08:53.953Z"
   },
   {
    "duration": 119,
    "start_time": "2021-06-12T14:08:54.005Z"
   },
   {
    "duration": 8587,
    "start_time": "2021-06-12T14:08:54.127Z"
   },
   {
    "duration": 6,
    "start_time": "2021-06-12T14:09:02.716Z"
   },
   {
    "duration": 12,
    "start_time": "2021-06-12T14:09:02.725Z"
   },
   {
    "duration": 11,
    "start_time": "2021-06-12T14:09:02.742Z"
   },
   {
    "duration": 9,
    "start_time": "2021-06-12T14:09:02.756Z"
   },
   {
    "duration": 40,
    "start_time": "2021-06-12T14:09:02.768Z"
   },
   {
    "duration": 9,
    "start_time": "2021-06-12T14:09:02.814Z"
   },
   {
    "duration": 5,
    "start_time": "2021-06-12T14:09:02.825Z"
   },
   {
    "duration": 34,
    "start_time": "2021-06-12T14:09:02.832Z"
   },
   {
    "duration": 41,
    "start_time": "2021-06-12T14:09:02.869Z"
   },
   {
    "duration": 27,
    "start_time": "2021-06-12T14:09:02.914Z"
   },
   {
    "duration": 17,
    "start_time": "2021-06-12T14:09:02.944Z"
   },
   {
    "duration": 20,
    "start_time": "2021-06-12T14:09:02.963Z"
   },
   {
    "duration": 343,
    "start_time": "2021-06-12T14:09:23.704Z"
   },
   {
    "duration": 1110,
    "start_time": "2021-06-12T14:09:56.993Z"
   },
   {
    "duration": 6,
    "start_time": "2021-06-12T14:09:58.106Z"
   },
   {
    "duration": 19,
    "start_time": "2021-06-12T14:09:58.114Z"
   },
   {
    "duration": 89,
    "start_time": "2021-06-12T14:09:58.136Z"
   },
   {
    "duration": 7,
    "start_time": "2021-06-12T14:09:58.228Z"
   },
   {
    "duration": 6,
    "start_time": "2021-06-12T14:09:58.238Z"
   },
   {
    "duration": 128,
    "start_time": "2021-06-12T14:09:58.246Z"
   },
   {
    "duration": 24,
    "start_time": "2021-06-12T14:09:58.377Z"
   },
   {
    "duration": 6,
    "start_time": "2021-06-12T14:09:58.404Z"
   },
   {
    "duration": 13,
    "start_time": "2021-06-12T14:09:58.413Z"
   },
   {
    "duration": 88,
    "start_time": "2021-06-12T14:09:58.428Z"
   },
   {
    "duration": 101,
    "start_time": "2021-06-12T14:09:58.519Z"
   },
   {
    "duration": 111,
    "start_time": "2021-06-12T14:09:58.622Z"
   },
   {
    "duration": 8509,
    "start_time": "2021-06-12T14:09:58.735Z"
   },
   {
    "duration": 6,
    "start_time": "2021-06-12T14:10:07.247Z"
   },
   {
    "duration": 17,
    "start_time": "2021-06-12T14:10:07.256Z"
   },
   {
    "duration": 28,
    "start_time": "2021-06-12T14:10:07.276Z"
   },
   {
    "duration": 11,
    "start_time": "2021-06-12T14:10:07.309Z"
   },
   {
    "duration": 144,
    "start_time": "2021-06-12T14:10:07.323Z"
   },
   {
    "duration": 10851,
    "start_time": "2021-06-12T14:10:07.470Z"
   },
   {
    "duration": 6,
    "start_time": "2021-06-12T14:10:18.323Z"
   },
   {
    "duration": 8,
    "start_time": "2021-06-12T14:10:18.331Z"
   },
   {
    "duration": 7,
    "start_time": "2021-06-12T14:10:18.346Z"
   },
   {
    "duration": 4,
    "start_time": "2021-06-12T14:10:18.357Z"
   },
   {
    "duration": 54,
    "start_time": "2021-06-12T14:10:18.363Z"
   },
   {
    "duration": 9,
    "start_time": "2021-06-12T14:10:18.420Z"
   },
   {
    "duration": 4,
    "start_time": "2021-06-12T14:10:18.432Z"
   },
   {
    "duration": 31,
    "start_time": "2021-06-12T14:10:18.438Z"
   },
   {
    "duration": 40,
    "start_time": "2021-06-12T14:10:18.471Z"
   },
   {
    "duration": 26,
    "start_time": "2021-06-12T14:10:18.514Z"
   },
   {
    "duration": 13,
    "start_time": "2021-06-12T14:10:18.542Z"
   },
   {
    "duration": 52,
    "start_time": "2021-06-12T14:10:18.557Z"
   },
   {
    "duration": 22,
    "start_time": "2021-06-12T14:10:18.612Z"
   },
   {
    "duration": 4,
    "start_time": "2021-06-12T14:10:18.637Z"
   },
   {
    "duration": 5,
    "start_time": "2021-06-12T14:10:18.644Z"
   },
   {
    "duration": 7,
    "start_time": "2021-06-12T14:10:18.651Z"
   },
   {
    "duration": 25,
    "start_time": "2021-06-12T14:11:00.121Z"
   },
   {
    "duration": 20,
    "start_time": "2021-06-12T14:12:47.965Z"
   },
   {
    "duration": 29,
    "start_time": "2021-06-12T14:14:27.083Z"
   },
   {
    "duration": 31,
    "start_time": "2021-06-12T14:15:02.366Z"
   },
   {
    "duration": 318,
    "start_time": "2021-06-12T14:15:34.502Z"
   },
   {
    "duration": 13,
    "start_time": "2021-06-12T14:15:46.829Z"
   },
   {
    "duration": 11,
    "start_time": "2021-06-12T14:16:24.877Z"
   },
   {
    "duration": 6,
    "start_time": "2021-06-12T14:16:26.197Z"
   },
   {
    "duration": 14,
    "start_time": "2021-06-12T14:16:41.040Z"
   },
   {
    "duration": 20,
    "start_time": "2021-06-12T14:16:41.567Z"
   },
   {
    "duration": 13,
    "start_time": "2021-06-12T14:18:49.710Z"
   },
   {
    "duration": 53,
    "start_time": "2021-06-12T14:18:52.311Z"
   },
   {
    "duration": 15,
    "start_time": "2021-06-12T14:19:33.287Z"
   },
   {
    "duration": 6,
    "start_time": "2021-06-12T14:19:41.749Z"
   },
   {
    "duration": 265,
    "start_time": "2021-06-12T14:19:50.352Z"
   },
   {
    "duration": 325,
    "start_time": "2021-06-12T14:20:56.153Z"
   },
   {
    "duration": 282,
    "start_time": "2021-06-12T14:21:19.305Z"
   },
   {
    "duration": 12,
    "start_time": "2021-06-12T14:21:32.113Z"
   },
   {
    "duration": 6,
    "start_time": "2021-06-12T14:21:36.775Z"
   },
   {
    "duration": 11,
    "start_time": "2021-06-12T14:21:52.424Z"
   },
   {
    "duration": 26,
    "start_time": "2021-06-12T14:21:52.905Z"
   },
   {
    "duration": 13,
    "start_time": "2021-06-12T14:23:42.658Z"
   },
   {
    "duration": 8,
    "start_time": "2021-06-12T14:23:44.657Z"
   },
   {
    "duration": 12,
    "start_time": "2021-06-12T14:24:31.386Z"
   },
   {
    "duration": 21,
    "start_time": "2021-06-12T14:24:31.859Z"
   },
   {
    "duration": 8,
    "start_time": "2021-06-12T14:24:38.874Z"
   },
   {
    "duration": 18,
    "start_time": "2021-06-12T14:24:45.862Z"
   },
   {
    "duration": 20,
    "start_time": "2021-06-12T14:25:20.334Z"
   },
   {
    "duration": 22,
    "start_time": "2021-06-12T14:26:10.187Z"
   },
   {
    "duration": 20,
    "start_time": "2021-06-12T14:26:15.238Z"
   },
   {
    "duration": 413,
    "start_time": "2021-06-12T18:35:19.913Z"
   },
   {
    "duration": 294,
    "start_time": "2021-06-12T18:57:04.560Z"
   },
   {
    "duration": 1141,
    "start_time": "2021-06-12T18:57:14.773Z"
   },
   {
    "duration": 5,
    "start_time": "2021-06-12T18:57:15.917Z"
   },
   {
    "duration": 14,
    "start_time": "2021-06-12T18:57:15.925Z"
   },
   {
    "duration": 81,
    "start_time": "2021-06-12T18:57:15.942Z"
   },
   {
    "duration": 6,
    "start_time": "2021-06-12T18:57:16.026Z"
   },
   {
    "duration": 15,
    "start_time": "2021-06-12T18:57:16.034Z"
   },
   {
    "duration": 106,
    "start_time": "2021-06-12T18:57:16.051Z"
   },
   {
    "duration": 11,
    "start_time": "2021-06-12T18:57:16.161Z"
   },
   {
    "duration": 5,
    "start_time": "2021-06-12T18:57:16.186Z"
   },
   {
    "duration": 19,
    "start_time": "2021-06-12T18:57:16.193Z"
   },
   {
    "duration": 53,
    "start_time": "2021-06-12T18:57:16.214Z"
   },
   {
    "duration": 96,
    "start_time": "2021-06-12T18:57:16.269Z"
   },
   {
    "duration": 93,
    "start_time": "2021-06-12T18:57:16.367Z"
   },
   {
    "duration": 8076,
    "start_time": "2021-06-12T18:57:16.462Z"
   },
   {
    "duration": 7,
    "start_time": "2021-06-12T18:57:24.540Z"
   },
   {
    "duration": 12,
    "start_time": "2021-06-12T18:57:24.549Z"
   },
   {
    "duration": 7,
    "start_time": "2021-06-12T18:57:24.585Z"
   },
   {
    "duration": 7,
    "start_time": "2021-06-12T18:57:24.595Z"
   },
   {
    "duration": 111,
    "start_time": "2021-06-12T18:57:24.604Z"
   },
   {
    "duration": 8001,
    "start_time": "2021-06-12T18:57:24.718Z"
   },
   {
    "duration": 6,
    "start_time": "2021-06-12T18:57:32.721Z"
   },
   {
    "duration": 10,
    "start_time": "2021-06-12T18:57:32.729Z"
   },
   {
    "duration": 7,
    "start_time": "2021-06-12T18:57:32.744Z"
   },
   {
    "duration": 3,
    "start_time": "2021-06-12T18:57:32.785Z"
   },
   {
    "duration": 13,
    "start_time": "2021-06-12T18:57:32.791Z"
   },
   {
    "duration": 10,
    "start_time": "2021-06-12T18:57:32.807Z"
   },
   {
    "duration": 4,
    "start_time": "2021-06-12T18:57:32.820Z"
   },
   {
    "duration": 19,
    "start_time": "2021-06-12T18:57:32.826Z"
   },
   {
    "duration": 40,
    "start_time": "2021-06-12T18:57:32.847Z"
   },
   {
    "duration": 26,
    "start_time": "2021-06-12T18:57:32.889Z"
   },
   {
    "duration": 14,
    "start_time": "2021-06-12T18:57:32.917Z"
   },
   {
    "duration": 12,
    "start_time": "2021-06-12T18:57:32.933Z"
   },
   {
    "duration": 61,
    "start_time": "2021-06-12T18:57:32.947Z"
   },
   {
    "duration": 13,
    "start_time": "2021-06-12T18:57:33.011Z"
   },
   {
    "duration": 25,
    "start_time": "2021-06-12T18:57:33.026Z"
   },
   {
    "duration": 41,
    "start_time": "2021-06-12T18:57:33.054Z"
   },
   {
    "duration": 5,
    "start_time": "2021-06-12T18:57:33.097Z"
   },
   {
    "duration": 9,
    "start_time": "2021-06-12T18:57:33.105Z"
   },
   {
    "duration": 7,
    "start_time": "2021-06-12T18:57:33.116Z"
   },
   {
    "duration": 17,
    "start_time": "2021-06-12T18:57:57.164Z"
   },
   {
    "duration": 12,
    "start_time": "2021-06-12T19:03:10.195Z"
   },
   {
    "duration": 349,
    "start_time": "2021-06-12T19:03:47.541Z"
   },
   {
    "duration": 299,
    "start_time": "2021-06-12T19:04:22.850Z"
   },
   {
    "duration": 12,
    "start_time": "2021-06-12T19:04:30.029Z"
   },
   {
    "duration": 315,
    "start_time": "2021-06-12T19:05:37.108Z"
   },
   {
    "duration": 306,
    "start_time": "2021-06-12T19:07:06.511Z"
   },
   {
    "duration": 415,
    "start_time": "2021-06-12T19:09:38.905Z"
   },
   {
    "duration": 5843,
    "start_time": "2021-06-12T19:10:19.485Z"
   },
   {
    "duration": 320,
    "start_time": "2021-06-12T19:10:33.251Z"
   },
   {
    "duration": 321,
    "start_time": "2021-06-12T19:10:55.321Z"
   },
   {
    "duration": 314,
    "start_time": "2021-06-12T19:11:02.967Z"
   },
   {
    "duration": 322,
    "start_time": "2021-06-12T19:11:12.215Z"
   },
   {
    "duration": 289,
    "start_time": "2021-06-12T19:11:56.964Z"
   },
   {
    "duration": 13,
    "start_time": "2021-06-12T19:13:26.777Z"
   },
   {
    "duration": 98,
    "start_time": "2021-06-12T19:13:49.511Z"
   },
   {
    "duration": 12,
    "start_time": "2021-06-12T19:14:03.794Z"
   },
   {
    "duration": 10,
    "start_time": "2021-06-12T19:16:00.803Z"
   },
   {
    "duration": 22,
    "start_time": "2021-06-12T19:16:14.752Z"
   },
   {
    "duration": 21,
    "start_time": "2021-06-12T19:16:48.177Z"
   },
   {
    "duration": 22,
    "start_time": "2021-06-12T19:19:49.497Z"
   },
   {
    "duration": 796,
    "start_time": "2021-06-12T19:27:23.159Z"
   },
   {
    "duration": 615,
    "start_time": "2021-06-12T19:27:37.937Z"
   },
   {
    "duration": 6,
    "start_time": "2021-06-12T19:27:38.556Z"
   },
   {
    "duration": 32,
    "start_time": "2021-06-12T19:27:38.565Z"
   },
   {
    "duration": 63,
    "start_time": "2021-06-12T19:27:38.600Z"
   },
   {
    "duration": 24,
    "start_time": "2021-06-12T19:27:38.665Z"
   },
   {
    "duration": 7,
    "start_time": "2021-06-12T19:27:38.691Z"
   },
   {
    "duration": 118,
    "start_time": "2021-06-12T19:27:38.701Z"
   },
   {
    "duration": 13,
    "start_time": "2021-06-12T19:27:38.823Z"
   },
   {
    "duration": 5,
    "start_time": "2021-06-12T19:27:38.839Z"
   },
   {
    "duration": 39,
    "start_time": "2021-06-12T19:27:38.848Z"
   },
   {
    "duration": 66,
    "start_time": "2021-06-12T19:27:38.890Z"
   },
   {
    "duration": 99,
    "start_time": "2021-06-12T19:27:38.986Z"
   },
   {
    "duration": 79,
    "start_time": "2021-06-12T19:27:39.087Z"
   },
   {
    "duration": 8329,
    "start_time": "2021-06-12T19:27:39.169Z"
   },
   {
    "duration": 6,
    "start_time": "2021-06-12T19:27:47.501Z"
   },
   {
    "duration": 11,
    "start_time": "2021-06-12T19:27:47.510Z"
   },
   {
    "duration": 11,
    "start_time": "2021-06-12T19:27:47.524Z"
   },
   {
    "duration": 49,
    "start_time": "2021-06-12T19:27:47.538Z"
   },
   {
    "duration": 96,
    "start_time": "2021-06-12T19:27:47.591Z"
   },
   {
    "duration": 8326,
    "start_time": "2021-06-12T19:27:47.690Z"
   },
   {
    "duration": 6,
    "start_time": "2021-06-12T19:27:56.018Z"
   },
   {
    "duration": 7,
    "start_time": "2021-06-12T19:27:56.027Z"
   },
   {
    "duration": 10,
    "start_time": "2021-06-12T19:27:56.036Z"
   },
   {
    "duration": 43,
    "start_time": "2021-06-12T19:27:56.048Z"
   },
   {
    "duration": 7,
    "start_time": "2021-06-12T19:27:56.093Z"
   },
   {
    "duration": 4,
    "start_time": "2021-06-12T19:27:56.102Z"
   },
   {
    "duration": 22,
    "start_time": "2021-06-12T19:27:56.109Z"
   },
   {
    "duration": 8,
    "start_time": "2021-06-12T19:27:56.133Z"
   },
   {
    "duration": 63,
    "start_time": "2021-06-12T19:27:56.144Z"
   },
   {
    "duration": 10,
    "start_time": "2021-06-12T19:27:56.210Z"
   },
   {
    "duration": 16,
    "start_time": "2021-06-12T19:27:56.222Z"
   },
   {
    "duration": 444,
    "start_time": "2021-06-12T19:27:56.241Z"
   },
   {
    "duration": -4421,
    "start_time": "2021-06-12T19:28:01.110Z"
   },
   {
    "duration": -4436,
    "start_time": "2021-06-12T19:28:01.127Z"
   },
   {
    "duration": -4441,
    "start_time": "2021-06-12T19:28:01.134Z"
   },
   {
    "duration": 346,
    "start_time": "2021-06-12T19:28:10.199Z"
   },
   {
    "duration": 276,
    "start_time": "2021-06-12T19:28:21.509Z"
   },
   {
    "duration": 10,
    "start_time": "2021-06-12T19:28:40.200Z"
   },
   {
    "duration": 4,
    "start_time": "2021-06-12T19:28:48.729Z"
   },
   {
    "duration": 17,
    "start_time": "2021-06-12T19:28:50.149Z"
   },
   {
    "duration": 7,
    "start_time": "2021-06-12T19:28:52.469Z"
   },
   {
    "duration": 8,
    "start_time": "2021-06-12T19:29:02.255Z"
   },
   {
    "duration": 340,
    "start_time": "2021-06-12T19:29:18.086Z"
   },
   {
    "duration": 276,
    "start_time": "2021-06-12T19:29:28.944Z"
   },
   {
    "duration": 5,
    "start_time": "2021-06-12T19:29:29.223Z"
   },
   {
    "duration": 17,
    "start_time": "2021-06-12T19:29:29.230Z"
   },
   {
    "duration": 63,
    "start_time": "2021-06-12T19:29:30.464Z"
   },
   {
    "duration": 7,
    "start_time": "2021-06-12T19:29:30.529Z"
   },
   {
    "duration": 9,
    "start_time": "2021-06-12T19:29:30.539Z"
   },
   {
    "duration": 107,
    "start_time": "2021-06-12T19:29:30.551Z"
   },
   {
    "duration": 11,
    "start_time": "2021-06-12T19:29:30.661Z"
   },
   {
    "duration": 6,
    "start_time": "2021-06-12T19:29:30.686Z"
   },
   {
    "duration": 7,
    "start_time": "2021-06-12T19:29:30.695Z"
   },
   {
    "duration": 84,
    "start_time": "2021-06-12T19:29:30.706Z"
   },
   {
    "duration": 95,
    "start_time": "2021-06-12T19:29:30.793Z"
   },
   {
    "duration": 96,
    "start_time": "2021-06-12T19:29:30.891Z"
   },
   {
    "duration": 8431,
    "start_time": "2021-06-12T19:29:30.989Z"
   },
   {
    "duration": 7,
    "start_time": "2021-06-12T19:29:39.423Z"
   },
   {
    "duration": 34,
    "start_time": "2021-06-12T19:29:39.432Z"
   },
   {
    "duration": 26,
    "start_time": "2021-06-12T19:29:39.469Z"
   },
   {
    "duration": 14,
    "start_time": "2021-06-12T19:29:39.497Z"
   },
   {
    "duration": 100,
    "start_time": "2021-06-12T19:29:39.513Z"
   },
   {
    "duration": 8434,
    "start_time": "2021-06-12T19:29:39.615Z"
   },
   {
    "duration": 6,
    "start_time": "2021-06-12T19:29:48.051Z"
   },
   {
    "duration": 25,
    "start_time": "2021-06-12T19:29:48.060Z"
   },
   {
    "duration": 7,
    "start_time": "2021-06-12T19:29:48.088Z"
   },
   {
    "duration": 12,
    "start_time": "2021-06-12T19:29:48.097Z"
   },
   {
    "duration": 15,
    "start_time": "2021-06-12T19:29:48.112Z"
   },
   {
    "duration": 19,
    "start_time": "2021-06-12T19:29:48.131Z"
   },
   {
    "duration": 49,
    "start_time": "2021-06-12T19:29:48.153Z"
   },
   {
    "duration": 11,
    "start_time": "2021-06-12T19:29:48.205Z"
   },
   {
    "duration": 67,
    "start_time": "2021-06-12T19:29:48.220Z"
   },
   {
    "duration": 11,
    "start_time": "2021-06-12T19:29:48.290Z"
   },
   {
    "duration": 42,
    "start_time": "2021-06-12T19:29:48.305Z"
   },
   {
    "duration": 333,
    "start_time": "2021-06-12T19:29:48.351Z"
   },
   {
    "duration": -5165,
    "start_time": "2021-06-12T19:29:53.852Z"
   },
   {
    "duration": -5182,
    "start_time": "2021-06-12T19:29:53.871Z"
   },
   {
    "duration": -5189,
    "start_time": "2021-06-12T19:29:53.879Z"
   },
   {
    "duration": 61,
    "start_time": "2021-06-12T19:29:56.532Z"
   },
   {
    "duration": 8,
    "start_time": "2021-06-12T19:34:01.427Z"
   },
   {
    "duration": 16,
    "start_time": "2021-06-12T19:34:26.160Z"
   },
   {
    "duration": 6,
    "start_time": "2021-06-12T19:34:35.963Z"
   },
   {
    "duration": 302,
    "start_time": "2021-06-12T19:37:20.460Z"
   },
   {
    "duration": 6,
    "start_time": "2021-06-12T19:39:32.680Z"
   },
   {
    "duration": 6,
    "start_time": "2021-06-12T19:50:20.655Z"
   },
   {
    "duration": 40,
    "start_time": "2021-06-12T19:50:29.575Z"
   },
   {
    "duration": 5,
    "start_time": "2021-06-12T19:51:11.365Z"
   },
   {
    "duration": 35,
    "start_time": "2021-06-12T19:51:14.035Z"
   },
   {
    "duration": 296,
    "start_time": "2021-06-12T19:51:50.734Z"
   },
   {
    "duration": 5,
    "start_time": "2021-06-12T19:52:10.605Z"
   },
   {
    "duration": 39,
    "start_time": "2021-06-12T19:52:13.764Z"
   },
   {
    "duration": 310,
    "start_time": "2021-06-12T20:02:40.520Z"
   },
   {
    "duration": 294,
    "start_time": "2021-06-12T20:03:10.839Z"
   },
   {
    "duration": 7381,
    "start_time": "2021-06-12T20:04:18.269Z"
   },
   {
    "duration": 297,
    "start_time": "2021-06-12T20:04:40.889Z"
   },
   {
    "duration": 326,
    "start_time": "2021-06-12T20:05:55.359Z"
   },
   {
    "duration": 1212,
    "start_time": "2021-06-13T05:31:14.767Z"
   },
   {
    "duration": 5,
    "start_time": "2021-06-13T05:31:15.982Z"
   },
   {
    "duration": 15,
    "start_time": "2021-06-13T05:31:15.991Z"
   },
   {
    "duration": 96,
    "start_time": "2021-06-13T05:31:16.010Z"
   },
   {
    "duration": 10,
    "start_time": "2021-06-13T05:31:16.109Z"
   },
   {
    "duration": 39,
    "start_time": "2021-06-13T05:31:16.122Z"
   },
   {
    "duration": 104,
    "start_time": "2021-06-13T05:31:16.164Z"
   },
   {
    "duration": 14,
    "start_time": "2021-06-13T05:31:16.272Z"
   },
   {
    "duration": 7,
    "start_time": "2021-06-13T05:31:16.292Z"
   },
   {
    "duration": 6,
    "start_time": "2021-06-13T05:31:16.303Z"
   },
   {
    "duration": 96,
    "start_time": "2021-06-13T05:31:16.313Z"
   },
   {
    "duration": 116,
    "start_time": "2021-06-13T05:31:16.412Z"
   },
   {
    "duration": 106,
    "start_time": "2021-06-13T05:31:16.531Z"
   },
   {
    "duration": 8353,
    "start_time": "2021-06-13T05:31:16.640Z"
   },
   {
    "duration": 8,
    "start_time": "2021-06-13T05:31:24.995Z"
   },
   {
    "duration": 15,
    "start_time": "2021-06-13T05:31:25.006Z"
   },
   {
    "duration": 39,
    "start_time": "2021-06-13T05:31:25.024Z"
   },
   {
    "duration": 17,
    "start_time": "2021-06-13T05:31:25.066Z"
   },
   {
    "duration": 107,
    "start_time": "2021-06-13T05:31:25.085Z"
   },
   {
    "duration": 8374,
    "start_time": "2021-06-13T05:31:25.195Z"
   },
   {
    "duration": 5,
    "start_time": "2021-06-13T05:31:33.572Z"
   },
   {
    "duration": 8,
    "start_time": "2021-06-13T05:31:33.579Z"
   },
   {
    "duration": 7,
    "start_time": "2021-06-13T05:31:33.589Z"
   },
   {
    "duration": 10,
    "start_time": "2021-06-13T05:31:33.598Z"
   },
   {
    "duration": 53,
    "start_time": "2021-06-13T05:31:33.611Z"
   },
   {
    "duration": 4,
    "start_time": "2021-06-13T05:31:33.666Z"
   },
   {
    "duration": 18,
    "start_time": "2021-06-13T05:31:33.676Z"
   },
   {
    "duration": 8,
    "start_time": "2021-06-13T05:31:33.696Z"
   },
   {
    "duration": 67,
    "start_time": "2021-06-13T05:31:33.706Z"
   },
   {
    "duration": 12,
    "start_time": "2021-06-13T05:31:33.776Z"
   },
   {
    "duration": 14,
    "start_time": "2021-06-13T05:31:33.790Z"
   },
   {
    "duration": 7,
    "start_time": "2021-06-13T05:31:33.807Z"
   },
   {
    "duration": 50,
    "start_time": "2021-06-13T05:31:33.817Z"
   },
   {
    "duration": 18,
    "start_time": "2021-06-13T05:31:33.869Z"
   },
   {
    "duration": 6,
    "start_time": "2021-06-13T05:31:33.890Z"
   },
   {
    "duration": 426,
    "start_time": "2021-06-13T05:31:33.898Z"
   },
   {
    "duration": -4708,
    "start_time": "2021-06-13T05:31:39.034Z"
   },
   {
    "duration": 305,
    "start_time": "2021-06-13T05:32:35.517Z"
   },
   {
    "duration": 308,
    "start_time": "2021-06-13T05:32:55.373Z"
   },
   {
    "duration": 18,
    "start_time": "2021-06-13T05:33:58.214Z"
   },
   {
    "duration": 36,
    "start_time": "2021-06-13T05:34:09.211Z"
   },
   {
    "duration": 17,
    "start_time": "2021-06-13T05:35:49.599Z"
   },
   {
    "duration": 37,
    "start_time": "2021-06-13T05:35:52.612Z"
   },
   {
    "duration": 24,
    "start_time": "2021-06-13T05:36:50.709Z"
   },
   {
    "duration": 39,
    "start_time": "2021-06-13T05:36:53.412Z"
   },
   {
    "duration": 23,
    "start_time": "2021-06-13T05:38:32.715Z"
   },
   {
    "duration": 44,
    "start_time": "2021-06-13T05:38:34.884Z"
   },
   {
    "duration": 2285,
    "start_time": "2021-06-13T05:39:37.997Z"
   },
   {
    "duration": 337,
    "start_time": "2021-06-13T05:40:03.356Z"
   },
   {
    "duration": 356,
    "start_time": "2021-06-13T05:40:22.563Z"
   },
   {
    "duration": 272,
    "start_time": "2021-06-13T05:41:01.597Z"
   },
   {
    "duration": 5,
    "start_time": "2021-06-13T05:41:01.872Z"
   },
   {
    "duration": 17,
    "start_time": "2021-06-13T05:41:01.880Z"
   },
   {
    "duration": 83,
    "start_time": "2021-06-13T05:41:01.900Z"
   },
   {
    "duration": 7,
    "start_time": "2021-06-13T05:41:01.986Z"
   },
   {
    "duration": 9,
    "start_time": "2021-06-13T05:41:01.996Z"
   },
   {
    "duration": 111,
    "start_time": "2021-06-13T05:41:02.008Z"
   },
   {
    "duration": 12,
    "start_time": "2021-06-13T05:41:02.121Z"
   },
   {
    "duration": 28,
    "start_time": "2021-06-13T05:41:02.137Z"
   },
   {
    "duration": 7,
    "start_time": "2021-06-13T05:41:02.169Z"
   },
   {
    "duration": 56,
    "start_time": "2021-06-13T05:41:02.179Z"
   },
   {
    "duration": 82,
    "start_time": "2021-06-13T05:41:02.263Z"
   },
   {
    "duration": 121,
    "start_time": "2021-06-13T05:41:02.361Z"
   },
   {
    "duration": 13128,
    "start_time": "2021-06-13T05:41:02.486Z"
   },
   {
    "duration": 8,
    "start_time": "2021-06-13T05:41:15.617Z"
   },
   {
    "duration": 34,
    "start_time": "2021-06-13T05:41:15.628Z"
   },
   {
    "duration": 10,
    "start_time": "2021-06-13T05:41:15.665Z"
   },
   {
    "duration": 10,
    "start_time": "2021-06-13T05:41:15.677Z"
   },
   {
    "duration": 145,
    "start_time": "2021-06-13T05:41:15.690Z"
   },
   {
    "duration": 12800,
    "start_time": "2021-06-13T05:41:15.838Z"
   },
   {
    "duration": 8,
    "start_time": "2021-06-13T05:41:28.641Z"
   },
   {
    "duration": 8,
    "start_time": "2021-06-13T05:41:28.663Z"
   },
   {
    "duration": 25,
    "start_time": "2021-06-13T05:41:28.673Z"
   },
   {
    "duration": 9,
    "start_time": "2021-06-13T05:41:28.700Z"
   },
   {
    "duration": 8,
    "start_time": "2021-06-13T05:41:28.712Z"
   },
   {
    "duration": 3,
    "start_time": "2021-06-13T05:41:28.723Z"
   },
   {
    "duration": 16,
    "start_time": "2021-06-13T05:41:28.765Z"
   },
   {
    "duration": 14,
    "start_time": "2021-06-13T05:41:28.784Z"
   },
   {
    "duration": 29,
    "start_time": "2021-06-13T05:41:28.801Z"
   },
   {
    "duration": 32,
    "start_time": "2021-06-13T05:41:28.833Z"
   },
   {
    "duration": 20,
    "start_time": "2021-06-13T05:41:28.868Z"
   },
   {
    "duration": 7,
    "start_time": "2021-06-13T05:41:28.891Z"
   },
   {
    "duration": 14,
    "start_time": "2021-06-13T05:41:28.900Z"
   },
   {
    "duration": 14,
    "start_time": "2021-06-13T05:41:28.916Z"
   },
   {
    "duration": 32,
    "start_time": "2021-06-13T05:41:28.932Z"
   },
   {
    "duration": 21,
    "start_time": "2021-06-13T05:41:28.966Z"
   },
   {
    "duration": 108,
    "start_time": "2021-06-13T05:41:28.990Z"
   },
   {
    "duration": -4650,
    "start_time": "2021-06-13T05:41:33.751Z"
   },
   {
    "duration": 46,
    "start_time": "2021-06-13T05:41:42.651Z"
   },
   {
    "duration": 31,
    "start_time": "2021-06-13T05:41:58.899Z"
   },
   {
    "duration": 38,
    "start_time": "2021-06-13T05:42:01.587Z"
   },
   {
    "duration": 383,
    "start_time": "2021-06-13T05:42:11.749Z"
   },
   {
    "duration": 28,
    "start_time": "2021-06-13T05:42:17.732Z"
   },
   {
    "duration": 36,
    "start_time": "2021-06-13T05:42:21.452Z"
   },
   {
    "duration": 2248,
    "start_time": "2021-06-13T05:42:35.972Z"
   },
   {
    "duration": 30,
    "start_time": "2021-06-13T05:43:36.172Z"
   },
   {
    "duration": 39,
    "start_time": "2021-06-13T05:43:39.571Z"
   },
   {
    "duration": 4,
    "start_time": "2021-06-13T05:45:48.454Z"
   },
   {
    "duration": 9363,
    "start_time": "2021-06-13T05:46:36.261Z"
   },
   {
    "duration": 4,
    "start_time": "2021-06-13T05:47:21.234Z"
   },
   {
    "duration": 1669,
    "start_time": "2021-06-13T05:47:23.723Z"
   },
   {
    "duration": 4,
    "start_time": "2021-06-13T05:50:35.373Z"
   },
   {
    "duration": 5,
    "start_time": "2021-06-13T05:51:22.256Z"
   },
   {
    "duration": 368,
    "start_time": "2021-06-13T05:51:23.126Z"
   },
   {
    "duration": 1067,
    "start_time": "2021-06-13T05:51:27.120Z"
   },
   {
    "duration": 5,
    "start_time": "2021-06-13T05:51:28.190Z"
   },
   {
    "duration": 13,
    "start_time": "2021-06-13T05:51:28.198Z"
   },
   {
    "duration": 89,
    "start_time": "2021-06-13T05:51:28.214Z"
   },
   {
    "duration": 9,
    "start_time": "2021-06-13T05:51:28.306Z"
   },
   {
    "duration": 10,
    "start_time": "2021-06-13T05:51:28.317Z"
   },
   {
    "duration": 116,
    "start_time": "2021-06-13T05:51:28.329Z"
   },
   {
    "duration": 21,
    "start_time": "2021-06-13T05:51:28.448Z"
   },
   {
    "duration": 5,
    "start_time": "2021-06-13T05:51:28.474Z"
   },
   {
    "duration": 24,
    "start_time": "2021-06-13T05:51:28.483Z"
   },
   {
    "duration": 74,
    "start_time": "2021-06-13T05:51:28.510Z"
   },
   {
    "duration": 97,
    "start_time": "2021-06-13T05:51:28.587Z"
   },
   {
    "duration": 98,
    "start_time": "2021-06-13T05:51:28.686Z"
   },
   {
    "duration": 8425,
    "start_time": "2021-06-13T05:51:28.786Z"
   },
   {
    "duration": 6,
    "start_time": "2021-06-13T05:51:37.213Z"
   },
   {
    "duration": 15,
    "start_time": "2021-06-13T05:51:37.221Z"
   },
   {
    "duration": 27,
    "start_time": "2021-06-13T05:51:37.238Z"
   },
   {
    "duration": 6,
    "start_time": "2021-06-13T05:51:37.267Z"
   },
   {
    "duration": 119,
    "start_time": "2021-06-13T05:51:37.275Z"
   },
   {
    "duration": 8318,
    "start_time": "2021-06-13T05:51:37.397Z"
   },
   {
    "duration": 6,
    "start_time": "2021-06-13T05:51:45.718Z"
   },
   {
    "duration": 7,
    "start_time": "2021-06-13T05:51:45.726Z"
   },
   {
    "duration": 29,
    "start_time": "2021-06-13T05:51:45.735Z"
   },
   {
    "duration": 10,
    "start_time": "2021-06-13T05:51:45.766Z"
   },
   {
    "duration": 8,
    "start_time": "2021-06-13T05:51:45.778Z"
   },
   {
    "duration": 4,
    "start_time": "2021-06-13T05:51:45.788Z"
   },
   {
    "duration": 68,
    "start_time": "2021-06-13T05:51:45.797Z"
   },
   {
    "duration": 7,
    "start_time": "2021-06-13T05:51:45.868Z"
   },
   {
    "duration": 25,
    "start_time": "2021-06-13T05:51:45.877Z"
   },
   {
    "duration": 11,
    "start_time": "2021-06-13T05:51:45.905Z"
   },
   {
    "duration": 50,
    "start_time": "2021-06-13T05:51:45.918Z"
   },
   {
    "duration": 6,
    "start_time": "2021-06-13T05:51:45.971Z"
   },
   {
    "duration": 14,
    "start_time": "2021-06-13T05:51:45.979Z"
   },
   {
    "duration": 6,
    "start_time": "2021-06-13T05:51:45.996Z"
   },
   {
    "duration": 6,
    "start_time": "2021-06-13T05:51:46.004Z"
   },
   {
    "duration": 78,
    "start_time": "2021-06-13T05:51:46.012Z"
   },
   {
    "duration": 4,
    "start_time": "2021-06-13T05:51:46.093Z"
   },
   {
    "duration": 32359,
    "start_time": "2021-06-13T05:51:46.099Z"
   },
   {
    "duration": 327,
    "start_time": "2021-06-13T06:03:04.956Z"
   },
   {
    "duration": 365,
    "start_time": "2021-06-13T06:03:45.059Z"
   },
   {
    "duration": 109,
    "start_time": "2021-06-13T09:55:03.408Z"
   },
   {
    "duration": 4,
    "start_time": "2021-06-13T09:55:13.745Z"
   },
   {
    "duration": 14,
    "start_time": "2021-06-13T09:55:26.155Z"
   },
   {
    "duration": 814,
    "start_time": "2021-06-13T09:55:42.127Z"
   },
   {
    "duration": 1386,
    "start_time": "2021-06-13T09:55:53.228Z"
   },
   {
    "duration": 5,
    "start_time": "2021-06-13T09:55:54.616Z"
   },
   {
    "duration": 21,
    "start_time": "2021-06-13T09:55:54.623Z"
   },
   {
    "duration": 76,
    "start_time": "2021-06-13T09:55:54.647Z"
   },
   {
    "duration": 7,
    "start_time": "2021-06-13T09:55:54.725Z"
   },
   {
    "duration": 37,
    "start_time": "2021-06-13T09:55:54.734Z"
   },
   {
    "duration": 109,
    "start_time": "2021-06-13T09:55:54.773Z"
   },
   {
    "duration": 14,
    "start_time": "2021-06-13T09:55:54.884Z"
   },
   {
    "duration": 6,
    "start_time": "2021-06-13T09:55:54.902Z"
   },
   {
    "duration": 14,
    "start_time": "2021-06-13T09:55:54.911Z"
   },
   {
    "duration": 105,
    "start_time": "2021-06-13T09:55:54.927Z"
   },
   {
    "duration": 108,
    "start_time": "2021-06-13T09:55:55.034Z"
   },
   {
    "duration": 99,
    "start_time": "2021-06-13T09:55:55.145Z"
   },
   {
    "duration": 13075,
    "start_time": "2021-06-13T09:55:55.268Z"
   },
   {
    "duration": 21,
    "start_time": "2021-06-13T09:56:08.346Z"
   },
   {
    "duration": 19,
    "start_time": "2021-06-13T09:56:08.377Z"
   },
   {
    "duration": 10,
    "start_time": "2021-06-13T09:56:08.399Z"
   },
   {
    "duration": 12,
    "start_time": "2021-06-13T09:56:08.414Z"
   },
   {
    "duration": 146,
    "start_time": "2021-06-13T09:56:08.429Z"
   },
   {
    "duration": 9065,
    "start_time": "2021-06-13T09:56:08.578Z"
   },
   {
    "duration": 6,
    "start_time": "2021-06-13T09:56:17.647Z"
   },
   {
    "duration": 8,
    "start_time": "2021-06-13T09:56:17.668Z"
   },
   {
    "duration": 15,
    "start_time": "2021-06-13T09:56:17.680Z"
   },
   {
    "duration": 21,
    "start_time": "2021-06-13T09:56:17.698Z"
   },
   {
    "duration": 14,
    "start_time": "2021-06-13T09:56:17.723Z"
   },
   {
    "duration": 30,
    "start_time": "2021-06-13T09:56:17.740Z"
   },
   {
    "duration": 31,
    "start_time": "2021-06-13T09:56:17.773Z"
   },
   {
    "duration": 9,
    "start_time": "2021-06-13T09:56:17.810Z"
   },
   {
    "duration": 44,
    "start_time": "2021-06-13T09:56:17.821Z"
   },
   {
    "duration": 25,
    "start_time": "2021-06-13T09:56:17.868Z"
   },
   {
    "duration": 16,
    "start_time": "2021-06-13T09:56:17.896Z"
   },
   {
    "duration": 7,
    "start_time": "2021-06-13T09:56:17.916Z"
   },
   {
    "duration": 43,
    "start_time": "2021-06-13T09:56:17.925Z"
   },
   {
    "duration": 30,
    "start_time": "2021-06-13T09:56:17.971Z"
   },
   {
    "duration": 5,
    "start_time": "2021-06-13T09:56:18.004Z"
   },
   {
    "duration": 46,
    "start_time": "2021-06-13T09:56:18.013Z"
   },
   {
    "duration": 7,
    "start_time": "2021-06-13T09:56:18.062Z"
   },
   {
    "duration": 9,
    "start_time": "2021-06-13T09:56:18.073Z"
   },
   {
    "duration": 769,
    "start_time": "2021-06-13T09:56:18.086Z"
   },
   {
    "duration": 8,
    "start_time": "2021-06-13T09:56:54.866Z"
   },
   {
    "duration": 728,
    "start_time": "2021-06-13T09:56:58.514Z"
   },
   {
    "duration": 6,
    "start_time": "2021-06-13T09:57:54.978Z"
   },
   {
    "duration": 716,
    "start_time": "2021-06-13T09:57:59.115Z"
   },
   {
    "duration": 5,
    "start_time": "2021-06-13T09:58:37.215Z"
   },
   {
    "duration": 6,
    "start_time": "2021-06-13T09:58:41.465Z"
   },
   {
    "duration": 1597,
    "start_time": "2021-06-13T09:58:48.245Z"
   },
   {
    "duration": 317,
    "start_time": "2021-06-13T09:59:16.136Z"
   },
   {
    "duration": 323,
    "start_time": "2021-06-13T09:59:23.803Z"
   },
   {
    "duration": 11,
    "start_time": "2021-06-13T09:59:50.468Z"
   },
   {
    "duration": 53,
    "start_time": "2021-06-13T10:00:06.904Z"
   },
   {
    "duration": 5,
    "start_time": "2021-06-13T10:00:19.516Z"
   },
   {
    "duration": 5,
    "start_time": "2021-06-13T10:00:36.454Z"
   },
   {
    "duration": 278,
    "start_time": "2021-06-13T10:00:41.785Z"
   },
   {
    "duration": 38,
    "start_time": "2021-06-13T10:00:54.396Z"
   },
   {
    "duration": 48,
    "start_time": "2021-06-13T10:01:04.420Z"
   },
   {
    "duration": 4,
    "start_time": "2021-06-13T10:01:26.800Z"
   },
   {
    "duration": 444,
    "start_time": "2021-06-13T10:01:28.153Z"
   },
   {
    "duration": 50,
    "start_time": "2021-06-13T10:01:29.271Z"
   },
   {
    "duration": 116,
    "start_time": "2021-06-13T10:02:13.480Z"
   },
   {
    "duration": 5,
    "start_time": "2021-06-13T10:02:25.720Z"
   },
   {
    "duration": 441,
    "start_time": "2021-06-13T10:02:28.441Z"
   },
   {
    "duration": 79,
    "start_time": "2021-06-13T10:02:29.328Z"
   },
   {
    "duration": 335,
    "start_time": "2021-06-13T10:03:24.360Z"
   },
   {
    "duration": 6,
    "start_time": "2021-06-13T10:03:29.739Z"
   },
   {
    "duration": 68,
    "start_time": "2021-06-13T10:04:19.489Z"
   },
   {
    "duration": 10,
    "start_time": "2021-06-13T10:05:27.780Z"
   },
   {
    "duration": 5,
    "start_time": "2021-06-13T10:05:29.158Z"
   },
   {
    "duration": 261,
    "start_time": "2021-06-13T10:05:31.018Z"
   },
   {
    "duration": 68,
    "start_time": "2021-06-13T10:05:49.420Z"
   },
   {
    "duration": 67,
    "start_time": "2021-06-13T10:05:57.676Z"
   },
   {
    "duration": 6,
    "start_time": "2021-06-13T10:06:53.287Z"
   },
   {
    "duration": 5,
    "start_time": "2021-06-13T10:07:11.398Z"
   },
   {
    "duration": 294,
    "start_time": "2021-06-13T10:07:15.107Z"
   },
   {
    "duration": 45,
    "start_time": "2021-06-13T10:07:18.281Z"
   },
   {
    "duration": 10,
    "start_time": "2021-06-13T10:07:45.191Z"
   },
   {
    "duration": 5,
    "start_time": "2021-06-13T10:08:07.026Z"
   },
   {
    "duration": 305,
    "start_time": "2021-06-13T10:08:10.787Z"
   },
   {
    "duration": 49,
    "start_time": "2021-06-13T10:08:13.974Z"
   },
   {
    "duration": 6,
    "start_time": "2021-06-13T10:10:59.244Z"
   },
   {
    "duration": 1232,
    "start_time": "2021-06-13T10:11:03.186Z"
   },
   {
    "duration": 5,
    "start_time": "2021-06-13T10:15:47.704Z"
   },
   {
    "duration": 1189,
    "start_time": "2021-06-13T10:15:48.484Z"
   },
   {
    "duration": 46,
    "start_time": "2021-06-13T10:16:07.314Z"
   },
   {
    "duration": 5,
    "start_time": "2021-06-13T10:16:40.903Z"
   },
   {
    "duration": 1877,
    "start_time": "2021-06-13T10:16:46.705Z"
   },
   {
    "duration": 69,
    "start_time": "2021-06-13T10:16:53.304Z"
   },
   {
    "duration": 326,
    "start_time": "2021-06-13T10:17:45.834Z"
   },
   {
    "duration": 17,
    "start_time": "2021-06-13T10:17:56.274Z"
   },
   {
    "duration": 7,
    "start_time": "2021-06-13T10:18:06.313Z"
   },
   {
    "duration": 6,
    "start_time": "2021-06-13T10:18:24.162Z"
   },
   {
    "duration": 4,
    "start_time": "2021-06-13T10:19:24.294Z"
   },
   {
    "duration": 1236,
    "start_time": "2021-06-13T10:19:30.433Z"
   },
   {
    "duration": 1305,
    "start_time": "2021-06-13T10:19:42.012Z"
   },
   {
    "duration": 5,
    "start_time": "2021-06-13T10:20:31.312Z"
   },
   {
    "duration": 1101,
    "start_time": "2021-06-13T10:20:33.282Z"
   },
   {
    "duration": 47,
    "start_time": "2021-06-13T10:20:38.092Z"
   },
   {
    "duration": 7,
    "start_time": "2021-06-13T10:21:02.371Z"
   },
   {
    "duration": 6,
    "start_time": "2021-06-13T10:22:15.143Z"
   },
   {
    "duration": 57,
    "start_time": "2021-06-13T10:23:00.462Z"
   },
   {
    "duration": 6,
    "start_time": "2021-06-13T10:23:15.021Z"
   },
   {
    "duration": 118,
    "start_time": "2021-06-13T10:24:43.960Z"
   },
   {
    "duration": 311,
    "start_time": "2021-06-13T10:25:01.831Z"
   },
   {
    "duration": 345,
    "start_time": "2021-06-13T10:25:35.861Z"
   },
   {
    "duration": 5,
    "start_time": "2021-06-13T10:26:13.011Z"
   },
   {
    "duration": 1292,
    "start_time": "2021-06-13T10:26:16.151Z"
   },
   {
    "duration": 380,
    "start_time": "2021-06-13T10:26:42.261Z"
   },
   {
    "duration": 337,
    "start_time": "2021-06-13T10:27:11.637Z"
   },
   {
    "duration": 371,
    "start_time": "2021-06-13T10:27:24.531Z"
   },
   {
    "duration": 4493,
    "start_time": "2021-06-13T10:27:57.991Z"
   },
   {
    "duration": 67,
    "start_time": "2021-06-13T10:28:32.700Z"
   },
   {
    "duration": 5,
    "start_time": "2021-06-13T10:28:57.999Z"
   },
   {
    "duration": 358,
    "start_time": "2021-06-13T10:29:12.920Z"
   },
   {
    "duration": 4,
    "start_time": "2021-06-13T10:31:20.120Z"
   },
   {
    "duration": 1237,
    "start_time": "2021-06-13T10:31:29.460Z"
   },
   {
    "duration": 46548,
    "start_time": "2021-06-13T10:31:54.739Z"
   },
   {
    "duration": 7,
    "start_time": "2021-06-13T10:32:51.893Z"
   },
   {
    "duration": 5,
    "start_time": "2021-06-13T10:33:02.021Z"
   },
   {
    "duration": 49,
    "start_time": "2021-06-13T10:33:14.823Z"
   },
   {
    "duration": 7,
    "start_time": "2021-06-13T10:33:29.138Z"
   },
   {
    "duration": 346,
    "start_time": "2021-06-13T10:34:01.806Z"
   },
   {
    "duration": 349,
    "start_time": "2021-06-13T10:34:34.312Z"
   },
   {
    "duration": 5,
    "start_time": "2021-06-13T10:34:44.514Z"
   },
   {
    "duration": 310,
    "start_time": "2021-06-13T10:34:57.926Z"
   },
   {
    "duration": 9,
    "start_time": "2021-06-13T10:35:27.766Z"
   },
   {
    "duration": 11,
    "start_time": "2021-06-13T10:35:35.506Z"
   },
   {
    "duration": 6,
    "start_time": "2021-06-13T10:35:46.225Z"
   },
   {
    "duration": 5,
    "start_time": "2021-06-13T10:36:27.220Z"
   },
   {
    "duration": 311,
    "start_time": "2021-06-13T10:36:38.920Z"
   },
   {
    "duration": 8,
    "start_time": "2021-06-13T10:36:55.100Z"
   },
   {
    "duration": 356,
    "start_time": "2021-06-13T10:37:16.582Z"
   },
   {
    "duration": 669,
    "start_time": "2021-06-13T10:45:41.690Z"
   },
   {
    "duration": 4,
    "start_time": "2021-06-13T10:47:04.530Z"
   },
   {
    "duration": 4053,
    "start_time": "2021-06-13T10:47:28.942Z"
   },
   {
    "duration": 217,
    "start_time": "2021-06-13T10:49:16.213Z"
   },
   {
    "duration": 4,
    "start_time": "2021-06-13T10:49:16.433Z"
   },
   {
    "duration": 21,
    "start_time": "2021-06-13T10:49:16.463Z"
   },
   {
    "duration": 86,
    "start_time": "2021-06-13T10:49:16.489Z"
   },
   {
    "duration": 23,
    "start_time": "2021-06-13T10:49:16.578Z"
   },
   {
    "duration": 9,
    "start_time": "2021-06-13T10:49:16.605Z"
   },
   {
    "duration": 109,
    "start_time": "2021-06-13T10:49:16.616Z"
   },
   {
    "duration": 12,
    "start_time": "2021-06-13T10:49:16.727Z"
   },
   {
    "duration": 21,
    "start_time": "2021-06-13T10:49:16.744Z"
   },
   {
    "duration": 8,
    "start_time": "2021-06-13T10:49:16.769Z"
   },
   {
    "duration": 57,
    "start_time": "2021-06-13T10:49:16.780Z"
   },
   {
    "duration": 83,
    "start_time": "2021-06-13T10:49:16.865Z"
   },
   {
    "duration": 86,
    "start_time": "2021-06-13T10:49:16.963Z"
   },
   {
    "duration": 9021,
    "start_time": "2021-06-13T10:49:17.065Z"
   },
   {
    "duration": 8,
    "start_time": "2021-06-13T10:49:26.089Z"
   },
   {
    "duration": 13,
    "start_time": "2021-06-13T10:49:26.100Z"
   },
   {
    "duration": 19,
    "start_time": "2021-06-13T10:49:26.116Z"
   },
   {
    "duration": 37,
    "start_time": "2021-06-13T10:49:26.138Z"
   },
   {
    "duration": 109,
    "start_time": "2021-06-13T10:49:26.178Z"
   },
   {
    "duration": 10224,
    "start_time": "2021-06-13T10:49:26.290Z"
   },
   {
    "duration": 6,
    "start_time": "2021-06-13T10:49:36.516Z"
   },
   {
    "duration": 7,
    "start_time": "2021-06-13T10:49:36.525Z"
   },
   {
    "duration": 37,
    "start_time": "2021-06-13T10:49:36.534Z"
   },
   {
    "duration": 17,
    "start_time": "2021-06-13T10:49:36.574Z"
   },
   {
    "duration": 8,
    "start_time": "2021-06-13T10:49:36.594Z"
   },
   {
    "duration": 4,
    "start_time": "2021-06-13T10:49:36.604Z"
   },
   {
    "duration": 64,
    "start_time": "2021-06-13T10:49:36.613Z"
   },
   {
    "duration": 10,
    "start_time": "2021-06-13T10:49:36.680Z"
   },
   {
    "duration": 27,
    "start_time": "2021-06-13T10:49:36.693Z"
   },
   {
    "duration": 41,
    "start_time": "2021-06-13T10:49:36.724Z"
   },
   {
    "duration": 24,
    "start_time": "2021-06-13T10:49:36.768Z"
   },
   {
    "duration": 9,
    "start_time": "2021-06-13T10:49:36.795Z"
   },
   {
    "duration": 15,
    "start_time": "2021-06-13T10:49:36.806Z"
   },
   {
    "duration": 45,
    "start_time": "2021-06-13T10:49:36.823Z"
   },
   {
    "duration": 9,
    "start_time": "2021-06-13T10:49:36.871Z"
   },
   {
    "duration": 34,
    "start_time": "2021-06-13T10:49:36.882Z"
   },
   {
    "duration": 4,
    "start_time": "2021-06-13T10:49:36.918Z"
   },
   {
    "duration": 5,
    "start_time": "2021-06-13T10:49:36.924Z"
   },
   {
    "duration": 7,
    "start_time": "2021-06-13T10:49:36.961Z"
   },
   {
    "duration": 369,
    "start_time": "2021-06-13T10:49:36.970Z"
   },
   {
    "duration": -4467,
    "start_time": "2021-06-13T10:49:41.810Z"
   },
   {
    "duration": 5,
    "start_time": "2021-06-13T10:50:37.486Z"
   },
   {
    "duration": 512,
    "start_time": "2021-06-13T10:50:45.323Z"
   },
   {
    "duration": 10,
    "start_time": "2021-06-13T10:51:07.652Z"
   },
   {
    "duration": 1262,
    "start_time": "2021-06-13T10:52:16.713Z"
   },
   {
    "duration": 1315,
    "start_time": "2021-06-13T10:52:33.065Z"
   },
   {
    "duration": 4,
    "start_time": "2021-06-13T10:52:42.513Z"
   },
   {
    "duration": 40564,
    "start_time": "2021-06-13T10:53:30.604Z"
   },
   {
    "duration": 48,
    "start_time": "2021-06-13T10:54:26.631Z"
   },
   {
    "duration": 5,
    "start_time": "2021-06-13T10:55:35.586Z"
   },
   {
    "duration": 263,
    "start_time": "2021-06-13T10:57:00.839Z"
   },
   {
    "duration": 6,
    "start_time": "2021-06-13T10:57:01.104Z"
   },
   {
    "duration": 55,
    "start_time": "2021-06-13T10:57:01.113Z"
   },
   {
    "duration": 62,
    "start_time": "2021-06-13T10:57:01.171Z"
   },
   {
    "duration": 30,
    "start_time": "2021-06-13T10:57:01.236Z"
   },
   {
    "duration": 23,
    "start_time": "2021-06-13T10:57:01.269Z"
   },
   {
    "duration": 134,
    "start_time": "2021-06-13T10:57:01.295Z"
   },
   {
    "duration": 30,
    "start_time": "2021-06-13T10:57:01.434Z"
   },
   {
    "duration": 8,
    "start_time": "2021-06-13T10:57:01.467Z"
   },
   {
    "duration": 10,
    "start_time": "2021-06-13T10:57:01.478Z"
   },
   {
    "duration": 129,
    "start_time": "2021-06-13T10:57:01.491Z"
   },
   {
    "duration": 132,
    "start_time": "2021-06-13T10:57:01.623Z"
   },
   {
    "duration": 124,
    "start_time": "2021-06-13T10:57:01.761Z"
   },
   {
    "duration": 12897,
    "start_time": "2021-06-13T10:57:01.888Z"
   },
   {
    "duration": 11,
    "start_time": "2021-06-13T10:57:14.788Z"
   },
   {
    "duration": 20,
    "start_time": "2021-06-13T10:57:14.802Z"
   },
   {
    "duration": 45,
    "start_time": "2021-06-13T10:57:14.825Z"
   },
   {
    "duration": 11,
    "start_time": "2021-06-13T10:57:14.872Z"
   },
   {
    "duration": 130,
    "start_time": "2021-06-13T10:57:14.890Z"
   },
   {
    "duration": 12665,
    "start_time": "2021-06-13T10:57:15.023Z"
   },
   {
    "duration": 8,
    "start_time": "2021-06-13T10:57:27.691Z"
   },
   {
    "duration": 12,
    "start_time": "2021-06-13T10:57:27.702Z"
   },
   {
    "duration": 45,
    "start_time": "2021-06-13T10:57:27.721Z"
   },
   {
    "duration": 13,
    "start_time": "2021-06-13T10:57:27.769Z"
   },
   {
    "duration": 13,
    "start_time": "2021-06-13T10:57:27.785Z"
   },
   {
    "duration": 5,
    "start_time": "2021-06-13T10:57:27.801Z"
   },
   {
    "duration": 70,
    "start_time": "2021-06-13T10:57:27.809Z"
   },
   {
    "duration": 11,
    "start_time": "2021-06-13T10:57:27.885Z"
   },
   {
    "duration": 43,
    "start_time": "2021-06-13T10:57:27.899Z"
   },
   {
    "duration": 11,
    "start_time": "2021-06-13T10:57:27.961Z"
   },
   {
    "duration": 28,
    "start_time": "2021-06-13T10:57:27.975Z"
   },
   {
    "duration": 8,
    "start_time": "2021-06-13T10:57:28.007Z"
   },
   {
    "duration": 58,
    "start_time": "2021-06-13T10:57:28.018Z"
   },
   {
    "duration": 7,
    "start_time": "2021-06-13T10:57:28.079Z"
   },
   {
    "duration": 14,
    "start_time": "2021-06-13T10:57:28.090Z"
   },
   {
    "duration": 63,
    "start_time": "2021-06-13T10:57:28.108Z"
   },
   {
    "duration": 6,
    "start_time": "2021-06-13T10:57:28.175Z"
   },
   {
    "duration": 7,
    "start_time": "2021-06-13T10:57:28.188Z"
   },
   {
    "duration": 13,
    "start_time": "2021-06-13T10:57:28.199Z"
   },
   {
    "duration": 43883,
    "start_time": "2021-06-13T10:57:28.215Z"
   },
   {
    "duration": 4,
    "start_time": "2021-06-13T10:58:12.101Z"
   },
   {
    "duration": 65,
    "start_time": "2021-06-13T10:58:12.107Z"
   },
   {
    "duration": 110,
    "start_time": "2021-06-13T11:00:26.249Z"
   },
   {
    "duration": 4,
    "start_time": "2021-06-13T11:00:52.409Z"
   },
   {
    "duration": 5,
    "start_time": "2021-06-13T11:01:07.349Z"
   },
   {
    "duration": 6,
    "start_time": "2021-06-13T11:01:47.972Z"
   },
   {
    "duration": 11,
    "start_time": "2021-06-13T11:02:11.375Z"
   },
   {
    "duration": 525,
    "start_time": "2021-06-13T11:02:29.342Z"
   },
   {
    "duration": 43,
    "start_time": "2021-06-13T11:02:46.208Z"
   },
   {
    "duration": 5,
    "start_time": "2021-06-13T11:03:27.481Z"
   },
   {
    "duration": 270,
    "start_time": "2021-06-13T11:03:33.247Z"
   },
   {
    "duration": 37,
    "start_time": "2021-06-13T11:03:41.378Z"
   },
   {
    "duration": 45,
    "start_time": "2021-06-13T11:03:50.925Z"
   },
   {
    "duration": 4,
    "start_time": "2021-06-13T11:04:31.622Z"
   },
   {
    "duration": 1599,
    "start_time": "2021-06-13T11:04:37.609Z"
   },
   {
    "duration": 123,
    "start_time": "2021-06-13T11:04:55.903Z"
   },
   {
    "duration": 6,
    "start_time": "2021-06-13T11:06:17.275Z"
   },
   {
    "duration": 293,
    "start_time": "2021-06-13T11:06:21.553Z"
   },
   {
    "duration": 275,
    "start_time": "2021-06-13T11:06:35.392Z"
   },
   {
    "duration": 65,
    "start_time": "2021-06-13T11:06:37.716Z"
   },
   {
    "duration": 322,
    "start_time": "2021-06-13T12:20:11.798Z"
   },
   {
    "duration": 5,
    "start_time": "2021-06-13T12:20:12.123Z"
   },
   {
    "duration": 37,
    "start_time": "2021-06-13T12:20:12.131Z"
   },
   {
    "duration": 66,
    "start_time": "2021-06-13T12:20:12.171Z"
   },
   {
    "duration": 23,
    "start_time": "2021-06-13T12:20:12.240Z"
   },
   {
    "duration": 12,
    "start_time": "2021-06-13T12:20:12.270Z"
   },
   {
    "duration": 117,
    "start_time": "2021-06-13T12:20:12.284Z"
   },
   {
    "duration": 11,
    "start_time": "2021-06-13T12:20:12.405Z"
   },
   {
    "duration": 5,
    "start_time": "2021-06-13T12:20:12.418Z"
   },
   {
    "duration": 40,
    "start_time": "2021-06-13T12:20:12.425Z"
   },
   {
    "duration": 61,
    "start_time": "2021-06-13T12:20:12.473Z"
   },
   {
    "duration": 104,
    "start_time": "2021-06-13T12:20:12.538Z"
   },
   {
    "duration": 121,
    "start_time": "2021-06-13T12:20:12.644Z"
   },
   {
    "duration": 9756,
    "start_time": "2021-06-13T12:20:12.769Z"
   },
   {
    "duration": 8,
    "start_time": "2021-06-13T12:20:22.529Z"
   },
   {
    "duration": 38,
    "start_time": "2021-06-13T12:20:22.540Z"
   },
   {
    "duration": 24,
    "start_time": "2021-06-13T12:20:22.581Z"
   },
   {
    "duration": 8,
    "start_time": "2021-06-13T12:20:22.607Z"
   },
   {
    "duration": 97,
    "start_time": "2021-06-13T12:20:22.618Z"
   },
   {
    "duration": 8909,
    "start_time": "2021-06-13T12:20:22.718Z"
   },
   {
    "duration": 6,
    "start_time": "2021-06-13T12:20:31.629Z"
   },
   {
    "duration": 25,
    "start_time": "2021-06-13T12:20:31.640Z"
   },
   {
    "duration": 34,
    "start_time": "2021-06-13T12:20:31.668Z"
   },
   {
    "duration": 23,
    "start_time": "2021-06-13T12:20:31.704Z"
   },
   {
    "duration": 27,
    "start_time": "2021-06-13T12:20:31.729Z"
   },
   {
    "duration": 8,
    "start_time": "2021-06-13T12:20:31.759Z"
   },
   {
    "duration": 37,
    "start_time": "2021-06-13T12:20:31.769Z"
   },
   {
    "duration": 18,
    "start_time": "2021-06-13T12:20:31.809Z"
   },
   {
    "duration": 39,
    "start_time": "2021-06-13T12:20:31.829Z"
   },
   {
    "duration": 19,
    "start_time": "2021-06-13T12:20:31.870Z"
   },
   {
    "duration": 17,
    "start_time": "2021-06-13T12:20:31.892Z"
   },
   {
    "duration": 12,
    "start_time": "2021-06-13T12:20:31.912Z"
   },
   {
    "duration": 14,
    "start_time": "2021-06-13T12:20:31.926Z"
   },
   {
    "duration": 26,
    "start_time": "2021-06-13T12:20:31.942Z"
   },
   {
    "duration": 20,
    "start_time": "2021-06-13T12:20:31.971Z"
   },
   {
    "duration": 46,
    "start_time": "2021-06-13T12:20:31.994Z"
   },
   {
    "duration": 6,
    "start_time": "2021-06-13T12:20:32.042Z"
   },
   {
    "duration": 9,
    "start_time": "2021-06-13T12:20:32.062Z"
   },
   {
    "duration": 19,
    "start_time": "2021-06-13T12:20:32.074Z"
   },
   {
    "duration": 15,
    "start_time": "2021-06-13T12:20:32.096Z"
   },
   {
    "duration": 450,
    "start_time": "2021-06-13T12:20:32.114Z"
   },
   {
    "duration": 65,
    "start_time": "2021-06-13T12:20:32.567Z"
   },
   {
    "duration": 3,
    "start_time": "2021-06-13T12:20:32.634Z"
   },
   {
    "duration": 73,
    "start_time": "2021-06-13T12:20:32.639Z"
   },
   {
    "duration": 7,
    "start_time": "2021-06-13T12:21:33.827Z"
   },
   {
    "duration": 29,
    "start_time": "2021-06-13T12:21:55.376Z"
   },
   {
    "duration": 47993,
    "start_time": "2021-06-13T12:26:03.339Z"
   },
   {
    "duration": 7,
    "start_time": "2021-06-13T12:26:59.934Z"
   },
   {
    "duration": 42092,
    "start_time": "2021-06-13T12:27:17.958Z"
   },
   {
    "duration": 8,
    "start_time": "2021-06-13T12:28:04.393Z"
   },
   {
    "duration": 7,
    "start_time": "2021-06-13T12:28:09.148Z"
   },
   {
    "duration": 6566,
    "start_time": "2021-06-13T12:28:30.184Z"
   },
   {
    "duration": 10,
    "start_time": "2021-06-13T12:28:42.744Z"
   },
   {
    "duration": 52,
    "start_time": "2021-06-13T12:29:01.657Z"
   },
   {
    "duration": 284,
    "start_time": "2021-06-13T12:29:22.333Z"
   },
   {
    "duration": 5,
    "start_time": "2021-06-13T12:29:22.620Z"
   },
   {
    "duration": 36,
    "start_time": "2021-06-13T12:29:22.628Z"
   },
   {
    "duration": 71,
    "start_time": "2021-06-13T12:29:22.670Z"
   },
   {
    "duration": 21,
    "start_time": "2021-06-13T12:29:22.744Z"
   },
   {
    "duration": 14,
    "start_time": "2021-06-13T12:29:22.768Z"
   },
   {
    "duration": 201,
    "start_time": "2021-06-13T12:29:22.790Z"
   },
   {
    "duration": 13,
    "start_time": "2021-06-13T12:29:22.997Z"
   },
   {
    "duration": 7,
    "start_time": "2021-06-13T12:29:23.014Z"
   },
   {
    "duration": 49,
    "start_time": "2021-06-13T12:29:23.024Z"
   },
   {
    "duration": 91,
    "start_time": "2021-06-13T12:29:23.078Z"
   },
   {
    "duration": 84,
    "start_time": "2021-06-13T12:29:23.171Z"
   },
   {
    "duration": 122,
    "start_time": "2021-06-13T12:29:23.261Z"
   },
   {
    "duration": 12632,
    "start_time": "2021-06-13T12:29:23.386Z"
   },
   {
    "duration": 7,
    "start_time": "2021-06-13T12:29:36.020Z"
   },
   {
    "duration": 17,
    "start_time": "2021-06-13T12:29:36.030Z"
   },
   {
    "duration": 9,
    "start_time": "2021-06-13T12:29:36.068Z"
   },
   {
    "duration": 6,
    "start_time": "2021-06-13T12:29:36.080Z"
   },
   {
    "duration": 114,
    "start_time": "2021-06-13T12:29:36.089Z"
   },
   {
    "duration": 9098,
    "start_time": "2021-06-13T12:29:36.206Z"
   },
   {
    "duration": 6,
    "start_time": "2021-06-13T12:29:45.306Z"
   },
   {
    "duration": 11,
    "start_time": "2021-06-13T12:29:45.315Z"
   },
   {
    "duration": 44,
    "start_time": "2021-06-13T12:29:45.331Z"
   },
   {
    "duration": 20,
    "start_time": "2021-06-13T12:29:45.378Z"
   },
   {
    "duration": 13,
    "start_time": "2021-06-13T12:29:45.402Z"
   },
   {
    "duration": 3,
    "start_time": "2021-06-13T12:29:45.418Z"
   },
   {
    "duration": 18,
    "start_time": "2021-06-13T12:29:45.424Z"
   },
   {
    "duration": 18,
    "start_time": "2021-06-13T12:29:45.461Z"
   },
   {
    "duration": 34,
    "start_time": "2021-06-13T12:29:45.482Z"
   },
   {
    "duration": 11,
    "start_time": "2021-06-13T12:29:45.519Z"
   },
   {
    "duration": 43,
    "start_time": "2021-06-13T12:29:45.533Z"
   },
   {
    "duration": 8,
    "start_time": "2021-06-13T12:29:45.579Z"
   },
   {
    "duration": 14,
    "start_time": "2021-06-13T12:29:45.589Z"
   },
   {
    "duration": 5,
    "start_time": "2021-06-13T12:29:45.605Z"
   },
   {
    "duration": 7,
    "start_time": "2021-06-13T12:29:45.612Z"
   },
   {
    "duration": 74,
    "start_time": "2021-06-13T12:29:45.622Z"
   },
   {
    "duration": 5,
    "start_time": "2021-06-13T12:29:45.699Z"
   },
   {
    "duration": 7,
    "start_time": "2021-06-13T12:29:45.707Z"
   },
   {
    "duration": 6,
    "start_time": "2021-06-13T12:29:45.717Z"
   },
   {
    "duration": 43594,
    "start_time": "2021-06-13T12:29:45.725Z"
   },
   {
    "duration": 54,
    "start_time": "2021-06-13T12:30:29.321Z"
   },
   {
    "duration": 19,
    "start_time": "2021-06-13T12:30:29.381Z"
   },
   {
    "duration": 4,
    "start_time": "2021-06-13T12:30:29.402Z"
   },
   {
    "duration": 69,
    "start_time": "2021-06-13T12:30:29.408Z"
   },
   {
    "duration": 48,
    "start_time": "2021-06-13T12:30:53.985Z"
   },
   {
    "duration": 10,
    "start_time": "2021-06-13T12:31:52.753Z"
   },
   {
    "duration": 90,
    "start_time": "2021-06-13T12:32:41.113Z"
   },
   {
    "duration": 63,
    "start_time": "2021-06-13T12:33:27.296Z"
   },
   {
    "duration": 7,
    "start_time": "2021-06-13T12:40:16.662Z"
   },
   {
    "duration": 55,
    "start_time": "2021-06-13T12:53:57.982Z"
   },
   {
    "duration": 241,
    "start_time": "2021-06-13T12:58:31.093Z"
   },
   {
    "duration": 24,
    "start_time": "2021-06-13T12:58:31.338Z"
   },
   {
    "duration": 16,
    "start_time": "2021-06-13T12:58:31.366Z"
   },
   {
    "duration": 87,
    "start_time": "2021-06-13T12:58:31.385Z"
   },
   {
    "duration": 8,
    "start_time": "2021-06-13T12:58:31.477Z"
   },
   {
    "duration": 9,
    "start_time": "2021-06-13T12:58:31.488Z"
   },
   {
    "duration": 124,
    "start_time": "2021-06-13T12:58:31.500Z"
   },
   {
    "duration": 14,
    "start_time": "2021-06-13T12:58:31.626Z"
   },
   {
    "duration": 9,
    "start_time": "2021-06-13T12:58:31.664Z"
   },
   {
    "duration": 9,
    "start_time": "2021-06-13T12:58:31.677Z"
   },
   {
    "duration": 103,
    "start_time": "2021-06-13T12:58:31.689Z"
   },
   {
    "duration": 121,
    "start_time": "2021-06-13T12:58:31.795Z"
   },
   {
    "duration": 6,
    "start_time": "2021-06-13T12:58:31.919Z"
   },
   {
    "duration": 102,
    "start_time": "2021-06-13T12:58:31.927Z"
   },
   {
    "duration": 10642,
    "start_time": "2021-06-13T12:58:32.032Z"
   },
   {
    "duration": 6,
    "start_time": "2021-06-13T12:58:42.681Z"
   },
   {
    "duration": 20,
    "start_time": "2021-06-13T12:58:42.689Z"
   },
   {
    "duration": 7,
    "start_time": "2021-06-13T12:58:42.712Z"
   },
   {
    "duration": 11,
    "start_time": "2021-06-13T12:58:42.721Z"
   },
   {
    "duration": 145,
    "start_time": "2021-06-13T12:58:42.735Z"
   },
   {
    "duration": 11963,
    "start_time": "2021-06-13T12:58:42.882Z"
   },
   {
    "duration": 13,
    "start_time": "2021-06-13T12:58:54.848Z"
   },
   {
    "duration": 15,
    "start_time": "2021-06-13T12:58:54.864Z"
   },
   {
    "duration": 9,
    "start_time": "2021-06-13T12:58:54.882Z"
   },
   {
    "duration": 10,
    "start_time": "2021-06-13T12:58:54.893Z"
   },
   {
    "duration": 11,
    "start_time": "2021-06-13T12:58:54.906Z"
   },
   {
    "duration": 42,
    "start_time": "2021-06-13T12:58:54.923Z"
   },
   {
    "duration": 35,
    "start_time": "2021-06-13T12:58:54.975Z"
   },
   {
    "duration": 14,
    "start_time": "2021-06-13T12:58:55.013Z"
   },
   {
    "duration": 46,
    "start_time": "2021-06-13T12:58:55.030Z"
   },
   {
    "duration": 10,
    "start_time": "2021-06-13T12:58:55.079Z"
   },
   {
    "duration": 21,
    "start_time": "2021-06-13T12:58:55.091Z"
   },
   {
    "duration": 7,
    "start_time": "2021-06-13T12:58:55.115Z"
   },
   {
    "duration": 53,
    "start_time": "2021-06-13T12:58:55.125Z"
   },
   {
    "duration": 5,
    "start_time": "2021-06-13T12:58:55.180Z"
   },
   {
    "duration": 8,
    "start_time": "2021-06-13T12:58:55.188Z"
   },
   {
    "duration": 8,
    "start_time": "2021-06-13T12:58:55.198Z"
   },
   {
    "duration": 54,
    "start_time": "2021-06-13T12:58:55.208Z"
   },
   {
    "duration": 7,
    "start_time": "2021-06-13T12:58:55.264Z"
   },
   {
    "duration": 38930,
    "start_time": "2021-06-13T12:58:55.274Z"
   },
   {
    "duration": 5,
    "start_time": "2021-06-13T12:59:34.207Z"
   },
   {
    "duration": 10,
    "start_time": "2021-06-13T12:59:34.214Z"
   },
   {
    "duration": 62,
    "start_time": "2021-06-13T12:59:34.227Z"
   },
   {
    "duration": 5,
    "start_time": "2021-06-13T13:00:00.855Z"
   },
   {
    "duration": 56,
    "start_time": "2021-06-13T13:00:03.754Z"
   },
   {
    "duration": 6,
    "start_time": "2021-06-13T13:00:09.135Z"
   },
   {
    "duration": 58,
    "start_time": "2021-06-13T13:00:11.414Z"
   },
   {
    "duration": 63,
    "start_time": "2021-06-13T13:00:21.655Z"
   },
   {
    "duration": 43852,
    "start_time": "2021-06-13T13:01:27.911Z"
   },
   {
    "duration": 49,
    "start_time": "2021-06-13T13:02:15.438Z"
   },
   {
    "duration": 55,
    "start_time": "2021-06-13T13:03:43.775Z"
   },
   {
    "duration": 28,
    "start_time": "2021-06-13T13:04:19.198Z"
   },
   {
    "duration": 582,
    "start_time": "2021-06-13T13:23:42.533Z"
   },
   {
    "duration": 823,
    "start_time": "2021-06-13T13:23:53.153Z"
   },
   {
    "duration": 324,
    "start_time": "2021-06-13T13:28:45.351Z"
   },
   {
    "duration": 843,
    "start_time": "2021-06-13T13:28:52.233Z"
   },
   {
    "duration": 7,
    "start_time": "2021-06-13T13:29:11.818Z"
   },
   {
    "duration": 15,
    "start_time": "2021-06-13T13:29:23.754Z"
   },
   {
    "duration": 305,
    "start_time": "2021-06-13T14:03:22.903Z"
   },
   {
    "duration": 671,
    "start_time": "2021-06-13T14:03:31.157Z"
   },
   {
    "duration": 292,
    "start_time": "2021-06-13T14:03:39.535Z"
   },
   {
    "duration": 645,
    "start_time": "2021-06-13T14:03:44.969Z"
   },
   {
    "duration": 1064,
    "start_time": "2021-06-13T18:22:39.051Z"
   },
   {
    "duration": 5,
    "start_time": "2021-06-13T18:22:40.118Z"
   },
   {
    "duration": 18,
    "start_time": "2021-06-13T18:22:40.126Z"
   },
   {
    "duration": 11,
    "start_time": "2021-06-13T18:22:40.146Z"
   },
   {
    "duration": 53,
    "start_time": "2021-06-13T18:22:40.184Z"
   },
   {
    "duration": 7,
    "start_time": "2021-06-13T18:22:40.239Z"
   },
   {
    "duration": 38,
    "start_time": "2021-06-13T18:22:40.248Z"
   },
   {
    "duration": 94,
    "start_time": "2021-06-13T18:22:40.290Z"
   },
   {
    "duration": 12,
    "start_time": "2021-06-13T18:22:40.387Z"
   },
   {
    "duration": 6,
    "start_time": "2021-06-13T18:22:40.401Z"
   },
   {
    "duration": 6,
    "start_time": "2021-06-13T18:22:40.409Z"
   },
   {
    "duration": 85,
    "start_time": "2021-06-13T18:22:40.417Z"
   },
   {
    "duration": 90,
    "start_time": "2021-06-13T18:22:40.504Z"
   },
   {
    "duration": 5,
    "start_time": "2021-06-13T18:22:40.596Z"
   },
   {
    "duration": 102,
    "start_time": "2021-06-13T18:22:40.603Z"
   },
   {
    "duration": 7855,
    "start_time": "2021-06-13T18:22:40.707Z"
   },
   {
    "duration": 6,
    "start_time": "2021-06-13T18:22:48.565Z"
   },
   {
    "duration": 10,
    "start_time": "2021-06-13T18:22:48.583Z"
   },
   {
    "duration": 7,
    "start_time": "2021-06-13T18:22:48.595Z"
   },
   {
    "duration": 7,
    "start_time": "2021-06-13T18:22:48.604Z"
   },
   {
    "duration": 121,
    "start_time": "2021-06-13T18:22:48.614Z"
   },
   {
    "duration": 7755,
    "start_time": "2021-06-13T18:22:48.738Z"
   },
   {
    "duration": 6,
    "start_time": "2021-06-13T18:22:56.500Z"
   },
   {
    "duration": 12,
    "start_time": "2021-06-13T18:22:56.509Z"
   },
   {
    "duration": 18,
    "start_time": "2021-06-13T18:22:56.523Z"
   },
   {
    "duration": 10,
    "start_time": "2021-06-13T18:22:56.544Z"
   },
   {
    "duration": 28,
    "start_time": "2021-06-13T18:22:56.556Z"
   },
   {
    "duration": 4,
    "start_time": "2021-06-13T18:22:56.587Z"
   },
   {
    "duration": 19,
    "start_time": "2021-06-13T18:22:56.593Z"
   },
   {
    "duration": 7,
    "start_time": "2021-06-13T18:22:56.614Z"
   },
   {
    "duration": 59,
    "start_time": "2021-06-13T18:22:56.624Z"
   },
   {
    "duration": 13,
    "start_time": "2021-06-13T18:22:56.685Z"
   },
   {
    "duration": 16,
    "start_time": "2021-06-13T18:22:56.700Z"
   },
   {
    "duration": 7,
    "start_time": "2021-06-13T18:22:56.718Z"
   },
   {
    "duration": 15,
    "start_time": "2021-06-13T18:22:56.727Z"
   },
   {
    "duration": 7,
    "start_time": "2021-06-13T18:22:56.744Z"
   },
   {
    "duration": 7,
    "start_time": "2021-06-13T18:22:56.783Z"
   },
   {
    "duration": 8,
    "start_time": "2021-06-13T18:22:56.792Z"
   },
   {
    "duration": 30,
    "start_time": "2021-06-13T18:22:56.802Z"
   },
   {
    "duration": 5,
    "start_time": "2021-06-13T18:22:56.834Z"
   },
   {
    "duration": 35803,
    "start_time": "2021-06-13T18:22:56.841Z"
   },
   {
    "duration": 5,
    "start_time": "2021-06-13T18:23:32.647Z"
   },
   {
    "duration": 9,
    "start_time": "2021-06-13T18:23:32.655Z"
   },
   {
    "duration": 50,
    "start_time": "2021-06-13T18:23:32.666Z"
   },
   {
    "duration": 622,
    "start_time": "2021-06-13T18:23:32.718Z"
   },
   {
    "duration": 13,
    "start_time": "2021-06-13T18:23:33.343Z"
   },
   {
    "duration": 415,
    "start_time": "2021-06-13T18:23:33.358Z"
   },
   {
    "duration": 367,
    "start_time": "2021-06-13T18:23:33.783Z"
   },
   {
    "duration": 322,
    "start_time": "2021-06-13T18:23:34.152Z"
   },
   {
    "duration": 81,
    "start_time": "2021-06-13T18:23:34.483Z"
   },
   {
    "duration": 455,
    "start_time": "2021-06-13T18:25:53.404Z"
   },
   {
    "duration": 467,
    "start_time": "2021-06-13T18:27:39.868Z"
   },
   {
    "duration": 462,
    "start_time": "2021-06-13T18:27:49.754Z"
   },
   {
    "duration": 732,
    "start_time": "2021-06-13T18:28:18.373Z"
   },
   {
    "duration": 685,
    "start_time": "2021-06-13T18:31:51.043Z"
   },
   {
    "duration": 729,
    "start_time": "2021-06-13T18:32:05.112Z"
   },
   {
    "duration": 942,
    "start_time": "2021-06-13T18:32:18.522Z"
   },
   {
    "duration": 704,
    "start_time": "2021-06-13T18:32:36.304Z"
   },
   {
    "duration": 579,
    "start_time": "2021-06-13T18:32:41.844Z"
   },
   {
    "duration": 704,
    "start_time": "2021-06-13T18:43:20.590Z"
   },
   {
    "duration": 741,
    "start_time": "2021-06-13T18:43:30.735Z"
   },
   {
    "duration": 600,
    "start_time": "2021-06-13T18:43:46.657Z"
   },
   {
    "duration": 483,
    "start_time": "2021-06-13T18:43:54.905Z"
   },
   {
    "duration": 7,
    "start_time": "2021-06-13T18:44:24.759Z"
   },
   {
    "duration": 508,
    "start_time": "2021-06-13T18:44:30.827Z"
   },
   {
    "duration": 502,
    "start_time": "2021-06-13T18:46:27.337Z"
   },
   {
    "duration": 1065,
    "start_time": "2021-06-13T18:46:54.125Z"
   },
   {
    "duration": 556,
    "start_time": "2021-06-13T18:47:10.676Z"
   },
   {
    "duration": 498,
    "start_time": "2021-06-13T18:47:30.999Z"
   },
   {
    "duration": 486,
    "start_time": "2021-06-13T18:47:46.240Z"
   },
   {
    "duration": 522,
    "start_time": "2021-06-13T18:48:30.906Z"
   },
   {
    "duration": 602,
    "start_time": "2021-06-13T18:48:46.716Z"
   },
   {
    "duration": 720,
    "start_time": "2021-06-13T18:48:53.167Z"
   },
   {
    "duration": 457,
    "start_time": "2021-06-13T18:49:26.333Z"
   },
   {
    "duration": 17,
    "start_time": "2021-06-13T18:50:17.379Z"
   },
   {
    "duration": 568,
    "start_time": "2021-06-13T18:51:33.088Z"
   },
   {
    "duration": 469,
    "start_time": "2021-06-13T18:51:42.048Z"
   },
   {
    "duration": 470,
    "start_time": "2021-06-13T18:51:59.885Z"
   },
   {
    "duration": 1690,
    "start_time": "2021-06-13T18:52:07.951Z"
   },
   {
    "duration": 622,
    "start_time": "2021-06-13T18:52:18.951Z"
   },
   {
    "duration": 689,
    "start_time": "2021-06-13T18:52:29.861Z"
   },
   {
    "duration": 456,
    "start_time": "2021-06-13T18:52:38.646Z"
   },
   {
    "duration": 461,
    "start_time": "2021-06-13T18:53:07.698Z"
   },
   {
    "duration": 456,
    "start_time": "2021-06-13T18:53:19.499Z"
   },
   {
    "duration": 463,
    "start_time": "2021-06-13T18:53:38.819Z"
   },
   {
    "duration": 467,
    "start_time": "2021-06-13T18:53:47.297Z"
   },
   {
    "duration": 473,
    "start_time": "2021-06-13T18:54:18.339Z"
   },
   {
    "duration": 463,
    "start_time": "2021-06-13T18:54:30.877Z"
   },
   {
    "duration": 272,
    "start_time": "2021-06-13T18:56:30.246Z"
   },
   {
    "duration": 313,
    "start_time": "2021-06-13T19:00:54.705Z"
   },
   {
    "duration": 5,
    "start_time": "2021-06-13T19:00:55.021Z"
   },
   {
    "duration": 30,
    "start_time": "2021-06-13T19:00:55.028Z"
   },
   {
    "duration": 24,
    "start_time": "2021-06-13T19:00:55.061Z"
   },
   {
    "duration": 62,
    "start_time": "2021-06-13T19:00:55.088Z"
   },
   {
    "duration": 32,
    "start_time": "2021-06-13T19:00:55.152Z"
   },
   {
    "duration": 6,
    "start_time": "2021-06-13T19:00:55.187Z"
   },
   {
    "duration": 110,
    "start_time": "2021-06-13T19:00:55.197Z"
   },
   {
    "duration": 12,
    "start_time": "2021-06-13T19:00:55.309Z"
   },
   {
    "duration": 5,
    "start_time": "2021-06-13T19:00:55.323Z"
   },
   {
    "duration": 7,
    "start_time": "2021-06-13T19:00:55.330Z"
   },
   {
    "duration": 88,
    "start_time": "2021-06-13T19:00:55.339Z"
   },
   {
    "duration": 89,
    "start_time": "2021-06-13T19:00:55.430Z"
   },
   {
    "duration": 4,
    "start_time": "2021-06-13T19:00:55.521Z"
   },
   {
    "duration": 90,
    "start_time": "2021-06-13T19:00:55.527Z"
   },
   {
    "duration": 7908,
    "start_time": "2021-06-13T19:00:55.620Z"
   },
   {
    "duration": 6,
    "start_time": "2021-06-13T19:01:03.531Z"
   },
   {
    "duration": 14,
    "start_time": "2021-06-13T19:01:03.539Z"
   },
   {
    "duration": 30,
    "start_time": "2021-06-13T19:01:03.555Z"
   },
   {
    "duration": 7,
    "start_time": "2021-06-13T19:01:03.587Z"
   },
   {
    "duration": 102,
    "start_time": "2021-06-13T19:01:03.596Z"
   },
   {
    "duration": 7947,
    "start_time": "2021-06-13T19:01:03.701Z"
   },
   {
    "duration": 7,
    "start_time": "2021-06-13T19:01:11.656Z"
   },
   {
    "duration": 8,
    "start_time": "2021-06-13T19:01:11.683Z"
   },
   {
    "duration": 9,
    "start_time": "2021-06-13T19:01:11.694Z"
   },
   {
    "duration": 10,
    "start_time": "2021-06-13T19:01:11.706Z"
   },
   {
    "duration": 10,
    "start_time": "2021-06-13T19:01:11.718Z"
   },
   {
    "duration": 51,
    "start_time": "2021-06-13T19:01:11.731Z"
   },
   {
    "duration": 16,
    "start_time": "2021-06-13T19:01:11.785Z"
   },
   {
    "duration": 10,
    "start_time": "2021-06-13T19:01:11.804Z"
   },
   {
    "duration": 25,
    "start_time": "2021-06-13T19:01:11.816Z"
   },
   {
    "duration": 39,
    "start_time": "2021-06-13T19:01:11.844Z"
   },
   {
    "duration": 21,
    "start_time": "2021-06-13T19:01:11.886Z"
   },
   {
    "duration": 6,
    "start_time": "2021-06-13T19:01:11.910Z"
   },
   {
    "duration": 14,
    "start_time": "2021-06-13T19:01:11.918Z"
   },
   {
    "duration": 7,
    "start_time": "2021-06-13T19:01:11.934Z"
   },
   {
    "duration": 8,
    "start_time": "2021-06-13T19:01:11.943Z"
   },
   {
    "duration": 30,
    "start_time": "2021-06-13T19:01:11.953Z"
   },
   {
    "duration": 32,
    "start_time": "2021-06-13T19:01:11.985Z"
   },
   {
    "duration": 4,
    "start_time": "2021-06-13T19:01:12.020Z"
   },
   {
    "duration": 35129,
    "start_time": "2021-06-13T19:01:12.027Z"
   },
   {
    "duration": 5,
    "start_time": "2021-06-13T19:01:47.159Z"
   },
   {
    "duration": 22,
    "start_time": "2021-06-13T19:01:47.166Z"
   },
   {
    "duration": 38,
    "start_time": "2021-06-13T19:01:47.190Z"
   },
   {
    "duration": 282,
    "start_time": "2021-06-13T19:01:47.230Z"
   },
   {
    "duration": 747,
    "start_time": "2021-06-13T19:01:47.515Z"
   },
   {
    "duration": 20,
    "start_time": "2021-06-13T19:01:48.265Z"
   },
   {
    "duration": 490,
    "start_time": "2021-06-13T19:01:48.288Z"
   },
   {
    "duration": 13,
    "start_time": "2021-06-13T19:01:48.783Z"
   },
   {
    "duration": 572,
    "start_time": "2021-06-13T19:01:48.798Z"
   },
   {
    "duration": 333,
    "start_time": "2021-06-13T19:01:49.374Z"
   },
   {
    "duration": 271,
    "start_time": "2021-06-13T19:01:49.710Z"
   },
   {
    "duration": 77,
    "start_time": "2021-06-13T19:01:49.983Z"
   },
   {
    "duration": 708,
    "start_time": "2021-06-13T19:02:35.275Z"
   },
   {
    "duration": 554,
    "start_time": "2021-06-13T19:02:43.923Z"
   },
   {
    "duration": 542,
    "start_time": "2021-06-13T19:02:51.090Z"
   },
   {
    "duration": 532,
    "start_time": "2021-06-13T19:04:22.250Z"
   },
   {
    "duration": 12,
    "start_time": "2021-06-13T19:04:51.758Z"
   },
   {
    "duration": 8,
    "start_time": "2021-06-13T19:06:19.706Z"
   },
   {
    "duration": 648,
    "start_time": "2021-06-13T19:08:07.731Z"
   },
   {
    "duration": 589,
    "start_time": "2021-06-13T19:08:14.396Z"
   },
   {
    "duration": 296,
    "start_time": "2021-06-13T19:08:23.492Z"
   },
   {
    "duration": 304,
    "start_time": "2021-06-13T19:08:30.291Z"
   },
   {
    "duration": 295,
    "start_time": "2021-06-13T19:09:28.890Z"
   },
   {
    "duration": 340,
    "start_time": "2021-06-13T19:09:34.307Z"
   },
   {
    "duration": 496,
    "start_time": "2021-06-13T19:09:58.163Z"
   },
   {
    "duration": 498,
    "start_time": "2021-06-13T19:10:07.442Z"
   },
   {
    "duration": 781,
    "start_time": "2021-06-13T19:10:26.603Z"
   },
   {
    "duration": 464,
    "start_time": "2021-06-13T19:10:41.835Z"
   },
   {
    "duration": 469,
    "start_time": "2021-06-13T19:11:03.520Z"
   },
   {
    "duration": 298,
    "start_time": "2021-06-13T19:11:15.996Z"
   },
   {
    "duration": 540,
    "start_time": "2021-06-13T19:12:29.883Z"
   },
   {
    "duration": 739,
    "start_time": "2021-06-13T19:12:48.395Z"
   },
   {
    "duration": 274,
    "start_time": "2021-06-13T19:12:55.709Z"
   },
   {
    "duration": 266,
    "start_time": "2021-06-13T19:13:11.970Z"
   },
   {
    "duration": 12,
    "start_time": "2021-06-13T19:13:17.035Z"
   },
   {
    "duration": 278,
    "start_time": "2021-06-13T19:13:42.847Z"
   },
   {
    "duration": 284,
    "start_time": "2021-06-13T19:13:51.366Z"
   },
   {
    "duration": 312,
    "start_time": "2021-06-13T19:13:58.371Z"
   },
   {
    "duration": 8,
    "start_time": "2021-06-13T19:15:31.011Z"
   },
   {
    "duration": 274,
    "start_time": "2021-06-13T19:15:44.420Z"
   },
   {
    "duration": 85,
    "start_time": "2021-06-13T19:16:36.396Z"
   },
   {
    "duration": 35,
    "start_time": "2021-06-13T19:16:46.554Z"
   },
   {
    "duration": 478,
    "start_time": "2021-06-13T19:24:00.957Z"
   },
   {
    "duration": 260,
    "start_time": "2021-06-13T19:24:06.997Z"
   },
   {
    "duration": 636,
    "start_time": "2021-06-13T19:24:27.330Z"
   },
   {
    "duration": 14,
    "start_time": "2021-06-13T19:24:52.280Z"
   },
   {
    "duration": 287,
    "start_time": "2021-06-13T19:24:58.075Z"
   },
   {
    "duration": 256,
    "start_time": "2021-06-13T19:31:06.557Z"
   },
   {
    "duration": 15,
    "start_time": "2021-06-13T19:31:34.983Z"
   },
   {
    "duration": 12,
    "start_time": "2021-06-13T19:31:42.010Z"
   },
   {
    "duration": 259,
    "start_time": "2021-06-13T19:32:01.009Z"
   },
   {
    "duration": 4,
    "start_time": "2021-06-13T19:32:36.251Z"
   },
   {
    "duration": 5,
    "start_time": "2021-06-13T19:32:39.810Z"
   },
   {
    "duration": 8,
    "start_time": "2021-06-13T19:32:57.551Z"
   },
   {
    "duration": 12,
    "start_time": "2021-06-13T19:32:59.420Z"
   },
   {
    "duration": 17,
    "start_time": "2021-06-13T19:34:08.971Z"
   },
   {
    "duration": 11,
    "start_time": "2021-06-13T19:34:11.286Z"
   },
   {
    "duration": 17,
    "start_time": "2021-06-13T19:34:37.291Z"
   },
   {
    "duration": 11,
    "start_time": "2021-06-13T19:34:39.773Z"
   },
   {
    "duration": 5,
    "start_time": "2021-06-13T19:35:00.604Z"
   },
   {
    "duration": 234,
    "start_time": "2021-06-13T19:35:13.593Z"
   },
   {
    "duration": 26,
    "start_time": "2021-06-13T19:35:48.010Z"
   },
   {
    "duration": 18,
    "start_time": "2021-06-13T19:35:50.090Z"
   },
   {
    "duration": 29,
    "start_time": "2021-06-13T19:37:04.851Z"
   },
   {
    "duration": 16,
    "start_time": "2021-06-13T19:37:05.370Z"
   },
   {
    "duration": 323,
    "start_time": "2021-06-13T19:37:50.471Z"
   },
   {
    "duration": 529,
    "start_time": "2021-06-13T19:38:14.681Z"
   },
   {
    "duration": 245,
    "start_time": "2021-06-13T19:42:58.990Z"
   },
   {
    "duration": 116,
    "start_time": "2021-06-13T19:43:16.480Z"
   },
   {
    "duration": 48,
    "start_time": "2021-06-13T19:43:18.811Z"
   },
   {
    "duration": 28,
    "start_time": "2021-06-13T19:43:38.166Z"
   },
   {
    "duration": 17,
    "start_time": "2021-06-13T19:43:39.340Z"
   },
   {
    "duration": 11,
    "start_time": "2021-06-13T19:48:28.341Z"
   },
   {
    "duration": 550,
    "start_time": "2021-06-13T19:49:06.972Z"
   },
   {
    "duration": 544,
    "start_time": "2021-06-13T19:49:14.961Z"
   },
   {
    "duration": 15,
    "start_time": "2021-06-13T19:49:30.837Z"
   },
   {
    "duration": 39,
    "start_time": "2021-06-13T19:50:04.842Z"
   },
   {
    "duration": 39,
    "start_time": "2021-06-13T19:50:11.371Z"
   },
   {
    "duration": 23,
    "start_time": "2021-06-13T19:50:16.289Z"
   },
   {
    "duration": 60,
    "start_time": "2021-06-13T19:50:21.452Z"
   },
   {
    "duration": 521,
    "start_time": "2021-06-13T19:53:07.632Z"
   },
   {
    "duration": 411,
    "start_time": "2021-06-13T19:53:18.621Z"
   },
   {
    "duration": 9,
    "start_time": "2021-06-13T19:53:44.711Z"
   },
   {
    "duration": 10,
    "start_time": "2021-06-13T19:54:00.063Z"
   },
   {
    "duration": 11,
    "start_time": "2021-06-13T19:54:10.974Z"
   },
   {
    "duration": 9,
    "start_time": "2021-06-13T19:54:49.783Z"
   },
   {
    "duration": 10,
    "start_time": "2021-06-13T19:54:59.692Z"
   },
   {
    "duration": 10,
    "start_time": "2021-06-13T19:55:24.317Z"
   },
   {
    "duration": 97,
    "start_time": "2021-06-13T19:55:35.324Z"
   },
   {
    "duration": 7,
    "start_time": "2021-06-13T19:55:47.455Z"
   },
   {
    "duration": 6,
    "start_time": "2021-06-13T19:55:52.995Z"
   },
   {
    "duration": 7,
    "start_time": "2021-06-13T19:55:57.191Z"
   },
   {
    "duration": 7,
    "start_time": "2021-06-13T19:56:17.832Z"
   },
   {
    "duration": 8,
    "start_time": "2021-06-13T19:57:49.786Z"
   },
   {
    "duration": 6,
    "start_time": "2021-06-13T19:58:01.943Z"
   },
   {
    "duration": 6,
    "start_time": "2021-06-13T19:58:32.238Z"
   },
   {
    "duration": 6,
    "start_time": "2021-06-13T19:58:42.852Z"
   },
   {
    "duration": 6,
    "start_time": "2021-06-13T19:58:48.442Z"
   },
   {
    "duration": 718,
    "start_time": "2021-06-13T20:01:35.392Z"
   },
   {
    "duration": 7,
    "start_time": "2021-06-13T20:02:11.592Z"
   },
   {
    "duration": 6,
    "start_time": "2021-06-13T20:02:46.862Z"
   },
   {
    "duration": 5,
    "start_time": "2021-06-13T20:03:08.652Z"
   },
   {
    "duration": 16,
    "start_time": "2021-06-13T20:03:53.058Z"
   },
   {
    "duration": 402,
    "start_time": "2021-06-14T06:28:26.661Z"
   },
   {
    "duration": 1091,
    "start_time": "2021-06-14T06:28:30.732Z"
   },
   {
    "duration": 6,
    "start_time": "2021-06-14T06:28:31.826Z"
   },
   {
    "duration": 22,
    "start_time": "2021-06-14T06:28:31.834Z"
   },
   {
    "duration": 12,
    "start_time": "2021-06-14T06:28:31.858Z"
   },
   {
    "duration": 41,
    "start_time": "2021-06-14T06:28:31.872Z"
   },
   {
    "duration": 11,
    "start_time": "2021-06-14T06:28:31.915Z"
   },
   {
    "duration": 113,
    "start_time": "2021-06-14T06:28:31.928Z"
   },
   {
    "duration": 11,
    "start_time": "2021-06-14T06:28:32.045Z"
   },
   {
    "duration": 6,
    "start_time": "2021-06-14T06:28:32.059Z"
   },
   {
    "duration": 8,
    "start_time": "2021-06-14T06:28:32.067Z"
   },
   {
    "duration": 81,
    "start_time": "2021-06-14T06:28:32.078Z"
   },
   {
    "duration": 136,
    "start_time": "2021-06-14T06:28:32.162Z"
   },
   {
    "duration": 10,
    "start_time": "2021-06-14T06:28:32.301Z"
   },
   {
    "duration": 108,
    "start_time": "2021-06-14T06:28:32.314Z"
   },
   {
    "duration": 8583,
    "start_time": "2021-06-14T06:28:32.425Z"
   },
   {
    "duration": 6,
    "start_time": "2021-06-14T06:28:41.011Z"
   },
   {
    "duration": 12,
    "start_time": "2021-06-14T06:28:41.019Z"
   },
   {
    "duration": 7,
    "start_time": "2021-06-14T06:28:41.034Z"
   },
   {
    "duration": 11,
    "start_time": "2021-06-14T06:28:41.044Z"
   },
   {
    "duration": 132,
    "start_time": "2021-06-14T06:28:41.057Z"
   },
   {
    "duration": 8530,
    "start_time": "2021-06-14T06:28:41.192Z"
   },
   {
    "duration": 6,
    "start_time": "2021-06-14T06:28:49.724Z"
   },
   {
    "duration": 11,
    "start_time": "2021-06-14T06:28:49.736Z"
   },
   {
    "duration": 7,
    "start_time": "2021-06-14T06:28:49.751Z"
   },
   {
    "duration": 10,
    "start_time": "2021-06-14T06:28:49.760Z"
   },
   {
    "duration": 8,
    "start_time": "2021-06-14T06:28:49.808Z"
   },
   {
    "duration": 5,
    "start_time": "2021-06-14T06:28:49.818Z"
   },
   {
    "duration": 20,
    "start_time": "2021-06-14T06:28:49.825Z"
   },
   {
    "duration": 7,
    "start_time": "2021-06-14T06:28:49.847Z"
   },
   {
    "duration": 66,
    "start_time": "2021-06-14T06:28:49.857Z"
   },
   {
    "duration": 74,
    "start_time": "2021-06-14T06:28:49.926Z"
   },
   {
    "duration": 14,
    "start_time": "2021-06-14T06:28:50.002Z"
   },
   {
    "duration": 107,
    "start_time": "2021-06-14T06:28:50.018Z"
   },
   {
    "duration": 6,
    "start_time": "2021-06-14T06:28:50.127Z"
   },
   {
    "duration": 12,
    "start_time": "2021-06-14T06:28:50.135Z"
   },
   {
    "duration": 16,
    "start_time": "2021-06-14T06:28:50.149Z"
   },
   {
    "duration": 11,
    "start_time": "2021-06-14T06:28:50.167Z"
   },
   {
    "duration": 31,
    "start_time": "2021-06-14T06:28:50.181Z"
   },
   {
    "duration": 6,
    "start_time": "2021-06-14T06:28:50.215Z"
   },
   {
    "duration": 47,
    "start_time": "2021-06-14T06:28:50.223Z"
   },
   {
    "duration": 4,
    "start_time": "2021-06-14T06:28:50.272Z"
   },
   {
    "duration": 38259,
    "start_time": "2021-06-14T06:28:50.279Z"
   },
   {
    "duration": 6,
    "start_time": "2021-06-14T06:29:28.541Z"
   },
   {
    "duration": 19,
    "start_time": "2021-06-14T06:29:28.549Z"
   },
   {
    "duration": 46,
    "start_time": "2021-06-14T06:29:28.571Z"
   },
   {
    "duration": 425,
    "start_time": "2021-06-14T06:29:28.619Z"
   },
   {
    "duration": 802,
    "start_time": "2021-06-14T06:29:29.046Z"
   },
   {
    "duration": 13,
    "start_time": "2021-06-14T06:29:29.850Z"
   },
   {
    "duration": 660,
    "start_time": "2021-06-14T06:29:29.866Z"
   },
   {
    "duration": 12,
    "start_time": "2021-06-14T06:29:30.528Z"
   },
   {
    "duration": 570,
    "start_time": "2021-06-14T06:29:30.542Z"
   },
   {
    "duration": 707,
    "start_time": "2021-06-14T06:29:31.115Z"
   },
   {
    "duration": 8,
    "start_time": "2021-06-14T06:29:31.824Z"
   },
   {
    "duration": 428,
    "start_time": "2021-06-14T06:29:31.835Z"
   },
   {
    "duration": 11,
    "start_time": "2021-06-14T06:29:32.310Z"
   },
   {
    "duration": 12,
    "start_time": "2021-06-14T06:29:32.324Z"
   },
   {
    "duration": 411,
    "start_time": "2021-06-14T06:29:32.338Z"
   },
   {
    "duration": 59,
    "start_time": "2021-06-14T06:29:32.752Z"
   },
   {
    "duration": 785,
    "start_time": "2021-06-14T06:29:32.813Z"
   },
   {
    "duration": 13,
    "start_time": "2021-06-14T06:29:33.600Z"
   },
   {
    "duration": 8,
    "start_time": "2021-06-14T06:29:33.615Z"
   },
   {
    "duration": 15,
    "start_time": "2021-06-14T06:29:33.625Z"
   },
   {
    "duration": 473,
    "start_time": "2021-06-14T06:29:33.642Z"
   },
   {
    "duration": 6,
    "start_time": "2021-06-14T06:29:34.118Z"
   },
   {
    "duration": 19,
    "start_time": "2021-06-14T06:29:34.126Z"
   },
   {
    "duration": 6,
    "start_time": "2021-06-14T06:29:34.149Z"
   },
   {
    "duration": 9,
    "start_time": "2021-06-14T06:33:16.830Z"
   },
   {
    "duration": 67,
    "start_time": "2021-06-14T06:34:31.331Z"
   },
   {
    "duration": 59,
    "start_time": "2021-06-14T06:35:06.392Z"
   },
   {
    "duration": 145,
    "start_time": "2021-06-14T06:35:17.040Z"
   },
   {
    "duration": 4391,
    "start_time": "2021-06-14T06:35:33.194Z"
   },
   {
    "duration": 70,
    "start_time": "2021-06-14T06:35:43.361Z"
   },
   {
    "duration": 498,
    "start_time": "2021-06-14T06:36:36.705Z"
   },
   {
    "duration": 514,
    "start_time": "2021-06-14T06:36:45.439Z"
   },
   {
    "duration": 64,
    "start_time": "2021-06-14T06:36:51.323Z"
   },
   {
    "duration": 11,
    "start_time": "2021-06-14T06:41:55.825Z"
   },
   {
    "duration": 748,
    "start_time": "2021-06-14T06:45:31.680Z"
   },
   {
    "duration": 863,
    "start_time": "2021-06-14T06:46:00.901Z"
   },
   {
    "duration": 772,
    "start_time": "2021-06-14T06:46:28.631Z"
   },
   {
    "duration": 417,
    "start_time": "2021-06-14T07:10:21.442Z"
   },
   {
    "duration": 365,
    "start_time": "2021-06-14T07:10:48.241Z"
   },
   {
    "duration": 349,
    "start_time": "2021-06-14T07:11:35.440Z"
   },
   {
    "duration": 36,
    "start_time": "2021-06-14T07:11:56.162Z"
   },
   {
    "duration": 367,
    "start_time": "2021-06-14T07:13:25.158Z"
   },
   {
    "duration": 371,
    "start_time": "2021-06-14T07:24:35.199Z"
   },
   {
    "duration": 7,
    "start_time": "2021-06-14T07:24:44.078Z"
   },
   {
    "duration": 8262,
    "start_time": "2021-06-14T07:24:58.256Z"
   },
   {
    "duration": 9105,
    "start_time": "2021-06-14T07:25:22.680Z"
   },
   {
    "duration": 8,
    "start_time": "2021-06-14T07:25:49.258Z"
   },
   {
    "duration": 260,
    "start_time": "2021-06-14T07:26:10.886Z"
   },
   {
    "duration": 5,
    "start_time": "2021-06-14T07:26:11.150Z"
   },
   {
    "duration": 19,
    "start_time": "2021-06-14T07:26:11.159Z"
   },
   {
    "duration": 16,
    "start_time": "2021-06-14T07:26:11.211Z"
   },
   {
    "duration": 9,
    "start_time": "2021-06-14T07:26:11.230Z"
   },
   {
    "duration": 9,
    "start_time": "2021-06-14T07:26:11.242Z"
   },
   {
    "duration": 155,
    "start_time": "2021-06-14T07:26:11.254Z"
   },
   {
    "duration": 14,
    "start_time": "2021-06-14T07:26:11.415Z"
   },
   {
    "duration": 6,
    "start_time": "2021-06-14T07:26:11.432Z"
   },
   {
    "duration": 14,
    "start_time": "2021-06-14T07:26:11.441Z"
   },
   {
    "duration": 94,
    "start_time": "2021-06-14T07:26:11.458Z"
   },
   {
    "duration": 94,
    "start_time": "2021-06-14T07:26:11.555Z"
   },
   {
    "duration": 6,
    "start_time": "2021-06-14T07:26:11.651Z"
   },
   {
    "duration": 100,
    "start_time": "2021-06-14T07:26:11.659Z"
   },
   {
    "duration": 8586,
    "start_time": "2021-06-14T07:26:11.762Z"
   },
   {
    "duration": 6,
    "start_time": "2021-06-14T07:26:20.351Z"
   },
   {
    "duration": 14,
    "start_time": "2021-06-14T07:26:20.360Z"
   },
   {
    "duration": 38,
    "start_time": "2021-06-14T07:26:20.377Z"
   },
   {
    "duration": 7,
    "start_time": "2021-06-14T07:26:20.417Z"
   },
   {
    "duration": 111,
    "start_time": "2021-06-14T07:26:20.426Z"
   },
   {
    "duration": 8630,
    "start_time": "2021-06-14T07:26:20.539Z"
   },
   {
    "duration": 6,
    "start_time": "2021-06-14T07:26:29.171Z"
   },
   {
    "duration": 6,
    "start_time": "2021-06-14T07:26:29.183Z"
   },
   {
    "duration": 7,
    "start_time": "2021-06-14T07:26:29.209Z"
   },
   {
    "duration": 12,
    "start_time": "2021-06-14T07:26:29.218Z"
   },
   {
    "duration": 14,
    "start_time": "2021-06-14T07:26:29.232Z"
   },
   {
    "duration": 5,
    "start_time": "2021-06-14T07:26:29.248Z"
   },
   {
    "duration": 54,
    "start_time": "2021-06-14T07:26:29.255Z"
   },
   {
    "duration": 8,
    "start_time": "2021-06-14T07:26:29.311Z"
   },
   {
    "duration": 28,
    "start_time": "2021-06-14T07:26:29.321Z"
   },
   {
    "duration": 8,
    "start_time": "2021-06-14T07:26:29.351Z"
   },
   {
    "duration": 48,
    "start_time": "2021-06-14T07:26:29.361Z"
   },
   {
    "duration": 6,
    "start_time": "2021-06-14T07:26:29.411Z"
   },
   {
    "duration": 14,
    "start_time": "2021-06-14T07:26:29.420Z"
   },
   {
    "duration": 12,
    "start_time": "2021-06-14T07:26:29.436Z"
   },
   {
    "duration": 8,
    "start_time": "2021-06-14T07:26:29.450Z"
   },
   {
    "duration": 8,
    "start_time": "2021-06-14T07:26:29.461Z"
   },
   {
    "duration": 37,
    "start_time": "2021-06-14T07:26:29.472Z"
   },
   {
    "duration": 33,
    "start_time": "2021-06-14T07:26:29.512Z"
   },
   {
    "duration": 5,
    "start_time": "2021-06-14T07:26:29.547Z"
   },
   {
    "duration": 38229,
    "start_time": "2021-06-14T07:26:29.555Z"
   },
   {
    "duration": 5,
    "start_time": "2021-06-14T07:27:07.786Z"
   },
   {
    "duration": 20,
    "start_time": "2021-06-14T07:27:07.794Z"
   },
   {
    "duration": 46,
    "start_time": "2021-06-14T07:27:07.817Z"
   },
   {
    "duration": 310,
    "start_time": "2021-06-14T07:27:07.866Z"
   },
   {
    "duration": 788,
    "start_time": "2021-06-14T07:27:08.178Z"
   },
   {
    "duration": 11,
    "start_time": "2021-06-14T07:27:08.968Z"
   },
   {
    "duration": 542,
    "start_time": "2021-06-14T07:27:08.981Z"
   },
   {
    "duration": 13,
    "start_time": "2021-06-14T07:27:09.525Z"
   },
   {
    "duration": 671,
    "start_time": "2021-06-14T07:27:09.540Z"
   },
   {
    "duration": 710,
    "start_time": "2021-06-14T07:27:10.213Z"
   },
   {
    "duration": 8,
    "start_time": "2021-06-14T07:27:10.925Z"
   },
   {
    "duration": 349,
    "start_time": "2021-06-14T07:27:10.936Z"
   },
   {
    "duration": 21,
    "start_time": "2021-06-14T07:27:11.288Z"
   },
   {
    "duration": 11,
    "start_time": "2021-06-14T07:27:11.311Z"
   },
   {
    "duration": 312,
    "start_time": "2021-06-14T07:27:11.324Z"
   },
   {
    "duration": 36,
    "start_time": "2021-06-14T07:27:11.639Z"
   },
   {
    "duration": 333,
    "start_time": "2021-06-14T07:27:11.678Z"
   },
   {
    "duration": -883,
    "start_time": "2021-06-14T07:27:12.896Z"
   },
   {
    "duration": -935,
    "start_time": "2021-06-14T07:27:12.949Z"
   },
   {
    "duration": -940,
    "start_time": "2021-06-14T07:27:12.956Z"
   },
   {
    "duration": -945,
    "start_time": "2021-06-14T07:27:12.962Z"
   },
   {
    "duration": -950,
    "start_time": "2021-06-14T07:27:12.968Z"
   },
   {
    "duration": -954,
    "start_time": "2021-06-14T07:27:12.974Z"
   },
   {
    "duration": -960,
    "start_time": "2021-06-14T07:27:12.981Z"
   },
   {
    "duration": -966,
    "start_time": "2021-06-14T07:27:12.988Z"
   },
   {
    "duration": 365,
    "start_time": "2021-06-14T07:27:36.791Z"
   },
   {
    "duration": 485,
    "start_time": "2021-06-14T07:28:46.494Z"
   },
   {
    "duration": 357,
    "start_time": "2021-06-14T07:28:54.710Z"
   },
   {
    "duration": 327,
    "start_time": "2021-06-14T07:29:18.615Z"
   },
   {
    "duration": 353,
    "start_time": "2021-06-14T07:29:28.718Z"
   },
   {
    "duration": 381,
    "start_time": "2021-06-14T07:30:07.543Z"
   },
   {
    "duration": 342,
    "start_time": "2021-06-14T07:30:22.740Z"
   },
   {
    "duration": 351,
    "start_time": "2021-06-14T07:31:43.528Z"
   },
   {
    "duration": 367,
    "start_time": "2021-06-14T07:31:50.008Z"
   },
   {
    "duration": 7,
    "start_time": "2021-06-14T07:32:18.871Z"
   },
   {
    "duration": 37,
    "start_time": "2021-06-14T07:32:25.190Z"
   },
   {
    "duration": 367,
    "start_time": "2021-06-14T07:33:14.053Z"
   },
   {
    "duration": 397,
    "start_time": "2021-06-14T07:33:25.225Z"
   },
   {
    "duration": 378,
    "start_time": "2021-06-14T07:34:42.634Z"
   },
   {
    "duration": 341,
    "start_time": "2021-06-14T07:34:54.266Z"
   },
   {
    "duration": 356,
    "start_time": "2021-06-14T07:34:59.084Z"
   },
   {
    "duration": 368,
    "start_time": "2021-06-14T07:36:04.000Z"
   },
   {
    "duration": 377,
    "start_time": "2021-06-14T07:36:18.799Z"
   },
   {
    "duration": 377,
    "start_time": "2021-06-14T07:40:40.405Z"
   },
   {
    "duration": 380,
    "start_time": "2021-06-14T07:41:09.917Z"
   },
   {
    "duration": 388,
    "start_time": "2021-06-14T07:42:01.997Z"
   },
   {
    "duration": 374,
    "start_time": "2021-06-14T07:42:12.055Z"
   },
   {
    "duration": 10,
    "start_time": "2021-06-14T07:42:37.075Z"
   },
   {
    "duration": 38,
    "start_time": "2021-06-14T07:43:09.061Z"
   },
   {
    "duration": 27,
    "start_time": "2021-06-14T07:43:18.015Z"
   },
   {
    "duration": 36,
    "start_time": "2021-06-14T07:43:24.751Z"
   },
   {
    "duration": 129,
    "start_time": "2021-06-14T07:43:40.737Z"
   },
   {
    "duration": 41,
    "start_time": "2021-06-14T07:43:42.287Z"
   },
   {
    "duration": 276,
    "start_time": "2021-06-14T07:46:21.243Z"
   },
   {
    "duration": 374,
    "start_time": "2021-06-14T07:46:33.214Z"
   },
   {
    "duration": 39,
    "start_time": "2021-06-14T07:46:45.644Z"
   },
   {
    "duration": 336,
    "start_time": "2021-06-14T07:48:48.317Z"
   },
   {
    "duration": 376,
    "start_time": "2021-06-14T07:48:56.996Z"
   },
   {
    "duration": 424,
    "start_time": "2021-06-14T07:49:10.390Z"
   },
   {
    "duration": 17,
    "start_time": "2021-06-14T07:52:20.295Z"
   },
   {
    "duration": 8570,
    "start_time": "2021-06-14T07:52:30.478Z"
   },
   {
    "duration": 349,
    "start_time": "2021-06-14T07:53:04.068Z"
   },
   {
    "duration": 5,
    "start_time": "2021-06-14T07:53:04.419Z"
   },
   {
    "duration": 18,
    "start_time": "2021-06-14T07:53:04.427Z"
   },
   {
    "duration": 11,
    "start_time": "2021-06-14T07:53:04.448Z"
   },
   {
    "duration": 14,
    "start_time": "2021-06-14T07:53:04.461Z"
   },
   {
    "duration": 37,
    "start_time": "2021-06-14T07:53:04.477Z"
   },
   {
    "duration": 102,
    "start_time": "2021-06-14T07:53:04.516Z"
   },
   {
    "duration": 12,
    "start_time": "2021-06-14T07:53:04.621Z"
   },
   {
    "duration": 8,
    "start_time": "2021-06-14T07:53:04.636Z"
   },
   {
    "duration": 19,
    "start_time": "2021-06-14T07:53:04.646Z"
   },
   {
    "duration": 74,
    "start_time": "2021-06-14T07:53:04.667Z"
   },
   {
    "duration": 88,
    "start_time": "2021-06-14T07:53:04.744Z"
   },
   {
    "duration": 5,
    "start_time": "2021-06-14T07:53:04.834Z"
   },
   {
    "duration": 96,
    "start_time": "2021-06-14T07:53:04.841Z"
   },
   {
    "duration": 8779,
    "start_time": "2021-06-14T07:53:04.939Z"
   },
   {
    "duration": 6,
    "start_time": "2021-06-14T07:53:13.720Z"
   },
   {
    "duration": 13,
    "start_time": "2021-06-14T07:53:13.729Z"
   },
   {
    "duration": 8,
    "start_time": "2021-06-14T07:53:13.744Z"
   },
   {
    "duration": 9,
    "start_time": "2021-06-14T07:53:13.754Z"
   },
   {
    "duration": 118,
    "start_time": "2021-06-14T07:53:13.765Z"
   },
   {
    "duration": 8570,
    "start_time": "2021-06-14T07:53:13.885Z"
   },
   {
    "duration": 7,
    "start_time": "2021-06-14T07:53:22.457Z"
   },
   {
    "duration": 6,
    "start_time": "2021-06-14T07:53:22.474Z"
   },
   {
    "duration": 9,
    "start_time": "2021-06-14T07:53:22.509Z"
   },
   {
    "duration": 12,
    "start_time": "2021-06-14T07:53:22.521Z"
   },
   {
    "duration": 12,
    "start_time": "2021-06-14T07:53:22.536Z"
   },
   {
    "duration": 5,
    "start_time": "2021-06-14T07:53:22.551Z"
   },
   {
    "duration": 65,
    "start_time": "2021-06-14T07:53:22.558Z"
   },
   {
    "duration": 16,
    "start_time": "2021-06-14T07:53:22.625Z"
   },
   {
    "duration": 29,
    "start_time": "2021-06-14T07:53:22.644Z"
   },
   {
    "duration": 8,
    "start_time": "2021-06-14T07:53:22.676Z"
   },
   {
    "duration": 16,
    "start_time": "2021-06-14T07:53:22.710Z"
   },
   {
    "duration": 8,
    "start_time": "2021-06-14T07:53:22.729Z"
   },
   {
    "duration": 12,
    "start_time": "2021-06-14T07:53:22.739Z"
   },
   {
    "duration": 17,
    "start_time": "2021-06-14T07:53:22.753Z"
   },
   {
    "duration": 6,
    "start_time": "2021-06-14T07:53:22.809Z"
   },
   {
    "duration": 8,
    "start_time": "2021-06-14T07:53:22.818Z"
   },
   {
    "duration": 9,
    "start_time": "2021-06-14T07:53:22.829Z"
   },
   {
    "duration": 34,
    "start_time": "2021-06-14T07:53:22.840Z"
   },
   {
    "duration": 35,
    "start_time": "2021-06-14T07:53:22.876Z"
   },
   {
    "duration": 39280,
    "start_time": "2021-06-14T07:53:22.913Z"
   },
   {
    "duration": 13,
    "start_time": "2021-06-14T07:54:02.196Z"
   },
   {
    "duration": 28,
    "start_time": "2021-06-14T07:54:02.212Z"
   },
   {
    "duration": 50,
    "start_time": "2021-06-14T07:54:02.243Z"
   },
   {
    "duration": 292,
    "start_time": "2021-06-14T07:54:02.296Z"
   },
   {
    "duration": 775,
    "start_time": "2021-06-14T07:54:02.590Z"
   },
   {
    "duration": 11,
    "start_time": "2021-06-14T07:54:03.367Z"
   },
   {
    "duration": 543,
    "start_time": "2021-06-14T07:54:03.380Z"
   },
   {
    "duration": 13,
    "start_time": "2021-06-14T07:54:03.925Z"
   },
   {
    "duration": 695,
    "start_time": "2021-06-14T07:54:03.940Z"
   },
   {
    "duration": 707,
    "start_time": "2021-06-14T07:54:04.638Z"
   },
   {
    "duration": 9,
    "start_time": "2021-06-14T07:54:05.347Z"
   },
   {
    "duration": 336,
    "start_time": "2021-06-14T07:54:05.359Z"
   },
   {
    "duration": 19,
    "start_time": "2021-06-14T07:54:05.697Z"
   },
   {
    "duration": 27,
    "start_time": "2021-06-14T07:54:05.718Z"
   },
   {
    "duration": 308,
    "start_time": "2021-06-14T07:54:05.747Z"
   },
   {
    "duration": 54,
    "start_time": "2021-06-14T07:54:06.057Z"
   },
   {
    "duration": 16,
    "start_time": "2021-06-14T07:54:06.114Z"
   },
   {
    "duration": 8267,
    "start_time": "2021-06-14T07:54:06.132Z"
   },
   {
    "duration": -1042,
    "start_time": "2021-06-14T07:54:15.443Z"
   },
   {
    "duration": -1048,
    "start_time": "2021-06-14T07:54:15.451Z"
   },
   {
    "duration": -1056,
    "start_time": "2021-06-14T07:54:15.460Z"
   },
   {
    "duration": -1062,
    "start_time": "2021-06-14T07:54:15.468Z"
   },
   {
    "duration": -1069,
    "start_time": "2021-06-14T07:54:15.477Z"
   },
   {
    "duration": -1074,
    "start_time": "2021-06-14T07:54:15.483Z"
   },
   {
    "duration": 38,
    "start_time": "2021-06-14T07:54:36.267Z"
   },
   {
    "duration": 9882,
    "start_time": "2021-06-14T07:55:37.456Z"
   },
   {
    "duration": 210,
    "start_time": "2021-06-14T07:56:19.943Z"
   },
   {
    "duration": 5,
    "start_time": "2021-06-14T07:56:20.155Z"
   },
   {
    "duration": 47,
    "start_time": "2021-06-14T07:56:20.163Z"
   },
   {
    "duration": 12,
    "start_time": "2021-06-14T07:56:20.213Z"
   },
   {
    "duration": 7,
    "start_time": "2021-06-14T07:56:20.227Z"
   },
   {
    "duration": 13,
    "start_time": "2021-06-14T07:56:20.236Z"
   },
   {
    "duration": 124,
    "start_time": "2021-06-14T07:56:20.251Z"
   },
   {
    "duration": 32,
    "start_time": "2021-06-14T07:56:20.379Z"
   },
   {
    "duration": 5,
    "start_time": "2021-06-14T07:56:20.415Z"
   },
   {
    "duration": 8,
    "start_time": "2021-06-14T07:56:20.423Z"
   },
   {
    "duration": 83,
    "start_time": "2021-06-14T07:56:20.433Z"
   },
   {
    "duration": 93,
    "start_time": "2021-06-14T07:56:20.518Z"
   },
   {
    "duration": 5,
    "start_time": "2021-06-14T07:56:20.613Z"
   },
   {
    "duration": 97,
    "start_time": "2021-06-14T07:56:20.620Z"
   },
   {
    "duration": 8515,
    "start_time": "2021-06-14T07:56:20.719Z"
   },
   {
    "duration": 5,
    "start_time": "2021-06-14T07:56:29.237Z"
   },
   {
    "duration": 16,
    "start_time": "2021-06-14T07:56:29.244Z"
   },
   {
    "duration": 7,
    "start_time": "2021-06-14T07:56:29.262Z"
   },
   {
    "duration": 39,
    "start_time": "2021-06-14T07:56:29.272Z"
   },
   {
    "duration": 95,
    "start_time": "2021-06-14T07:56:29.314Z"
   },
   {
    "duration": 8670,
    "start_time": "2021-06-14T07:56:29.411Z"
   },
   {
    "duration": 5,
    "start_time": "2021-06-14T07:56:38.084Z"
   },
   {
    "duration": 27,
    "start_time": "2021-06-14T07:56:38.095Z"
   },
   {
    "duration": 27,
    "start_time": "2021-06-14T07:56:38.126Z"
   },
   {
    "duration": 37,
    "start_time": "2021-06-14T07:56:38.155Z"
   },
   {
    "duration": 20,
    "start_time": "2021-06-14T07:56:38.195Z"
   },
   {
    "duration": 19,
    "start_time": "2021-06-14T07:56:38.217Z"
   },
   {
    "duration": 38,
    "start_time": "2021-06-14T07:56:38.239Z"
   },
   {
    "duration": 21,
    "start_time": "2021-06-14T07:56:38.280Z"
   },
   {
    "duration": 60,
    "start_time": "2021-06-14T07:56:38.304Z"
   },
   {
    "duration": 11,
    "start_time": "2021-06-14T07:56:38.367Z"
   },
   {
    "duration": 26,
    "start_time": "2021-06-14T07:56:38.381Z"
   },
   {
    "duration": 26,
    "start_time": "2021-06-14T07:56:38.410Z"
   },
   {
    "duration": 26,
    "start_time": "2021-06-14T07:56:38.438Z"
   },
   {
    "duration": 26,
    "start_time": "2021-06-14T07:56:38.467Z"
   },
   {
    "duration": 16,
    "start_time": "2021-06-14T07:56:38.495Z"
   },
   {
    "duration": 15,
    "start_time": "2021-06-14T07:56:38.514Z"
   },
   {
    "duration": 17,
    "start_time": "2021-06-14T07:56:38.531Z"
   },
   {
    "duration": 39,
    "start_time": "2021-06-14T07:56:38.551Z"
   },
   {
    "duration": 5,
    "start_time": "2021-06-14T07:56:38.593Z"
   },
   {
    "duration": 37742,
    "start_time": "2021-06-14T07:56:38.600Z"
   },
   {
    "duration": 5,
    "start_time": "2021-06-14T07:57:16.345Z"
   },
   {
    "duration": 10,
    "start_time": "2021-06-14T07:57:16.352Z"
   },
   {
    "duration": 54,
    "start_time": "2021-06-14T07:57:16.364Z"
   },
   {
    "duration": 299,
    "start_time": "2021-06-14T07:57:16.420Z"
   },
   {
    "duration": 859,
    "start_time": "2021-06-14T07:57:16.721Z"
   },
   {
    "duration": 30,
    "start_time": "2021-06-14T07:57:17.584Z"
   },
   {
    "duration": 537,
    "start_time": "2021-06-14T07:57:17.617Z"
   },
   {
    "duration": 14,
    "start_time": "2021-06-14T07:57:18.157Z"
   },
   {
    "duration": 612,
    "start_time": "2021-06-14T07:57:18.174Z"
   },
   {
    "duration": 595,
    "start_time": "2021-06-14T07:57:18.789Z"
   },
   {
    "duration": 25,
    "start_time": "2021-06-14T07:57:19.386Z"
   },
   {
    "duration": 331,
    "start_time": "2021-06-14T07:57:19.414Z"
   },
   {
    "duration": 13,
    "start_time": "2021-06-14T07:57:19.748Z"
   },
   {
    "duration": 13,
    "start_time": "2021-06-14T07:57:19.764Z"
   },
   {
    "duration": 478,
    "start_time": "2021-06-14T07:57:19.810Z"
   },
   {
    "duration": 47,
    "start_time": "2021-06-14T07:57:20.291Z"
   },
   {
    "duration": 331,
    "start_time": "2021-06-14T07:57:20.341Z"
   },
   {
    "duration": -834,
    "start_time": "2021-06-14T07:57:21.508Z"
   },
   {
    "duration": -852,
    "start_time": "2021-06-14T07:57:21.527Z"
   },
   {
    "duration": -859,
    "start_time": "2021-06-14T07:57:21.535Z"
   },
   {
    "duration": -863,
    "start_time": "2021-06-14T07:57:21.541Z"
   },
   {
    "duration": -875,
    "start_time": "2021-06-14T07:57:21.554Z"
   },
   {
    "duration": -881,
    "start_time": "2021-06-14T07:57:21.561Z"
   },
   {
    "duration": -886,
    "start_time": "2021-06-14T07:57:21.568Z"
   },
   {
    "duration": -891,
    "start_time": "2021-06-14T07:57:21.574Z"
   },
   {
    "duration": 1170,
    "start_time": "2021-06-14T18:10:28.819Z"
   },
   {
    "duration": 7,
    "start_time": "2021-06-14T18:10:29.991Z"
   },
   {
    "duration": 28,
    "start_time": "2021-06-14T18:10:30.002Z"
   },
   {
    "duration": 13,
    "start_time": "2021-06-14T18:10:30.057Z"
   },
   {
    "duration": 20,
    "start_time": "2021-06-14T18:10:30.073Z"
   },
   {
    "duration": 19,
    "start_time": "2021-06-14T18:10:30.096Z"
   },
   {
    "duration": 113,
    "start_time": "2021-06-14T18:10:30.117Z"
   },
   {
    "duration": 24,
    "start_time": "2021-06-14T18:10:30.233Z"
   },
   {
    "duration": 5,
    "start_time": "2021-06-14T18:10:30.260Z"
   },
   {
    "duration": 14,
    "start_time": "2021-06-14T18:10:30.268Z"
   },
   {
    "duration": 84,
    "start_time": "2021-06-14T18:10:30.285Z"
   },
   {
    "duration": 99,
    "start_time": "2021-06-14T18:10:30.371Z"
   },
   {
    "duration": 5,
    "start_time": "2021-06-14T18:10:30.472Z"
   },
   {
    "duration": 100,
    "start_time": "2021-06-14T18:10:30.480Z"
   },
   {
    "duration": 8290,
    "start_time": "2021-06-14T18:10:30.582Z"
   },
   {
    "duration": 7,
    "start_time": "2021-06-14T18:10:38.874Z"
   },
   {
    "duration": 16,
    "start_time": "2021-06-14T18:10:38.883Z"
   },
   {
    "duration": 11,
    "start_time": "2021-06-14T18:10:38.902Z"
   },
   {
    "duration": 38,
    "start_time": "2021-06-14T18:10:38.916Z"
   },
   {
    "duration": 99,
    "start_time": "2021-06-14T18:10:38.957Z"
   },
   {
    "duration": 8481,
    "start_time": "2021-06-14T18:10:39.059Z"
   },
   {
    "duration": 12,
    "start_time": "2021-06-14T18:10:47.542Z"
   },
   {
    "duration": 5,
    "start_time": "2021-06-14T18:10:47.560Z"
   },
   {
    "duration": 8,
    "start_time": "2021-06-14T18:10:47.568Z"
   },
   {
    "duration": 19,
    "start_time": "2021-06-14T18:10:47.578Z"
   },
   {
    "duration": 56,
    "start_time": "2021-06-14T18:10:47.599Z"
   },
   {
    "duration": 3,
    "start_time": "2021-06-14T18:10:47.658Z"
   },
   {
    "duration": 19,
    "start_time": "2021-06-14T18:10:47.664Z"
   },
   {
    "duration": 7,
    "start_time": "2021-06-14T18:10:47.685Z"
   },
   {
    "duration": 66,
    "start_time": "2021-06-14T18:10:47.694Z"
   },
   {
    "duration": 12,
    "start_time": "2021-06-14T18:10:47.762Z"
   },
   {
    "duration": 13,
    "start_time": "2021-06-14T18:10:47.776Z"
   },
   {
    "duration": 5,
    "start_time": "2021-06-14T18:10:47.791Z"
   },
   {
    "duration": 16,
    "start_time": "2021-06-14T18:10:47.799Z"
   },
   {
    "duration": 12,
    "start_time": "2021-06-14T18:10:47.854Z"
   },
   {
    "duration": 9,
    "start_time": "2021-06-14T18:10:47.868Z"
   },
   {
    "duration": 10,
    "start_time": "2021-06-14T18:10:47.879Z"
   },
   {
    "duration": 7,
    "start_time": "2021-06-14T18:10:47.891Z"
   },
   {
    "duration": 61,
    "start_time": "2021-06-14T18:10:47.900Z"
   },
   {
    "duration": 5,
    "start_time": "2021-06-14T18:10:47.964Z"
   },
   {
    "duration": 37457,
    "start_time": "2021-06-14T18:10:47.972Z"
   },
   {
    "duration": 6,
    "start_time": "2021-06-14T18:11:25.431Z"
   },
   {
    "duration": 17,
    "start_time": "2021-06-14T18:11:25.439Z"
   },
   {
    "duration": 40,
    "start_time": "2021-06-14T18:11:25.459Z"
   },
   {
    "duration": 390,
    "start_time": "2021-06-14T18:11:25.501Z"
   },
   {
    "duration": 768,
    "start_time": "2021-06-14T18:11:25.893Z"
   },
   {
    "duration": 14,
    "start_time": "2021-06-14T18:11:26.664Z"
   },
   {
    "duration": 594,
    "start_time": "2021-06-14T18:11:26.681Z"
   },
   {
    "duration": 14,
    "start_time": "2021-06-14T18:11:27.278Z"
   },
   {
    "duration": 577,
    "start_time": "2021-06-14T18:11:27.294Z"
   },
   {
    "duration": 562,
    "start_time": "2021-06-14T18:11:27.874Z"
   },
   {
    "duration": 16,
    "start_time": "2021-06-14T18:11:28.439Z"
   },
   {
    "duration": 317,
    "start_time": "2021-06-14T18:11:28.458Z"
   },
   {
    "duration": 12,
    "start_time": "2021-06-14T18:11:28.777Z"
   },
   {
    "duration": 12,
    "start_time": "2021-06-14T18:11:28.791Z"
   },
   {
    "duration": 320,
    "start_time": "2021-06-14T18:11:28.805Z"
   },
   {
    "duration": 54,
    "start_time": "2021-06-14T18:11:29.128Z"
   },
   {
    "duration": 383,
    "start_time": "2021-06-14T18:11:29.184Z"
   },
   {
    "duration": -51,
    "start_time": "2021-06-14T18:11:29.620Z"
   },
   {
    "duration": -56,
    "start_time": "2021-06-14T18:11:29.627Z"
   },
   {
    "duration": -61,
    "start_time": "2021-06-14T18:11:29.633Z"
   },
   {
    "duration": -66,
    "start_time": "2021-06-14T18:11:29.639Z"
   },
   {
    "duration": -71,
    "start_time": "2021-06-14T18:11:29.645Z"
   },
   {
    "duration": -75,
    "start_time": "2021-06-14T18:11:29.651Z"
   },
   {
    "duration": -80,
    "start_time": "2021-06-14T18:11:29.657Z"
   },
   {
    "duration": -96,
    "start_time": "2021-06-14T18:11:29.674Z"
   },
   {
    "duration": 18,
    "start_time": "2021-06-14T18:12:39.264Z"
   },
   {
    "duration": 6247,
    "start_time": "2021-06-14T18:12:44.320Z"
   },
   {
    "duration": 296,
    "start_time": "2021-06-14T18:12:56.732Z"
   },
   {
    "duration": 27,
    "start_time": "2021-06-14T18:12:57.030Z"
   },
   {
    "duration": 17,
    "start_time": "2021-06-14T18:12:57.060Z"
   },
   {
    "duration": 12,
    "start_time": "2021-06-14T18:12:57.080Z"
   },
   {
    "duration": 8,
    "start_time": "2021-06-14T18:12:57.094Z"
   },
   {
    "duration": 56,
    "start_time": "2021-06-14T18:12:57.104Z"
   },
   {
    "duration": 93,
    "start_time": "2021-06-14T18:12:57.162Z"
   },
   {
    "duration": 11,
    "start_time": "2021-06-14T18:12:57.259Z"
   },
   {
    "duration": 5,
    "start_time": "2021-06-14T18:12:57.274Z"
   },
   {
    "duration": 8,
    "start_time": "2021-06-14T18:12:57.281Z"
   },
   {
    "duration": 91,
    "start_time": "2021-06-14T18:12:57.291Z"
   },
   {
    "duration": 91,
    "start_time": "2021-06-14T18:12:57.384Z"
   },
   {
    "duration": 6,
    "start_time": "2021-06-14T18:12:57.477Z"
   },
   {
    "duration": 110,
    "start_time": "2021-06-14T18:12:57.486Z"
   },
   {
    "duration": 8733,
    "start_time": "2021-06-14T18:12:57.599Z"
   },
   {
    "duration": 6,
    "start_time": "2021-06-14T18:13:06.335Z"
   },
   {
    "duration": 24,
    "start_time": "2021-06-14T18:13:06.343Z"
   },
   {
    "duration": 26,
    "start_time": "2021-06-14T18:13:06.369Z"
   },
   {
    "duration": 19,
    "start_time": "2021-06-14T18:13:06.397Z"
   },
   {
    "duration": 90,
    "start_time": "2021-06-14T18:13:06.418Z"
   },
   {
    "duration": 8409,
    "start_time": "2021-06-14T18:13:06.511Z"
   },
   {
    "duration": 7,
    "start_time": "2021-06-14T18:13:14.922Z"
   },
   {
    "duration": 23,
    "start_time": "2021-06-14T18:13:14.934Z"
   },
   {
    "duration": 13,
    "start_time": "2021-06-14T18:13:14.960Z"
   },
   {
    "duration": 11,
    "start_time": "2021-06-14T18:13:14.975Z"
   },
   {
    "duration": 8,
    "start_time": "2021-06-14T18:13:14.988Z"
   },
   {
    "duration": 11,
    "start_time": "2021-06-14T18:13:14.998Z"
   },
   {
    "duration": 48,
    "start_time": "2021-06-14T18:13:15.011Z"
   },
   {
    "duration": 7,
    "start_time": "2021-06-14T18:13:15.062Z"
   },
   {
    "duration": 28,
    "start_time": "2021-06-14T18:13:15.071Z"
   },
   {
    "duration": 13,
    "start_time": "2021-06-14T18:13:15.101Z"
   },
   {
    "duration": 39,
    "start_time": "2021-06-14T18:13:15.116Z"
   },
   {
    "duration": 6,
    "start_time": "2021-06-14T18:13:15.157Z"
   },
   {
    "duration": 12,
    "start_time": "2021-06-14T18:13:15.165Z"
   },
   {
    "duration": 12,
    "start_time": "2021-06-14T18:13:15.180Z"
   },
   {
    "duration": 6,
    "start_time": "2021-06-14T18:13:15.195Z"
   },
   {
    "duration": 6,
    "start_time": "2021-06-14T18:13:15.203Z"
   },
   {
    "duration": 6,
    "start_time": "2021-06-14T18:13:15.211Z"
   },
   {
    "duration": 31,
    "start_time": "2021-06-14T18:13:15.255Z"
   },
   {
    "duration": 5,
    "start_time": "2021-06-14T18:13:15.288Z"
   },
   {
    "duration": 39607,
    "start_time": "2021-06-14T18:13:15.295Z"
   },
   {
    "duration": 7,
    "start_time": "2021-06-14T18:13:54.905Z"
   },
   {
    "duration": 9,
    "start_time": "2021-06-14T18:13:54.915Z"
   },
   {
    "duration": 64,
    "start_time": "2021-06-14T18:13:54.926Z"
   },
   {
    "duration": 302,
    "start_time": "2021-06-14T18:13:54.994Z"
   },
   {
    "duration": 859,
    "start_time": "2021-06-14T18:13:55.299Z"
   },
   {
    "duration": 12,
    "start_time": "2021-06-14T18:13:56.161Z"
   },
   {
    "duration": 522,
    "start_time": "2021-06-14T18:13:56.175Z"
   },
   {
    "duration": 11,
    "start_time": "2021-06-14T18:13:56.700Z"
   },
   {
    "duration": 738,
    "start_time": "2021-06-14T18:13:56.713Z"
   },
   {
    "duration": 555,
    "start_time": "2021-06-14T18:13:57.455Z"
   },
   {
    "duration": 10,
    "start_time": "2021-06-14T18:13:58.014Z"
   },
   {
    "duration": 332,
    "start_time": "2021-06-14T18:13:58.026Z"
   },
   {
    "duration": 15,
    "start_time": "2021-06-14T18:13:58.361Z"
   },
   {
    "duration": 15,
    "start_time": "2021-06-14T18:13:58.379Z"
   },
   {
    "duration": 321,
    "start_time": "2021-06-14T18:13:58.396Z"
   },
   {
    "duration": 49,
    "start_time": "2021-06-14T18:13:58.720Z"
   },
   {
    "duration": 16,
    "start_time": "2021-06-14T18:13:58.771Z"
   },
   {
    "duration": 6721,
    "start_time": "2021-06-14T18:13:58.789Z"
   },
   {
    "duration": -66,
    "start_time": "2021-06-14T18:14:05.579Z"
   },
   {
    "duration": -127,
    "start_time": "2021-06-14T18:14:05.641Z"
   },
   {
    "duration": -135,
    "start_time": "2021-06-14T18:14:05.651Z"
   },
   {
    "duration": -144,
    "start_time": "2021-06-14T18:14:05.662Z"
   },
   {
    "duration": -164,
    "start_time": "2021-06-14T18:14:05.683Z"
   },
   {
    "duration": 37,
    "start_time": "2021-06-14T18:14:21.631Z"
   },
   {
    "duration": 261,
    "start_time": "2021-06-14T18:14:46.466Z"
   },
   {
    "duration": 6800,
    "start_time": "2021-06-14T18:14:59.097Z"
   },
   {
    "duration": 290,
    "start_time": "2021-06-14T18:15:24.328Z"
   },
   {
    "duration": 269,
    "start_time": "2021-06-14T18:15:45.511Z"
   },
   {
    "duration": 236,
    "start_time": "2021-06-14T18:15:56.676Z"
   },
   {
    "duration": 4,
    "start_time": "2021-06-14T18:15:56.915Z"
   },
   {
    "duration": 41,
    "start_time": "2021-06-14T18:15:56.922Z"
   },
   {
    "duration": 12,
    "start_time": "2021-06-14T18:15:56.965Z"
   },
   {
    "duration": 10,
    "start_time": "2021-06-14T18:15:56.979Z"
   },
   {
    "duration": 7,
    "start_time": "2021-06-14T18:15:56.991Z"
   },
   {
    "duration": 121,
    "start_time": "2021-06-14T18:15:57.000Z"
   },
   {
    "duration": 12,
    "start_time": "2021-06-14T18:15:57.126Z"
   },
   {
    "duration": 5,
    "start_time": "2021-06-14T18:15:57.156Z"
   },
   {
    "duration": 9,
    "start_time": "2021-06-14T18:15:57.163Z"
   },
   {
    "duration": 55,
    "start_time": "2021-06-14T18:15:57.174Z"
   },
   {
    "duration": 74,
    "start_time": "2021-06-14T18:15:57.255Z"
   },
   {
    "duration": 4,
    "start_time": "2021-06-14T18:15:57.331Z"
   },
   {
    "duration": 77,
    "start_time": "2021-06-14T18:15:57.355Z"
   },
   {
    "duration": 8378,
    "start_time": "2021-06-14T18:15:57.434Z"
   },
   {
    "duration": 6,
    "start_time": "2021-06-14T18:16:05.815Z"
   },
   {
    "duration": 30,
    "start_time": "2021-06-14T18:16:05.824Z"
   },
   {
    "duration": 8,
    "start_time": "2021-06-14T18:16:05.856Z"
   },
   {
    "duration": 10,
    "start_time": "2021-06-14T18:16:05.867Z"
   },
   {
    "duration": 100,
    "start_time": "2021-06-14T18:16:05.880Z"
   },
   {
    "duration": 8208,
    "start_time": "2021-06-14T18:16:05.982Z"
   },
   {
    "duration": 6,
    "start_time": "2021-06-14T18:16:14.193Z"
   },
   {
    "duration": 7,
    "start_time": "2021-06-14T18:16:14.207Z"
   },
   {
    "duration": 38,
    "start_time": "2021-06-14T18:16:14.217Z"
   },
   {
    "duration": 9,
    "start_time": "2021-06-14T18:16:14.258Z"
   },
   {
    "duration": 9,
    "start_time": "2021-06-14T18:16:14.269Z"
   },
   {
    "duration": 5,
    "start_time": "2021-06-14T18:16:14.280Z"
   },
   {
    "duration": 20,
    "start_time": "2021-06-14T18:16:14.288Z"
   },
   {
    "duration": 47,
    "start_time": "2021-06-14T18:16:14.310Z"
   },
   {
    "duration": 28,
    "start_time": "2021-06-14T18:16:14.359Z"
   },
   {
    "duration": 9,
    "start_time": "2021-06-14T18:16:14.390Z"
   },
   {
    "duration": 53,
    "start_time": "2021-06-14T18:16:14.402Z"
   },
   {
    "duration": 7,
    "start_time": "2021-06-14T18:16:14.458Z"
   },
   {
    "duration": 9,
    "start_time": "2021-06-14T18:16:14.468Z"
   },
   {
    "duration": 14,
    "start_time": "2021-06-14T18:16:14.480Z"
   },
   {
    "duration": 7,
    "start_time": "2021-06-14T18:16:14.497Z"
   },
   {
    "duration": 53,
    "start_time": "2021-06-14T18:16:14.507Z"
   },
   {
    "duration": 7,
    "start_time": "2021-06-14T18:16:14.562Z"
   },
   {
    "duration": 32,
    "start_time": "2021-06-14T18:16:14.572Z"
   },
   {
    "duration": 6,
    "start_time": "2021-06-14T18:16:14.607Z"
   },
   {
    "duration": 39018,
    "start_time": "2021-06-14T18:16:14.616Z"
   },
   {
    "duration": 5,
    "start_time": "2021-06-14T18:16:53.637Z"
   },
   {
    "duration": 12,
    "start_time": "2021-06-14T18:16:53.644Z"
   },
   {
    "duration": 49,
    "start_time": "2021-06-14T18:16:53.659Z"
   },
   {
    "duration": 277,
    "start_time": "2021-06-14T18:16:53.710Z"
   },
   {
    "duration": 755,
    "start_time": "2021-06-14T18:16:53.990Z"
   },
   {
    "duration": 12,
    "start_time": "2021-06-14T18:16:54.755Z"
   },
   {
    "duration": 529,
    "start_time": "2021-06-14T18:16:54.770Z"
   },
   {
    "duration": 12,
    "start_time": "2021-06-14T18:16:55.301Z"
   },
   {
    "duration": 685,
    "start_time": "2021-06-14T18:16:55.315Z"
   },
   {
    "duration": 578,
    "start_time": "2021-06-14T18:16:56.003Z"
   },
   {
    "duration": 8,
    "start_time": "2021-06-14T18:16:56.583Z"
   },
   {
    "duration": 325,
    "start_time": "2021-06-14T18:16:56.594Z"
   },
   {
    "duration": 11,
    "start_time": "2021-06-14T18:16:56.922Z"
   },
   {
    "duration": 27,
    "start_time": "2021-06-14T18:16:56.935Z"
   },
   {
    "duration": 305,
    "start_time": "2021-06-14T18:16:56.964Z"
   },
   {
    "duration": 36,
    "start_time": "2021-06-14T18:16:57.271Z"
   },
   {
    "duration": 15,
    "start_time": "2021-06-14T18:16:57.309Z"
   },
   {
    "duration": 7523,
    "start_time": "2021-06-14T18:16:57.326Z"
   },
   {
    "duration": -80,
    "start_time": "2021-06-14T18:17:04.932Z"
   },
   {
    "duration": -87,
    "start_time": "2021-06-14T18:17:04.940Z"
   },
   {
    "duration": -91,
    "start_time": "2021-06-14T18:17:04.945Z"
   },
   {
    "duration": -95,
    "start_time": "2021-06-14T18:17:04.951Z"
   },
   {
    "duration": -101,
    "start_time": "2021-06-14T18:17:04.959Z"
   },
   {
    "duration": -106,
    "start_time": "2021-06-14T18:17:04.965Z"
   },
   {
    "duration": 6431,
    "start_time": "2021-06-14T18:17:14.371Z"
   },
   {
    "duration": 237,
    "start_time": "2021-06-14T18:20:39.739Z"
   },
   {
    "duration": 63,
    "start_time": "2021-06-14T18:21:20.384Z"
   },
   {
    "duration": 6,
    "start_time": "2021-06-14T18:22:01.055Z"
   },
   {
    "duration": 281,
    "start_time": "2021-06-14T18:22:06.800Z"
   },
   {
    "duration": 257,
    "start_time": "2021-06-14T18:23:05.899Z"
   },
   {
    "duration": 5,
    "start_time": "2021-06-14T18:23:06.159Z"
   },
   {
    "duration": 16,
    "start_time": "2021-06-14T18:23:06.167Z"
   },
   {
    "duration": 14,
    "start_time": "2021-06-14T18:23:06.187Z"
   },
   {
    "duration": 53,
    "start_time": "2021-06-14T18:23:06.203Z"
   },
   {
    "duration": 8,
    "start_time": "2021-06-14T18:23:06.258Z"
   },
   {
    "duration": 105,
    "start_time": "2021-06-14T18:23:06.268Z"
   },
   {
    "duration": 11,
    "start_time": "2021-06-14T18:23:06.377Z"
   },
   {
    "duration": 5,
    "start_time": "2021-06-14T18:23:06.392Z"
   },
   {
    "duration": 9,
    "start_time": "2021-06-14T18:23:06.399Z"
   },
   {
    "duration": 87,
    "start_time": "2021-06-14T18:23:06.411Z"
   },
   {
    "duration": 91,
    "start_time": "2021-06-14T18:23:06.501Z"
   },
   {
    "duration": 6,
    "start_time": "2021-06-14T18:23:06.595Z"
   },
   {
    "duration": 98,
    "start_time": "2021-06-14T18:23:06.604Z"
   },
   {
    "duration": 8420,
    "start_time": "2021-06-14T18:23:06.705Z"
   },
   {
    "duration": 7,
    "start_time": "2021-06-14T18:23:15.128Z"
   },
   {
    "duration": 10,
    "start_time": "2021-06-14T18:23:15.153Z"
   },
   {
    "duration": 8,
    "start_time": "2021-06-14T18:23:15.165Z"
   },
   {
    "duration": 6,
    "start_time": "2021-06-14T18:23:15.176Z"
   },
   {
    "duration": 109,
    "start_time": "2021-06-14T18:23:15.185Z"
   },
   {
    "duration": 8501,
    "start_time": "2021-06-14T18:23:15.296Z"
   },
   {
    "duration": 8,
    "start_time": "2021-06-14T18:23:23.800Z"
   },
   {
    "duration": 17,
    "start_time": "2021-06-14T18:23:23.815Z"
   },
   {
    "duration": 24,
    "start_time": "2021-06-14T18:23:23.836Z"
   },
   {
    "duration": 12,
    "start_time": "2021-06-14T18:23:23.862Z"
   },
   {
    "duration": 10,
    "start_time": "2021-06-14T18:23:23.877Z"
   },
   {
    "duration": 7,
    "start_time": "2021-06-14T18:23:23.890Z"
   },
   {
    "duration": 69,
    "start_time": "2021-06-14T18:23:23.899Z"
   },
   {
    "duration": 10,
    "start_time": "2021-06-14T18:23:23.970Z"
   },
   {
    "duration": 28,
    "start_time": "2021-06-14T18:23:23.983Z"
   },
   {
    "duration": 41,
    "start_time": "2021-06-14T18:23:24.014Z"
   },
   {
    "duration": 17,
    "start_time": "2021-06-14T18:23:24.058Z"
   },
   {
    "duration": 5,
    "start_time": "2021-06-14T18:23:24.078Z"
   },
   {
    "duration": 7,
    "start_time": "2021-06-14T18:23:24.086Z"
   },
   {
    "duration": 15,
    "start_time": "2021-06-14T18:23:24.095Z"
   },
   {
    "duration": 46,
    "start_time": "2021-06-14T18:23:24.112Z"
   },
   {
    "duration": 8,
    "start_time": "2021-06-14T18:23:24.161Z"
   },
   {
    "duration": 9,
    "start_time": "2021-06-14T18:23:24.171Z"
   },
   {
    "duration": 29,
    "start_time": "2021-06-14T18:23:24.182Z"
   },
   {
    "duration": 4,
    "start_time": "2021-06-14T18:23:24.213Z"
   },
   {
    "duration": 37524,
    "start_time": "2021-06-14T18:23:24.219Z"
   },
   {
    "duration": 10,
    "start_time": "2021-06-14T18:24:01.746Z"
   },
   {
    "duration": 8,
    "start_time": "2021-06-14T18:24:01.758Z"
   },
   {
    "duration": 55,
    "start_time": "2021-06-14T18:24:01.768Z"
   },
   {
    "duration": 279,
    "start_time": "2021-06-14T18:24:01.826Z"
   },
   {
    "duration": 849,
    "start_time": "2021-06-14T18:24:02.107Z"
   },
   {
    "duration": 11,
    "start_time": "2021-06-14T18:24:02.959Z"
   },
   {
    "duration": 522,
    "start_time": "2021-06-14T18:24:02.972Z"
   },
   {
    "duration": 13,
    "start_time": "2021-06-14T18:24:03.496Z"
   },
   {
    "duration": 689,
    "start_time": "2021-06-14T18:24:03.511Z"
   },
   {
    "duration": 675,
    "start_time": "2021-06-14T18:24:04.203Z"
   },
   {
    "duration": 9,
    "start_time": "2021-06-14T18:24:04.880Z"
   },
   {
    "duration": 324,
    "start_time": "2021-06-14T18:24:04.891Z"
   },
   {
    "duration": 11,
    "start_time": "2021-06-14T18:24:05.218Z"
   },
   {
    "duration": 29,
    "start_time": "2021-06-14T18:24:05.231Z"
   },
   {
    "duration": 304,
    "start_time": "2021-06-14T18:24:05.262Z"
   },
   {
    "duration": 39,
    "start_time": "2021-06-14T18:24:05.568Z"
   },
   {
    "duration": 100,
    "start_time": "2021-06-14T18:24:05.610Z"
   },
   {
    "duration": 6,
    "start_time": "2021-06-14T18:24:05.713Z"
   },
   {
    "duration": 393,
    "start_time": "2021-06-14T18:24:05.721Z"
   },
   {
    "duration": 746,
    "start_time": "2021-06-14T18:24:06.117Z"
   },
   {
    "duration": 9,
    "start_time": "2021-06-14T18:24:06.866Z"
   },
   {
    "duration": 80,
    "start_time": "2021-06-14T18:24:06.877Z"
   },
   {
    "duration": 10,
    "start_time": "2021-06-14T18:24:06.960Z"
   },
   {
    "duration": 3,
    "start_time": "2021-06-14T18:24:06.972Z"
   },
   {
    "duration": 9,
    "start_time": "2021-06-14T18:24:54.662Z"
   },
   {
    "duration": 8,
    "start_time": "2021-06-14T18:25:25.657Z"
   },
   {
    "duration": 36,
    "start_time": "2021-06-14T18:25:35.925Z"
   },
   {
    "duration": 11,
    "start_time": "2021-06-14T18:25:50.050Z"
   },
   {
    "duration": 6,
    "start_time": "2021-06-14T18:25:53.285Z"
   },
   {
    "duration": 25,
    "start_time": "2021-06-14T18:25:55.621Z"
   },
   {
    "duration": 277,
    "start_time": "2021-06-14T18:26:04.893Z"
   },
   {
    "duration": 292,
    "start_time": "2021-06-14T18:26:27.119Z"
   },
   {
    "duration": 64,
    "start_time": "2021-06-14T18:27:15.922Z"
   },
   {
    "duration": 4050,
    "start_time": "2021-06-14T18:27:44.910Z"
   },
   {
    "duration": 150,
    "start_time": "2021-06-14T18:27:58.442Z"
   },
   {
    "duration": 10,
    "start_time": "2021-06-14T18:28:05.584Z"
   },
   {
    "duration": 11,
    "start_time": "2021-06-14T18:29:43.156Z"
   },
   {
    "duration": 538,
    "start_time": "2021-06-14T18:30:09.520Z"
   },
   {
    "duration": 707,
    "start_time": "2021-06-14T18:30:31.476Z"
   },
   {
    "duration": 324,
    "start_time": "2021-06-14T18:33:09.633Z"
   },
   {
    "duration": 289,
    "start_time": "2021-06-14T18:34:49.934Z"
   },
   {
    "duration": 264,
    "start_time": "2021-06-14T18:35:06.988Z"
   },
   {
    "duration": 4040,
    "start_time": "2021-06-14T18:35:14.702Z"
   },
   {
    "duration": 297,
    "start_time": "2021-06-14T18:35:53.613Z"
   },
   {
    "duration": 8809,
    "start_time": "2021-06-14T18:36:26.652Z"
   },
   {
    "duration": 88,
    "start_time": "2021-06-14T18:36:49.330Z"
   },
   {
    "duration": 4191,
    "start_time": "2021-06-14T18:36:57.481Z"
   },
   {
    "duration": 78,
    "start_time": "2021-06-14T18:37:09.922Z"
   },
   {
    "duration": 4126,
    "start_time": "2021-06-14T18:37:29.455Z"
   },
   {
    "duration": 217,
    "start_time": "2021-06-14T18:37:38.209Z"
   },
   {
    "duration": 8,
    "start_time": "2021-06-14T18:39:10.948Z"
   },
   {
    "duration": 37,
    "start_time": "2021-06-14T18:39:20.052Z"
   },
   {
    "duration": 10,
    "start_time": "2021-06-14T18:40:10.906Z"
   },
   {
    "duration": 25,
    "start_time": "2021-06-14T18:40:20.697Z"
   },
   {
    "duration": 12,
    "start_time": "2021-06-14T18:41:24.126Z"
   },
   {
    "duration": 25,
    "start_time": "2021-06-14T18:42:02.084Z"
   },
   {
    "duration": 37,
    "start_time": "2021-06-14T18:42:11.501Z"
   },
   {
    "duration": 38,
    "start_time": "2021-06-14T18:42:19.494Z"
   },
   {
    "duration": 78,
    "start_time": "2021-06-14T18:42:25.237Z"
   },
   {
    "duration": 50,
    "start_time": "2021-06-14T18:42:40.428Z"
   },
   {
    "duration": 38,
    "start_time": "2021-06-14T18:43:03.437Z"
   },
   {
    "duration": 23,
    "start_time": "2021-06-14T18:44:45.726Z"
   },
   {
    "duration": 12,
    "start_time": "2021-06-14T18:45:04.990Z"
   },
   {
    "duration": 50,
    "start_time": "2021-06-14T18:45:34.928Z"
   },
   {
    "duration": 69,
    "start_time": "2021-06-14T18:47:26.560Z"
   },
   {
    "duration": 6,
    "start_time": "2021-06-14T18:49:35.411Z"
   },
   {
    "duration": 12,
    "start_time": "2021-06-14T18:52:09.160Z"
   },
   {
    "duration": 76,
    "start_time": "2021-06-14T18:52:15.015Z"
   },
   {
    "duration": 41,
    "start_time": "2021-06-14T18:52:33.961Z"
   },
   {
    "duration": 77,
    "start_time": "2021-06-14T18:52:44.011Z"
   },
   {
    "duration": 294,
    "start_time": "2021-06-14T18:53:07.741Z"
   },
   {
    "duration": 59,
    "start_time": "2021-06-14T18:53:58.719Z"
   },
   {
    "duration": 62,
    "start_time": "2021-06-14T18:54:21.017Z"
   },
   {
    "duration": 63,
    "start_time": "2021-06-14T18:54:26.832Z"
   },
   {
    "duration": 62,
    "start_time": "2021-06-14T18:54:34.657Z"
   },
   {
    "duration": 12,
    "start_time": "2021-06-14T18:55:09.704Z"
   },
   {
    "duration": 62,
    "start_time": "2021-06-14T18:56:22.357Z"
   },
   {
    "duration": 62,
    "start_time": "2021-06-14T18:56:29.227Z"
   },
   {
    "duration": 562,
    "start_time": "2021-06-14T18:57:32.742Z"
   },
   {
    "duration": 504,
    "start_time": "2021-06-14T18:58:11.238Z"
   },
   {
    "duration": 775,
    "start_time": "2021-06-14T18:58:23.347Z"
   },
   {
    "duration": 554,
    "start_time": "2021-06-14T18:58:34.108Z"
   },
   {
    "duration": 437,
    "start_time": "2021-06-14T18:58:42.851Z"
   },
   {
    "duration": 394,
    "start_time": "2021-06-14T18:58:51.998Z"
   },
   {
    "duration": 596,
    "start_time": "2021-06-14T18:59:07.078Z"
   },
   {
    "duration": 64,
    "start_time": "2021-06-14T19:00:14.733Z"
   },
   {
    "duration": 261,
    "start_time": "2021-06-14T19:01:03.171Z"
   },
   {
    "duration": 13,
    "start_time": "2021-06-14T19:01:11.541Z"
   },
   {
    "duration": 5,
    "start_time": "2021-06-14T19:01:35.192Z"
   },
   {
    "duration": 13,
    "start_time": "2021-06-14T19:03:02.642Z"
   },
   {
    "duration": 312,
    "start_time": "2021-06-14T19:03:08.908Z"
   },
   {
    "duration": 555,
    "start_time": "2021-06-14T19:03:16.364Z"
   },
   {
    "duration": 84,
    "start_time": "2021-06-14T19:04:16.679Z"
   },
   {
    "duration": 486,
    "start_time": "2021-06-14T19:10:08.357Z"
   },
   {
    "duration": 11,
    "start_time": "2021-06-14T19:10:23.185Z"
   },
   {
    "duration": 5,
    "start_time": "2021-06-14T19:11:51.071Z"
   },
   {
    "duration": 489,
    "start_time": "2021-06-14T19:11:54.284Z"
   },
   {
    "duration": 12,
    "start_time": "2021-06-14T19:12:01.411Z"
   },
   {
    "duration": 793,
    "start_time": "2021-06-14T19:12:29.931Z"
   },
   {
    "duration": 73,
    "start_time": "2021-06-14T19:14:04.846Z"
   },
   {
    "duration": 24,
    "start_time": "2021-06-14T19:14:30.217Z"
   },
   {
    "duration": 11,
    "start_time": "2021-06-14T19:14:39.336Z"
   },
   {
    "duration": 1766,
    "start_time": "2021-06-14T19:14:58.245Z"
   },
   {
    "duration": 1847,
    "start_time": "2021-06-14T19:15:07.215Z"
   },
   {
    "duration": 98,
    "start_time": "2021-06-14T19:15:24.357Z"
   },
   {
    "duration": 9,
    "start_time": "2021-06-14T19:15:32.212Z"
   },
   {
    "duration": 9,
    "start_time": "2021-06-14T19:15:40.010Z"
   },
   {
    "duration": 9,
    "start_time": "2021-06-14T19:16:56.687Z"
   },
   {
    "duration": 11,
    "start_time": "2021-06-14T19:16:59.234Z"
   },
   {
    "duration": 11,
    "start_time": "2021-06-14T19:17:13.501Z"
   },
   {
    "duration": 312,
    "start_time": "2021-06-14T19:17:27.053Z"
   },
   {
    "duration": 5,
    "start_time": "2021-06-14T19:17:27.368Z"
   },
   {
    "duration": 31,
    "start_time": "2021-06-14T19:17:27.375Z"
   },
   {
    "duration": 22,
    "start_time": "2021-06-14T19:17:27.409Z"
   },
   {
    "duration": 25,
    "start_time": "2021-06-14T19:17:27.434Z"
   },
   {
    "duration": 23,
    "start_time": "2021-06-14T19:17:27.461Z"
   },
   {
    "duration": 95,
    "start_time": "2021-06-14T19:17:27.487Z"
   },
   {
    "duration": 13,
    "start_time": "2021-06-14T19:17:27.586Z"
   },
   {
    "duration": 17,
    "start_time": "2021-06-14T19:17:27.602Z"
   },
   {
    "duration": 21,
    "start_time": "2021-06-14T19:17:27.621Z"
   },
   {
    "duration": 69,
    "start_time": "2021-06-14T19:17:27.644Z"
   },
   {
    "duration": 89,
    "start_time": "2021-06-14T19:17:27.715Z"
   },
   {
    "duration": 5,
    "start_time": "2021-06-14T19:17:27.807Z"
   },
   {
    "duration": 92,
    "start_time": "2021-06-14T19:17:27.815Z"
   },
   {
    "duration": 8191,
    "start_time": "2021-06-14T19:17:27.910Z"
   },
   {
    "duration": 6,
    "start_time": "2021-06-14T19:17:36.104Z"
   },
   {
    "duration": 17,
    "start_time": "2021-06-14T19:17:36.113Z"
   },
   {
    "duration": 26,
    "start_time": "2021-06-14T19:17:36.133Z"
   },
   {
    "duration": 15,
    "start_time": "2021-06-14T19:17:36.162Z"
   },
   {
    "duration": 95,
    "start_time": "2021-06-14T19:17:36.180Z"
   },
   {
    "duration": 8352,
    "start_time": "2021-06-14T19:17:36.278Z"
   },
   {
    "duration": 22,
    "start_time": "2021-06-14T19:17:44.632Z"
   },
   {
    "duration": 6,
    "start_time": "2021-06-14T19:17:44.660Z"
   },
   {
    "duration": 9,
    "start_time": "2021-06-14T19:17:44.670Z"
   },
   {
    "duration": 10,
    "start_time": "2021-06-14T19:17:44.681Z"
   },
   {
    "duration": 11,
    "start_time": "2021-06-14T19:17:44.693Z"
   },
   {
    "duration": 4,
    "start_time": "2021-06-14T19:17:44.706Z"
   },
   {
    "duration": 51,
    "start_time": "2021-06-14T19:17:44.712Z"
   },
   {
    "duration": 10,
    "start_time": "2021-06-14T19:17:44.766Z"
   },
   {
    "duration": 28,
    "start_time": "2021-06-14T19:17:44.779Z"
   },
   {
    "duration": 7,
    "start_time": "2021-06-14T19:17:44.810Z"
   },
   {
    "duration": 37,
    "start_time": "2021-06-14T19:17:44.820Z"
   },
   {
    "duration": 6,
    "start_time": "2021-06-14T19:17:44.859Z"
   },
   {
    "duration": 10,
    "start_time": "2021-06-14T19:17:44.867Z"
   },
   {
    "duration": 13,
    "start_time": "2021-06-14T19:17:44.880Z"
   },
   {
    "duration": 8,
    "start_time": "2021-06-14T19:17:44.895Z"
   },
   {
    "duration": 7,
    "start_time": "2021-06-14T19:17:44.905Z"
   },
   {
    "duration": 42,
    "start_time": "2021-06-14T19:17:44.915Z"
   },
   {
    "duration": 29,
    "start_time": "2021-06-14T19:17:44.960Z"
   },
   {
    "duration": 4,
    "start_time": "2021-06-14T19:17:44.991Z"
   },
   {
    "duration": 38968,
    "start_time": "2021-06-14T19:17:44.998Z"
   },
   {
    "duration": 6,
    "start_time": "2021-06-14T19:18:23.968Z"
   },
   {
    "duration": 7,
    "start_time": "2021-06-14T19:18:23.977Z"
   },
   {
    "duration": 69,
    "start_time": "2021-06-14T19:18:23.987Z"
   },
   {
    "duration": 758,
    "start_time": "2021-06-14T19:18:24.059Z"
   },
   {
    "duration": 337,
    "start_time": "2021-06-14T19:18:24.820Z"
   },
   {
    "duration": 12,
    "start_time": "2021-06-14T19:18:25.159Z"
   },
   {
    "duration": 38,
    "start_time": "2021-06-14T19:18:25.174Z"
   },
   {
    "duration": 41,
    "start_time": "2021-06-14T19:18:25.215Z"
   },
   {
    "duration": 62,
    "start_time": "2021-06-14T19:18:25.259Z"
   },
   {
    "duration": 576,
    "start_time": "2021-06-14T19:18:25.324Z"
   },
   {
    "duration": 605,
    "start_time": "2021-06-14T19:18:25.902Z"
   },
   {
    "duration": 13,
    "start_time": "2021-06-14T19:18:26.509Z"
   },
   {
    "duration": 548,
    "start_time": "2021-06-14T19:18:26.525Z"
   },
   {
    "duration": 5,
    "start_time": "2021-06-14T19:18:27.075Z"
   },
   {
    "duration": 1000,
    "start_time": "2021-06-14T19:18:27.082Z"
   },
   {
    "duration": 8,
    "start_time": "2021-06-14T19:18:28.085Z"
   },
   {
    "duration": 24,
    "start_time": "2021-06-14T19:18:28.095Z"
   },
   {
    "duration": 17,
    "start_time": "2021-06-14T19:18:28.121Z"
   },
   {
    "duration": 553,
    "start_time": "2021-06-14T19:18:28.154Z"
   },
   {
    "duration": 560,
    "start_time": "2021-06-14T19:18:28.710Z"
   },
   {
    "duration": 10,
    "start_time": "2021-06-14T19:18:29.273Z"
   },
   {
    "duration": 460,
    "start_time": "2021-06-14T19:18:29.286Z"
   },
   {
    "duration": 18,
    "start_time": "2021-06-14T19:18:29.750Z"
   },
   {
    "duration": 52,
    "start_time": "2021-06-14T19:18:29.771Z"
   },
   {
    "duration": 302,
    "start_time": "2021-06-14T19:18:29.826Z"
   },
   {
    "duration": 37,
    "start_time": "2021-06-14T19:18:30.130Z"
   },
   {
    "duration": 369,
    "start_time": "2021-06-14T19:18:30.175Z"
   },
   {
    "duration": -254,
    "start_time": "2021-06-14T19:18:30.801Z"
   },
   {
    "duration": -260,
    "start_time": "2021-06-14T19:18:30.808Z"
   },
   {
    "duration": -267,
    "start_time": "2021-06-14T19:18:30.817Z"
   },
   {
    "duration": -273,
    "start_time": "2021-06-14T19:18:30.824Z"
   },
   {
    "duration": -278,
    "start_time": "2021-06-14T19:18:30.831Z"
   },
   {
    "duration": -284,
    "start_time": "2021-06-14T19:18:30.838Z"
   },
   {
    "duration": 1095,
    "start_time": "2021-06-15T06:58:09.842Z"
   },
   {
    "duration": 11,
    "start_time": "2021-06-15T06:58:10.940Z"
   },
   {
    "duration": 16,
    "start_time": "2021-06-15T06:58:10.954Z"
   },
   {
    "duration": 41,
    "start_time": "2021-06-15T06:58:10.974Z"
   },
   {
    "duration": 10,
    "start_time": "2021-06-15T06:58:11.018Z"
   },
   {
    "duration": 8,
    "start_time": "2021-06-15T06:58:11.031Z"
   },
   {
    "duration": 123,
    "start_time": "2021-06-15T06:58:11.042Z"
   },
   {
    "duration": 14,
    "start_time": "2021-06-15T06:58:11.167Z"
   },
   {
    "duration": 7,
    "start_time": "2021-06-15T06:58:11.203Z"
   },
   {
    "duration": 6,
    "start_time": "2021-06-15T06:58:11.214Z"
   },
   {
    "duration": 91,
    "start_time": "2021-06-15T06:58:11.223Z"
   },
   {
    "duration": 92,
    "start_time": "2021-06-15T06:58:11.316Z"
   },
   {
    "duration": 6,
    "start_time": "2021-06-15T06:58:11.411Z"
   },
   {
    "duration": 108,
    "start_time": "2021-06-15T06:58:11.419Z"
   },
   {
    "duration": 8493,
    "start_time": "2021-06-15T06:58:11.531Z"
   },
   {
    "duration": 6,
    "start_time": "2021-06-15T06:58:20.026Z"
   },
   {
    "duration": 15,
    "start_time": "2021-06-15T06:58:20.035Z"
   },
   {
    "duration": 10,
    "start_time": "2021-06-15T06:58:20.053Z"
   },
   {
    "duration": 42,
    "start_time": "2021-06-15T06:58:20.066Z"
   },
   {
    "duration": 105,
    "start_time": "2021-06-15T06:58:20.111Z"
   },
   {
    "duration": 8431,
    "start_time": "2021-06-15T06:58:20.219Z"
   },
   {
    "duration": 6,
    "start_time": "2021-06-15T06:58:28.652Z"
   },
   {
    "duration": 8,
    "start_time": "2021-06-15T06:58:28.661Z"
   },
   {
    "duration": 31,
    "start_time": "2021-06-15T06:58:28.672Z"
   },
   {
    "duration": 13,
    "start_time": "2021-06-15T06:58:28.706Z"
   },
   {
    "duration": 8,
    "start_time": "2021-06-15T06:58:28.721Z"
   },
   {
    "duration": 4,
    "start_time": "2021-06-15T06:58:28.736Z"
   },
   {
    "duration": 19,
    "start_time": "2021-06-15T06:58:28.744Z"
   },
   {
    "duration": 8,
    "start_time": "2021-06-15T06:58:28.801Z"
   },
   {
    "duration": 34,
    "start_time": "2021-06-15T06:58:28.812Z"
   },
   {
    "duration": 12,
    "start_time": "2021-06-15T06:58:28.848Z"
   },
   {
    "duration": 38,
    "start_time": "2021-06-15T06:58:28.864Z"
   },
   {
    "duration": 6,
    "start_time": "2021-06-15T06:58:28.904Z"
   },
   {
    "duration": 13,
    "start_time": "2021-06-15T06:58:28.913Z"
   },
   {
    "duration": 13,
    "start_time": "2021-06-15T06:58:28.929Z"
   },
   {
    "duration": 8,
    "start_time": "2021-06-15T06:58:28.945Z"
   },
   {
    "duration": 15,
    "start_time": "2021-06-15T06:58:28.955Z"
   },
   {
    "duration": 31,
    "start_time": "2021-06-15T06:58:28.973Z"
   },
   {
    "duration": 35,
    "start_time": "2021-06-15T06:58:29.007Z"
   },
   {
    "duration": 5,
    "start_time": "2021-06-15T06:58:29.044Z"
   },
   {
    "duration": 37308,
    "start_time": "2021-06-15T06:58:29.052Z"
   },
   {
    "duration": 7,
    "start_time": "2021-06-15T06:59:06.363Z"
   },
   {
    "duration": 11,
    "start_time": "2021-06-15T06:59:06.373Z"
   },
   {
    "duration": 57,
    "start_time": "2021-06-15T06:59:06.402Z"
   },
   {
    "duration": 1291,
    "start_time": "2021-06-15T06:59:06.462Z"
   },
   {
    "duration": 479,
    "start_time": "2021-06-15T06:59:07.757Z"
   },
   {
    "duration": 17,
    "start_time": "2021-06-15T06:59:08.239Z"
   },
   {
    "duration": 82,
    "start_time": "2021-06-15T06:59:08.259Z"
   },
   {
    "duration": 12,
    "start_time": "2021-06-15T06:59:08.344Z"
   },
   {
    "duration": 180,
    "start_time": "2021-06-15T06:59:08.359Z"
   },
   {
    "duration": 949,
    "start_time": "2021-06-15T06:59:08.542Z"
   },
   {
    "duration": 630,
    "start_time": "2021-06-15T06:59:09.501Z"
   },
   {
    "duration": 13,
    "start_time": "2021-06-15T06:59:10.134Z"
   },
   {
    "duration": 561,
    "start_time": "2021-06-15T06:59:10.149Z"
   },
   {
    "duration": 5,
    "start_time": "2021-06-15T06:59:10.713Z"
   },
   {
    "duration": 759,
    "start_time": "2021-06-15T06:59:10.720Z"
   },
   {
    "duration": 20,
    "start_time": "2021-06-15T06:59:11.482Z"
   },
   {
    "duration": 13,
    "start_time": "2021-06-15T06:59:11.504Z"
   },
   {
    "duration": 11,
    "start_time": "2021-06-15T06:59:11.520Z"
   },
   {
    "duration": 583,
    "start_time": "2021-06-15T06:59:11.534Z"
   },
   {
    "duration": 543,
    "start_time": "2021-06-15T06:59:12.119Z"
   },
   {
    "duration": 8,
    "start_time": "2021-06-15T06:59:12.664Z"
   },
   {
    "duration": 416,
    "start_time": "2021-06-15T06:59:12.674Z"
   },
   {
    "duration": 17,
    "start_time": "2021-06-15T06:59:13.093Z"
   },
   {
    "duration": 13,
    "start_time": "2021-06-15T06:59:13.113Z"
   },
   {
    "duration": 345,
    "start_time": "2021-06-15T06:59:13.129Z"
   },
   {
    "duration": 40,
    "start_time": "2021-06-15T06:59:13.477Z"
   },
   {
    "duration": 417,
    "start_time": "2021-06-15T06:59:13.520Z"
   },
   {
    "duration": 697,
    "start_time": "2021-06-15T06:59:13.243Z"
   },
   {
    "duration": 682,
    "start_time": "2021-06-15T06:59:13.260Z"
   },
   {
    "duration": 667,
    "start_time": "2021-06-15T06:59:13.276Z"
   },
   {
    "duration": 653,
    "start_time": "2021-06-15T06:59:13.292Z"
   },
   {
    "duration": 638,
    "start_time": "2021-06-15T06:59:13.308Z"
   },
   {
    "duration": 623,
    "start_time": "2021-06-15T06:59:13.325Z"
   },
   {
    "duration": 292,
    "start_time": "2021-06-15T07:01:03.348Z"
   },
   {
    "duration": 13,
    "start_time": "2021-06-15T07:01:09.865Z"
   },
   {
    "duration": 14,
    "start_time": "2021-06-15T07:01:10.180Z"
   },
   {
    "duration": 592,
    "start_time": "2021-06-15T07:01:29.508Z"
   },
   {
    "duration": 514,
    "start_time": "2021-06-15T07:05:08.152Z"
   },
   {
    "duration": 778,
    "start_time": "2021-06-15T07:12:13.704Z"
   },
   {
    "duration": 732,
    "start_time": "2021-06-15T07:12:21.784Z"
   },
   {
    "duration": 578,
    "start_time": "2021-06-15T07:12:43.170Z"
   },
   {
    "duration": 713,
    "start_time": "2021-06-15T07:13:08.244Z"
   },
   {
    "duration": 60,
    "start_time": "2021-06-15T07:29:14.501Z"
   },
   {
    "duration": 258,
    "start_time": "2021-06-15T07:30:12.032Z"
   },
   {
    "duration": 10,
    "start_time": "2021-06-15T07:30:22.375Z"
   },
   {
    "duration": 6303,
    "start_time": "2021-06-15T07:30:37.143Z"
   },
   {
    "duration": 90,
    "start_time": "2021-06-15T07:31:45.799Z"
   },
   {
    "duration": 389,
    "start_time": "2021-06-15T07:31:52.570Z"
   },
   {
    "duration": 364,
    "start_time": "2021-06-15T07:32:07.008Z"
   },
   {
    "duration": 295,
    "start_time": "2021-06-15T07:32:15.890Z"
   },
   {
    "duration": 15,
    "start_time": "2021-06-15T07:32:16.188Z"
   },
   {
    "duration": 17,
    "start_time": "2021-06-15T07:32:16.206Z"
   },
   {
    "duration": 12,
    "start_time": "2021-06-15T07:32:16.226Z"
   },
   {
    "duration": 7,
    "start_time": "2021-06-15T07:32:16.240Z"
   },
   {
    "duration": 53,
    "start_time": "2021-06-15T07:32:16.250Z"
   },
   {
    "duration": 107,
    "start_time": "2021-06-15T07:32:16.306Z"
   },
   {
    "duration": 11,
    "start_time": "2021-06-15T07:32:16.417Z"
   },
   {
    "duration": 5,
    "start_time": "2021-06-15T07:32:16.431Z"
   },
   {
    "duration": 7,
    "start_time": "2021-06-15T07:32:16.438Z"
   },
   {
    "duration": 90,
    "start_time": "2021-06-15T07:32:16.448Z"
   },
   {
    "duration": 95,
    "start_time": "2021-06-15T07:32:16.541Z"
   },
   {
    "duration": 5,
    "start_time": "2021-06-15T07:32:16.639Z"
   },
   {
    "duration": 104,
    "start_time": "2021-06-15T07:32:16.646Z"
   },
   {
    "duration": 8090,
    "start_time": "2021-06-15T07:32:16.752Z"
   },
   {
    "duration": 6,
    "start_time": "2021-06-15T07:32:24.844Z"
   },
   {
    "duration": 13,
    "start_time": "2021-06-15T07:32:24.852Z"
   },
   {
    "duration": 6,
    "start_time": "2021-06-15T07:32:24.867Z"
   },
   {
    "duration": 27,
    "start_time": "2021-06-15T07:32:24.875Z"
   },
   {
    "duration": 96,
    "start_time": "2021-06-15T07:32:24.905Z"
   },
   {
    "duration": 8247,
    "start_time": "2021-06-15T07:32:25.003Z"
   },
   {
    "duration": 5,
    "start_time": "2021-06-15T07:32:33.253Z"
   },
   {
    "duration": 6,
    "start_time": "2021-06-15T07:32:33.264Z"
   },
   {
    "duration": 28,
    "start_time": "2021-06-15T07:32:33.274Z"
   },
   {
    "duration": 11,
    "start_time": "2021-06-15T07:32:33.304Z"
   },
   {
    "duration": 7,
    "start_time": "2021-06-15T07:32:33.317Z"
   },
   {
    "duration": 4,
    "start_time": "2021-06-15T07:32:33.326Z"
   },
   {
    "duration": 19,
    "start_time": "2021-06-15T07:32:33.332Z"
   },
   {
    "duration": 50,
    "start_time": "2021-06-15T07:32:33.353Z"
   },
   {
    "duration": 24,
    "start_time": "2021-06-15T07:32:33.406Z"
   },
   {
    "duration": 6,
    "start_time": "2021-06-15T07:32:33.433Z"
   },
   {
    "duration": 17,
    "start_time": "2021-06-15T07:32:33.442Z"
   },
   {
    "duration": 5,
    "start_time": "2021-06-15T07:32:33.462Z"
   },
   {
    "duration": 7,
    "start_time": "2021-06-15T07:32:33.501Z"
   },
   {
    "duration": 14,
    "start_time": "2021-06-15T07:32:33.510Z"
   },
   {
    "duration": 14,
    "start_time": "2021-06-15T07:32:33.526Z"
   },
   {
    "duration": 12,
    "start_time": "2021-06-15T07:32:33.542Z"
   },
   {
    "duration": 10,
    "start_time": "2021-06-15T07:32:33.557Z"
   },
   {
    "duration": 55,
    "start_time": "2021-06-15T07:32:33.570Z"
   },
   {
    "duration": 4,
    "start_time": "2021-06-15T07:32:33.628Z"
   },
   {
    "duration": 36932,
    "start_time": "2021-06-15T07:32:33.634Z"
   },
   {
    "duration": 6,
    "start_time": "2021-06-15T07:33:10.569Z"
   },
   {
    "duration": 24,
    "start_time": "2021-06-15T07:33:10.578Z"
   },
   {
    "duration": 38,
    "start_time": "2021-06-15T07:33:10.604Z"
   },
   {
    "duration": 715,
    "start_time": "2021-06-15T07:33:10.645Z"
   },
   {
    "duration": 333,
    "start_time": "2021-06-15T07:33:11.363Z"
   },
   {
    "duration": 12,
    "start_time": "2021-06-15T07:33:11.701Z"
   },
   {
    "duration": 38,
    "start_time": "2021-06-15T07:33:11.715Z"
   },
   {
    "duration": 8,
    "start_time": "2021-06-15T07:33:11.756Z"
   },
   {
    "duration": 62,
    "start_time": "2021-06-15T07:33:11.801Z"
   },
   {
    "duration": 590,
    "start_time": "2021-06-15T07:33:11.866Z"
   },
   {
    "duration": 647,
    "start_time": "2021-06-15T07:33:12.458Z"
   },
   {
    "duration": 12,
    "start_time": "2021-06-15T07:33:13.108Z"
   },
   {
    "duration": 547,
    "start_time": "2021-06-15T07:33:13.123Z"
   },
   {
    "duration": 4,
    "start_time": "2021-06-15T07:33:13.673Z"
   },
   {
    "duration": 721,
    "start_time": "2021-06-15T07:33:13.680Z"
   },
   {
    "duration": 8,
    "start_time": "2021-06-15T07:33:14.403Z"
   },
   {
    "duration": 24,
    "start_time": "2021-06-15T07:33:14.413Z"
   },
   {
    "duration": 22,
    "start_time": "2021-06-15T07:33:14.439Z"
   },
   {
    "duration": 11,
    "start_time": "2021-06-15T07:33:14.465Z"
   },
   {
    "duration": 668,
    "start_time": "2021-06-15T07:33:14.500Z"
   },
   {
    "duration": 738,
    "start_time": "2021-06-15T07:33:15.171Z"
   },
   {
    "duration": 285,
    "start_time": "2021-06-15T07:33:15.912Z"
   },
   {
    "duration": 608,
    "start_time": "2021-06-15T07:33:15.593Z"
   },
   {
    "duration": 595,
    "start_time": "2021-06-15T07:33:15.607Z"
   },
   {
    "duration": 579,
    "start_time": "2021-06-15T07:33:15.624Z"
   },
   {
    "duration": 566,
    "start_time": "2021-06-15T07:33:15.638Z"
   },
   {
    "duration": 552,
    "start_time": "2021-06-15T07:33:15.654Z"
   },
   {
    "duration": 539,
    "start_time": "2021-06-15T07:33:15.668Z"
   },
   {
    "duration": 403,
    "start_time": "2021-06-15T07:33:15.805Z"
   },
   {
    "duration": 387,
    "start_time": "2021-06-15T07:33:15.822Z"
   },
   {
    "duration": 374,
    "start_time": "2021-06-15T07:33:15.836Z"
   },
   {
    "duration": 362,
    "start_time": "2021-06-15T07:33:15.850Z"
   },
   {
    "duration": 347,
    "start_time": "2021-06-15T07:33:15.866Z"
   },
   {
    "duration": 334,
    "start_time": "2021-06-15T07:33:15.880Z"
   },
   {
    "duration": 287,
    "start_time": "2021-06-15T07:33:15.928Z"
   },
   {
    "duration": 374,
    "start_time": "2021-06-15T07:41:37.743Z"
   },
   {
    "duration": 281,
    "start_time": "2021-06-15T07:42:23.358Z"
   },
   {
    "duration": 308,
    "start_time": "2021-06-15T07:43:23.328Z"
   },
   {
    "duration": 38,
    "start_time": "2021-06-15T07:43:37.209Z"
   },
   {
    "duration": 98,
    "start_time": "2021-06-15T07:43:56.168Z"
   },
   {
    "duration": 5412,
    "start_time": "2021-06-15T07:43:59.692Z"
   },
   {
    "duration": 72,
    "start_time": "2021-06-15T07:44:14.510Z"
   },
   {
    "duration": 7483,
    "start_time": "2021-06-15T07:45:27.902Z"
   },
   {
    "duration": 9,
    "start_time": "2021-06-15T07:46:04.172Z"
   },
   {
    "duration": 452,
    "start_time": "2021-06-15T07:46:32.824Z"
   },
   {
    "duration": 10,
    "start_time": "2021-06-15T07:46:58.640Z"
   },
   {
    "duration": 8,
    "start_time": "2021-06-15T07:47:15.773Z"
   },
   {
    "duration": 10,
    "start_time": "2021-06-15T07:47:32.903Z"
   },
   {
    "duration": 11,
    "start_time": "2021-06-15T07:47:47.905Z"
   },
   {
    "duration": 10,
    "start_time": "2021-06-15T07:48:14.801Z"
   },
   {
    "duration": 11,
    "start_time": "2021-06-15T07:48:18.644Z"
   },
   {
    "duration": 7,
    "start_time": "2021-06-15T07:48:38.663Z"
   },
   {
    "duration": 9,
    "start_time": "2021-06-15T07:48:41.795Z"
   },
   {
    "duration": 7,
    "start_time": "2021-06-15T07:49:35.211Z"
   },
   {
    "duration": 8,
    "start_time": "2021-06-15T07:49:36.281Z"
   },
   {
    "duration": 415,
    "start_time": "2021-06-15T07:49:58.335Z"
   },
   {
    "duration": 10,
    "start_time": "2021-06-15T07:50:09.663Z"
   },
   {
    "duration": 8,
    "start_time": "2021-06-15T07:50:11.894Z"
   },
   {
    "duration": 7,
    "start_time": "2021-06-15T07:50:19.126Z"
   },
   {
    "duration": 354,
    "start_time": "2021-06-15T07:50:31.264Z"
   },
   {
    "duration": 6,
    "start_time": "2021-06-15T07:50:31.620Z"
   },
   {
    "duration": 34,
    "start_time": "2021-06-15T07:50:31.629Z"
   },
   {
    "duration": 18,
    "start_time": "2021-06-15T07:50:31.666Z"
   },
   {
    "duration": 9,
    "start_time": "2021-06-15T07:50:31.702Z"
   },
   {
    "duration": 10,
    "start_time": "2021-06-15T07:50:31.714Z"
   },
   {
    "duration": 140,
    "start_time": "2021-06-15T07:50:31.727Z"
   },
   {
    "duration": 33,
    "start_time": "2021-06-15T07:50:31.871Z"
   },
   {
    "duration": 7,
    "start_time": "2021-06-15T07:50:31.908Z"
   },
   {
    "duration": 14,
    "start_time": "2021-06-15T07:50:31.918Z"
   },
   {
    "duration": 123,
    "start_time": "2021-06-15T07:50:31.935Z"
   },
   {
    "duration": 147,
    "start_time": "2021-06-15T07:50:32.062Z"
   },
   {
    "duration": 6,
    "start_time": "2021-06-15T07:50:32.212Z"
   },
   {
    "duration": 137,
    "start_time": "2021-06-15T07:50:32.221Z"
   },
   {
    "duration": 9635,
    "start_time": "2021-06-15T07:50:32.361Z"
   },
   {
    "duration": 6,
    "start_time": "2021-06-15T07:50:41.998Z"
   },
   {
    "duration": 12,
    "start_time": "2021-06-15T07:50:42.007Z"
   },
   {
    "duration": 10,
    "start_time": "2021-06-15T07:50:42.021Z"
   },
   {
    "duration": 6,
    "start_time": "2021-06-15T07:50:42.034Z"
   },
   {
    "duration": 59,
    "start_time": "2021-06-15T07:50:42.042Z"
   },
   {
    "duration": 80,
    "start_time": "2021-06-15T07:50:42.103Z"
   },
   {
    "duration": 8673,
    "start_time": "2021-06-15T07:50:42.185Z"
   },
   {
    "duration": 6,
    "start_time": "2021-06-15T07:50:50.864Z"
   },
   {
    "duration": 16,
    "start_time": "2021-06-15T07:50:50.873Z"
   },
   {
    "duration": 7,
    "start_time": "2021-06-15T07:50:50.900Z"
   },
   {
    "duration": 20,
    "start_time": "2021-06-15T07:50:50.909Z"
   },
   {
    "duration": 27,
    "start_time": "2021-06-15T07:50:50.932Z"
   },
   {
    "duration": 18,
    "start_time": "2021-06-15T07:50:50.961Z"
   },
   {
    "duration": 24,
    "start_time": "2021-06-15T07:50:50.981Z"
   },
   {
    "duration": 19,
    "start_time": "2021-06-15T07:50:51.007Z"
   },
   {
    "duration": 38,
    "start_time": "2021-06-15T07:50:51.029Z"
   },
   {
    "duration": 22,
    "start_time": "2021-06-15T07:50:51.069Z"
   },
   {
    "duration": 39,
    "start_time": "2021-06-15T07:50:51.093Z"
   },
   {
    "duration": 5,
    "start_time": "2021-06-15T07:50:51.135Z"
   },
   {
    "duration": 14,
    "start_time": "2021-06-15T07:50:51.142Z"
   },
   {
    "duration": 23,
    "start_time": "2021-06-15T07:50:51.159Z"
   },
   {
    "duration": 27,
    "start_time": "2021-06-15T07:50:51.184Z"
   },
   {
    "duration": 19,
    "start_time": "2021-06-15T07:50:51.214Z"
   },
   {
    "duration": 22,
    "start_time": "2021-06-15T07:50:51.235Z"
   },
   {
    "duration": 45,
    "start_time": "2021-06-15T07:50:51.259Z"
   },
   {
    "duration": 4,
    "start_time": "2021-06-15T07:50:51.306Z"
   },
   {
    "duration": 37047,
    "start_time": "2021-06-15T07:50:51.313Z"
   },
   {
    "duration": 5,
    "start_time": "2021-06-15T07:51:28.363Z"
   },
   {
    "duration": 14,
    "start_time": "2021-06-15T07:51:28.370Z"
   },
   {
    "duration": 47,
    "start_time": "2021-06-15T07:51:28.387Z"
   },
   {
    "duration": 771,
    "start_time": "2021-06-15T07:51:28.436Z"
   },
   {
    "duration": 324,
    "start_time": "2021-06-15T07:51:29.210Z"
   },
   {
    "duration": 11,
    "start_time": "2021-06-15T07:51:29.537Z"
   },
   {
    "duration": 61,
    "start_time": "2021-06-15T07:51:29.550Z"
   },
   {
    "duration": 9,
    "start_time": "2021-06-15T07:51:29.614Z"
   },
   {
    "duration": 88,
    "start_time": "2021-06-15T07:51:29.626Z"
   },
   {
    "duration": 583,
    "start_time": "2021-06-15T07:51:29.717Z"
   },
   {
    "duration": 635,
    "start_time": "2021-06-15T07:51:30.303Z"
   },
   {
    "duration": 13,
    "start_time": "2021-06-15T07:51:30.941Z"
   },
   {
    "duration": 660,
    "start_time": "2021-06-15T07:51:30.956Z"
   },
   {
    "duration": 5,
    "start_time": "2021-06-15T07:51:31.619Z"
   },
   {
    "duration": 902,
    "start_time": "2021-06-15T07:51:31.626Z"
   },
   {
    "duration": 9,
    "start_time": "2021-06-15T07:51:32.530Z"
   },
   {
    "duration": 15,
    "start_time": "2021-06-15T07:51:32.541Z"
   },
   {
    "duration": 16,
    "start_time": "2021-06-15T07:51:32.558Z"
   },
   {
    "duration": 12,
    "start_time": "2021-06-15T07:51:32.601Z"
   },
   {
    "duration": 564,
    "start_time": "2021-06-15T07:51:32.615Z"
   },
   {
    "duration": 739,
    "start_time": "2021-06-15T07:51:33.181Z"
   },
   {
    "duration": 85,
    "start_time": "2021-06-15T07:51:33.924Z"
   },
   {
    "duration": 304,
    "start_time": "2021-06-15T07:51:34.012Z"
   },
   {
    "duration": 561,
    "start_time": "2021-06-15T07:51:33.760Z"
   },
   {
    "duration": 547,
    "start_time": "2021-06-15T07:51:33.776Z"
   },
   {
    "duration": 534,
    "start_time": "2021-06-15T07:51:33.791Z"
   },
   {
    "duration": 520,
    "start_time": "2021-06-15T07:51:33.807Z"
   },
   {
    "duration": 507,
    "start_time": "2021-06-15T07:51:33.822Z"
   },
   {
    "duration": 494,
    "start_time": "2021-06-15T07:51:33.838Z"
   },
   {
    "duration": 457,
    "start_time": "2021-06-15T07:51:33.877Z"
   },
   {
    "duration": 442,
    "start_time": "2021-06-15T07:51:33.895Z"
   },
   {
    "duration": 429,
    "start_time": "2021-06-15T07:51:33.910Z"
   },
   {
    "duration": 415,
    "start_time": "2021-06-15T07:51:33.926Z"
   },
   {
    "duration": 402,
    "start_time": "2021-06-15T07:51:33.941Z"
   },
   {
    "duration": 388,
    "start_time": "2021-06-15T07:51:33.957Z"
   },
   {
    "duration": 374,
    "start_time": "2021-06-15T07:51:33.974Z"
   },
   {
    "duration": 323,
    "start_time": "2021-06-15T07:52:36.813Z"
   },
   {
    "duration": 702,
    "start_time": "2021-06-15T07:52:59.751Z"
   },
   {
    "duration": 29,
    "start_time": "2021-06-15T07:53:22.475Z"
   },
   {
    "duration": 63,
    "start_time": "2021-06-15T07:53:39.758Z"
   },
   {
    "duration": 6223,
    "start_time": "2021-06-15T07:54:23.947Z"
   },
   {
    "duration": 8,
    "start_time": "2021-06-15T07:54:32.760Z"
   },
   {
    "duration": 12,
    "start_time": "2021-06-15T07:56:10.392Z"
   },
   {
    "duration": 11,
    "start_time": "2021-06-15T07:58:12.980Z"
   },
   {
    "duration": 9,
    "start_time": "2021-06-15T07:58:15.812Z"
   },
   {
    "duration": 825,
    "start_time": "2021-06-15T07:58:51.002Z"
   },
   {
    "duration": 61,
    "start_time": "2021-06-15T07:59:21.110Z"
   },
   {
    "duration": 62,
    "start_time": "2021-06-15T08:01:29.784Z"
   },
   {
    "duration": 56,
    "start_time": "2021-06-15T08:01:52.524Z"
   },
   {
    "duration": 56,
    "start_time": "2021-06-15T08:04:17.246Z"
   },
   {
    "duration": 14,
    "start_time": "2021-06-15T08:04:36.359Z"
   },
   {
    "duration": 27,
    "start_time": "2021-06-15T08:04:48.656Z"
   },
   {
    "duration": 55,
    "start_time": "2021-06-15T08:05:07.667Z"
   },
   {
    "duration": 78,
    "start_time": "2021-06-15T08:05:26.876Z"
   },
   {
    "duration": 13,
    "start_time": "2021-06-15T08:05:53.685Z"
   },
   {
    "duration": 11,
    "start_time": "2021-06-15T08:05:59.670Z"
   },
   {
    "duration": 12,
    "start_time": "2021-06-15T08:06:09.944Z"
   },
   {
    "duration": 12,
    "start_time": "2021-06-15T08:09:09.484Z"
   },
   {
    "duration": 38,
    "start_time": "2021-06-15T08:09:19.123Z"
   },
   {
    "duration": 5,
    "start_time": "2021-06-15T08:09:28.118Z"
   },
   {
    "duration": 551,
    "start_time": "2021-06-15T08:12:35.594Z"
   },
   {
    "duration": 62,
    "start_time": "2021-06-15T08:13:11.962Z"
   },
   {
    "duration": 13,
    "start_time": "2021-06-15T08:17:12.940Z"
   },
   {
    "duration": 418,
    "start_time": "2021-06-15T08:18:02.638Z"
   },
   {
    "duration": 680,
    "start_time": "2021-06-15T08:18:26.736Z"
   },
   {
    "duration": 291,
    "start_time": "2021-06-15T08:19:05.259Z"
   },
   {
    "duration": 514,
    "start_time": "2021-06-15T08:19:21.005Z"
   },
   {
    "duration": 259,
    "start_time": "2021-06-15T08:19:27.403Z"
   },
   {
    "duration": 5,
    "start_time": "2021-06-15T08:19:27.664Z"
   },
   {
    "duration": 40,
    "start_time": "2021-06-15T08:19:27.672Z"
   },
   {
    "duration": 13,
    "start_time": "2021-06-15T08:19:27.714Z"
   },
   {
    "duration": 6,
    "start_time": "2021-06-15T08:19:27.730Z"
   },
   {
    "duration": 8,
    "start_time": "2021-06-15T08:19:27.739Z"
   },
   {
    "duration": 129,
    "start_time": "2021-06-15T08:19:27.749Z"
   },
   {
    "duration": 33,
    "start_time": "2021-06-15T08:19:27.880Z"
   },
   {
    "duration": 5,
    "start_time": "2021-06-15T08:19:27.917Z"
   },
   {
    "duration": 10,
    "start_time": "2021-06-15T08:19:27.926Z"
   },
   {
    "duration": 100,
    "start_time": "2021-06-15T08:19:27.938Z"
   },
   {
    "duration": 98,
    "start_time": "2021-06-15T08:19:28.041Z"
   },
   {
    "duration": 4,
    "start_time": "2021-06-15T08:19:28.141Z"
   },
   {
    "duration": 106,
    "start_time": "2021-06-15T08:19:28.148Z"
   },
   {
    "duration": 13493,
    "start_time": "2021-06-15T08:19:28.257Z"
   },
   {
    "duration": 8,
    "start_time": "2021-06-15T08:19:41.753Z"
   },
   {
    "duration": 36,
    "start_time": "2021-06-15T08:19:41.764Z"
   },
   {
    "duration": 20,
    "start_time": "2021-06-15T08:19:41.803Z"
   },
   {
    "duration": 7,
    "start_time": "2021-06-15T08:19:41.826Z"
   },
   {
    "duration": 18,
    "start_time": "2021-06-15T08:19:41.835Z"
   },
   {
    "duration": 140,
    "start_time": "2021-06-15T08:19:41.856Z"
   },
   {
    "duration": 13647,
    "start_time": "2021-06-15T08:19:42.000Z"
   },
   {
    "duration": 8,
    "start_time": "2021-06-15T08:19:55.651Z"
   },
   {
    "duration": 9,
    "start_time": "2021-06-15T08:19:55.662Z"
   },
   {
    "duration": 34,
    "start_time": "2021-06-15T08:19:55.673Z"
   },
   {
    "duration": 11,
    "start_time": "2021-06-15T08:19:55.710Z"
   },
   {
    "duration": 7,
    "start_time": "2021-06-15T08:19:55.730Z"
   },
   {
    "duration": 5,
    "start_time": "2021-06-15T08:19:55.742Z"
   },
   {
    "duration": 18,
    "start_time": "2021-06-15T08:19:55.800Z"
   },
   {
    "duration": 13,
    "start_time": "2021-06-15T08:19:55.820Z"
   },
   {
    "duration": 29,
    "start_time": "2021-06-15T08:19:55.836Z"
   },
   {
    "duration": 37,
    "start_time": "2021-06-15T08:19:55.868Z"
   },
   {
    "duration": 23,
    "start_time": "2021-06-15T08:19:55.908Z"
   },
   {
    "duration": 6,
    "start_time": "2021-06-15T08:19:55.934Z"
   },
   {
    "duration": 10,
    "start_time": "2021-06-15T08:19:55.944Z"
   },
   {
    "duration": 50,
    "start_time": "2021-06-15T08:19:55.959Z"
   },
   {
    "duration": 8,
    "start_time": "2021-06-15T08:19:56.012Z"
   },
   {
    "duration": 7,
    "start_time": "2021-06-15T08:19:56.022Z"
   },
   {
    "duration": 8,
    "start_time": "2021-06-15T08:19:56.031Z"
   },
   {
    "duration": 73,
    "start_time": "2021-06-15T08:19:56.042Z"
   },
   {
    "duration": 6,
    "start_time": "2021-06-15T08:19:56.118Z"
   },
   {
    "duration": 38721,
    "start_time": "2021-06-15T08:19:56.127Z"
   },
   {
    "duration": 6,
    "start_time": "2021-06-15T08:20:34.850Z"
   },
   {
    "duration": 11,
    "start_time": "2021-06-15T08:20:34.858Z"
   },
   {
    "duration": 61,
    "start_time": "2021-06-15T08:20:34.872Z"
   },
   {
    "duration": 734,
    "start_time": "2021-06-15T08:20:34.936Z"
   },
   {
    "duration": 317,
    "start_time": "2021-06-15T08:20:35.673Z"
   },
   {
    "duration": 18,
    "start_time": "2021-06-15T08:20:35.993Z"
   },
   {
    "duration": 42,
    "start_time": "2021-06-15T08:20:36.014Z"
   },
   {
    "duration": 47,
    "start_time": "2021-06-15T08:20:36.059Z"
   },
   {
    "duration": 64,
    "start_time": "2021-06-15T08:20:36.108Z"
   },
   {
    "duration": 797,
    "start_time": "2021-06-15T08:20:36.175Z"
   },
   {
    "duration": 608,
    "start_time": "2021-06-15T08:20:36.975Z"
   },
   {
    "duration": 23,
    "start_time": "2021-06-15T08:20:37.586Z"
   },
   {
    "duration": 575,
    "start_time": "2021-06-15T08:20:37.611Z"
   },
   {
    "duration": 14,
    "start_time": "2021-06-15T08:20:38.188Z"
   },
   {
    "duration": 755,
    "start_time": "2021-06-15T08:20:38.204Z"
   },
   {
    "duration": 11,
    "start_time": "2021-06-15T08:20:38.961Z"
   },
   {
    "duration": 35,
    "start_time": "2021-06-15T08:20:38.975Z"
   },
   {
    "duration": 12,
    "start_time": "2021-06-15T08:20:39.012Z"
   },
   {
    "duration": 551,
    "start_time": "2021-06-15T08:20:39.027Z"
   },
   {
    "duration": 759,
    "start_time": "2021-06-15T08:20:39.580Z"
   },
   {
    "duration": 8,
    "start_time": "2021-06-15T08:20:40.341Z"
   },
   {
    "duration": 13,
    "start_time": "2021-06-15T08:20:40.351Z"
   },
   {
    "duration": 43,
    "start_time": "2021-06-15T08:20:40.367Z"
   },
   {
    "duration": 10,
    "start_time": "2021-06-15T08:20:40.412Z"
   },
   {
    "duration": 516,
    "start_time": "2021-06-15T08:20:40.425Z"
   },
   {
    "duration": 13,
    "start_time": "2021-06-15T08:20:40.944Z"
   },
   {
    "duration": 487,
    "start_time": "2021-06-15T08:20:40.960Z"
   },
   {
    "duration": 51,
    "start_time": "2021-06-15T08:20:41.451Z"
   },
   {
    "duration": 383,
    "start_time": "2021-06-15T08:20:41.505Z"
   },
   {
    "duration": 695,
    "start_time": "2021-06-15T08:20:41.196Z"
   },
   {
    "duration": 681,
    "start_time": "2021-06-15T08:20:41.212Z"
   },
   {
    "duration": 668,
    "start_time": "2021-06-15T08:20:41.227Z"
   },
   {
    "duration": 653,
    "start_time": "2021-06-15T08:20:41.244Z"
   },
   {
    "duration": 641,
    "start_time": "2021-06-15T08:20:41.259Z"
   },
   {
    "duration": 628,
    "start_time": "2021-06-15T08:20:41.274Z"
   },
   {
    "duration": 23,
    "start_time": "2021-06-15T08:23:52.830Z"
   },
   {
    "duration": 11,
    "start_time": "2021-06-15T08:28:11.211Z"
   },
   {
    "duration": 297,
    "start_time": "2021-06-15T08:28:30.649Z"
   },
   {
    "duration": 714,
    "start_time": "2021-06-15T08:28:55.663Z"
   },
   {
    "duration": 739,
    "start_time": "2021-06-15T08:30:06.134Z"
   },
   {
    "duration": 14,
    "start_time": "2021-06-15T08:31:59.218Z"
   },
   {
    "duration": 937,
    "start_time": "2021-06-15T08:33:53.422Z"
   },
   {
    "duration": 571,
    "start_time": "2021-06-15T08:34:04.276Z"
   },
   {
    "duration": 6,
    "start_time": "2021-06-15T08:34:41.359Z"
   },
   {
    "duration": 6,
    "start_time": "2021-06-15T08:35:01.496Z"
   },
   {
    "duration": 5,
    "start_time": "2021-06-15T08:35:25.778Z"
   },
   {
    "duration": 6,
    "start_time": "2021-06-15T08:35:52.547Z"
   },
   {
    "duration": 5,
    "start_time": "2021-06-15T08:35:58.935Z"
   },
   {
    "duration": 6,
    "start_time": "2021-06-15T08:41:44.831Z"
   },
   {
    "duration": 18,
    "start_time": "2021-06-15T08:41:49.229Z"
   },
   {
    "duration": 15,
    "start_time": "2021-06-15T08:41:59.397Z"
   },
   {
    "duration": 252,
    "start_time": "2021-06-15T08:50:56.650Z"
   },
   {
    "duration": 274,
    "start_time": "2021-06-15T08:52:54.837Z"
   },
   {
    "duration": 4,
    "start_time": "2021-06-15T08:53:39.972Z"
   },
   {
    "duration": 8,
    "start_time": "2021-06-15T08:53:49.757Z"
   },
   {
    "duration": 91,
    "start_time": "2021-06-15T08:54:13.331Z"
   },
   {
    "duration": 15,
    "start_time": "2021-06-15T08:54:18.994Z"
   },
   {
    "duration": 389,
    "start_time": "2021-06-15T08:55:18.900Z"
   },
   {
    "duration": 118,
    "start_time": "2021-06-15T08:55:46.901Z"
   },
   {
    "duration": 33,
    "start_time": "2021-06-15T08:55:57.335Z"
   },
   {
    "duration": 519,
    "start_time": "2021-06-15T08:56:31.328Z"
   },
   {
    "duration": 32,
    "start_time": "2021-06-15T08:56:41.144Z"
   },
   {
    "duration": 32,
    "start_time": "2021-06-15T08:58:51.550Z"
   },
   {
    "duration": 33,
    "start_time": "2021-06-15T08:59:15.523Z"
   },
   {
    "duration": 6,
    "start_time": "2021-06-15T09:02:47.252Z"
   },
   {
    "duration": 55,
    "start_time": "2021-06-15T09:03:48.133Z"
   },
   {
    "duration": 60,
    "start_time": "2021-06-15T09:07:15.278Z"
   },
   {
    "duration": 15,
    "start_time": "2021-06-15T09:07:29.646Z"
   },
   {
    "duration": 15,
    "start_time": "2021-06-15T09:14:34.392Z"
   },
   {
    "duration": 13,
    "start_time": "2021-06-15T09:14:54.067Z"
   },
   {
    "duration": 274,
    "start_time": "2021-06-15T09:15:20.424Z"
   },
   {
    "duration": 11,
    "start_time": "2021-06-15T09:15:44.145Z"
   },
   {
    "duration": 13,
    "start_time": "2021-06-15T09:16:02.709Z"
   },
   {
    "duration": 12,
    "start_time": "2021-06-15T09:16:12.785Z"
   },
   {
    "duration": 12,
    "start_time": "2021-06-15T09:17:55.446Z"
   },
   {
    "duration": 11,
    "start_time": "2021-06-15T09:19:45.701Z"
   },
   {
    "duration": 13,
    "start_time": "2021-06-15T09:20:43.417Z"
   },
   {
    "duration": 36,
    "start_time": "2021-06-15T09:21:45.181Z"
   },
   {
    "duration": 1604,
    "start_time": "2021-06-15T09:21:46.398Z"
   },
   {
    "duration": 387,
    "start_time": "2021-06-15T09:24:01.567Z"
   },
   {
    "duration": 4,
    "start_time": "2021-06-15T09:24:01.957Z"
   },
   {
    "duration": 41,
    "start_time": "2021-06-15T09:24:01.964Z"
   },
   {
    "duration": 11,
    "start_time": "2021-06-15T09:24:02.008Z"
   },
   {
    "duration": 7,
    "start_time": "2021-06-15T09:24:02.021Z"
   },
   {
    "duration": 8,
    "start_time": "2021-06-15T09:24:02.030Z"
   },
   {
    "duration": 123,
    "start_time": "2021-06-15T09:24:02.040Z"
   },
   {
    "duration": 12,
    "start_time": "2021-06-15T09:24:02.166Z"
   },
   {
    "duration": 6,
    "start_time": "2021-06-15T09:24:02.202Z"
   },
   {
    "duration": 9,
    "start_time": "2021-06-15T09:24:02.210Z"
   },
   {
    "duration": 80,
    "start_time": "2021-06-15T09:24:02.222Z"
   },
   {
    "duration": 75,
    "start_time": "2021-06-15T09:24:02.305Z"
   },
   {
    "duration": 21,
    "start_time": "2021-06-15T09:24:02.382Z"
   },
   {
    "duration": 96,
    "start_time": "2021-06-15T09:24:02.405Z"
   },
   {
    "duration": 8920,
    "start_time": "2021-06-15T09:24:02.503Z"
   },
   {
    "duration": 8,
    "start_time": "2021-06-15T09:24:11.426Z"
   },
   {
    "duration": 13,
    "start_time": "2021-06-15T09:24:11.437Z"
   },
   {
    "duration": 10,
    "start_time": "2021-06-15T09:24:11.453Z"
   },
   {
    "duration": 8,
    "start_time": "2021-06-15T09:24:11.499Z"
   },
   {
    "duration": 9,
    "start_time": "2021-06-15T09:24:11.511Z"
   },
   {
    "duration": 126,
    "start_time": "2021-06-15T09:24:11.523Z"
   },
   {
    "duration": 8077,
    "start_time": "2021-06-15T09:24:11.651Z"
   },
   {
    "duration": 5,
    "start_time": "2021-06-15T09:24:19.734Z"
   },
   {
    "duration": 14,
    "start_time": "2021-06-15T09:24:19.743Z"
   },
   {
    "duration": 18,
    "start_time": "2021-06-15T09:24:19.760Z"
   },
   {
    "duration": 25,
    "start_time": "2021-06-15T09:24:19.780Z"
   },
   {
    "duration": 15,
    "start_time": "2021-06-15T09:24:19.807Z"
   },
   {
    "duration": 4,
    "start_time": "2021-06-15T09:24:19.825Z"
   },
   {
    "duration": 29,
    "start_time": "2021-06-15T09:24:19.831Z"
   },
   {
    "duration": 7,
    "start_time": "2021-06-15T09:24:19.863Z"
   },
   {
    "duration": 42,
    "start_time": "2021-06-15T09:24:19.873Z"
   },
   {
    "duration": 6,
    "start_time": "2021-06-15T09:24:19.918Z"
   },
   {
    "duration": 24,
    "start_time": "2021-06-15T09:24:19.927Z"
   },
   {
    "duration": 6,
    "start_time": "2021-06-15T09:24:19.953Z"
   },
   {
    "duration": 9,
    "start_time": "2021-06-15T09:24:19.961Z"
   },
   {
    "duration": 36,
    "start_time": "2021-06-15T09:24:19.972Z"
   },
   {
    "duration": 14,
    "start_time": "2021-06-15T09:24:20.010Z"
   },
   {
    "duration": 19,
    "start_time": "2021-06-15T09:24:20.026Z"
   },
   {
    "duration": 13,
    "start_time": "2021-06-15T09:24:20.048Z"
   },
   {
    "duration": 41,
    "start_time": "2021-06-15T09:24:20.063Z"
   },
   {
    "duration": 4,
    "start_time": "2021-06-15T09:24:20.106Z"
   },
   {
    "duration": 36722,
    "start_time": "2021-06-15T09:24:20.113Z"
   },
   {
    "duration": 5,
    "start_time": "2021-06-15T09:24:56.838Z"
   },
   {
    "duration": 9,
    "start_time": "2021-06-15T09:24:56.846Z"
   },
   {
    "duration": 53,
    "start_time": "2021-06-15T09:24:56.857Z"
   },
   {
    "duration": 726,
    "start_time": "2021-06-15T09:24:56.913Z"
   },
   {
    "duration": 321,
    "start_time": "2021-06-15T09:24:57.642Z"
   },
   {
    "duration": 12,
    "start_time": "2021-06-15T09:24:57.965Z"
   },
   {
    "duration": 52,
    "start_time": "2021-06-15T09:24:57.979Z"
   },
   {
    "duration": 9,
    "start_time": "2021-06-15T09:24:58.033Z"
   },
   {
    "duration": 89,
    "start_time": "2021-06-15T09:24:58.044Z"
   },
   {
    "duration": 575,
    "start_time": "2021-06-15T09:24:58.136Z"
   },
   {
    "duration": 608,
    "start_time": "2021-06-15T09:24:58.713Z"
   },
   {
    "duration": 13,
    "start_time": "2021-06-15T09:24:59.323Z"
   },
   {
    "duration": 556,
    "start_time": "2021-06-15T09:24:59.339Z"
   },
   {
    "duration": 4,
    "start_time": "2021-06-15T09:24:59.901Z"
   },
   {
    "duration": 879,
    "start_time": "2021-06-15T09:24:59.908Z"
   },
   {
    "duration": 17,
    "start_time": "2021-06-15T09:25:00.789Z"
   },
   {
    "duration": 21,
    "start_time": "2021-06-15T09:25:00.810Z"
   },
   {
    "duration": 21,
    "start_time": "2021-06-15T09:25:00.833Z"
   },
   {
    "duration": 533,
    "start_time": "2021-06-15T09:25:00.856Z"
   },
   {
    "duration": 761,
    "start_time": "2021-06-15T09:25:01.391Z"
   },
   {
    "duration": 8,
    "start_time": "2021-06-15T09:25:02.154Z"
   },
   {
    "duration": 18,
    "start_time": "2021-06-15T09:25:02.164Z"
   },
   {
    "duration": 12,
    "start_time": "2021-06-15T09:25:02.201Z"
   },
   {
    "duration": 26,
    "start_time": "2021-06-15T09:25:02.216Z"
   },
   {
    "duration": 493,
    "start_time": "2021-06-15T09:25:02.245Z"
   },
   {
    "duration": 11,
    "start_time": "2021-06-15T09:25:02.745Z"
   },
   {
    "duration": 15,
    "start_time": "2021-06-15T09:25:02.759Z"
   },
   {
    "duration": 769,
    "start_time": "2021-06-15T09:25:02.776Z"
   },
   {
    "duration": 14,
    "start_time": "2021-06-15T09:25:03.547Z"
   },
   {
    "duration": 627,
    "start_time": "2021-06-15T09:25:03.564Z"
   },
   {
    "duration": 1017,
    "start_time": "2021-06-15T09:25:04.201Z"
   },
   {
    "duration": 9,
    "start_time": "2021-06-15T09:25:05.220Z"
   },
   {
    "duration": 81,
    "start_time": "2021-06-15T09:25:05.232Z"
   },
   {
    "duration": 11,
    "start_time": "2021-06-15T09:25:05.315Z"
   },
   {
    "duration": 5,
    "start_time": "2021-06-15T09:25:05.328Z"
   },
   {
    "duration": 29,
    "start_time": "2021-06-15T09:25:05.335Z"
   },
   {
    "duration": 1083,
    "start_time": "2021-06-15T09:25:05.367Z"
   },
   {
    "duration": 582,
    "start_time": "2021-06-15T09:25:05.870Z"
   },
   {
    "duration": 569,
    "start_time": "2021-06-15T09:25:05.884Z"
   },
   {
    "duration": 556,
    "start_time": "2021-06-15T09:25:05.899Z"
   },
   {
    "duration": 540,
    "start_time": "2021-06-15T09:25:05.916Z"
   },
   {
    "duration": 1028,
    "start_time": "2021-06-15T09:38:34.425Z"
   },
   {
    "duration": 15,
    "start_time": "2021-06-15T09:38:41.248Z"
   },
   {
    "duration": 22,
    "start_time": "2021-06-15T09:38:55.020Z"
   },
   {
    "duration": 21,
    "start_time": "2021-06-15T09:39:09.063Z"
   },
   {
    "duration": 34,
    "start_time": "2021-06-15T09:39:16.727Z"
   },
   {
    "duration": 10,
    "start_time": "2021-06-15T09:39:28.416Z"
   },
   {
    "duration": 9,
    "start_time": "2021-06-15T09:39:37.337Z"
   },
   {
    "duration": 10,
    "start_time": "2021-06-15T09:39:45.865Z"
   },
   {
    "duration": 354,
    "start_time": "2021-06-15T09:40:04.992Z"
   },
   {
    "duration": 11,
    "start_time": "2021-06-15T09:40:20.811Z"
   },
   {
    "duration": 21,
    "start_time": "2021-06-15T09:40:55.559Z"
   },
   {
    "duration": 10,
    "start_time": "2021-06-15T09:41:14.241Z"
   },
   {
    "duration": 11,
    "start_time": "2021-06-15T09:42:57.645Z"
   },
   {
    "duration": 272,
    "start_time": "2021-06-15T09:43:20.257Z"
   },
   {
    "duration": 254,
    "start_time": "2021-06-15T09:43:54.857Z"
   },
   {
    "duration": 276,
    "start_time": "2021-06-15T09:44:22.149Z"
   },
   {
    "duration": 234,
    "start_time": "2021-06-15T09:44:38.130Z"
   },
   {
    "duration": 234,
    "start_time": "2021-06-15T09:44:56.753Z"
   },
   {
    "duration": 279,
    "start_time": "2021-06-15T09:45:14.970Z"
   },
   {
    "duration": 265,
    "start_time": "2021-06-15T09:47:33.717Z"
   },
   {
    "duration": 489,
    "start_time": "2021-06-15T09:48:05.248Z"
   },
   {
    "duration": 248,
    "start_time": "2021-06-15T09:48:55.388Z"
   },
   {
    "duration": 261,
    "start_time": "2021-06-15T09:49:10.724Z"
   },
   {
    "duration": 371,
    "start_time": "2021-06-15T09:49:23.336Z"
   },
   {
    "duration": 278,
    "start_time": "2021-06-15T09:51:17.142Z"
   },
   {
    "duration": 7101,
    "start_time": "2021-06-15T09:51:25.106Z"
   },
   {
    "duration": 6764,
    "start_time": "2021-06-15T09:51:41.632Z"
   },
   {
    "duration": 444,
    "start_time": "2021-06-15T09:52:24.512Z"
   },
   {
    "duration": 465,
    "start_time": "2021-06-15T09:52:32.635Z"
   },
   {
    "duration": 508,
    "start_time": "2021-06-15T09:53:44.530Z"
   },
   {
    "duration": 425,
    "start_time": "2021-06-15T09:53:56.262Z"
   },
   {
    "duration": 269,
    "start_time": "2021-06-15T09:54:05.514Z"
   },
   {
    "duration": 462,
    "start_time": "2021-06-15T09:54:18.804Z"
   },
   {
    "duration": 453,
    "start_time": "2021-06-15T09:54:26.824Z"
   },
   {
    "duration": 722,
    "start_time": "2021-06-15T09:55:24.159Z"
   },
   {
    "duration": 481,
    "start_time": "2021-06-15T09:55:38.239Z"
   },
   {
    "duration": 506,
    "start_time": "2021-06-15T09:55:50.559Z"
   },
   {
    "duration": 449,
    "start_time": "2021-06-15T09:56:02.336Z"
   },
   {
    "duration": 265,
    "start_time": "2021-06-15T09:56:17.609Z"
   },
   {
    "duration": 378,
    "start_time": "2021-06-15T09:56:59.419Z"
   },
   {
    "duration": 269,
    "start_time": "2021-06-15T09:57:53.942Z"
   },
   {
    "duration": 256,
    "start_time": "2021-06-15T09:58:04.657Z"
   },
   {
    "duration": 272,
    "start_time": "2021-06-15T09:58:49.062Z"
   },
   {
    "duration": 284,
    "start_time": "2021-06-15T09:58:58.444Z"
   },
   {
    "duration": 277,
    "start_time": "2021-06-15T09:59:04.555Z"
   },
   {
    "duration": 507,
    "start_time": "2021-06-15T09:59:15.270Z"
   },
   {
    "duration": 349,
    "start_time": "2021-06-15T09:59:23.314Z"
   },
   {
    "duration": 539,
    "start_time": "2021-06-15T09:59:39.866Z"
   },
   {
    "duration": 327,
    "start_time": "2021-06-15T09:59:50.830Z"
   },
   {
    "duration": 526,
    "start_time": "2021-06-15T10:03:34.296Z"
   },
   {
    "duration": 252,
    "start_time": "2021-06-15T10:04:26.830Z"
   },
   {
    "duration": 6824,
    "start_time": "2021-06-15T10:05:03.675Z"
   },
   {
    "duration": 269,
    "start_time": "2021-06-15T10:05:24.747Z"
   },
   {
    "duration": 268,
    "start_time": "2021-06-15T10:05:35.482Z"
   },
   {
    "duration": 296,
    "start_time": "2021-06-15T10:07:30.252Z"
   },
   {
    "duration": 38,
    "start_time": "2021-06-15T10:10:05.393Z"
   },
   {
    "duration": 17,
    "start_time": "2021-06-15T10:11:15.333Z"
   },
   {
    "duration": 18,
    "start_time": "2021-06-15T10:12:02.228Z"
   },
   {
    "duration": 16,
    "start_time": "2021-06-15T10:12:14.537Z"
   },
   {
    "duration": 12,
    "start_time": "2021-06-15T10:12:46.564Z"
   },
   {
    "duration": 9,
    "start_time": "2021-06-15T10:12:53.740Z"
   },
   {
    "duration": 16,
    "start_time": "2021-06-15T10:13:05.529Z"
   },
   {
    "duration": 345,
    "start_time": "2021-06-15T10:18:57.240Z"
   },
   {
    "duration": 412,
    "start_time": "2021-06-15T10:19:15.384Z"
   },
   {
    "duration": 90,
    "start_time": "2021-06-15T10:19:48.114Z"
   },
   {
    "duration": 13,
    "start_time": "2021-06-15T10:20:02.225Z"
   },
   {
    "duration": 66,
    "start_time": "2021-06-15T10:20:14.630Z"
   },
   {
    "duration": 5,
    "start_time": "2021-06-15T10:23:14.787Z"
   },
   {
    "duration": 15,
    "start_time": "2021-06-15T10:23:23.725Z"
   },
   {
    "duration": 5,
    "start_time": "2021-06-15T10:25:31.455Z"
   },
   {
    "duration": 15,
    "start_time": "2021-06-15T10:25:46.670Z"
   },
   {
    "duration": 260,
    "start_time": "2021-06-15T10:27:34.752Z"
   },
   {
    "duration": 15,
    "start_time": "2021-06-15T10:27:41.887Z"
   },
   {
    "duration": 11,
    "start_time": "2021-06-15T10:27:48.831Z"
   },
   {
    "duration": 293,
    "start_time": "2021-06-15T10:28:00.578Z"
   },
   {
    "duration": 312,
    "start_time": "2021-06-15T10:29:02.225Z"
   },
   {
    "duration": 307,
    "start_time": "2021-06-15T10:32:14.232Z"
   },
   {
    "duration": 302,
    "start_time": "2021-06-15T10:32:43.540Z"
   },
   {
    "duration": 450,
    "start_time": "2021-06-15T10:32:57.617Z"
   },
   {
    "duration": 7057,
    "start_time": "2021-06-15T10:34:01.155Z"
   },
   {
    "duration": 265,
    "start_time": "2021-06-15T10:34:31.547Z"
   },
   {
    "duration": 516,
    "start_time": "2021-06-15T10:36:57.729Z"
   },
   {
    "duration": 804,
    "start_time": "2021-06-15T10:37:24.706Z"
   },
   {
    "duration": 607,
    "start_time": "2021-06-15T10:38:28.988Z"
   },
   {
    "duration": 539,
    "start_time": "2021-06-15T10:39:11.702Z"
   },
   {
    "duration": 354,
    "start_time": "2021-06-15T10:39:31.798Z"
   },
   {
    "duration": 324,
    "start_time": "2021-06-15T10:39:38.012Z"
   },
   {
    "duration": 760,
    "start_time": "2021-06-15T10:39:45.856Z"
   },
   {
    "duration": 586,
    "start_time": "2021-06-15T10:40:00.078Z"
   },
   {
    "duration": 270,
    "start_time": "2021-06-15T10:40:45.057Z"
   },
   {
    "duration": 596,
    "start_time": "2021-06-15T10:41:42.742Z"
   },
   {
    "duration": 14,
    "start_time": "2021-06-15T10:41:43.341Z"
   },
   {
    "duration": 570,
    "start_time": "2021-06-15T10:41:45.657Z"
   },
   {
    "duration": 11,
    "start_time": "2021-06-15T10:44:24.572Z"
   },
   {
    "duration": 12,
    "start_time": "2021-06-15T10:46:23.003Z"
   },
   {
    "duration": 6207,
    "start_time": "2021-06-15T10:49:34.897Z"
   },
   {
    "duration": 283,
    "start_time": "2021-06-15T10:52:13.252Z"
   },
   {
    "duration": 269,
    "start_time": "2021-06-15T10:52:46.194Z"
   },
   {
    "duration": 285,
    "start_time": "2021-06-15T10:53:13.998Z"
   },
   {
    "duration": 570,
    "start_time": "2021-06-15T10:53:27.460Z"
   },
   {
    "duration": 311,
    "start_time": "2021-06-15T10:54:04.915Z"
   },
   {
    "duration": 564,
    "start_time": "2021-06-15T10:54:18.258Z"
   },
   {
    "duration": 267,
    "start_time": "2021-06-15T10:55:34.875Z"
   },
   {
    "duration": 5,
    "start_time": "2021-06-15T10:56:29.748Z"
   },
   {
    "duration": 258,
    "start_time": "2021-06-15T10:57:14.143Z"
   },
   {
    "duration": 6,
    "start_time": "2021-06-15T10:58:48.954Z"
   },
   {
    "duration": 16,
    "start_time": "2021-06-15T10:58:59.419Z"
   },
   {
    "duration": 958,
    "start_time": "2021-06-15T10:59:49.811Z"
   },
   {
    "duration": 4,
    "start_time": "2021-06-15T11:00:07.990Z"
   },
   {
    "duration": 16,
    "start_time": "2021-06-15T11:00:19.745Z"
   },
   {
    "duration": 248,
    "start_time": "2021-06-15T11:00:52.395Z"
   },
   {
    "duration": 15,
    "start_time": "2021-06-15T11:01:05.820Z"
   },
   {
    "duration": 255,
    "start_time": "2021-06-15T11:01:18.417Z"
   },
   {
    "duration": 253,
    "start_time": "2021-06-15T11:05:15.685Z"
   },
   {
    "duration": 5,
    "start_time": "2021-06-15T11:05:37.593Z"
   },
   {
    "duration": 4,
    "start_time": "2021-06-15T11:05:44.016Z"
   },
   {
    "duration": 14,
    "start_time": "2021-06-15T11:05:45.339Z"
   },
   {
    "duration": 270,
    "start_time": "2021-06-15T11:06:00.577Z"
   },
   {
    "duration": 18,
    "start_time": "2021-06-15T11:06:30.485Z"
   },
   {
    "duration": 1721,
    "start_time": "2021-06-15T11:07:12.560Z"
   },
   {
    "duration": 5,
    "start_time": "2021-06-15T11:07:42.576Z"
   },
   {
    "duration": 5,
    "start_time": "2021-06-15T11:07:47.821Z"
   },
   {
    "duration": 14,
    "start_time": "2021-06-15T11:07:54.340Z"
   },
   {
    "duration": 13,
    "start_time": "2021-06-15T11:07:55.709Z"
   },
   {
    "duration": 565,
    "start_time": "2021-06-15T11:08:19.911Z"
   },
   {
    "duration": 266,
    "start_time": "2021-06-15T11:09:05.448Z"
   },
   {
    "duration": 642,
    "start_time": "2021-06-15T11:09:25.242Z"
   },
   {
    "duration": 40,
    "start_time": "2021-06-15T11:09:28.569Z"
   },
   {
    "duration": 15,
    "start_time": "2021-06-15T11:09:53.355Z"
   },
   {
    "duration": 40,
    "start_time": "2021-06-15T11:09:54.687Z"
   },
   {
    "duration": 12,
    "start_time": "2021-06-15T11:10:07.758Z"
   },
   {
    "duration": 84,
    "start_time": "2021-06-15T11:10:22.013Z"
   },
   {
    "duration": 8,
    "start_time": "2021-06-15T11:11:37.218Z"
   },
   {
    "duration": 267,
    "start_time": "2021-06-15T11:11:49.099Z"
   },
   {
    "duration": 274,
    "start_time": "2021-06-15T11:12:42.303Z"
   },
   {
    "duration": 231,
    "start_time": "2021-06-15T11:13:55.029Z"
   },
   {
    "duration": 6,
    "start_time": "2021-06-15T11:13:55.264Z"
   },
   {
    "duration": 17,
    "start_time": "2021-06-15T11:13:55.301Z"
   },
   {
    "duration": 15,
    "start_time": "2021-06-15T11:13:55.321Z"
   },
   {
    "duration": 8,
    "start_time": "2021-06-15T11:13:55.339Z"
   },
   {
    "duration": 50,
    "start_time": "2021-06-15T11:13:55.350Z"
   },
   {
    "duration": 110,
    "start_time": "2021-06-15T11:13:55.404Z"
   },
   {
    "duration": 13,
    "start_time": "2021-06-15T11:13:55.520Z"
   },
   {
    "duration": 6,
    "start_time": "2021-06-15T11:13:55.536Z"
   },
   {
    "duration": 8,
    "start_time": "2021-06-15T11:13:55.544Z"
   },
   {
    "duration": 100,
    "start_time": "2021-06-15T11:13:55.555Z"
   },
   {
    "duration": 97,
    "start_time": "2021-06-15T11:13:55.658Z"
   },
   {
    "duration": 4,
    "start_time": "2021-06-15T11:13:55.757Z"
   },
   {
    "duration": 97,
    "start_time": "2021-06-15T11:13:55.763Z"
   },
   {
    "duration": 8576,
    "start_time": "2021-06-15T11:13:55.863Z"
   },
   {
    "duration": 60,
    "start_time": "2021-06-15T11:14:04.442Z"
   },
   {
    "duration": 13,
    "start_time": "2021-06-15T11:14:04.506Z"
   },
   {
    "duration": 11,
    "start_time": "2021-06-15T11:14:04.522Z"
   },
   {
    "duration": 7,
    "start_time": "2021-06-15T11:14:04.536Z"
   },
   {
    "duration": 8,
    "start_time": "2021-06-15T11:14:04.601Z"
   },
   {
    "duration": 190,
    "start_time": "2021-06-15T11:14:04.612Z"
   },
   {
    "duration": 8680,
    "start_time": "2021-06-15T11:14:04.804Z"
   },
   {
    "duration": 12,
    "start_time": "2021-06-15T11:14:13.490Z"
   },
   {
    "duration": 6,
    "start_time": "2021-06-15T11:14:13.506Z"
   },
   {
    "duration": 8,
    "start_time": "2021-06-15T11:14:13.515Z"
   },
   {
    "duration": 9,
    "start_time": "2021-06-15T11:14:13.525Z"
   },
   {
    "duration": 9,
    "start_time": "2021-06-15T11:14:13.536Z"
   },
   {
    "duration": 4,
    "start_time": "2021-06-15T11:14:13.548Z"
   },
   {
    "duration": 62,
    "start_time": "2021-06-15T11:14:13.555Z"
   },
   {
    "duration": 11,
    "start_time": "2021-06-15T11:14:13.620Z"
   },
   {
    "duration": 26,
    "start_time": "2021-06-15T11:14:13.633Z"
   },
   {
    "duration": 7,
    "start_time": "2021-06-15T11:14:13.662Z"
   },
   {
    "duration": 22,
    "start_time": "2021-06-15T11:14:13.701Z"
   },
   {
    "duration": 6,
    "start_time": "2021-06-15T11:14:13.725Z"
   },
   {
    "duration": 10,
    "start_time": "2021-06-15T11:14:13.733Z"
   },
   {
    "duration": 17,
    "start_time": "2021-06-15T11:14:13.745Z"
   },
   {
    "duration": 35,
    "start_time": "2021-06-15T11:14:13.765Z"
   },
   {
    "duration": 5,
    "start_time": "2021-06-15T11:14:13.803Z"
   },
   {
    "duration": 6,
    "start_time": "2021-06-15T11:14:13.811Z"
   },
   {
    "duration": 30,
    "start_time": "2021-06-15T11:14:13.819Z"
   },
   {
    "duration": 4,
    "start_time": "2021-06-15T11:14:13.852Z"
   },
   {
    "duration": 37471,
    "start_time": "2021-06-15T11:14:13.858Z"
   },
   {
    "duration": 6,
    "start_time": "2021-06-15T11:14:51.331Z"
   },
   {
    "duration": 7,
    "start_time": "2021-06-15T11:14:51.340Z"
   },
   {
    "duration": 63,
    "start_time": "2021-06-15T11:14:51.350Z"
   },
   {
    "duration": 717,
    "start_time": "2021-06-15T11:14:51.416Z"
   },
   {
    "duration": 329,
    "start_time": "2021-06-15T11:14:52.136Z"
   },
   {
    "duration": 11,
    "start_time": "2021-06-15T11:14:52.467Z"
   },
   {
    "duration": 52,
    "start_time": "2021-06-15T11:14:52.481Z"
   },
   {
    "duration": 9,
    "start_time": "2021-06-15T11:14:52.535Z"
   },
   {
    "duration": 100,
    "start_time": "2021-06-15T11:14:52.546Z"
   },
   {
    "duration": 586,
    "start_time": "2021-06-15T11:14:52.648Z"
   },
   {
    "duration": 642,
    "start_time": "2021-06-15T11:14:53.236Z"
   },
   {
    "duration": 20,
    "start_time": "2021-06-15T11:14:53.881Z"
   },
   {
    "duration": 553,
    "start_time": "2021-06-15T11:14:53.903Z"
   },
   {
    "duration": 5,
    "start_time": "2021-06-15T11:14:54.458Z"
   },
   {
    "duration": 729,
    "start_time": "2021-06-15T11:14:54.465Z"
   },
   {
    "duration": 8,
    "start_time": "2021-06-15T11:14:55.196Z"
   },
   {
    "duration": 15,
    "start_time": "2021-06-15T11:14:55.206Z"
   },
   {
    "duration": 11,
    "start_time": "2021-06-15T11:14:55.223Z"
   },
   {
    "duration": 552,
    "start_time": "2021-06-15T11:14:55.236Z"
   },
   {
    "duration": 748,
    "start_time": "2021-06-15T11:14:55.791Z"
   },
   {
    "duration": 11,
    "start_time": "2021-06-15T11:14:56.542Z"
   },
   {
    "duration": 16,
    "start_time": "2021-06-15T11:14:56.556Z"
   },
   {
    "duration": 39,
    "start_time": "2021-06-15T11:14:56.575Z"
   },
   {
    "duration": 11,
    "start_time": "2021-06-15T11:14:56.616Z"
   },
   {
    "duration": 490,
    "start_time": "2021-06-15T11:14:56.629Z"
   },
   {
    "duration": 13,
    "start_time": "2021-06-15T11:14:57.127Z"
   },
   {
    "duration": 12,
    "start_time": "2021-06-15T11:14:57.143Z"
   },
   {
    "duration": 820,
    "start_time": "2021-06-15T11:14:57.157Z"
   },
   {
    "duration": 23,
    "start_time": "2021-06-15T11:14:57.980Z"
   },
   {
    "duration": 597,
    "start_time": "2021-06-15T11:14:58.006Z"
   },
   {
    "duration": 749,
    "start_time": "2021-06-15T11:14:58.607Z"
   },
   {
    "duration": 11,
    "start_time": "2021-06-15T11:14:59.358Z"
   },
   {
    "duration": 82,
    "start_time": "2021-06-15T11:14:59.371Z"
   },
   {
    "duration": 12,
    "start_time": "2021-06-15T11:14:59.456Z"
   },
   {
    "duration": 5,
    "start_time": "2021-06-15T11:14:59.470Z"
   },
   {
    "duration": 13,
    "start_time": "2021-06-15T11:14:59.501Z"
   },
   {
    "duration": 22,
    "start_time": "2021-06-15T11:14:59.517Z"
   },
   {
    "duration": 285,
    "start_time": "2021-06-15T11:14:59.541Z"
   },
   {
    "duration": 35,
    "start_time": "2021-06-15T11:14:59.828Z"
   },
   {
    "duration": 9,
    "start_time": "2021-06-15T11:14:59.866Z"
   },
   {
    "duration": 286,
    "start_time": "2021-06-15T11:14:59.900Z"
   },
   {
    "duration": 16,
    "start_time": "2021-06-15T11:15:00.189Z"
   },
   {
    "duration": 28,
    "start_time": "2021-06-15T11:15:00.208Z"
   },
   {
    "duration": 287,
    "start_time": "2021-06-15T11:15:00.239Z"
   },
   {
    "duration": 16,
    "start_time": "2021-06-15T11:15:00.528Z"
   },
   {
    "duration": 15,
    "start_time": "2021-06-15T11:15:00.547Z"
   },
   {
    "duration": 9,
    "start_time": "2021-06-15T11:15:00.564Z"
   },
   {
    "duration": 5,
    "start_time": "2021-06-15T11:15:00.600Z"
   },
   {
    "duration": 25,
    "start_time": "2021-06-15T11:15:00.608Z"
   },
   {
    "duration": 624,
    "start_time": "2021-06-15T11:15:00.636Z"
   },
   {
    "duration": 15,
    "start_time": "2021-06-15T11:17:08.504Z"
   },
   {
    "duration": 573,
    "start_time": "2021-06-15T11:18:17.108Z"
   },
   {
    "duration": 277,
    "start_time": "2021-06-15T11:19:15.655Z"
   },
   {
    "duration": 7,
    "start_time": "2021-06-15T11:19:47.867Z"
   },
   {
    "duration": 12,
    "start_time": "2021-06-15T11:20:11.509Z"
   },
   {
    "duration": 282,
    "start_time": "2021-06-15T11:31:02.042Z"
   },
   {
    "duration": 6,
    "start_time": "2021-06-15T11:31:18.075Z"
   },
   {
    "duration": 11,
    "start_time": "2021-06-15T11:32:01.299Z"
   },
   {
    "duration": 9,
    "start_time": "2021-06-15T11:32:08.917Z"
   },
   {
    "duration": 6,
    "start_time": "2021-06-15T11:32:39.038Z"
   },
   {
    "duration": 21,
    "start_time": "2021-06-15T11:32:42.379Z"
   },
   {
    "duration": 601,
    "start_time": "2021-06-15T11:33:19.690Z"
   },
   {
    "duration": 5,
    "start_time": "2021-06-15T11:34:07.679Z"
   },
   {
    "duration": 8,
    "start_time": "2021-06-15T11:34:09.516Z"
   },
   {
    "duration": 19,
    "start_time": "2021-06-15T11:34:10.632Z"
   },
   {
    "duration": 14,
    "start_time": "2021-06-15T11:35:55.947Z"
   },
   {
    "duration": 5,
    "start_time": "2021-06-15T11:35:57.894Z"
   },
   {
    "duration": 8,
    "start_time": "2021-06-15T11:35:59.383Z"
   },
   {
    "duration": 21,
    "start_time": "2021-06-15T11:36:01.371Z"
   },
   {
    "duration": 512,
    "start_time": "2021-06-15T11:36:43.615Z"
   },
   {
    "duration": 7,
    "start_time": "2021-06-15T11:36:44.130Z"
   },
   {
    "duration": 33,
    "start_time": "2021-06-15T11:36:44.141Z"
   },
   {
    "duration": 30,
    "start_time": "2021-06-15T11:36:44.177Z"
   },
   {
    "duration": 9,
    "start_time": "2021-06-15T11:36:44.211Z"
   },
   {
    "duration": 28,
    "start_time": "2021-06-15T11:36:44.223Z"
   },
   {
    "duration": 100,
    "start_time": "2021-06-15T11:36:44.254Z"
   },
   {
    "duration": 13,
    "start_time": "2021-06-15T11:36:44.358Z"
   },
   {
    "duration": 30,
    "start_time": "2021-06-15T11:36:44.374Z"
   },
   {
    "duration": 19,
    "start_time": "2021-06-15T11:36:44.407Z"
   },
   {
    "duration": 55,
    "start_time": "2021-06-15T11:36:44.429Z"
   },
   {
    "duration": 91,
    "start_time": "2021-06-15T11:36:44.486Z"
   },
   {
    "duration": 22,
    "start_time": "2021-06-15T11:36:44.579Z"
   },
   {
    "duration": 106,
    "start_time": "2021-06-15T11:36:44.606Z"
   },
   {
    "duration": 9063,
    "start_time": "2021-06-15T11:36:44.715Z"
   },
   {
    "duration": 7,
    "start_time": "2021-06-15T11:36:53.780Z"
   },
   {
    "duration": 23,
    "start_time": "2021-06-15T11:36:53.789Z"
   },
   {
    "duration": 8,
    "start_time": "2021-06-15T11:36:53.816Z"
   },
   {
    "duration": 8,
    "start_time": "2021-06-15T11:36:53.826Z"
   },
   {
    "duration": 6,
    "start_time": "2021-06-15T11:36:53.837Z"
   },
   {
    "duration": 134,
    "start_time": "2021-06-15T11:36:53.846Z"
   },
   {
    "duration": 8843,
    "start_time": "2021-06-15T11:36:53.983Z"
   },
   {
    "duration": 5,
    "start_time": "2021-06-15T11:37:02.832Z"
   },
   {
    "duration": 23,
    "start_time": "2021-06-15T11:37:02.841Z"
   },
   {
    "duration": 17,
    "start_time": "2021-06-15T11:37:02.866Z"
   },
   {
    "duration": 35,
    "start_time": "2021-06-15T11:37:02.886Z"
   },
   {
    "duration": 22,
    "start_time": "2021-06-15T11:37:02.924Z"
   },
   {
    "duration": 25,
    "start_time": "2021-06-15T11:37:02.948Z"
   },
   {
    "duration": 35,
    "start_time": "2021-06-15T11:37:02.976Z"
   },
   {
    "duration": 25,
    "start_time": "2021-06-15T11:37:03.016Z"
   },
   {
    "duration": 46,
    "start_time": "2021-06-15T11:37:03.044Z"
   },
   {
    "duration": 17,
    "start_time": "2021-06-15T11:37:03.093Z"
   },
   {
    "duration": 25,
    "start_time": "2021-06-15T11:37:03.112Z"
   },
   {
    "duration": 10,
    "start_time": "2021-06-15T11:37:03.140Z"
   },
   {
    "duration": 13,
    "start_time": "2021-06-15T11:37:03.153Z"
   },
   {
    "duration": 15,
    "start_time": "2021-06-15T11:37:03.169Z"
   },
   {
    "duration": 20,
    "start_time": "2021-06-15T11:37:03.186Z"
   },
   {
    "duration": 16,
    "start_time": "2021-06-15T11:37:03.209Z"
   },
   {
    "duration": 11,
    "start_time": "2021-06-15T11:37:03.228Z"
   },
   {
    "duration": 38,
    "start_time": "2021-06-15T11:37:03.241Z"
   },
   {
    "duration": 14,
    "start_time": "2021-06-15T11:37:03.281Z"
   },
   {
    "duration": 40125,
    "start_time": "2021-06-15T11:37:03.301Z"
   },
   {
    "duration": 6,
    "start_time": "2021-06-15T11:37:43.428Z"
   },
   {
    "duration": 12,
    "start_time": "2021-06-15T11:37:43.436Z"
   },
   {
    "duration": 57,
    "start_time": "2021-06-15T11:37:43.451Z"
   },
   {
    "duration": 763,
    "start_time": "2021-06-15T11:37:43.511Z"
   },
   {
    "duration": 353,
    "start_time": "2021-06-15T11:37:44.276Z"
   },
   {
    "duration": 13,
    "start_time": "2021-06-15T11:37:44.632Z"
   },
   {
    "duration": 65,
    "start_time": "2021-06-15T11:37:44.647Z"
   },
   {
    "duration": 9,
    "start_time": "2021-06-15T11:37:44.716Z"
   },
   {
    "duration": 75,
    "start_time": "2021-06-15T11:37:44.727Z"
   },
   {
    "duration": 1431,
    "start_time": "2021-06-15T11:37:44.806Z"
   },
   {
    "duration": 647,
    "start_time": "2021-06-15T11:37:46.240Z"
   },
   {
    "duration": 18,
    "start_time": "2021-06-15T11:37:46.889Z"
   },
   {
    "duration": 603,
    "start_time": "2021-06-15T11:37:46.910Z"
   },
   {
    "duration": 5,
    "start_time": "2021-06-15T11:37:47.516Z"
   },
   {
    "duration": 795,
    "start_time": "2021-06-15T11:37:47.523Z"
   },
   {
    "duration": 9,
    "start_time": "2021-06-15T11:37:48.320Z"
   },
   {
    "duration": 13,
    "start_time": "2021-06-15T11:37:48.331Z"
   },
   {
    "duration": 17,
    "start_time": "2021-06-15T11:37:48.347Z"
   },
   {
    "duration": 594,
    "start_time": "2021-06-15T11:37:48.367Z"
   },
   {
    "duration": 762,
    "start_time": "2021-06-15T11:37:48.964Z"
   },
   {
    "duration": 8,
    "start_time": "2021-06-15T11:37:49.728Z"
   },
   {
    "duration": 14,
    "start_time": "2021-06-15T11:37:49.738Z"
   },
   {
    "duration": 46,
    "start_time": "2021-06-15T11:37:49.754Z"
   },
   {
    "duration": 12,
    "start_time": "2021-06-15T11:37:49.803Z"
   },
   {
    "duration": 666,
    "start_time": "2021-06-15T11:37:49.817Z"
   },
   {
    "duration": 13,
    "start_time": "2021-06-15T11:37:50.499Z"
   },
   {
    "duration": 12,
    "start_time": "2021-06-15T11:37:50.515Z"
   },
   {
    "duration": 809,
    "start_time": "2021-06-15T11:37:50.529Z"
   },
   {
    "duration": 13,
    "start_time": "2021-06-15T11:37:51.341Z"
   },
   {
    "duration": 650,
    "start_time": "2021-06-15T11:37:51.357Z"
   },
   {
    "duration": 793,
    "start_time": "2021-06-15T11:37:52.010Z"
   },
   {
    "duration": 10,
    "start_time": "2021-06-15T11:37:52.805Z"
   },
   {
    "duration": 107,
    "start_time": "2021-06-15T11:37:52.818Z"
   },
   {
    "duration": 14,
    "start_time": "2021-06-15T11:37:52.928Z"
   },
   {
    "duration": 5,
    "start_time": "2021-06-15T11:37:52.945Z"
   },
   {
    "duration": 49,
    "start_time": "2021-06-15T11:37:52.953Z"
   },
   {
    "duration": 24,
    "start_time": "2021-06-15T11:37:53.005Z"
   },
   {
    "duration": 279,
    "start_time": "2021-06-15T11:37:53.031Z"
   },
   {
    "duration": 36,
    "start_time": "2021-06-15T11:37:53.313Z"
   },
   {
    "duration": 10,
    "start_time": "2021-06-15T11:37:53.352Z"
   },
   {
    "duration": 321,
    "start_time": "2021-06-15T11:37:53.365Z"
   },
   {
    "duration": 21,
    "start_time": "2021-06-15T11:37:53.689Z"
   },
   {
    "duration": 20,
    "start_time": "2021-06-15T11:37:53.714Z"
   },
   {
    "duration": 459,
    "start_time": "2021-06-15T11:37:53.737Z"
   },
   {
    "duration": 22,
    "start_time": "2021-06-15T11:37:54.202Z"
   },
   {
    "duration": 13,
    "start_time": "2021-06-15T11:37:54.227Z"
   },
   {
    "duration": 5,
    "start_time": "2021-06-15T11:37:54.243Z"
   },
   {
    "duration": 8,
    "start_time": "2021-06-15T11:37:54.250Z"
   },
   {
    "duration": 46,
    "start_time": "2021-06-15T11:37:54.261Z"
   },
   {
    "duration": 12,
    "start_time": "2021-06-15T11:37:54.310Z"
   },
   {
    "duration": 596,
    "start_time": "2021-06-15T11:37:54.324Z"
   },
   {
    "duration": 10,
    "start_time": "2021-06-15T11:37:54.923Z"
   },
   {
    "duration": 15,
    "start_time": "2021-06-15T11:37:54.935Z"
   },
   {
    "duration": 5,
    "start_time": "2021-06-15T11:37:54.952Z"
   },
   {
    "duration": 42,
    "start_time": "2021-06-15T11:37:54.959Z"
   },
   {
    "duration": 25,
    "start_time": "2021-06-15T11:37:55.004Z"
   },
   {
    "duration": 15,
    "start_time": "2021-06-15T11:38:41.496Z"
   },
   {
    "duration": 15,
    "start_time": "2021-06-15T11:45:38.798Z"
   },
   {
    "duration": 5,
    "start_time": "2021-06-15T11:45:40.309Z"
   },
   {
    "duration": 9,
    "start_time": "2021-06-15T11:45:41.196Z"
   },
   {
    "duration": 24,
    "start_time": "2021-06-15T11:45:42.312Z"
   },
   {
    "duration": 16,
    "start_time": "2021-06-15T11:45:47.069Z"
   },
   {
    "duration": 35,
    "start_time": "2021-06-15T11:48:32.406Z"
   },
   {
    "duration": 9,
    "start_time": "2021-06-15T11:49:04.029Z"
   },
   {
    "duration": 10,
    "start_time": "2021-06-15T11:49:07.290Z"
   },
   {
    "duration": 9,
    "start_time": "2021-06-15T11:49:10.722Z"
   },
   {
    "duration": 262,
    "start_time": "2021-06-15T11:49:21.410Z"
   },
   {
    "duration": 262,
    "start_time": "2021-06-15T11:49:27.930Z"
   },
   {
    "duration": 274,
    "start_time": "2021-06-15T11:49:35.060Z"
   },
   {
    "duration": 501,
    "start_time": "2021-06-15T11:50:24.548Z"
   },
   {
    "duration": 533,
    "start_time": "2021-06-15T11:51:02.319Z"
   },
   {
    "duration": 490,
    "start_time": "2021-06-15T11:51:12.257Z"
   },
   {
    "duration": 534,
    "start_time": "2021-06-15T11:51:22.145Z"
   },
   {
    "duration": 959,
    "start_time": "2021-06-16T09:19:54.863Z"
   },
   {
    "duration": 3,
    "start_time": "2021-06-16T09:19:55.824Z"
   },
   {
    "duration": 11,
    "start_time": "2021-06-16T09:19:55.829Z"
   },
   {
    "duration": 7,
    "start_time": "2021-06-16T09:19:55.842Z"
   },
   {
    "duration": 5,
    "start_time": "2021-06-16T09:19:55.851Z"
   },
   {
    "duration": 28,
    "start_time": "2021-06-16T09:19:55.857Z"
   },
   {
    "duration": 58,
    "start_time": "2021-06-16T09:19:55.887Z"
   },
   {
    "duration": 8,
    "start_time": "2021-06-16T09:19:55.947Z"
   },
   {
    "duration": 28,
    "start_time": "2021-06-16T09:19:55.957Z"
   },
   {
    "duration": 5,
    "start_time": "2021-06-16T09:19:55.987Z"
   },
   {
    "duration": 37,
    "start_time": "2021-06-16T09:19:55.993Z"
   },
   {
    "duration": 69,
    "start_time": "2021-06-16T09:19:56.031Z"
   },
   {
    "duration": 3,
    "start_time": "2021-06-16T09:19:56.102Z"
   },
   {
    "duration": 62,
    "start_time": "2021-06-16T09:19:56.107Z"
   },
   {
    "duration": 4662,
    "start_time": "2021-06-16T09:19:56.171Z"
   },
   {
    "duration": 4,
    "start_time": "2021-06-16T09:20:00.835Z"
   },
   {
    "duration": 25,
    "start_time": "2021-06-16T09:20:00.840Z"
   },
   {
    "duration": 10,
    "start_time": "2021-06-16T09:20:00.866Z"
   },
   {
    "duration": 16,
    "start_time": "2021-06-16T09:20:00.878Z"
   },
   {
    "duration": 14,
    "start_time": "2021-06-16T09:20:00.896Z"
   },
   {
    "duration": 73,
    "start_time": "2021-06-16T09:20:00.912Z"
   },
   {
    "duration": 4714,
    "start_time": "2021-06-16T09:20:00.987Z"
   },
   {
    "duration": 5,
    "start_time": "2021-06-16T09:20:05.703Z"
   },
   {
    "duration": 5,
    "start_time": "2021-06-16T09:20:05.710Z"
   },
   {
    "duration": 5,
    "start_time": "2021-06-16T09:20:05.717Z"
   },
   {
    "duration": 8,
    "start_time": "2021-06-16T09:20:05.723Z"
   },
   {
    "duration": 5,
    "start_time": "2021-06-16T09:20:05.736Z"
   },
   {
    "duration": 3,
    "start_time": "2021-06-16T09:20:05.784Z"
   },
   {
    "duration": 16,
    "start_time": "2021-06-16T09:20:05.788Z"
   },
   {
    "duration": 15,
    "start_time": "2021-06-16T09:20:05.805Z"
   },
   {
    "duration": 19,
    "start_time": "2021-06-16T09:20:05.822Z"
   },
   {
    "duration": 7,
    "start_time": "2021-06-16T09:20:05.843Z"
   },
   {
    "duration": 14,
    "start_time": "2021-06-16T09:20:05.852Z"
   },
   {
    "duration": 5,
    "start_time": "2021-06-16T09:20:05.884Z"
   },
   {
    "duration": 6,
    "start_time": "2021-06-16T09:20:05.891Z"
   },
   {
    "duration": 9,
    "start_time": "2021-06-16T09:20:05.899Z"
   },
   {
    "duration": 13,
    "start_time": "2021-06-16T09:20:05.909Z"
   },
   {
    "duration": 7,
    "start_time": "2021-06-16T09:20:05.923Z"
   },
   {
    "duration": 4,
    "start_time": "2021-06-16T09:20:05.932Z"
   },
   {
    "duration": 21,
    "start_time": "2021-06-16T09:20:05.937Z"
   },
   {
    "duration": 25,
    "start_time": "2021-06-16T09:20:05.959Z"
   },
   {
    "duration": 20977,
    "start_time": "2021-06-16T09:20:05.986Z"
   },
   {
    "duration": 4,
    "start_time": "2021-06-16T09:20:26.964Z"
   },
   {
    "duration": 14,
    "start_time": "2021-06-16T09:20:26.970Z"
   },
   {
    "duration": 21,
    "start_time": "2021-06-16T09:20:26.986Z"
   },
   {
    "duration": 494,
    "start_time": "2021-06-16T09:20:27.009Z"
   },
   {
    "duration": 192,
    "start_time": "2021-06-16T09:20:27.504Z"
   },
   {
    "duration": 8,
    "start_time": "2021-06-16T09:20:27.697Z"
   },
   {
    "duration": 23,
    "start_time": "2021-06-16T09:20:27.706Z"
   },
   {
    "duration": 5,
    "start_time": "2021-06-16T09:20:27.730Z"
   },
   {
    "duration": 98,
    "start_time": "2021-06-16T09:20:27.737Z"
   },
   {
    "duration": 332,
    "start_time": "2021-06-16T09:20:27.836Z"
   },
   {
    "duration": 363,
    "start_time": "2021-06-16T09:20:28.170Z"
   },
   {
    "duration": 9,
    "start_time": "2021-06-16T09:20:28.534Z"
   },
   {
    "duration": 328,
    "start_time": "2021-06-16T09:20:28.545Z"
   },
   {
    "duration": 4,
    "start_time": "2021-06-16T09:20:28.874Z"
   },
   {
    "duration": 438,
    "start_time": "2021-06-16T09:20:28.879Z"
   },
   {
    "duration": 5,
    "start_time": "2021-06-16T09:20:29.319Z"
   },
   {
    "duration": 10,
    "start_time": "2021-06-16T09:20:29.326Z"
   },
   {
    "duration": 7,
    "start_time": "2021-06-16T09:20:29.337Z"
   },
   {
    "duration": 337,
    "start_time": "2021-06-16T09:20:29.346Z"
   },
   {
    "duration": 455,
    "start_time": "2021-06-16T09:20:29.684Z"
   },
   {
    "duration": 6,
    "start_time": "2021-06-16T09:20:30.141Z"
   },
   {
    "duration": 26,
    "start_time": "2021-06-16T09:20:30.149Z"
   },
   {
    "duration": 11,
    "start_time": "2021-06-16T09:20:30.177Z"
   },
   {
    "duration": 10,
    "start_time": "2021-06-16T09:20:30.190Z"
   },
   {
    "duration": 354,
    "start_time": "2021-06-16T09:20:30.202Z"
   },
   {
    "duration": 8,
    "start_time": "2021-06-16T09:20:30.558Z"
   },
   {
    "duration": 20,
    "start_time": "2021-06-16T09:20:30.568Z"
   },
   {
    "duration": 454,
    "start_time": "2021-06-16T09:20:30.590Z"
   },
   {
    "duration": 8,
    "start_time": "2021-06-16T09:20:31.046Z"
   },
   {
    "duration": 365,
    "start_time": "2021-06-16T09:20:31.056Z"
   },
   {
    "duration": 446,
    "start_time": "2021-06-16T09:20:31.423Z"
   },
   {
    "duration": 14,
    "start_time": "2021-06-16T09:20:31.870Z"
   },
   {
    "duration": 35,
    "start_time": "2021-06-16T09:20:31.886Z"
   },
   {
    "duration": 7,
    "start_time": "2021-06-16T09:20:31.922Z"
   },
   {
    "duration": 3,
    "start_time": "2021-06-16T09:20:31.931Z"
   },
   {
    "duration": 16,
    "start_time": "2021-06-16T09:20:31.935Z"
   },
   {
    "duration": 32,
    "start_time": "2021-06-16T09:20:31.953Z"
   },
   {
    "duration": 156,
    "start_time": "2021-06-16T09:20:31.987Z"
   },
   {
    "duration": 22,
    "start_time": "2021-06-16T09:20:32.147Z"
   },
   {
    "duration": 18,
    "start_time": "2021-06-16T09:20:32.171Z"
   },
   {
    "duration": 180,
    "start_time": "2021-06-16T09:20:32.190Z"
   },
   {
    "duration": 14,
    "start_time": "2021-06-16T09:20:32.372Z"
   },
   {
    "duration": 21,
    "start_time": "2021-06-16T09:20:32.388Z"
   },
   {
    "duration": 177,
    "start_time": "2021-06-16T09:20:32.411Z"
   },
   {
    "duration": 12,
    "start_time": "2021-06-16T09:20:32.590Z"
   },
   {
    "duration": 9,
    "start_time": "2021-06-16T09:20:32.604Z"
   },
   {
    "duration": 12,
    "start_time": "2021-06-16T09:20:32.615Z"
   },
   {
    "duration": 5,
    "start_time": "2021-06-16T09:20:32.629Z"
   },
   {
    "duration": 18,
    "start_time": "2021-06-16T09:20:32.635Z"
   },
   {
    "duration": 10,
    "start_time": "2021-06-16T09:20:32.655Z"
   },
   {
    "duration": 372,
    "start_time": "2021-06-16T09:20:32.666Z"
   },
   {
    "duration": 9,
    "start_time": "2021-06-16T09:20:33.040Z"
   },
   {
    "duration": 10,
    "start_time": "2021-06-16T09:20:33.051Z"
   },
   {
    "duration": 4,
    "start_time": "2021-06-16T09:20:33.084Z"
   },
   {
    "duration": 8,
    "start_time": "2021-06-16T09:20:33.090Z"
   },
   {
    "duration": 16,
    "start_time": "2021-06-16T09:20:33.100Z"
   },
   {
    "duration": 11,
    "start_time": "2021-06-16T09:20:33.118Z"
   },
   {
    "duration": 20,
    "start_time": "2021-06-16T09:20:33.131Z"
   },
   {
    "duration": 350,
    "start_time": "2021-06-16T09:20:33.153Z"
   },
   {
    "duration": 398,
    "start_time": "2021-06-16T09:20:33.505Z"
   },
   {
    "duration": 347,
    "start_time": "2021-06-16T09:20:33.905Z"
   }
  ],
  "kernelspec": {
   "display_name": "Python 3",
   "language": "python",
   "name": "python3"
  },
  "language_info": {
   "codemirror_mode": {
    "name": "ipython",
    "version": 3
   },
   "file_extension": ".py",
   "mimetype": "text/x-python",
   "name": "python",
   "nbconvert_exporter": "python",
   "pygments_lexer": "ipython3",
   "version": "3.7.8"
  },
  "toc": {
   "base_numbering": 1,
   "nav_menu": {},
   "number_sections": false,
   "sideBar": false,
   "skip_h1_title": false,
   "title_cell": "Содержание",
   "title_sidebar": "Contents",
   "toc_cell": false,
   "toc_position": {
    "height": "47px",
    "left": "1119px",
    "top": "566px",
    "width": "159px"
   },
   "toc_section_display": false,
   "toc_window_display": false
  }
 },
 "nbformat": 4,
 "nbformat_minor": 2
}
